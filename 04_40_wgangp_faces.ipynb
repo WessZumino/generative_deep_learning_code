{
 "cells": [
  {
   "cell_type": "markdown",
   "metadata": {},
   "source": [
    "# WGAN-GP Training"
   ]
  },
  {
   "cell_type": "markdown",
   "metadata": {},
   "source": [
    "## imports"
   ]
  },
  {
   "cell_type": "code",
   "execution_count": 1,
   "metadata": {},
   "outputs": [
    {
     "name": "stderr",
     "output_type": "stream",
     "text": [
      "Using TensorFlow backend.\n"
     ]
    }
   ],
   "source": [
    "%matplotlib inline\n",
    "\n",
    "import os\n",
    "import numpy as np\n",
    "import matplotlib.pyplot as plt\n",
    "\n",
    "from models.WGANGP import WGANGP\n",
    "from utils.loaders import load_safari, load_cifar\n",
    "from keras.preprocessing.image import ImageDataGenerator\n",
    "\n"
   ]
  },
  {
   "cell_type": "code",
   "execution_count": 2,
   "metadata": {},
   "outputs": [],
   "source": [
    "RUN_ID = '0040'\n",
    "RUN_FOLDER = os.path.join(\"./run\", RUN_ID)\n",
    "DATA_FOLDER = './data/celeb/'\n",
    "\n",
    "BATCH_SIZE = 32\n",
    "IMAGE_SIZE = 64"
   ]
  },
  {
   "cell_type": "markdown",
   "metadata": {},
   "source": [
    "## data"
   ]
  },
  {
   "cell_type": "code",
   "execution_count": 3,
   "metadata": {},
   "outputs": [
    {
     "name": "stdout",
     "output_type": "stream",
     "text": [
      "Found 202599 images belonging to 1 classes.\n"
     ]
    }
   ],
   "source": [
    "data_gen = ImageDataGenerator(preprocessing_function=lambda x: (x.astype('float32') - 127.5) / 127.5)\n",
    "\n",
    "x_train = data_gen.flow_from_directory(DATA_FOLDER\n",
    "                                         , target_size = (IMAGE_SIZE,IMAGE_SIZE)\n",
    "                                         , batch_size = BATCH_SIZE\n",
    "                                         , shuffle = True\n",
    "                                         , class_mode = 'input'\n",
    "                                         , subset = \"training\"\n",
    "                                            )"
   ]
  },
  {
   "cell_type": "markdown",
   "metadata": {},
   "source": [
    "## architecture"
   ]
  },
  {
   "cell_type": "code",
   "execution_count": 4,
   "metadata": {},
   "outputs": [
    {
     "data": {
      "text/plain": [
       "<matplotlib.image.AxesImage at 0x101c44160>"
      ]
     },
     "execution_count": 4,
     "metadata": {},
     "output_type": "execute_result"
    },
    {
     "data": {
      "image/png": "[encoded data removed]",
      "text/plain": [
       "<Figure size 432x288 with 1 Axes>"
      ]
     },
     "metadata": {
      "needs_background": "light"
     },
     "output_type": "display_data"
    }
   ],
   "source": [
    "plt.imshow((x_train[0][0][0]+1)/2)"
   ]
  },
  {
   "cell_type": "code",
   "execution_count": 5,
   "metadata": {},
   "outputs": [
    {
     "name": "stdout",
     "output_type": "stream",
     "text": [
      "-1.0\n",
      "1.0\n"
     ]
    }
   ],
   "source": [
    "print(np.min(x_train[0][0]))\n",
    "print(np.max(x_train[0][0]))"
   ]
  },
  {
   "cell_type": "code",
   "execution_count": 6,
   "metadata": {},
   "outputs": [],
   "source": [
    "#works\n",
    "\n",
    "gan = WGANGP(input_dim = (IMAGE_SIZE,IMAGE_SIZE,3)\n",
    "        , critic_conv_filters = [64,128,256,512]\n",
    "        , critic_conv_kernel_size = [5,5,5,5]\n",
    "        , critic_conv_strides = [2,2,2,2]\n",
    "        , critic_conv_padding = 'same'\n",
    "        , critic_batch_norm_momentum = None\n",
    "        , critic_activation = 'leaky_relu'\n",
    "        , critic_dropout_rate = None\n",
    "        , critic_learning_rate = 0.0002\n",
    "        , generator_initial_dense_layer_size = (4, 4, 512)\n",
    "        , generator_upsample = [1,1,1,1]\n",
    "        , generator_conv_filters = [256,128,64,3]\n",
    "        , generator_conv_kernel_size = [5,5,5,5]\n",
    "        , generator_conv_strides = [2,2,2,2]\n",
    "        , generator_conv_padding = 'same'\n",
    "        , generator_batch_norm_momentum = 0.9\n",
    "        , generator_activation = 'leaky_relu'\n",
    "        , generator_dropout_rate = None\n",
    "        , generator_learning_rate = 0.0002\n",
    "        , optimiser = 'adam'\n",
    "        , grad_weight = 10\n",
    "        , z_dim = 100\n",
    "        , batch_size = BATCH_SIZE\n",
    "        )\n",
    "\n",
    "gan.save(RUN_FOLDER)"
   ]
  },
  {
   "cell_type": "code",
   "execution_count": 7,
   "metadata": {},
   "outputs": [],
   "source": [
    "#gan.load_weights(os.path.join(RUN_FOLDER, 'archive/weights/weights.h5'))"
   ]
  },
  {
   "cell_type": "code",
   "execution_count": 8,
   "metadata": {},
   "outputs": [
    {
     "name": "stdout",
     "output_type": "stream",
     "text": [
      "_________________________________________________________________\n",
      "Layer (type)                 Output Shape              Param #   \n",
      "=================================================================\n",
      "critic_input (InputLayer)    (None, 64, 64, 3)         0         \n",
      "_________________________________________________________________\n",
      "critic_conv_0 (Conv2D)       (None, 32, 32, 64)        4864      \n",
      "_________________________________________________________________\n",
      "leaky_re_lu_1 (LeakyReLU)    (None, 32, 32, 64)        0         \n",
      "_________________________________________________________________\n",
      "critic_conv_1 (Conv2D)       (None, 16, 16, 128)       204928    \n",
      "_________________________________________________________________\n",
      "leaky_re_lu_2 (LeakyReLU)    (None, 16, 16, 128)       0         \n",
      "_________________________________________________________________\n",
      "critic_conv_2 (Conv2D)       (None, 8, 8, 256)         819456    \n",
      "_________________________________________________________________\n",
      "leaky_re_lu_3 (LeakyReLU)    (None, 8, 8, 256)         0         \n",
      "_________________________________________________________________\n",
      "critic_conv_3 (Conv2D)       (None, 4, 4, 512)         3277312   \n",
      "_________________________________________________________________\n",
      "leaky_re_lu_4 (LeakyReLU)    (None, 4, 4, 512)         0         \n",
      "_________________________________________________________________\n",
      "flatten_1 (Flatten)          (None, 8192)              0         \n",
      "_________________________________________________________________\n",
      "dense_1 (Dense)              (None, 1)                 8193      \n",
      "=================================================================\n",
      "Total params: 4,314,753\n",
      "Trainable params: 4,314,753\n",
      "Non-trainable params: 0\n",
      "_________________________________________________________________\n"
     ]
    }
   ],
   "source": [
    "gan.critic.summary()"
   ]
  },
  {
   "cell_type": "code",
   "execution_count": 9,
   "metadata": {},
   "outputs": [
    {
     "name": "stdout",
     "output_type": "stream",
     "text": [
      "_________________________________________________________________\n",
      "Layer (type)                 Output Shape              Param #   \n",
      "=================================================================\n",
      "generator_input (InputLayer) (None, 100)               0         \n",
      "_________________________________________________________________\n",
      "dense_2 (Dense)              (None, 8192)              827392    \n",
      "_________________________________________________________________\n",
      "batch_normalization_1 (Batch (None, 8192)              32768     \n",
      "_________________________________________________________________\n",
      "leaky_re_lu_5 (LeakyReLU)    (None, 8192)              0         \n",
      "_________________________________________________________________\n",
      "reshape_1 (Reshape)          (None, 4, 4, 512)         0         \n",
      "_________________________________________________________________\n",
      "generator_conv_0 (Conv2DTran (None, 8, 8, 256)         3277056   \n",
      "_________________________________________________________________\n",
      "batch_normalization_2 (Batch (None, 8, 8, 256)         1024      \n",
      "_________________________________________________________________\n",
      "leaky_re_lu_6 (LeakyReLU)    (None, 8, 8, 256)         0         \n",
      "_________________________________________________________________\n",
      "generator_conv_1 (Conv2DTran (None, 16, 16, 128)       819328    \n",
      "_________________________________________________________________\n",
      "batch_normalization_3 (Batch (None, 16, 16, 128)       512       \n",
      "_________________________________________________________________\n",
      "leaky_re_lu_7 (LeakyReLU)    (None, 16, 16, 128)       0         \n",
      "_________________________________________________________________\n",
      "generator_conv_2 (Conv2DTran (None, 32, 32, 64)        204864    \n",
      "_________________________________________________________________\n",
      "batch_normalization_4 (Batch (None, 32, 32, 64)        256       \n",
      "_________________________________________________________________\n",
      "leaky_re_lu_8 (LeakyReLU)    (None, 32, 32, 64)        0         \n",
      "_________________________________________________________________\n",
      "generator_conv_3 (Conv2DTran (None, 64, 64, 3)         4803      \n",
      "_________________________________________________________________\n",
      "activation_1 (Activation)    (None, 64, 64, 3)         0         \n",
      "=================================================================\n",
      "Total params: 5,168,003\n",
      "Trainable params: 5,150,723\n",
      "Non-trainable params: 17,280\n",
      "_________________________________________________________________\n"
     ]
    }
   ],
   "source": [
    "gan.generator.summary()"
   ]
  },
  {
   "cell_type": "markdown",
   "metadata": {},
   "source": [
    "## training"
   ]
  },
  {
   "cell_type": "code",
   "execution_count": 12,
   "metadata": {},
   "outputs": [
    {
     "name": "stdout",
     "output_type": "stream",
     "text": [
      "2071 (5, 1) [D loss: (-9.6)(R -0.1, F -10.6, G 0.1)] [G loss: 11.9]\n",
      "2072 (5, 1) [D loss: (-7.4)(R -4.1, F -5.3, G 0.2)] [G loss: 7.6]\n",
      "2073 (5, 1) [D loss: (-10.5)(R -20.3, F 8.2, G 0.2)] [G loss: -9.3]\n",
      "2074 (5, 1) [D loss: (-9.5)(R -11.0, F 0.2, G 0.1)] [G loss: -1.2]\n",
      "2075 (5, 1) [D loss: (-9.1)(R -15.4, F 4.1, G 0.2)] [G loss: -1.4]\n",
      "2076 (5, 1) [D loss: (-9.4)(R -2.8, F -8.5, G 0.2)] [G loss: 9.2]\n",
      "2077 (5, 1) [D loss: (-8.2)(R -0.4, F -9.7, G 0.2)] [G loss: 9.1]\n",
      "2078 (5, 1) [D loss: (-9.7)(R -10.6, F -0.5, G 0.1)] [G loss: -5.5]\n",
      "2079 (5, 1) [D loss: (-8.2)(R -16.6, F 6.7, G 0.2)] [G loss: -5.4]\n",
      "2080 (5, 1) [D loss: (-9.6)(R -12.5, F 1.1, G 0.2)] [G loss: -1.6]\n",
      "2081 (5, 1) [D loss: (-9.6)(R -20.8, F 9.9, G 0.1)] [G loss: -11.3]\n",
      "2082 (5, 1) [D loss: (-7.5)(R -15.4, F 6.5, G 0.1)] [G loss: -1.6]\n",
      "2083 (5, 1) [D loss: (-8.8)(R -10.5, F 0.0, G 0.2)] [G loss: -0.6]\n",
      "2084 (5, 1) [D loss: (-10.7)(R -9.6, F -3.2, G 0.2)] [G loss: 3.9]\n",
      "2085 (5, 1) [D loss: (-7.3)(R -2.6, F -6.1, G 0.1)] [G loss: 3.5]\n",
      "2086 (5, 1) [D loss: (-11.4)(R -16.3, F 3.9, G 0.1)] [G loss: -7.4]\n",
      "2087 (5, 1) [D loss: (-9.4)(R -10.5, F -0.6, G 0.2)] [G loss: 2.0]\n",
      "2088 (5, 1) [D loss: (-10.0)(R -10.0, F -1.6, G 0.2)] [G loss: 2.6]\n",
      "2089 (5, 1) [D loss: (-10.2)(R 0.5, F -13.5, G 0.3)] [G loss: 13.2]\n",
      "2090 (5, 1) [D loss: (-9.8)(R -3.1, F -7.5, G 0.1)] [G loss: 6.9]\n",
      "2091 (5, 1) [D loss: (-9.3)(R -16.8, F 6.0, G 0.1)] [G loss: -5.5]\n",
      "2092 (5, 1) [D loss: (-9.1)(R -18.7, F 7.5, G 0.2)] [G loss: -6.2]\n",
      "2093 (5, 1) [D loss: (-10.3)(R -14.5, F 2.7, G 0.2)] [G loss: -1.0]\n",
      "2094 (5, 1) [D loss: (-8.6)(R -6.3, F -3.5, G 0.1)] [G loss: 3.9]\n",
      "2095 (5, 1) [D loss: (-10.5)(R -8.4, F -4.2, G 0.2)] [G loss: 6.3]\n",
      "2096 (5, 1) [D loss: (-8.5)(R -12.7, F 2.9, G 0.1)] [G loss: -6.2]\n",
      "2097 (5, 1) [D loss: (-12.5)(R -26.7, F 12.3, G 0.2)] [G loss: -16.2]\n",
      "2098 (5, 1) [D loss: (-9.6)(R -14.7, F 3.6, G 0.1)] [G loss: -3.3]\n",
      "2099 (5, 1) [D loss: (-10.3)(R -7.7, F -4.2, G 0.2)] [G loss: -2.2]\n",
      "2100 (5, 1) [D loss: (-9.7)(R -6.9, F -4.2, G 0.1)] [G loss: 2.2]\n",
      "2101 (5, 1) [D loss: (-9.9)(R -15.5, F 3.7, G 0.2)] [G loss: -2.8]\n",
      "2102 (5, 1) [D loss: (-9.0)(R -11.7, F 1.0, G 0.2)] [G loss: -1.2]\n",
      "2103 (5, 1) [D loss: (-11.7)(R -9.8, F -3.2, G 0.1)] [G loss: 3.6]\n",
      "2104 (5, 1) [D loss: (-10.4)(R -24.0, F 12.1, G 0.1)] [G loss: -12.1]\n",
      "2105 (5, 1) [D loss: (-11.4)(R -21.5, F 8.5, G 0.2)] [G loss: -10.3]\n",
      "2106 (5, 1) [D loss: (-8.3)(R -12.1, F 1.9, G 0.2)] [G loss: -0.7]\n",
      "2107 (5, 1) [D loss: (-9.2)(R -18.3, F 7.4, G 0.2)] [G loss: -5.2]\n",
      "2108 (5, 1) [D loss: (-9.8)(R -14.1, F 2.6, G 0.2)] [G loss: -0.5]\n",
      "2109 (5, 1) [D loss: (-9.2)(R -4.4, F -6.1, G 0.1)] [G loss: 3.7]\n",
      "2110 (5, 1) [D loss: (-10.6)(R -12.3, F 0.3, G 0.1)] [G loss: 0.1]\n",
      "2111 (5, 1) [D loss: (-9.0)(R -8.4, F -2.3, G 0.2)] [G loss: 2.4]\n",
      "2112 (5, 1) [D loss: (-9.9)(R -18.4, F 6.9, G 0.2)] [G loss: -8.1]\n",
      "2113 (5, 1) [D loss: (-11.6)(R -12.3, F -0.8, G 0.1)] [G loss: -2.7]\n",
      "2114 (5, 1) [D loss: (-8.6)(R -20.4, F 9.1, G 0.3)] [G loss: -5.2]\n",
      "2115 (5, 1) [D loss: (-10.6)(R -10.9, F -1.9, G 0.2)] [G loss: 0.2]\n",
      "2116 (5, 1) [D loss: (-9.4)(R -5.6, F -4.7, G 0.1)] [G loss: 9.7]\n",
      "2117 (5, 1) [D loss: (-10.7)(R -8.8, F -3.3, G 0.1)] [G loss: 2.0]\n",
      "2118 (5, 1) [D loss: (-9.9)(R -9.1, F -3.0, G 0.2)] [G loss: 2.9]\n",
      "2119 (5, 1) [D loss: (-9.8)(R -10.5, F -0.8, G 0.1)] [G loss: 2.4]\n",
      "2120 (5, 1) [D loss: (-10.9)(R -18.8, F 5.6, G 0.2)] [G loss: -3.1]\n",
      "2121 (5, 1) [D loss: (-9.0)(R -7.7, F -2.7, G 0.1)] [G loss: 3.6]\n",
      "2122 (5, 1) [D loss: (-8.7)(R -0.4, F -10.1, G 0.2)] [G loss: 5.4]\n",
      "2123 (5, 1) [D loss: (-7.8)(R -3.6, F -5.9, G 0.2)] [G loss: 9.3]\n",
      "2124 (5, 1) [D loss: (-9.7)(R -6.5, F -4.6, G 0.1)] [G loss: 3.8]\n",
      "2125 (5, 1) [D loss: (-10.8)(R -16.5, F 3.7, G 0.2)] [G loss: -6.8]\n",
      "2126 (5, 1) [D loss: (-8.1)(R -9.5, F -1.2, G 0.3)] [G loss: 6.6]\n",
      "2127 (5, 1) [D loss: (-10.5)(R -13.3, F 1.0, G 0.2)] [G loss: -2.7]\n",
      "2128 (5, 1) [D loss: (-8.8)(R -3.8, F -6.8, G 0.2)] [G loss: 5.0]\n",
      "2129 (5, 1) [D loss: (-9.8)(R -8.9, F -2.5, G 0.2)] [G loss: 1.0]\n",
      "2130 (5, 1) [D loss: (-10.5)(R -17.2, F 5.0, G 0.2)] [G loss: -6.0]\n",
      "2131 (5, 1) [D loss: (-11.4)(R -12.8, F -0.2, G 0.2)] [G loss: -0.4]\n",
      "2132 (5, 1) [D loss: (-10.0)(R -12.8, F 1.1, G 0.2)] [G loss: -0.5]\n",
      "2133 (5, 1) [D loss: (-9.0)(R -11.2, F 0.1, G 0.2)] [G loss: 1.6]\n",
      "2134 (5, 1) [D loss: (-9.6)(R -4.2, F -7.7, G 0.2)] [G loss: 6.6]\n",
      "2135 (5, 1) [D loss: (-10.5)(R -12.0, F -0.1, G 0.2)] [G loss: -0.5]\n",
      "2136 (5, 1) [D loss: (-10.5)(R -16.5, F 4.0, G 0.2)] [G loss: -7.3]\n",
      "2137 (5, 1) [D loss: (-9.8)(R -11.5, F 0.2, G 0.1)] [G loss: 2.2]\n",
      "2138 (5, 1) [D loss: (-9.0)(R -14.8, F 3.9, G 0.2)] [G loss: -0.0]\n",
      "2139 (5, 1) [D loss: (-10.5)(R -16.7, F 4.1, G 0.2)] [G loss: -10.1]\n",
      "2140 (5, 1) [D loss: (-9.7)(R -16.5, F 5.1, G 0.2)] [G loss: -1.8]\n",
      "2141 (5, 1) [D loss: (-9.1)(R -9.5, F -0.9, G 0.1)] [G loss: 0.3]\n",
      "2142 (5, 1) [D loss: (-8.4)(R -21.3, F 11.4, G 0.1)] [G loss: -7.2]\n",
      "2143 (5, 1) [D loss: (-9.6)(R -13.5, F 2.0, G 0.2)] [G loss: -1.5]\n",
      "2144 (5, 1) [D loss: (-8.4)(R -14.4, F 3.7, G 0.2)] [G loss: -5.9]\n",
      "2145 (5, 1) [D loss: (-9.7)(R -17.0, F 5.4, G 0.2)] [G loss: -5.7]\n",
      "2146 (5, 1) [D loss: (-11.3)(R -11.2, F -1.9, G 0.2)] [G loss: 0.3]\n",
      "2147 (5, 1) [D loss: (-10.7)(R -12.4, F 0.5, G 0.1)] [G loss: -2.7]\n",
      "2148 (5, 1) [D loss: (-9.1)(R -21.1, F 9.4, G 0.3)] [G loss: -5.8]\n",
      "2149 (5, 1) [D loss: (-10.1)(R -16.4, F 4.7, G 0.2)] [G loss: -4.4]\n",
      "2150 (5, 1) [D loss: (-10.4)(R -4.6, F -7.0, G 0.1)] [G loss: 6.0]\n",
      "2151 (5, 1) [D loss: (-10.8)(R -11.2, F -0.7, G 0.1)] [G loss: 3.8]\n",
      "2152 (5, 1) [D loss: (-12.6)(R -10.9, F -3.4, G 0.2)] [G loss: 3.0]\n",
      "2153 (5, 1) [D loss: (-6.7)(R -13.1, F 4.8, G 0.2)] [G loss: -4.9]\n",
      "2154 (5, 1) [D loss: (-8.7)(R -23.6, F 13.4, G 0.2)] [G loss: -12.3]\n",
      "2155 (5, 1) [D loss: (-9.7)(R -15.7, F 4.7, G 0.1)] [G loss: -5.1]\n",
      "2156 (5, 1) [D loss: (-10.4)(R -8.5, F -3.7, G 0.2)] [G loss: 2.9]\n",
      "2157 (5, 1) [D loss: (-9.3)(R -6.8, F -4.1, G 0.2)] [G loss: 1.3]\n",
      "2158 (5, 1) [D loss: (-8.8)(R -13.4, F 3.1, G 0.1)] [G loss: -2.7]\n",
      "2159 (5, 1) [D loss: (-10.6)(R -13.5, F 1.4, G 0.1)] [G loss: -6.5]\n",
      "2160 (5, 1) [D loss: (-9.0)(R -9.0, F -3.0, G 0.3)] [G loss: 1.6]\n",
      "2161 (5, 1) [D loss: (-9.4)(R -5.5, F -6.1, G 0.2)] [G loss: 2.9]\n",
      "2162 (5, 1) [D loss: (-10.0)(R -2.9, F -9.1, G 0.2)] [G loss: 8.3]\n",
      "2163 (5, 1) [D loss: (-9.6)(R -6.6, F -4.4, G 0.1)] [G loss: 5.6]\n",
      "2164 (5, 1) [D loss: (-9.1)(R -19.4, F 9.0, G 0.1)] [G loss: -9.4]\n",
      "2165 (5, 1) [D loss: (-10.1)(R -16.0, F 3.9, G 0.2)] [G loss: -3.7]\n",
      "2166 (5, 1) [D loss: (-11.9)(R -18.4, F 4.5, G 0.2)] [G loss: -7.8]\n",
      "2167 (5, 1) [D loss: (-9.7)(R -11.9, F 0.0, G 0.2)] [G loss: 2.1]\n",
      "2168 (5, 1) [D loss: (-10.9)(R -14.1, F 1.9, G 0.1)] [G loss: -4.2]\n",
      "2169 (5, 1) [D loss: (-9.3)(R -0.8, F -10.1, G 0.2)] [G loss: 5.2]\n",
      "2170 (5, 1) [D loss: (-8.4)(R -7.4, F -2.7, G 0.2)] [G loss: 2.0]\n",
      "2171 (5, 1) [D loss: (-9.5)(R -7.3, F -3.7, G 0.2)] [G loss: -2.3]\n",
      "2172 (5, 1) [D loss: (-10.9)(R -12.2, F 0.2, G 0.1)] [G loss: -3.3]\n",
      "2173 (5, 1) [D loss: (-9.3)(R -20.8, F 9.1, G 0.2)] [G loss: -6.5]\n",
      "2174 (5, 1) [D loss: (-7.6)(R -22.0, F 12.2, G 0.2)] [G loss: -6.6]\n",
      "2175 (5, 1) [D loss: (-7.8)(R -12.3, F 3.0, G 0.1)] [G loss: 1.9]\n",
      "2176 (5, 1) [D loss: (-11.0)(R 0.2, F -13.2, G 0.2)] [G loss: 15.5]\n",
      "2177 (5, 1) [D loss: (-11.0)(R -8.9, F -3.4, G 0.1)] [G loss: -2.1]\n",
      "2178 (5, 1) [D loss: (-10.7)(R -5.4, F -6.8, G 0.2)] [G loss: 3.3]\n",
      "2179 (5, 1) [D loss: (-10.7)(R -18.4, F 6.4, G 0.1)] [G loss: -8.1]\n",
      "2180 (5, 1) [D loss: (-11.3)(R -21.0, F 7.9, G 0.2)] [G loss: -9.5]\n",
      "2181 (5, 1) [D loss: (-10.7)(R -27.2, F 12.4, G 0.4)] [G loss: -11.9]\n",
      "2182 (5, 1) [D loss: (-9.8)(R -6.6, F -4.9, G 0.2)] [G loss: 10.2]\n",
      "2183 (5, 1) [D loss: (-9.3)(R 1.5, F -12.6, G 0.2)] [G loss: 8.2]\n",
      "2184 (5, 1) [D loss: (-7.5)(R -9.5, F 0.0, G 0.2)] [G loss: 1.4]\n",
      "2185 (5, 1) [D loss: (-11.5)(R -13.6, F 0.4, G 0.2)] [G loss: -0.4]\n",
      "2186 (5, 1) [D loss: (-9.2)(R -17.2, F 6.1, G 0.2)] [G loss: -6.2]\n",
      "2187 (5, 1) [D loss: (-9.7)(R -15.2, F 3.4, G 0.2)] [G loss: -3.5]\n",
      "2188 (5, 1) [D loss: (-10.9)(R -11.5, F -0.8, G 0.2)] [G loss: -3.7]\n",
      "2189 (5, 1) [D loss: (-8.4)(R -10.6, F 0.9, G 0.1)] [G loss: 1.2]\n",
      "2190 (5, 1) [D loss: (-9.6)(R -9.2, F -1.6, G 0.1)] [G loss: 7.2]\n",
      "2191 (5, 1) [D loss: (-11.5)(R -8.1, F -4.9, G 0.2)] [G loss: 5.4]\n",
      "2192 (5, 1) [D loss: (-10.5)(R 1.9, F -14.6, G 0.2)] [G loss: 14.4]\n"
     ]
    },
    {
     "name": "stdout",
     "output_type": "stream",
     "text": [
      "2193 (5, 1) [D loss: (-9.6)(R 5.4, F -16.3, G 0.1)] [G loss: 12.4]\n",
      "2194 (5, 1) [D loss: (-9.6)(R -8.9, F -2.1, G 0.1)] [G loss: 0.1]\n",
      "2195 (5, 1) [D loss: (-12.2)(R -23.0, F 9.1, G 0.2)] [G loss: -13.9]\n",
      "2196 (5, 1) [D loss: (-11.4)(R -20.0, F 6.8, G 0.2)] [G loss: -8.2]\n",
      "2197 (5, 1) [D loss: (-9.8)(R -18.3, F 6.1, G 0.2)] [G loss: -3.6]\n",
      "2198 (5, 1) [D loss: (-8.8)(R -8.5, F -1.4, G 0.1)] [G loss: 1.0]\n",
      "2199 (5, 1) [D loss: (-11.3)(R -6.7, F -6.1, G 0.1)] [G loss: 3.3]\n",
      "2200 (5, 1) [D loss: (-8.3)(R -1.6, F -7.9, G 0.1)] [G loss: 10.0]\n",
      "2201 (5, 1) [D loss: (-9.5)(R -11.5, F -0.2, G 0.2)] [G loss: -0.2]\n",
      "2202 (5, 1) [D loss: (-9.7)(R -5.4, F -6.1, G 0.2)] [G loss: 8.1]\n",
      "2203 (5, 1) [D loss: (-8.4)(R -11.3, F 1.4, G 0.2)] [G loss: 0.7]\n",
      "2204 (5, 1) [D loss: (-7.9)(R -12.7, F 3.6, G 0.1)] [G loss: -1.5]\n",
      "2205 (5, 1) [D loss: (-10.8)(R -12.7, F 0.5, G 0.1)] [G loss: -4.4]\n",
      "2206 (5, 1) [D loss: (-10.8)(R -5.8, F -6.6, G 0.2)] [G loss: 4.0]\n",
      "2207 (5, 1) [D loss: (-9.4)(R -3.9, F -7.0, G 0.2)] [G loss: 10.8]\n",
      "2208 (5, 1) [D loss: (-9.7)(R -2.2, F -9.0, G 0.2)] [G loss: 6.6]\n",
      "2209 (5, 1) [D loss: (-7.6)(R -8.3, F -0.5, G 0.1)] [G loss: 3.2]\n",
      "2210 (5, 1) [D loss: (-9.7)(R -10.3, F -1.1, G 0.2)] [G loss: 1.2]\n",
      "2211 (5, 1) [D loss: (-10.1)(R -9.1, F -2.6, G 0.2)] [G loss: 2.9]\n",
      "2212 (5, 1) [D loss: (-9.5)(R -5.8, F -5.4, G 0.2)] [G loss: 6.2]\n",
      "2213 (5, 1) [D loss: (-10.0)(R -12.3, F 1.0, G 0.1)] [G loss: -1.0]\n",
      "2214 (5, 1) [D loss: (-10.3)(R -9.3, F -2.5, G 0.2)] [G loss: -1.4]\n",
      "2215 (5, 1) [D loss: (-9.1)(R -17.4, F 6.6, G 0.2)] [G loss: -0.2]\n",
      "2216 (5, 1) [D loss: (-8.2)(R -16.5, F 6.3, G 0.2)] [G loss: -2.9]\n",
      "2217 (5, 1) [D loss: (-8.9)(R -6.1, F -4.4, G 0.2)] [G loss: 2.5]\n",
      "2218 (5, 1) [D loss: (-10.6)(R -9.7, F -2.8, G 0.2)] [G loss: -2.4]\n",
      "2219 (5, 1) [D loss: (-12.0)(R -15.3, F 1.3, G 0.2)] [G loss: -2.6]\n",
      "2220 (5, 1) [D loss: (-10.0)(R -1.6, F -10.2, G 0.2)] [G loss: 11.5]\n",
      "2221 (5, 1) [D loss: (-8.0)(R 4.1, F -14.4, G 0.2)] [G loss: 13.0]\n",
      "2222 (5, 1) [D loss: (-9.7)(R -9.9, F -0.8, G 0.1)] [G loss: -2.7]\n",
      "2223 (5, 1) [D loss: (-10.5)(R -8.5, F -3.7, G 0.2)] [G loss: 1.1]\n",
      "2224 (5, 1) [D loss: (-8.6)(R -10.4, F 0.4, G 0.1)] [G loss: 2.1]\n",
      "2225 (5, 1) [D loss: (-11.4)(R -19.7, F 6.0, G 0.2)] [G loss: -11.3]\n",
      "2226 (5, 1) [D loss: (-9.4)(R -9.3, F -2.1, G 0.2)] [G loss: 3.6]\n",
      "2227 (5, 1) [D loss: (-10.1)(R -9.4, F -2.1, G 0.1)] [G loss: 4.0]\n",
      "2228 (5, 1) [D loss: (-13.0)(R -13.7, F -0.9, G 0.2)] [G loss: -0.7]\n",
      "2229 (5, 1) [D loss: (-10.4)(R -12.0, F -0.7, G 0.2)] [G loss: 0.0]\n",
      "2230 (5, 1) [D loss: (-9.9)(R -11.2, F 0.4, G 0.1)] [G loss: 0.4]\n",
      "2231 (5, 1) [D loss: (-8.0)(R -7.4, F -1.9, G 0.1)] [G loss: 1.9]\n",
      "2232 (5, 1) [D loss: (-9.6)(R -9.7, F -1.9, G 0.2)] [G loss: -2.9]\n",
      "2233 (5, 1) [D loss: (-8.7)(R -9.6, F -1.0, G 0.2)] [G loss: 1.0]\n",
      "2234 (5, 1) [D loss: (-7.1)(R -15.9, F 7.1, G 0.2)] [G loss: -2.6]\n",
      "2235 (5, 1) [D loss: (-6.5)(R -16.5, F 8.0, G 0.2)] [G loss: -6.0]\n",
      "2236 (5, 1) [D loss: (-7.8)(R -13.6, F 4.4, G 0.1)] [G loss: -6.0]\n",
      "2237 (5, 1) [D loss: (-10.8)(R -13.9, F 0.9, G 0.2)] [G loss: -1.8]\n",
      "2238 (5, 1) [D loss: (-6.8)(R -14.7, F 6.8, G 0.1)] [G loss: -7.4]\n",
      "2239 (5, 1) [D loss: (-9.7)(R -13.7, F 2.5, G 0.2)] [G loss: -2.9]\n",
      "2240 (5, 1) [D loss: (-10.0)(R -9.2, F -3.0, G 0.2)] [G loss: 6.1]\n",
      "2241 (5, 1) [D loss: (-9.6)(R -2.9, F -8.5, G 0.2)] [G loss: 7.8]\n",
      "2242 (5, 1) [D loss: (-9.7)(R 0.2, F -11.3, G 0.1)] [G loss: 9.2]\n",
      "2243 (5, 1) [D loss: (-11.0)(R -13.8, F 1.2, G 0.2)] [G loss: -2.5]\n",
      "2244 (5, 1) [D loss: (-11.1)(R -22.4, F 8.5, G 0.3)] [G loss: -15.9]\n",
      "2245 (5, 1) [D loss: (-10.4)(R -10.2, F -2.1, G 0.2)] [G loss: -0.5]\n",
      "2246 (5, 1) [D loss: (-6.7)(R -9.2, F 0.9, G 0.2)] [G loss: 4.0]\n",
      "2247 (5, 1) [D loss: (-9.7)(R 0.4, F -12.2, G 0.2)] [G loss: 9.5]\n",
      "2248 (5, 1) [D loss: (-10.2)(R -3.2, F -8.9, G 0.2)] [G loss: 9.6]\n",
      "2249 (5, 1) [D loss: (-7.6)(R -5.9, F -3.1, G 0.1)] [G loss: 7.6]\n",
      "2250 (5, 1) [D loss: (-9.5)(R -23.7, F 12.6, G 0.2)] [G loss: -11.2]\n",
      "2251 (5, 1) [D loss: (-10.8)(R -27.2, F 14.7, G 0.2)] [G loss: -19.6]\n",
      "2252 (5, 1) [D loss: (-9.7)(R -13.6, F 1.9, G 0.2)] [G loss: -1.4]\n",
      "2253 (5, 1) [D loss: (-9.8)(R -8.6, F -3.6, G 0.2)] [G loss: 2.2]\n",
      "2254 (5, 1) [D loss: (-8.5)(R -4.0, F -6.6, G 0.2)] [G loss: 8.5]\n",
      "2255 (5, 1) [D loss: (-8.6)(R -14.7, F 4.9, G 0.1)] [G loss: -2.9]\n",
      "2256 (5, 1) [D loss: (-9.4)(R -8.5, F -2.2, G 0.1)] [G loss: 4.4]\n",
      "2257 (5, 1) [D loss: (-9.8)(R -10.1, F -1.1, G 0.1)] [G loss: -2.0]\n",
      "2258 (5, 1) [D loss: (-8.9)(R -11.4, F 1.0, G 0.2)] [G loss: 1.4]\n",
      "2259 (5, 1) [D loss: (-9.1)(R -10.0, F -1.0, G 0.2)] [G loss: 4.8]\n",
      "2260 (5, 1) [D loss: (-8.0)(R -7.3, F -2.0, G 0.1)] [G loss: -1.7]\n",
      "2261 (5, 1) [D loss: (-8.5)(R -9.6, F -0.4, G 0.2)] [G loss: 0.6]\n",
      "2262 (5, 1) [D loss: (-7.9)(R -5.1, F -4.8, G 0.2)] [G loss: 3.8]\n",
      "2263 (5, 1) [D loss: (-8.4)(R -15.2, F 5.0, G 0.2)] [G loss: -3.6]\n",
      "2264 (5, 1) [D loss: (-11.7)(R -20.4, F 6.0, G 0.3)] [G loss: -7.0]\n",
      "2265 (5, 1) [D loss: (-10.0)(R -11.9, F 0.5, G 0.1)] [G loss: 0.2]\n",
      "2266 (5, 1) [D loss: (-8.5)(R -13.9, F 4.2, G 0.1)] [G loss: -5.2]\n",
      "2267 (5, 1) [D loss: (-9.3)(R -16.7, F 5.8, G 0.2)] [G loss: -6.6]\n",
      "2268 (5, 1) [D loss: (-10.0)(R -11.9, F 0.1, G 0.2)] [G loss: 1.9]\n",
      "2269 (5, 1) [D loss: (-9.2)(R -11.2, F -0.7, G 0.3)] [G loss: 7.2]\n",
      "2270 (5, 1) [D loss: (-10.9)(R -1.4, F -11.8, G 0.2)] [G loss: 11.3]\n",
      "2271 (5, 1) [D loss: (-8.8)(R -7.6, F -2.8, G 0.2)] [G loss: -0.1]\n",
      "2272 (5, 1) [D loss: (-9.2)(R -12.7, F 1.8, G 0.2)] [G loss: -0.7]\n",
      "2273 (5, 1) [D loss: (-9.8)(R -13.8, F 2.5, G 0.2)] [G loss: -2.5]\n",
      "2274 (5, 1) [D loss: (-10.9)(R -14.6, F 2.3, G 0.1)] [G loss: -4.5]\n",
      "2275 (5, 1) [D loss: (-11.6)(R -17.8, F 4.4, G 0.2)] [G loss: -1.1]\n",
      "2276 (5, 1) [D loss: (-11.8)(R -22.5, F 9.3, G 0.1)] [G loss: -14.2]\n",
      "2277 (5, 1) [D loss: (-8.7)(R -17.3, F 6.5, G 0.2)] [G loss: -3.9]\n",
      "2278 (5, 1) [D loss: (-8.7)(R -15.5, F 5.2, G 0.2)] [G loss: -3.7]\n",
      "2279 (5, 1) [D loss: (-9.5)(R -5.7, F -5.8, G 0.2)] [G loss: 9.7]\n",
      "2280 (5, 1) [D loss: (-9.8)(R -10.1, F -0.7, G 0.1)] [G loss: -0.6]\n",
      "2281 (5, 1) [D loss: (-7.8)(R -18.7, F 9.2, G 0.2)] [G loss: -9.0]\n",
      "2282 (5, 1) [D loss: (-8.6)(R -17.8, F 7.9, G 0.1)] [G loss: -9.5]\n",
      "2283 (5, 1) [D loss: (-10.8)(R -23.7, F 11.5, G 0.1)] [G loss: -14.7]\n",
      "2284 (5, 1) [D loss: (-11.0)(R -12.1, F -0.9, G 0.2)] [G loss: 1.6]\n",
      "2285 (5, 1) [D loss: (-10.5)(R -12.8, F 1.3, G 0.1)] [G loss: 2.6]\n",
      "2286 (5, 1) [D loss: (-9.5)(R -11.7, F 1.0, G 0.1)] [G loss: -0.3]\n",
      "2287 (5, 1) [D loss: (-10.4)(R -16.5, F 4.3, G 0.2)] [G loss: -3.4]\n",
      "2288 (5, 1) [D loss: (-12.1)(R -21.1, F 7.5, G 0.2)] [G loss: -11.8]\n",
      "2289 (5, 1) [D loss: (-9.3)(R -11.6, F 0.3, G 0.2)] [G loss: 2.2]\n",
      "2290 (5, 1) [D loss: (-8.5)(R -14.2, F 4.6, G 0.1)] [G loss: -6.3]\n",
      "2291 (5, 1) [D loss: (-9.6)(R -16.2, F 4.4, G 0.2)] [G loss: -5.1]\n",
      "2292 (5, 1) [D loss: (-10.7)(R -10.4, F -2.3, G 0.2)] [G loss: 1.5]\n",
      "2293 (5, 1) [D loss: (-10.4)(R -16.8, F 4.2, G 0.2)] [G loss: -3.8]\n",
      "2294 (5, 1) [D loss: (-9.4)(R -12.7, F 1.4, G 0.2)] [G loss: 2.8]\n",
      "2295 (5, 1) [D loss: (-10.1)(R -9.2, F -2.6, G 0.2)] [G loss: -2.4]\n",
      "2296 (5, 1) [D loss: (-8.5)(R -20.7, F 10.7, G 0.1)] [G loss: -6.5]\n",
      "2297 (5, 1) [D loss: (-9.3)(R -1.6, F -9.3, G 0.2)] [G loss: 13.8]\n",
      "2298 (5, 1) [D loss: (-9.9)(R -14.1, F 2.7, G 0.2)] [G loss: -4.2]\n",
      "2299 (5, 1) [D loss: (-9.2)(R -12.7, F 1.5, G 0.2)] [G loss: -3.2]\n",
      "2300 (5, 1) [D loss: (-8.7)(R -19.3, F 8.7, G 0.2)] [G loss: -7.6]\n",
      "2301 (5, 1) [D loss: (-9.1)(R -15.0, F 4.1, G 0.2)] [G loss: -4.1]\n",
      "2302 (5, 1) [D loss: (-9.7)(R -11.0, F 0.0, G 0.1)] [G loss: 1.8]\n",
      "2303 (5, 1) [D loss: (-9.9)(R -10.1, F -1.1, G 0.1)] [G loss: 0.7]\n",
      "2304 (5, 1) [D loss: (-9.3)(R -9.4, F -1.1, G 0.1)] [G loss: 3.0]\n",
      "2305 (5, 1) [D loss: (-9.0)(R -16.4, F 5.6, G 0.2)] [G loss: -3.9]\n",
      "2306 (5, 1) [D loss: (-9.3)(R -17.3, F 6.2, G 0.2)] [G loss: -7.6]\n",
      "2307 (5, 1) [D loss: (-9.9)(R -17.9, F 5.8, G 0.2)] [G loss: -4.0]\n",
      "2308 (5, 1) [D loss: (-9.7)(R -11.1, F -0.4, G 0.2)] [G loss: -1.2]\n",
      "2309 (5, 1) [D loss: (-9.8)(R -11.0, F -0.4, G 0.2)] [G loss: -0.4]\n",
      "2310 (5, 1) [D loss: (-8.2)(R -7.0, F -3.1, G 0.2)] [G loss: 1.8]\n",
      "2311 (5, 1) [D loss: (-9.8)(R 0.2, F -11.6, G 0.2)] [G loss: 10.3]\n",
      "2312 (5, 1) [D loss: (-10.7)(R -6.6, F -5.3, G 0.1)] [G loss: 6.8]\n",
      "2313 (5, 1) [D loss: (-11.3)(R -15.8, F 2.5, G 0.2)] [G loss: -10.1]\n",
      "2314 (5, 1) [D loss: (-8.4)(R -19.5, F 9.6, G 0.1)] [G loss: -12.8]\n"
     ]
    },
    {
     "name": "stdout",
     "output_type": "stream",
     "text": [
      "2315 (5, 1) [D loss: (-10.3)(R -15.0, F 3.1, G 0.2)] [G loss: -5.7]\n",
      "2316 (5, 1) [D loss: (-9.7)(R -13.2, F 1.9, G 0.2)] [G loss: -4.1]\n",
      "2317 (5, 1) [D loss: (-9.4)(R -5.3, F -5.1, G 0.1)] [G loss: 3.3]\n",
      "2318 (5, 1) [D loss: (-8.3)(R -10.5, F 1.0, G 0.1)] [G loss: 2.1]\n",
      "2319 (5, 1) [D loss: (-8.0)(R 3.0, F -13.1, G 0.2)] [G loss: 16.2]\n",
      "2320 (5, 1) [D loss: (-9.4)(R -12.1, F 1.8, G 0.1)] [G loss: -4.2]\n",
      "2321 (5, 1) [D loss: (-9.1)(R -18.9, F 7.8, G 0.2)] [G loss: -3.3]\n",
      "2322 (5, 1) [D loss: (-8.8)(R -12.9, F 2.5, G 0.2)] [G loss: -0.2]\n",
      "2323 (5, 1) [D loss: (-8.9)(R -7.7, F -2.6, G 0.1)] [G loss: -0.4]\n",
      "2324 (5, 1) [D loss: (-8.6)(R -14.3, F 4.4, G 0.1)] [G loss: -0.6]\n",
      "2325 (5, 1) [D loss: (-10.8)(R -16.6, F 4.9, G 0.1)] [G loss: -1.5]\n",
      "2326 (5, 1) [D loss: (-10.3)(R -17.4, F 5.3, G 0.2)] [G loss: -6.5]\n",
      "2327 (5, 1) [D loss: (-7.5)(R -18.8, F 9.0, G 0.2)] [G loss: -2.1]\n",
      "2328 (5, 1) [D loss: (-11.1)(R -18.1, F 5.2, G 0.2)] [G loss: -3.1]\n",
      "2329 (5, 1) [D loss: (-7.7)(R -11.4, F 2.1, G 0.2)] [G loss: -4.1]\n",
      "2330 (5, 1) [D loss: (-8.7)(R -10.5, F -0.6, G 0.2)] [G loss: 0.1]\n",
      "2331 (5, 1) [D loss: (-9.6)(R -14.1, F 3.4, G 0.1)] [G loss: -0.0]\n",
      "2332 (5, 1) [D loss: (-5.2)(R -21.7, F 13.7, G 0.3)] [G loss: -14.7]\n",
      "2333 (5, 1) [D loss: (-10.9)(R -18.5, F 5.8, G 0.2)] [G loss: -7.7]\n",
      "2334 (5, 1) [D loss: (-9.9)(R -19.0, F 7.3, G 0.2)] [G loss: -8.4]\n",
      "2335 (5, 1) [D loss: (-9.9)(R -10.7, F -1.5, G 0.2)] [G loss: 1.1]\n",
      "2336 (5, 1) [D loss: (-9.7)(R -3.5, F -7.8, G 0.2)] [G loss: 11.0]\n",
      "2337 (5, 1) [D loss: (-8.4)(R -1.6, F -8.6, G 0.2)] [G loss: 8.4]\n",
      "2338 (5, 1) [D loss: (-10.6)(R -12.1, F 0.1, G 0.1)] [G loss: -5.8]\n",
      "2339 (5, 1) [D loss: (-8.4)(R -19.7, F 9.5, G 0.2)] [G loss: -6.2]\n",
      "2340 (5, 1) [D loss: (-8.2)(R -15.9, F 6.3, G 0.1)] [G loss: -4.1]\n",
      "2341 (5, 1) [D loss: (-8.6)(R -17.5, F 6.9, G 0.2)] [G loss: -6.2]\n",
      "2342 (5, 1) [D loss: (-8.5)(R 1.3, F -11.4, G 0.2)] [G loss: 10.0]\n",
      "2343 (5, 1) [D loss: (-9.9)(R -3.4, F -8.6, G 0.2)] [G loss: 9.0]\n",
      "2344 (5, 1) [D loss: (-7.8)(R -9.3, F -0.2, G 0.2)] [G loss: -4.1]\n",
      "2345 (5, 1) [D loss: (-9.3)(R -19.6, F 8.8, G 0.2)] [G loss: -10.5]\n",
      "2346 (5, 1) [D loss: (-11.2)(R -23.2, F 10.0, G 0.2)] [G loss: -11.0]\n",
      "2347 (5, 1) [D loss: (-9.1)(R -17.7, F 7.0, G 0.2)] [G loss: -5.2]\n",
      "2348 (5, 1) [D loss: (-8.9)(R -14.2, F 3.8, G 0.2)] [G loss: -1.6]\n",
      "2349 (5, 1) [D loss: (-9.2)(R -7.6, F -2.7, G 0.1)] [G loss: 2.9]\n",
      "2350 (5, 1) [D loss: (-10.1)(R -1.8, F -10.5, G 0.2)] [G loss: 13.7]\n",
      "2351 (5, 1) [D loss: (-9.7)(R -5.0, F -6.0, G 0.1)] [G loss: 6.2]\n",
      "2352 (5, 1) [D loss: (-9.2)(R -6.4, F -4.5, G 0.2)] [G loss: 4.7]\n",
      "2353 (5, 1) [D loss: (-8.5)(R -6.6, F -3.1, G 0.1)] [G loss: -2.5]\n",
      "2354 (5, 1) [D loss: (-9.3)(R -18.7, F 6.9, G 0.3)] [G loss: -4.0]\n",
      "2355 (5, 1) [D loss: (-9.4)(R -9.4, F -1.9, G 0.2)] [G loss: 2.8]\n",
      "2356 (5, 1) [D loss: (-9.7)(R -3.4, F -7.7, G 0.1)] [G loss: 5.2]\n",
      "2357 (5, 1) [D loss: (-9.4)(R -7.8, F -3.2, G 0.2)] [G loss: 4.2]\n",
      "2358 (5, 1) [D loss: (-8.7)(R -8.9, F -1.5, G 0.2)] [G loss: 3.6]\n",
      "2359 (5, 1) [D loss: (-7.6)(R -5.9, F -3.1, G 0.1)] [G loss: 0.8]\n",
      "2360 (5, 1) [D loss: (-11.4)(R -17.6, F 4.3, G 0.2)] [G loss: -7.7]\n",
      "2361 (5, 1) [D loss: (-9.8)(R -19.8, F 8.5, G 0.2)] [G loss: -9.5]\n",
      "2362 (5, 1) [D loss: (-9.9)(R -18.8, F 7.3, G 0.2)] [G loss: -7.0]\n",
      "2363 (5, 1) [D loss: (-8.7)(R -9.0, F -1.1, G 0.1)] [G loss: -0.7]\n",
      "2364 (5, 1) [D loss: (-10.5)(R -10.2, F -1.5, G 0.1)] [G loss: 2.4]\n",
      "2365 (5, 1) [D loss: (-10.2)(R 1.4, F -12.6, G 0.1)] [G loss: 15.3]\n",
      "2366 (5, 1) [D loss: (-8.1)(R -3.1, F -6.4, G 0.1)] [G loss: -0.6]\n",
      "2367 (5, 1) [D loss: (-9.4)(R -20.4, F 9.4, G 0.2)] [G loss: -8.5]\n",
      "2368 (5, 1) [D loss: (-8.3)(R -13.0, F 3.1, G 0.2)] [G loss: -0.8]\n",
      "2369 (5, 1) [D loss: (-8.8)(R -9.6, F -0.6, G 0.1)] [G loss: -0.9]\n",
      "2370 (5, 1) [D loss: (-9.8)(R -8.9, F -2.6, G 0.2)] [G loss: -1.4]\n",
      "2371 (5, 1) [D loss: (-8.6)(R -15.2, F 5.0, G 0.2)] [G loss: -4.3]\n",
      "2372 (5, 1) [D loss: (-10.4)(R -19.4, F 7.4, G 0.2)] [G loss: -8.0]\n",
      "2373 (5, 1) [D loss: (-7.3)(R -11.5, F 2.9, G 0.1)] [G loss: -1.5]\n",
      "2374 (5, 1) [D loss: (-8.6)(R -15.5, F 4.7, G 0.2)] [G loss: -0.7]\n",
      "2375 (5, 1) [D loss: (-7.5)(R -9.0, F 0.8, G 0.1)] [G loss: 2.6]\n",
      "2376 (5, 1) [D loss: (-12.7)(R -19.1, F 4.4, G 0.2)] [G loss: -10.0]\n",
      "2377 (5, 1) [D loss: (-7.8)(R -21.5, F 11.7, G 0.2)] [G loss: -5.7]\n",
      "2378 (5, 1) [D loss: (-9.7)(R -11.7, F 0.8, G 0.1)] [G loss: -0.7]\n",
      "2379 (5, 1) [D loss: (-12.7)(R -8.2, F -6.3, G 0.2)] [G loss: 5.4]\n",
      "2380 (5, 1) [D loss: (-8.6)(R -12.4, F 2.8, G 0.1)] [G loss: -5.2]\n",
      "2381 (5, 1) [D loss: (-8.4)(R -12.4, F 2.3, G 0.2)] [G loss: -4.5]\n",
      "2382 (5, 1) [D loss: (-10.4)(R -18.5, F 6.1, G 0.2)] [G loss: -6.3]\n",
      "2383 (5, 1) [D loss: (-8.9)(R -7.1, F -3.4, G 0.2)] [G loss: 2.6]\n",
      "2384 (5, 1) [D loss: (-8.9)(R -18.5, F 7.6, G 0.2)] [G loss: -7.9]\n",
      "2385 (5, 1) [D loss: (-9.4)(R -17.1, F 5.4, G 0.2)] [G loss: -5.0]\n",
      "2386 (5, 1) [D loss: (-9.3)(R -28.7, F 17.9, G 0.2)] [G loss: -21.8]\n",
      "2387 (5, 1) [D loss: (-8.8)(R -18.8, F 8.8, G 0.1)] [G loss: -8.5]\n",
      "2388 (5, 1) [D loss: (-9.8)(R -18.5, F 7.1, G 0.2)] [G loss: -5.4]\n",
      "2389 (5, 1) [D loss: (-9.9)(R -5.9, F -5.6, G 0.2)] [G loss: 6.9]\n",
      "2390 (5, 1) [D loss: (-9.5)(R 0.5, F -12.3, G 0.2)] [G loss: 11.4]\n",
      "2391 (5, 1) [D loss: (-8.3)(R -5.3, F -4.4, G 0.1)] [G loss: 4.5]\n",
      "2392 (5, 1) [D loss: (-9.7)(R -9.6, F -1.7, G 0.2)] [G loss: -2.4]\n",
      "2393 (5, 1) [D loss: (-9.4)(R -15.7, F 5.0, G 0.1)] [G loss: -7.7]\n",
      "2394 (5, 1) [D loss: (-11.4)(R -17.6, F 4.5, G 0.2)] [G loss: -5.4]\n",
      "2395 (5, 1) [D loss: (-9.4)(R -10.3, F -0.7, G 0.2)] [G loss: 3.0]\n",
      "2396 (5, 1) [D loss: (-9.4)(R -10.6, F -0.1, G 0.1)] [G loss: -5.3]\n",
      "2397 (5, 1) [D loss: (-9.1)(R -1.7, F -8.8, G 0.1)] [G loss: 10.0]\n",
      "2398 (5, 1) [D loss: (-10.3)(R -2.5, F -9.3, G 0.1)] [G loss: 10.5]\n",
      "2399 (5, 1) [D loss: (-8.9)(R -4.7, F -5.5, G 0.1)] [G loss: 4.5]\n",
      "2400 (5, 1) [D loss: (-9.6)(R -18.1, F 6.8, G 0.2)] [G loss: -5.7]\n",
      "2401 (5, 1) [D loss: (-9.5)(R -10.4, F -0.8, G 0.2)] [G loss: -1.2]\n",
      "2402 (5, 1) [D loss: (-7.2)(R -17.8, F 8.9, G 0.2)] [G loss: -6.4]\n",
      "2403 (5, 1) [D loss: (-10.3)(R -8.9, F -3.2, G 0.2)] [G loss: 4.5]\n",
      "2404 (5, 1) [D loss: (-10.2)(R -7.6, F -4.5, G 0.2)] [G loss: 5.3]\n",
      "2405 (5, 1) [D loss: (-10.5)(R -12.6, F 0.9, G 0.1)] [G loss: -2.1]\n",
      "2406 (5, 1) [D loss: (-12.8)(R -19.8, F 5.0, G 0.2)] [G loss: -7.3]\n",
      "2407 (5, 1) [D loss: (-8.4)(R -25.2, F 14.4, G 0.2)] [G loss: -5.1]\n",
      "2408 (5, 1) [D loss: (-9.2)(R -13.1, F 2.4, G 0.2)] [G loss: -6.4]\n",
      "2409 (5, 1) [D loss: (-7.6)(R -15.0, F 6.3, G 0.1)] [G loss: -2.3]\n",
      "2410 (5, 1) [D loss: (-7.7)(R 3.2, F -12.9, G 0.2)] [G loss: 10.9]\n",
      "2411 (5, 1) [D loss: (-11.1)(R -3.7, F -8.8, G 0.1)] [G loss: 11.5]\n",
      "2412 (5, 1) [D loss: (-10.5)(R -8.3, F -3.7, G 0.1)] [G loss: 3.0]\n",
      "2413 (5, 1) [D loss: (-9.0)(R -8.0, F -2.4, G 0.2)] [G loss: 2.3]\n",
      "2414 (5, 1) [D loss: (-10.7)(R -14.4, F 1.6, G 0.2)] [G loss: -2.2]\n",
      "2415 (5, 1) [D loss: (-10.7)(R -11.7, F -1.0, G 0.2)] [G loss: 2.1]\n",
      "2416 (5, 1) [D loss: (-11.0)(R -4.5, F -8.1, G 0.2)] [G loss: 8.6]\n",
      "2417 (5, 1) [D loss: (-8.5)(R 0.6, F -11.1, G 0.2)] [G loss: 11.2]\n",
      "2418 (5, 1) [D loss: (-10.4)(R -7.4, F -4.8, G 0.2)] [G loss: 2.5]\n",
      "2419 (5, 1) [D loss: (-9.0)(R -14.8, F 4.9, G 0.1)] [G loss: -4.7]\n",
      "2420 (5, 1) [D loss: (-11.2)(R -22.4, F 8.7, G 0.2)] [G loss: -10.2]\n",
      "2421 (5, 1) [D loss: (-9.3)(R -16.5, F 4.9, G 0.2)] [G loss: 1.2]\n",
      "2422 (5, 1) [D loss: (-7.6)(R 3.4, F -12.5, G 0.1)] [G loss: 10.1]\n",
      "2423 (5, 1) [D loss: (-10.8)(R -10.2, F -2.2, G 0.2)] [G loss: 1.2]\n",
      "2424 (5, 1) [D loss: (-9.3)(R -9.8, F -1.0, G 0.2)] [G loss: 1.8]\n",
      "2425 (5, 1) [D loss: (-9.1)(R -11.8, F 1.0, G 0.2)] [G loss: -2.2]\n",
      "2426 (5, 1) [D loss: (-9.4)(R -1.3, F -10.4, G 0.2)] [G loss: 5.2]\n",
      "2427 (5, 1) [D loss: (-11.0)(R -6.8, F -5.6, G 0.1)] [G loss: 4.4]\n",
      "2428 (5, 1) [D loss: (-9.7)(R -7.1, F -4.1, G 0.1)] [G loss: 6.3]\n",
      "2429 (5, 1) [D loss: (-9.5)(R -7.7, F -3.1, G 0.1)] [G loss: 2.0]\n",
      "2430 (5, 1) [D loss: (-8.0)(R -7.4, F -2.2, G 0.2)] [G loss: 4.5]\n",
      "2431 (5, 1) [D loss: (-8.8)(R -6.6, F -3.3, G 0.1)] [G loss: 5.0]\n",
      "2432 (5, 1) [D loss: (-8.6)(R -8.1, F -1.7, G 0.1)] [G loss: -1.3]\n"
     ]
    },
    {
     "ename": "KeyboardInterrupt",
     "evalue": "",
     "output_type": "error",
     "traceback": [
      "\u001b[0;31m---------------------------------------------------------------------------\u001b[0m",
      "\u001b[0;31mKeyboardInterrupt\u001b[0m                         Traceback (most recent call last)",
      "\u001b[0;32m<ipython-input-12-e2091ad5943f>\u001b[0m in \u001b[0;36m<module>\u001b[0;34m\u001b[0m\n\u001b[1;32m      6\u001b[0m     \u001b[0;34m,\u001b[0m \u001b[0mprint_every_n_batches\u001b[0m \u001b[0;34m=\u001b[0m \u001b[0;36m5\u001b[0m\u001b[0;34m\u001b[0m\u001b[0m\n\u001b[1;32m      7\u001b[0m     \u001b[0;34m,\u001b[0m \u001b[0mn_critic\u001b[0m \u001b[0;34m=\u001b[0m \u001b[0;36m5\u001b[0m\u001b[0;34m\u001b[0m\u001b[0m\n\u001b[0;32m----> 8\u001b[0;31m     \u001b[0;34m,\u001b[0m \u001b[0musing_generator\u001b[0m \u001b[0;34m=\u001b[0m \u001b[0;32mTrue\u001b[0m\u001b[0;34m\u001b[0m\u001b[0m\n\u001b[0m\u001b[1;32m      9\u001b[0m )\n",
      "\u001b[0;32m~/Git/Personal/GDL/generative_deep_learning_code/models/WGANGP.py\u001b[0m in \u001b[0;36mtrain\u001b[0;34m(self, x_train, batch_size, epochs, run_folder, print_every_n_batches, n_critic, using_generator)\u001b[0m\n\u001b[1;32m    344\u001b[0m \u001b[0;34m\u001b[0m\u001b[0m\n\u001b[1;32m    345\u001b[0m             \u001b[0;32mfor\u001b[0m \u001b[0m_\u001b[0m \u001b[0;32min\u001b[0m \u001b[0mrange\u001b[0m\u001b[0;34m(\u001b[0m\u001b[0mcritic_loops\u001b[0m\u001b[0;34m)\u001b[0m\u001b[0;34m:\u001b[0m\u001b[0;34m\u001b[0m\u001b[0m\n\u001b[0;32m--> 346\u001b[0;31m                 \u001b[0md_loss\u001b[0m \u001b[0;34m=\u001b[0m \u001b[0mself\u001b[0m\u001b[0;34m.\u001b[0m\u001b[0mtrain_critic\u001b[0m\u001b[0;34m(\u001b[0m\u001b[0mx_train\u001b[0m\u001b[0;34m,\u001b[0m \u001b[0mbatch_size\u001b[0m\u001b[0;34m,\u001b[0m \u001b[0musing_generator\u001b[0m\u001b[0;34m)\u001b[0m\u001b[0;34m\u001b[0m\u001b[0m\n\u001b[0m\u001b[1;32m    347\u001b[0m \u001b[0;34m\u001b[0m\u001b[0m\n\u001b[1;32m    348\u001b[0m             \u001b[0mg_loss\u001b[0m \u001b[0;34m=\u001b[0m \u001b[0mself\u001b[0m\u001b[0;34m.\u001b[0m\u001b[0mtrain_generator\u001b[0m\u001b[0;34m(\u001b[0m\u001b[0mbatch_size\u001b[0m\u001b[0;34m)\u001b[0m\u001b[0;34m\u001b[0m\u001b[0m\n",
      "\u001b[0;32m~/Git/Personal/GDL/generative_deep_learning_code/models/WGANGP.py\u001b[0m in \u001b[0;36mtrain_critic\u001b[0;34m(self, x_train, batch_size, using_generator)\u001b[0m\n\u001b[1;32m    314\u001b[0m \u001b[0;34m\u001b[0m\u001b[0m\n\u001b[1;32m    315\u001b[0m         \u001b[0;32mif\u001b[0m \u001b[0musing_generator\u001b[0m\u001b[0;34m:\u001b[0m\u001b[0;34m\u001b[0m\u001b[0m\n\u001b[0;32m--> 316\u001b[0;31m             \u001b[0mtrue_imgs\u001b[0m \u001b[0;34m=\u001b[0m \u001b[0mnext\u001b[0m\u001b[0;34m(\u001b[0m\u001b[0mx_train\u001b[0m\u001b[0;34m)\u001b[0m\u001b[0;34m[\u001b[0m\u001b[0;36m0\u001b[0m\u001b[0;34m]\u001b[0m\u001b[0;34m\u001b[0m\u001b[0m\n\u001b[0m\u001b[1;32m    317\u001b[0m             \u001b[0;32mif\u001b[0m \u001b[0mtrue_imgs\u001b[0m\u001b[0;34m.\u001b[0m\u001b[0mshape\u001b[0m\u001b[0;34m[\u001b[0m\u001b[0;36m0\u001b[0m\u001b[0;34m]\u001b[0m \u001b[0;34m!=\u001b[0m \u001b[0mbatch_size\u001b[0m\u001b[0;34m:\u001b[0m\u001b[0;34m\u001b[0m\u001b[0m\n\u001b[1;32m    318\u001b[0m                 \u001b[0mtrue_imgs\u001b[0m \u001b[0;34m=\u001b[0m \u001b[0mnext\u001b[0m\u001b[0;34m(\u001b[0m\u001b[0mx_train\u001b[0m\u001b[0;34m)\u001b[0m\u001b[0;34m[\u001b[0m\u001b[0;36m0\u001b[0m\u001b[0;34m]\u001b[0m\u001b[0;34m\u001b[0m\u001b[0m\n",
      "\u001b[0;32m~/.virtualenvs/gdl/lib/python3.6/site-packages/keras_preprocessing/image.py\u001b[0m in \u001b[0;36m__next__\u001b[0;34m(self, *args, **kwargs)\u001b[0m\n\u001b[1;32m   1524\u001b[0m \u001b[0;34m\u001b[0m\u001b[0m\n\u001b[1;32m   1525\u001b[0m     \u001b[0;32mdef\u001b[0m \u001b[0m__next__\u001b[0m\u001b[0;34m(\u001b[0m\u001b[0mself\u001b[0m\u001b[0;34m,\u001b[0m \u001b[0;34m*\u001b[0m\u001b[0margs\u001b[0m\u001b[0;34m,\u001b[0m \u001b[0;34m**\u001b[0m\u001b[0mkwargs\u001b[0m\u001b[0;34m)\u001b[0m\u001b[0;34m:\u001b[0m\u001b[0;34m\u001b[0m\u001b[0m\n\u001b[0;32m-> 1526\u001b[0;31m         \u001b[0;32mreturn\u001b[0m \u001b[0mself\u001b[0m\u001b[0;34m.\u001b[0m\u001b[0mnext\u001b[0m\u001b[0;34m(\u001b[0m\u001b[0;34m*\u001b[0m\u001b[0margs\u001b[0m\u001b[0;34m,\u001b[0m \u001b[0;34m**\u001b[0m\u001b[0mkwargs\u001b[0m\u001b[0;34m)\u001b[0m\u001b[0;34m\u001b[0m\u001b[0m\n\u001b[0m\u001b[1;32m   1527\u001b[0m \u001b[0;34m\u001b[0m\u001b[0m\n\u001b[1;32m   1528\u001b[0m     \u001b[0;32mdef\u001b[0m \u001b[0m_get_batches_of_transformed_samples\u001b[0m\u001b[0;34m(\u001b[0m\u001b[0mself\u001b[0m\u001b[0;34m,\u001b[0m \u001b[0mindex_array\u001b[0m\u001b[0;34m)\u001b[0m\u001b[0;34m:\u001b[0m\u001b[0;34m\u001b[0m\u001b[0m\n",
      "\u001b[0;32m~/.virtualenvs/gdl/lib/python3.6/site-packages/keras_preprocessing/image.py\u001b[0m in \u001b[0;36mnext\u001b[0;34m(self)\u001b[0m\n\u001b[1;32m   1968\u001b[0m         \u001b[0;31m# The transformation of images is not under thread lock\u001b[0m\u001b[0;34m\u001b[0m\u001b[0;34m\u001b[0m\u001b[0m\n\u001b[1;32m   1969\u001b[0m         \u001b[0;31m# so it can be done in parallel\u001b[0m\u001b[0;34m\u001b[0m\u001b[0;34m\u001b[0m\u001b[0m\n\u001b[0;32m-> 1970\u001b[0;31m         \u001b[0;32mreturn\u001b[0m \u001b[0mself\u001b[0m\u001b[0;34m.\u001b[0m\u001b[0m_get_batches_of_transformed_samples\u001b[0m\u001b[0;34m(\u001b[0m\u001b[0mindex_array\u001b[0m\u001b[0;34m)\u001b[0m\u001b[0;34m\u001b[0m\u001b[0m\n\u001b[0m\u001b[1;32m   1971\u001b[0m \u001b[0;34m\u001b[0m\u001b[0m\n\u001b[1;32m   1972\u001b[0m \u001b[0;34m\u001b[0m\u001b[0m\n",
      "\u001b[0;32m~/.virtualenvs/gdl/lib/python3.6/site-packages/keras_preprocessing/image.py\u001b[0m in \u001b[0;36m_get_batches_of_transformed_samples\u001b[0;34m(self, index_array)\u001b[0m\n\u001b[1;32m   1921\u001b[0m                            \u001b[0mcolor_mode\u001b[0m\u001b[0;34m=\u001b[0m\u001b[0mself\u001b[0m\u001b[0;34m.\u001b[0m\u001b[0mcolor_mode\u001b[0m\u001b[0;34m,\u001b[0m\u001b[0;34m\u001b[0m\u001b[0m\n\u001b[1;32m   1922\u001b[0m                            \u001b[0mtarget_size\u001b[0m\u001b[0;34m=\u001b[0m\u001b[0mself\u001b[0m\u001b[0;34m.\u001b[0m\u001b[0mtarget_size\u001b[0m\u001b[0;34m,\u001b[0m\u001b[0;34m\u001b[0m\u001b[0m\n\u001b[0;32m-> 1923\u001b[0;31m                            interpolation=self.interpolation)\n\u001b[0m\u001b[1;32m   1924\u001b[0m             \u001b[0mx\u001b[0m \u001b[0;34m=\u001b[0m \u001b[0mimg_to_array\u001b[0m\u001b[0;34m(\u001b[0m\u001b[0mimg\u001b[0m\u001b[0;34m,\u001b[0m \u001b[0mdata_format\u001b[0m\u001b[0;34m=\u001b[0m\u001b[0mself\u001b[0m\u001b[0;34m.\u001b[0m\u001b[0mdata_format\u001b[0m\u001b[0;34m)\u001b[0m\u001b[0;34m\u001b[0m\u001b[0m\n\u001b[1;32m   1925\u001b[0m             \u001b[0;31m# Pillow images should be closed after `load_img`,\u001b[0m\u001b[0;34m\u001b[0m\u001b[0;34m\u001b[0m\u001b[0m\n",
      "\u001b[0;32m~/.virtualenvs/gdl/lib/python3.6/site-packages/keras_preprocessing/image.py\u001b[0m in \u001b[0;36mload_img\u001b[0;34m(path, grayscale, color_mode, target_size, interpolation)\u001b[0m\n\u001b[1;32m    518\u001b[0m                         \", \".join(_PIL_INTERPOLATION_METHODS.keys())))\n\u001b[1;32m    519\u001b[0m             \u001b[0mresample\u001b[0m \u001b[0;34m=\u001b[0m \u001b[0m_PIL_INTERPOLATION_METHODS\u001b[0m\u001b[0;34m[\u001b[0m\u001b[0minterpolation\u001b[0m\u001b[0;34m]\u001b[0m\u001b[0;34m\u001b[0m\u001b[0m\n\u001b[0;32m--> 520\u001b[0;31m             \u001b[0mimg\u001b[0m \u001b[0;34m=\u001b[0m \u001b[0mimg\u001b[0m\u001b[0;34m.\u001b[0m\u001b[0mresize\u001b[0m\u001b[0;34m(\u001b[0m\u001b[0mwidth_height_tuple\u001b[0m\u001b[0;34m,\u001b[0m \u001b[0mresample\u001b[0m\u001b[0;34m)\u001b[0m\u001b[0;34m\u001b[0m\u001b[0m\n\u001b[0m\u001b[1;32m    521\u001b[0m     \u001b[0;32mreturn\u001b[0m \u001b[0mimg\u001b[0m\u001b[0;34m\u001b[0m\u001b[0m\n\u001b[1;32m    522\u001b[0m \u001b[0;34m\u001b[0m\u001b[0m\n",
      "\u001b[0;32m~/.virtualenvs/gdl/lib/python3.6/site-packages/PIL/Image.py\u001b[0m in \u001b[0;36mresize\u001b[0;34m(self, size, resample, box)\u001b[0m\n\u001b[1;32m   1745\u001b[0m             \u001b[0;32mreturn\u001b[0m \u001b[0mself\u001b[0m\u001b[0;34m.\u001b[0m\u001b[0mconvert\u001b[0m\u001b[0;34m(\u001b[0m\u001b[0;34m'RGBa'\u001b[0m\u001b[0;34m)\u001b[0m\u001b[0;34m.\u001b[0m\u001b[0mresize\u001b[0m\u001b[0;34m(\u001b[0m\u001b[0msize\u001b[0m\u001b[0;34m,\u001b[0m \u001b[0mresample\u001b[0m\u001b[0;34m,\u001b[0m \u001b[0mbox\u001b[0m\u001b[0;34m)\u001b[0m\u001b[0;34m.\u001b[0m\u001b[0mconvert\u001b[0m\u001b[0;34m(\u001b[0m\u001b[0;34m'RGBA'\u001b[0m\u001b[0;34m)\u001b[0m\u001b[0;34m\u001b[0m\u001b[0m\n\u001b[1;32m   1746\u001b[0m \u001b[0;34m\u001b[0m\u001b[0m\n\u001b[0;32m-> 1747\u001b[0;31m         \u001b[0mself\u001b[0m\u001b[0;34m.\u001b[0m\u001b[0mload\u001b[0m\u001b[0;34m(\u001b[0m\u001b[0;34m)\u001b[0m\u001b[0;34m\u001b[0m\u001b[0m\n\u001b[0m\u001b[1;32m   1748\u001b[0m \u001b[0;34m\u001b[0m\u001b[0m\n\u001b[1;32m   1749\u001b[0m         \u001b[0;32mreturn\u001b[0m \u001b[0mself\u001b[0m\u001b[0;34m.\u001b[0m\u001b[0m_new\u001b[0m\u001b[0;34m(\u001b[0m\u001b[0mself\u001b[0m\u001b[0;34m.\u001b[0m\u001b[0mim\u001b[0m\u001b[0;34m.\u001b[0m\u001b[0mresize\u001b[0m\u001b[0;34m(\u001b[0m\u001b[0msize\u001b[0m\u001b[0;34m,\u001b[0m \u001b[0mresample\u001b[0m\u001b[0;34m,\u001b[0m \u001b[0mbox\u001b[0m\u001b[0;34m)\u001b[0m\u001b[0;34m)\u001b[0m\u001b[0;34m\u001b[0m\u001b[0m\n",
      "\u001b[0;32m~/.virtualenvs/gdl/lib/python3.6/site-packages/PIL/ImageFile.py\u001b[0m in \u001b[0;36mload\u001b[0;34m(self)\u001b[0m\n\u001b[1;32m    229\u001b[0m \u001b[0;34m\u001b[0m\u001b[0m\n\u001b[1;32m    230\u001b[0m                             \u001b[0mb\u001b[0m \u001b[0;34m=\u001b[0m \u001b[0mb\u001b[0m \u001b[0;34m+\u001b[0m \u001b[0ms\u001b[0m\u001b[0;34m\u001b[0m\u001b[0m\n\u001b[0;32m--> 231\u001b[0;31m                             \u001b[0mn\u001b[0m\u001b[0;34m,\u001b[0m \u001b[0merr_code\u001b[0m \u001b[0;34m=\u001b[0m \u001b[0mdecoder\u001b[0m\u001b[0;34m.\u001b[0m\u001b[0mdecode\u001b[0m\u001b[0;34m(\u001b[0m\u001b[0mb\u001b[0m\u001b[0;34m)\u001b[0m\u001b[0;34m\u001b[0m\u001b[0m\n\u001b[0m\u001b[1;32m    232\u001b[0m                             \u001b[0;32mif\u001b[0m \u001b[0mn\u001b[0m \u001b[0;34m<\u001b[0m \u001b[0;36m0\u001b[0m\u001b[0;34m:\u001b[0m\u001b[0;34m\u001b[0m\u001b[0m\n\u001b[1;32m    233\u001b[0m                                 \u001b[0;32mbreak\u001b[0m\u001b[0;34m\u001b[0m\u001b[0m\n",
      "\u001b[0;31mKeyboardInterrupt\u001b[0m: "
     ]
    }
   ],
   "source": [
    "gan.train(     \n",
    "    x_train\n",
    "    , batch_size = BATCH_SIZE\n",
    "    , epochs = 20000\n",
    "    , run_folder = RUN_FOLDER\n",
    "    , print_every_n_batches = 5\n",
    "    , n_critic = 5\n",
    "    , using_generator = True\n",
    ")"
   ]
  },
  {
   "cell_type": "code",
   "execution_count": null,
   "metadata": {},
   "outputs": [],
   "source": [
    "gan.generator_learning_rate = 0.00005\n",
    "gan.critic_learning_rate = 0.00005\n",
    "gan.grad_weight = 10\n",
    "gan._build_adversarial()"
   ]
  },
  {
   "cell_type": "code",
   "execution_count": null,
   "metadata": {},
   "outputs": [],
   "source": [
    "gan.critic_model.metrics_names"
   ]
  },
  {
   "cell_type": "code",
   "execution_count": null,
   "metadata": {},
   "outputs": [],
   "source": [
    "# Check weights updating\n",
    "\n",
    "print([(np.min(x), np.max(x)) for x in gan.generator.get_weights()][:3])\n",
    "print([(np.min(x), np.max(x)) for x in gan.critic.get_weights()][:3])\n",
    "print('--- TRAIN CRITIC ---')\n",
    "noise = np.random.normal(0, 1, (BATCH_SIZE, 100))\n",
    "gen_imgs = gan.generator.predict(noise)\n",
    "gan.train_critic(x_train, batch_size = BATCH_SIZE, using_generator = True)\n",
    "\n",
    "print([(np.min(x), np.max(x)) for x in gan.generator.get_weights()][:3])\n",
    "print([(np.min(x), np.max(x)) for x in gan.critic.get_weights()][:3])\n",
    "print('--- TRAIN GENERATOR ---')\n",
    "gan.train_generator(batch_size = BATCH_SIZE)\n",
    "\n",
    "print([(np.min(x), np.max(x)) for x in gan.generator.get_weights()][:3])\n",
    "print([(np.min(x), np.max(x)) for x in gan.critic.get_weights()][:3])"
   ]
  },
  {
   "cell_type": "code",
   "execution_count": null,
   "metadata": {},
   "outputs": [],
   "source": [
    "check = True\n",
    "while check :\n",
    "\n",
    "    valid = np.ones((BATCH_SIZE,1), dtype=np.float32)\n",
    "    fake = -np.ones((BATCH_SIZE,1), dtype=np.float32)\n",
    "    dummy = np.zeros((BATCH_SIZE, 1), dtype=np.float32) # Dummy gt for gradient penalty\n",
    "    \n",
    "    true_imgs = next(x_train)[0]\n",
    "    if true_imgs.shape[0] != BATCH_SIZE:\n",
    "        true_imgs = next(x_train)[0]\n",
    "\n",
    "    noise = np.random.normal(0, 1, (BATCH_SIZE, 100))\n",
    "    \n",
    "    d_loss = gan.critic_model.train_on_batch([true_imgs, noise], [valid, fake, dummy])\n",
    "    # Plot the progress\n",
    "    print (\"[D loss: (%.1f)(R %.1f, F %.1f, G %.1f)]\" % (d_loss[0], d_loss[1],d_loss[2],d_loss[3]))\n",
    "    \n",
    "    d_loss = gan.critic_model.test_on_batch([true_imgs, noise], [valid, fake, dummy])\n",
    "    # Plot the progress\n",
    "    print (\"[D loss: (%.1f)(R %.1f, F %.1f, G %.1f)]\" % (d_loss[0], d_loss[1],d_loss[2],d_loss[3]))\n",
    "    \n",
    "\n",
    "    print(gan.model.test_on_batch(noise, valid))\n",
    "    \n",
    "    \n",
    "    \n",
    "#     check = d_loss[4]<0.5 or d_loss[5]<0.5"
   ]
  },
  {
   "cell_type": "code",
   "execution_count": null,
   "metadata": {},
   "outputs": [],
   "source": [
    "check = True\n",
    "while check:\n",
    "    valid = np.ones((BATCH_SIZE,1), dtype=np.float32)\n",
    "    fake = -np.ones((BATCH_SIZE,1), dtype=np.float32)\n",
    "    dummy = np.zeros((BATCH_SIZE, 1), dtype=np.float32) # Dummy gt for gradient penalty\n",
    "    noise = np.random.normal(0, 1, (BATCH_SIZE,100))\n",
    "\n",
    "    true_imgs = next(x_train)[0]\n",
    "    \n",
    "    \n",
    "#     g_loss = gan.train_generator(batch_size = BATCH_SIZE)\n",
    "    g_loss = gan.model.train_on_batch(noise, valid)\n",
    "    # Plot the progress\n",
    "    print (\"[G loss: %.1f]\" % (g_loss))\n",
    "    \n",
    "    g_loss = gan.model.test_on_batch(noise, valid)\n",
    "    print (\"[G loss: %.1f]\" % (g_loss))\n",
    "    \n",
    "    \n",
    "    print(gan.critic_model.test_on_batch([true_imgs, noise], [valid, fake, dummy]))\n",
    "\n"
   ]
  },
  {
   "cell_type": "code",
   "execution_count": null,
   "metadata": {},
   "outputs": [],
   "source": [
    "noise = np.random.normal(0, 1, (BATCH_SIZE,100))\n",
    "img = gan.generator.predict(np.array([noise[0]]))[0]\n",
    "\n",
    "plt.imshow(np.clip((img+1)*0.5,0,1))\n",
    "\n",
    "gan.critic.predict(np.array([img]))[0]"
   ]
  },
  {
   "cell_type": "code",
   "execution_count": null,
   "metadata": {},
   "outputs": [],
   "source": [
    "img = next(x_train)[0][0]\n",
    "print(gan.critic.predict(np.array([img]))[0])\n",
    "plt.imshow((img + 1) * 0.5)"
   ]
  },
  {
   "cell_type": "code",
   "execution_count": null,
   "metadata": {},
   "outputs": [],
   "source": [
    "valid = np.ones((BATCH_SIZE,1))\n",
    "noise = np.random.normal(0, 1, (BATCH_SIZE,100))"
   ]
  },
  {
   "cell_type": "code",
   "execution_count": null,
   "metadata": {},
   "outputs": [],
   "source": [
    "print(gan.model.test_on_batch(noise, valid))"
   ]
  },
  {
   "cell_type": "code",
   "execution_count": null,
   "metadata": {},
   "outputs": [],
   "source": [
    "print(gan.model.train_on_batch(noise, valid))"
   ]
  },
  {
   "cell_type": "code",
   "execution_count": null,
   "metadata": {},
   "outputs": [],
   "source": [
    "valid = np.ones((BATCH_SIZE,1), dtype=np.float32)\n",
    "fake = -np.ones((BATCH_SIZE,1), dtype=np.float32)\n",
    "dummy = np.zeros((BATCH_SIZE128, 1), dtype=np.float32) # Dummy gt for gradient penalty\n",
    "\n",
    "true_imgs = next(x_train)[0]\n"
   ]
  },
  {
   "cell_type": "code",
   "execution_count": null,
   "metadata": {},
   "outputs": [],
   "source": [
    "print(gan.critic_model.test_on_batch([true_imgs, noise], [valid, fake, dummy]))\n"
   ]
  },
  {
   "cell_type": "code",
   "execution_count": null,
   "metadata": {},
   "outputs": [],
   "source": [
    "print(gan.critic_model.train_on_batch([true_imgs, noise], [valid, fake, dummy]))\n"
   ]
  },
  {
   "cell_type": "code",
   "execution_count": 25,
   "metadata": {},
   "outputs": [
    {
     "data": {
      "image/png": "[encoded data removed]",
      "text/plain": [
       "<Figure size 432x288 with 1 Axes>"
      ]
     },
     "metadata": {
      "needs_background": "light"
     },
     "output_type": "display_data"
    }
   ],
   "source": [
    "fig = plt.figure()\n",
    "plt.plot([x[0] for x in gan.d_losses], color='black', linewidth=0.25)\n",
    "\n",
    "plt.plot([x[1] for x in gan.d_losses], color='green', linewidth=0.25)\n",
    "plt.plot([x[2] for x in gan.d_losses], color='red', linewidth=0.25)\n",
    "\n",
    "plt.plot(gan.g_losses, color='orange', linewidth=0.25)\n",
    "\n",
    "plt.xlabel('batch', fontsize=18)\n",
    "plt.ylabel('wasserstein loss', fontsize=16)\n",
    "\n",
    "# plt.xlim(0, 2000)\n",
    "# plt.ylim(0, 2)\n",
    "\n",
    "plt.show()\n"
   ]
  },
  {
   "cell_type": "code",
   "execution_count": 14,
   "metadata": {},
   "outputs": [
    {
     "data": {
      "text/plain": [
       "[0.17208576, -4.8440523, -0.51415503, 0.5530293]"
      ]
     },
     "execution_count": 14,
     "metadata": {},
     "output_type": "execute_result"
    }
   ],
   "source": [
    "gan.d_losses[0]"
   ]
  },
  {
   "cell_type": "code",
   "execution_count": 19,
   "metadata": {},
   "outputs": [
    {
     "data": {
      "text/plain": [
       "0.16355002"
      ]
     },
     "execution_count": 19,
     "metadata": {},
     "output_type": "execute_result"
    }
   ],
   "source": [
    "gan.d_losses[2000][3]"
   ]
  },
  {
   "cell_type": "code",
   "execution_count": 26,
   "metadata": {},
   "outputs": [
    {
     "data": {
      "image/png": "[encoded data removed]",
      "text/plain": [
       "<Figure size 432x288 with 1 Axes>"
      ]
     },
     "metadata": {
      "needs_background": "light"
     },
     "output_type": "display_data"
    }
   ],
   "source": [
    "fig = plt.figure()\n",
    "plt.plot([x[3] for x in gan.d_losses], color='blue', linewidth=0.25)\n",
    "\n",
    "plt.xlabel('batch', fontsize=18)\n",
    "plt.ylabel('gradient penalty loss', fontsize=16)\n",
    "\n",
    "# plt.xlim(0, 2000)\n",
    "# plt.ylim(0, 2)\n",
    "\n",
    "plt.show()"
   ]
  }
 ],
 "metadata": {
  "kernelspec": {
   "display_name": "gdl",
   "language": "python",
   "name": "gdl"
  },
  "language_info": {
   "codemirror_mode": {
    "name": "ipython",
    "version": 3
   },
   "file_extension": ".py",
   "mimetype": "text/x-python",
   "name": "python",
   "nbconvert_exporter": "python",
   "pygments_lexer": "ipython3",
   "version": "3.6.5"
  }
 },
 "nbformat": 4,
 "nbformat_minor": 2
}
