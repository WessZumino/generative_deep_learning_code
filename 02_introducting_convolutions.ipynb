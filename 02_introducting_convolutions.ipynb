{
 "cells": [
  {
   "cell_type": "markdown",
   "metadata": {},
   "source": [
    "# Your first deep neural network"
   ]
  },
  {
   "cell_type": "markdown",
   "metadata": {},
   "source": [
    "# imports"
   ]
  },
  {
   "cell_type": "code",
   "execution_count": 100,
   "metadata": {},
   "outputs": [],
   "source": [
    "import numpy as np\n",
    "\n",
    "from keras.layers import Input, Flatten, Dense, Conv2D, BatchNormalization, LeakyReLU, Dropout, Activation\n",
    "from keras.models import Model\n",
    "from keras.optimizers import Adam\n",
    "from keras.utils import to_categorical\n",
    "import keras.backend as K \n",
    "\n",
    "from keras.datasets import cifar10"
   ]
  },
  {
   "cell_type": "markdown",
   "metadata": {},
   "source": [
    "# data"
   ]
  },
  {
   "cell_type": "code",
   "execution_count": 2,
   "metadata": {},
   "outputs": [],
   "source": [
    "NUM_CLASSES = 10"
   ]
  },
  {
   "cell_type": "code",
   "execution_count": 3,
   "metadata": {},
   "outputs": [],
   "source": [
    "(x_train, y_train), (x_test, y_test) = cifar10.load_data()"
   ]
  },
  {
   "cell_type": "code",
   "execution_count": 4,
   "metadata": {},
   "outputs": [],
   "source": [
    "x_train = x_train.astype('float32') / 255.0\n",
    "x_test = x_test.astype('float32') / 255.0\n",
    "\n",
    "y_train = to_categorical(y_train, NUM_CLASSES)\n",
    "y_test = to_categorical(y_test, NUM_CLASSES)"
   ]
  },
  {
   "cell_type": "code",
   "execution_count": 5,
   "metadata": {},
   "outputs": [
    {
     "data": {
      "text/plain": [
       "0.36862746"
      ]
     },
     "execution_count": 5,
     "metadata": {},
     "output_type": "execute_result"
    }
   ],
   "source": [
    "x_train[54, 12, 13, 1] "
   ]
  },
  {
   "cell_type": "markdown",
   "metadata": {},
   "source": [
    "# architecture"
   ]
  },
  {
   "cell_type": "code",
   "execution_count": 127,
   "metadata": {},
   "outputs": [],
   "source": [
    "# input_layer = Input((32,32,3))\n",
    "\n",
    "# x = Conv2D(filters = 64, kernel_size = 3, strides = 2, padding = 'same')(input_layer)\n",
    "# x = BatchNormalization(momentum = 0.6)(x)\n",
    "# x = LeakyReLU()(x)\n",
    "# # x = Dropout(rate = 0.5)(x)\n",
    "\n",
    "# x = Conv2D(filters = 128, kernel_size = 3, strides = 2, padding = 'same')(x)\n",
    "# x = BatchNormalization(momentum = 0.6)(x)\n",
    "# x = LeakyReLU()(x)\n",
    "# # x = Dropout(rate = 0.5)(x)\n",
    "\n",
    "# x = Conv2D(filters = 256, kernel_size = 3, strides = 2, padding = 'same')(x)\n",
    "# x = BatchNormalization(momentum = 0.6)(x)\n",
    "# x = LeakyReLU()(x)\n",
    "# # x = Dropout(rate = 0.5)(x)\n",
    "\n",
    "# x = Flatten()(x)\n",
    "\n",
    "# output_layer = Dense(NUM_CLASSES, activation = 'softmax')(x)\n",
    "\n",
    "# model = Model(input_layer, output_layer)"
   ]
  },
  {
   "cell_type": "code",
   "execution_count": 128,
   "metadata": {},
   "outputs": [],
   "source": [
    "input_layer = Input((32,32,3))\n",
    "\n",
    "x = Conv2D(filters = 32, kernel_size = 3, strides = 1, padding = 'same')(input_layer)\n",
    "x = LeakyReLU()(x)\n",
    "x = BatchNormalization()(x)\n",
    "x = Dropout(rate = 0.25)(x)\n",
    "\n",
    "x = Conv2D(filters = 32, kernel_size = 3, strides = 2, padding = 'same')(x)\n",
    "x = LeakyReLU()(x)\n",
    "x = BatchNormalization()(x)\n",
    "x = Dropout(rate = 0.25)(x)\n",
    "\n",
    "x = Conv2D(filters = 64, kernel_size = 3, strides = 1, padding = 'same')(x)\n",
    "x = LeakyReLU()(x)\n",
    "x = BatchNormalization()(x)\n",
    "x = Dropout(rate = 0.25)(x)\n",
    "\n",
    "x = Conv2D(filters = 64, kernel_size = 3, strides = 2, padding = 'same')(x)\n",
    "x = LeakyReLU()(x)\n",
    "x = BatchNormalization()(x)\n",
    "x = Dropout(rate = 0.25)(x)\n",
    "\n",
    "x = Flatten()(x)\n",
    "\n",
    "x = Dense(128)(x)\n",
    "x = LeakyReLU()(x)\n",
    "x = BatchNormalization()(x)\n",
    "x = Dropout(rate = 0.5)(x)\n",
    "\n",
    "x = Dense(NUM_CLASSES)(x)\n",
    "output_layer = Activation('softmax')(x)\n",
    "\n",
    "model = Model(input_layer, output_layer)"
   ]
  },
  {
   "cell_type": "code",
   "execution_count": 129,
   "metadata": {},
   "outputs": [
    {
     "name": "stdout",
     "output_type": "stream",
     "text": [
      "_________________________________________________________________\n",
      "Layer (type)                 Output Shape              Param #   \n",
      "=================================================================\n",
      "input_19 (InputLayer)        (None, 32, 32, 3)         0         \n",
      "_________________________________________________________________\n",
      "conv2d_60 (Conv2D)           (None, 32, 32, 32)        896       \n",
      "_________________________________________________________________\n",
      "leaky_re_lu_69 (LeakyReLU)   (None, 32, 32, 32)        0         \n",
      "_________________________________________________________________\n",
      "batch_normalization_60 (Batc (None, 32, 32, 32)        128       \n",
      "_________________________________________________________________\n",
      "dropout_19 (Dropout)         (None, 32, 32, 32)        0         \n",
      "_________________________________________________________________\n",
      "conv2d_61 (Conv2D)           (None, 16, 16, 32)        9248      \n",
      "_________________________________________________________________\n",
      "leaky_re_lu_70 (LeakyReLU)   (None, 16, 16, 32)        0         \n",
      "_________________________________________________________________\n",
      "batch_normalization_61 (Batc (None, 16, 16, 32)        128       \n",
      "_________________________________________________________________\n",
      "dropout_20 (Dropout)         (None, 16, 16, 32)        0         \n",
      "_________________________________________________________________\n",
      "conv2d_62 (Conv2D)           (None, 16, 16, 64)        18496     \n",
      "_________________________________________________________________\n",
      "leaky_re_lu_71 (LeakyReLU)   (None, 16, 16, 64)        0         \n",
      "_________________________________________________________________\n",
      "batch_normalization_62 (Batc (None, 16, 16, 64)        256       \n",
      "_________________________________________________________________\n",
      "dropout_21 (Dropout)         (None, 16, 16, 64)        0         \n",
      "_________________________________________________________________\n",
      "conv2d_63 (Conv2D)           (None, 8, 8, 64)          36928     \n",
      "_________________________________________________________________\n",
      "leaky_re_lu_72 (LeakyReLU)   (None, 8, 8, 64)          0         \n",
      "_________________________________________________________________\n",
      "batch_normalization_63 (Batc (None, 8, 8, 64)          256       \n",
      "_________________________________________________________________\n",
      "dropout_22 (Dropout)         (None, 8, 8, 64)          0         \n",
      "_________________________________________________________________\n",
      "flatten_18 (Flatten)         (None, 4096)              0         \n",
      "_________________________________________________________________\n",
      "dense_27 (Dense)             (None, 128)               524416    \n",
      "_________________________________________________________________\n",
      "leaky_re_lu_73 (LeakyReLU)   (None, 128)               0         \n",
      "_________________________________________________________________\n",
      "batch_normalization_64 (Batc (None, 128)               512       \n",
      "_________________________________________________________________\n",
      "dropout_23 (Dropout)         (None, 128)               0         \n",
      "_________________________________________________________________\n",
      "dense_28 (Dense)             (None, 10)                1290      \n",
      "_________________________________________________________________\n",
      "activation_4 (Activation)    (None, 10)                0         \n",
      "=================================================================\n",
      "Total params: 592,554\n",
      "Trainable params: 591,914\n",
      "Non-trainable params: 640\n",
      "_________________________________________________________________\n"
     ]
    }
   ],
   "source": [
    "model.summary()"
   ]
  },
  {
   "cell_type": "markdown",
   "metadata": {},
   "source": [
    "# train"
   ]
  },
  {
   "cell_type": "code",
   "execution_count": 130,
   "metadata": {},
   "outputs": [],
   "source": [
    "opt = Adam(lr=0.0005)\n",
    "model.compile(loss='categorical_crossentropy', optimizer=opt, metrics=['accuracy'])"
   ]
  },
  {
   "cell_type": "code",
   "execution_count": 131,
   "metadata": {},
   "outputs": [
    {
     "data": {
      "text/plain": [
       "[]"
      ]
     },
     "execution_count": 131,
     "metadata": {},
     "output_type": "execute_result"
    }
   ],
   "source": [
    "model.layers[2].get_weights()"
   ]
  },
  {
   "cell_type": "code",
   "execution_count": 132,
   "metadata": {},
   "outputs": [
    {
     "name": "stdout",
     "output_type": "stream",
     "text": [
      "Train on 50000 samples, validate on 10000 samples\n",
      "Epoch 1/10\n",
      "50000/50000 [==============================] - 336s 7ms/step - loss: 1.8282 - acc: 0.3871 - val_loss: 1.4175 - val_acc: 0.4989\n",
      "Epoch 2/10\n",
      "50000/50000 [==============================] - 330s 7ms/step - loss: 1.3684 - acc: 0.5122 - val_loss: 1.1874 - val_acc: 0.5725\n",
      "Epoch 3/10\n",
      "50000/50000 [==============================] - 330s 7ms/step - loss: 1.2289 - acc: 0.5640 - val_loss: 1.0601 - val_acc: 0.6304\n",
      "Epoch 4/10\n",
      "50000/50000 [==============================] - 362s 7ms/step - loss: 1.1280 - acc: 0.6027 - val_loss: 1.0007 - val_acc: 0.6426\n",
      "Epoch 5/10\n",
      "50000/50000 [==============================] - 445s 9ms/step - loss: 1.0596 - acc: 0.6264 - val_loss: 1.0033 - val_acc: 0.6491\n",
      "Epoch 6/10\n",
      "50000/50000 [==============================] - 447s 9ms/step - loss: 1.0175 - acc: 0.6458 - val_loss: 0.9079 - val_acc: 0.6821\n",
      "Epoch 7/10\n",
      "50000/50000 [==============================] - 442s 9ms/step - loss: 0.9731 - acc: 0.6574 - val_loss: 0.9470 - val_acc: 0.6705\n",
      "Epoch 8/10\n",
      "50000/50000 [==============================] - 330s 7ms/step - loss: 0.9522 - acc: 0.6660 - val_loss: 0.8290 - val_acc: 0.7149\n",
      "Epoch 9/10\n",
      "50000/50000 [==============================] - 324s 6ms/step - loss: 0.9242 - acc: 0.6779 - val_loss: 0.8751 - val_acc: 0.6908\n",
      "Epoch 10/10\n",
      "50000/50000 [==============================] - 324s 6ms/step - loss: 0.9070 - acc: 0.6842 - val_loss: 1.1432 - val_acc: 0.6075\n"
     ]
    },
    {
     "data": {
      "text/plain": [
       "<keras.callbacks.History at 0x16ef08898>"
      ]
     },
     "execution_count": 132,
     "metadata": {},
     "output_type": "execute_result"
    }
   ],
   "source": [
    "model.fit(x_train\n",
    "          , y_train\n",
    "          , batch_size=32\n",
    "          , epochs=10\n",
    "          , shuffle=True\n",
    "          , validation_data = (x_test, y_test))"
   ]
  },
  {
   "cell_type": "code",
   "execution_count": 108,
   "metadata": {},
   "outputs": [
    {
     "data": {
      "text/plain": [
       "[array([0.96023625, 1.0363294 , 0.9807387 , 0.9356765 , 1.0121671 ,\n",
       "        0.9473878 , 1.0066526 , 1.0009254 , 0.9982277 , 1.087719  ,\n",
       "        0.9212615 , 0.9379336 , 0.9902715 , 1.0315461 , 0.9945381 ,\n",
       "        1.0610253 , 1.0414884 , 0.99314314, 1.0269263 , 0.9872436 ,\n",
       "        0.9641181 , 1.0010475 , 0.9668784 , 1.0327625 , 1.0170848 ,\n",
       "        1.0142869 , 1.0092481 , 0.9845155 , 0.9843551 , 0.92236805,\n",
       "        0.98142874, 0.9626884 ], dtype=float32),\n",
       " array([-0.02627409, -0.10376667, -0.12798727, -0.12734899, -0.14115468,\n",
       "        -0.15232714, -0.12181854, -0.18183869, -0.14609051, -0.16409718,\n",
       "        -0.11551003, -0.13012198, -0.00120563,  0.00462373, -0.08708022,\n",
       "        -0.06935041, -0.16653018, -0.03715561, -0.16693728, -0.15389696,\n",
       "        -0.11686924, -0.12118189, -0.09051432, -0.06333148, -0.00601734,\n",
       "        -0.17442344, -0.11044028, -0.04899298, -0.18829457, -0.11255743,\n",
       "        -0.04444654, -0.10859493], dtype=float32),\n",
       " array([-0.03491527, -0.06019443,  0.11761849,  0.17748812,  0.25466758,\n",
       "        -0.43519503,  0.34291923, -0.38450187, -0.03861679, -0.17495742,\n",
       "        -0.1902881 , -0.44174114, -0.5805738 ,  0.21665747, -0.08019575,\n",
       "         0.0301085 , -0.25964075, -0.7999667 , -0.29827908, -0.2346965 ,\n",
       "        -0.2631759 ,  0.17453177, -0.08562247,  0.5884318 , -0.4154522 ,\n",
       "        -1.1870852 ,  0.13376956,  0.1535762 ,  0.2629983 ,  0.17443097,\n",
       "        -0.03216582,  0.46226504], dtype=float32),\n",
       " array([1.5461549 , 1.1976247 , 0.69230115, 0.75492245, 1.4809815 ,\n",
       "        1.4890139 , 0.9572919 , 1.2198241 , 1.3646209 , 1.3945972 ,\n",
       "        1.7496297 , 0.9876958 , 1.4418005 , 1.3906293 , 0.7861882 ,\n",
       "        0.9577496 , 1.7345906 , 1.7971231 , 0.99636716, 1.3183507 ,\n",
       "        1.2286972 , 1.5136445 , 0.8141829 , 1.2501426 , 1.5284643 ,\n",
       "        1.7573247 , 0.8254744 , 1.3300626 , 0.62016773, 1.3459879 ,\n",
       "        1.8171418 , 1.2666883 ], dtype=float32)]"
      ]
     },
     "execution_count": 108,
     "metadata": {},
     "output_type": "execute_result"
    }
   ],
   "source": [
    "model.layers[6].get_weights()"
   ]
  },
  {
   "cell_type": "code",
   "execution_count": 98,
   "metadata": {},
   "outputs": [
    {
     "data": {
      "text/plain": [
       "[array([0.9855539 , 0.98191184, 1.0046718 , 0.9100663 , 0.8648817 ,\n",
       "        1.0806478 , 0.88663334, 1.116929  , 1.1563014 , 1.0545433 ,\n",
       "        0.9731756 , 0.9890276 , 0.9955371 , 0.9244324 , 1.0700394 ,\n",
       "        0.96745557, 0.9336972 , 0.91290843, 0.9346438 , 1.0059366 ,\n",
       "        1.04888   , 1.0836891 , 0.9898577 , 1.187397  , 1.0024608 ,\n",
       "        1.0302579 , 0.9887904 , 0.9116215 , 1.0183758 , 0.8473211 ,\n",
       "        0.98928225, 1.0414029 ], dtype=float32),\n",
       " array([ 0.03632129,  0.06539085,  0.09228589, -0.01229329, -0.07527646,\n",
       "        -0.07982633, -0.08575702, -0.10171105, -0.13137227,  0.00992267,\n",
       "        -0.08176795,  0.08255444,  0.07250648, -0.09152898, -0.00668784,\n",
       "        -0.03126333, -0.09848061, -0.04986136, -0.05935244,  0.13635218,\n",
       "        -0.02506301,  0.01103865, -0.03896356,  0.11148709,  0.02541374,\n",
       "        -0.01907211, -0.1000978 , -0.06584053, -0.01523877, -0.08714308,\n",
       "        -0.06030862,  0.05572646], dtype=float32),\n",
       " array([ 0.04870428,  0.05389167, -0.02156077,  0.18356806,  0.26924855,\n",
       "         0.09295109,  0.28140166,  0.01175094,  0.01121213, -0.09241251,\n",
       "        -0.09938419,  0.02851304, -0.02637304,  0.1055988 , -0.08494963,\n",
       "         0.01187178,  0.09880505,  0.09266918, -0.10756676, -0.02925511,\n",
       "         0.01329519,  0.00489645,  0.04473728, -0.03254512, -0.06684439,\n",
       "         0.0353534 , -0.03886066, -0.20130074,  0.06633212,  0.2994524 ,\n",
       "        -0.03352008,  0.002684  ], dtype=float32),\n",
       " array([0.0072867 , 0.00495931, 0.00357793, 0.01024112, 0.02632816,\n",
       "        0.00557845, 0.02907073, 0.0029145 , 0.00147718, 0.00219504,\n",
       "        0.00662986, 0.00717083, 0.0045018 , 0.00268097, 0.00249263,\n",
       "        0.00747938, 0.00691457, 0.00931553, 0.00614239, 0.01165751,\n",
       "        0.01049735, 0.00105676, 0.00055908, 0.00232282, 0.00463505,\n",
       "        0.00198872, 0.00373446, 0.01718439, 0.00351779, 0.02359262,\n",
       "        0.00679307, 0.00507334], dtype=float32)]"
      ]
     },
     "execution_count": 98,
     "metadata": {},
     "output_type": "execute_result"
    }
   ],
   "source": [
    "model.layers[2].get_weights()"
   ]
  },
  {
   "cell_type": "code",
   "execution_count": 99,
   "metadata": {},
   "outputs": [
    {
     "data": {
      "text/plain": [
       "[array([0.96332777, 0.9769169 , 1.0154247 , 0.9666193 , 1.0125179 ,\n",
       "        0.99544936, 0.9963902 , 1.069776  , 0.9936511 , 1.0833335 ,\n",
       "        1.0353159 , 0.98148376, 1.0415381 , 0.94602484, 0.96089685,\n",
       "        0.91048217, 1.0184244 , 0.9483053 , 0.9852649 , 0.9871728 ,\n",
       "        0.9547579 , 0.98832697, 0.9870017 , 0.90329665, 0.98994195,\n",
       "        1.0659714 , 1.1107982 , 1.0419027 , 1.1142759 , 0.9904282 ,\n",
       "        0.9221588 , 0.94726866], dtype=float32),\n",
       " array([-0.08815964, -0.04769891, -0.03945689, -0.07706118, -0.04529361,\n",
       "        -0.07930985, -0.01018162, -0.03203715, -0.107008  , -0.03442697,\n",
       "        -0.00416261, -0.11603774, -0.05991107, -0.04187099, -0.14505829,\n",
       "        -0.08478508, -0.06066632, -0.07637219, -0.08144677, -0.04537421,\n",
       "        -0.07250194, -0.0894914 , -0.08296932, -0.14686984, -0.05169854,\n",
       "        -0.02660714,  0.04038198, -0.03534164, -0.02851598, -0.02252645,\n",
       "        -0.16034105, -0.06557512], dtype=float32),\n",
       " array([-0.03838704, -0.8758092 , -0.04313361, -0.03724368, -0.00407223,\n",
       "        -0.27067363, -0.22461647, -0.25205252, -0.23401603,  0.23668748,\n",
       "        -0.28955022, -0.37898657,  0.43555725,  0.14251298, -0.41235176,\n",
       "         0.37524602, -0.19213526, -0.29939544, -0.28034228, -0.27067408,\n",
       "         0.2157018 , -0.0499368 , -0.90712446, -0.4026495 ,  0.8677776 ,\n",
       "        -0.78917795, -0.01645708,  0.26512167, -0.03371418, -0.32082748,\n",
       "        -0.14906977,  0.06547958], dtype=float32),\n",
       " array([0.5055264 , 0.7335241 , 0.31263417, 0.84450907, 0.7404866 ,\n",
       "        0.33296686, 0.68582153, 0.41101646, 0.8934919 , 0.22770974,\n",
       "        0.49924657, 1.1213107 , 0.30513078, 0.6789086 , 1.3251841 ,\n",
       "        0.94172585, 1.0300018 , 0.4852714 , 0.9367372 , 0.26413074,\n",
       "        0.5128423 , 0.27384868, 0.70513594, 1.129344  , 0.5833807 ,\n",
       "        1.3864088 , 0.79267025, 1.1292553 , 0.76413006, 0.53400624,\n",
       "        0.7045105 , 0.5344561 ], dtype=float32)]"
      ]
     },
     "execution_count": 99,
     "metadata": {},
     "output_type": "execute_result"
    }
   ],
   "source": [
    "model.layers[5].get_weights()"
   ]
  },
  {
   "cell_type": "code",
   "execution_count": 96,
   "metadata": {},
   "outputs": [
    {
     "data": {
      "text/plain": [
       "[array([0.9769379 , 0.9949176 , 1.0022665 , 1.0054618 , 0.9652536 ,\n",
       "        1.0007536 , 0.9956323 , 1.0172541 , 1.0071003 , 1.0049151 ,\n",
       "        0.99717236, 1.0067313 , 1.0160052 , 0.98545945, 0.9952756 ,\n",
       "        0.9706081 , 1.0241039 , 0.9841055 , 0.9895376 , 0.99303055,\n",
       "        0.9859816 , 1.0018865 , 1.0038335 , 0.95962995, 0.9947349 ,\n",
       "        1.0262029 , 1.047995  , 1.0302856 , 1.0369878 , 1.0029478 ,\n",
       "        0.96228224, 0.9858124 ], dtype=float32),\n",
       " array([-1.35157993e-02, -3.31382244e-03,  4.44525795e-05, -1.98394582e-02,\n",
       "        -3.11284270e-02, -1.38022825e-02, -2.13475022e-02,  1.22610005e-02,\n",
       "        -4.01355736e-02, -9.94086266e-03, -4.28228406e-03, -4.07766961e-02,\n",
       "         2.29579717e-04, -4.88898577e-03, -3.53441425e-02, -2.18901988e-02,\n",
       "        -1.03145128e-03, -2.46613789e-02, -2.10269447e-02, -1.52905863e-02,\n",
       "        -3.73819284e-02, -7.26112723e-03, -1.62337702e-02, -4.28374596e-02,\n",
       "        -1.54864704e-02, -3.07171070e-03,  2.11529918e-02, -1.55762006e-02,\n",
       "        -4.42022551e-03, -9.31886118e-03, -5.95285967e-02,  7.59491511e-03],\n",
       "       dtype=float32),\n",
       " array([-0.05752905, -0.6224639 , -0.09771576,  0.07232223,  0.10959886,\n",
       "        -0.13358504,  0.12857516, -0.15317005, -0.17533295,  0.23880875,\n",
       "        -0.12075514, -0.30571434,  0.32414562,  0.21195811, -0.07295448,\n",
       "         0.27897835, -0.05292808, -0.17931812, -0.17342691, -0.4106538 ,\n",
       "         0.18392812, -0.00152879, -0.76543486, -0.1556951 ,  0.7314714 ,\n",
       "        -0.5285698 ,  0.10064904,  0.27669072,  0.10966559, -0.29398245,\n",
       "        -0.1656001 ,  0.03088502], dtype=float32),\n",
       " array([0.49857217, 0.39206612, 0.17738672, 0.5472279 , 0.36596504,\n",
       "        0.20966312, 0.43970576, 0.24582972, 0.451815  , 0.13691671,\n",
       "        0.28516838, 0.63573927, 0.20747563, 0.699824  , 0.8289446 ,\n",
       "        0.9811296 , 0.44170755, 0.48273972, 0.7548063 , 0.17906043,\n",
       "        0.3742812 , 0.19025631, 0.42587593, 0.6862838 , 0.42423052,\n",
       "        0.86390185, 0.34772107, 0.52737546, 0.20242469, 0.33538872,\n",
       "        0.5836305 , 0.35058215], dtype=float32)]"
      ]
     },
     "execution_count": 96,
     "metadata": {},
     "output_type": "execute_result"
    }
   ],
   "source": [
    "model.layers[5].get_weights()"
   ]
  },
  {
   "cell_type": "markdown",
   "metadata": {},
   "source": [
    "# analysis"
   ]
  },
  {
   "cell_type": "code",
   "execution_count": 133,
   "metadata": {},
   "outputs": [
    {
     "name": "stdout",
     "output_type": "stream",
     "text": [
      "10000/10000 [==============================] - 25s 2ms/step\n"
     ]
    },
    {
     "data": {
      "text/plain": [
       "[1.143199872970581, 0.6074999988079071]"
      ]
     },
     "execution_count": 133,
     "metadata": {},
     "output_type": "execute_result"
    }
   ],
   "source": [
    "model.evaluate(x_test, y_test, batch_size=1000)"
   ]
  },
  {
   "cell_type": "code",
   "execution_count": 111,
   "metadata": {},
   "outputs": [],
   "source": [
    "CLASSES = np.array(['airplane', 'automobile', 'bird', 'cat', 'deer', 'dog', 'frog', 'horse', 'ship', 'truck'])\n",
    "\n",
    "preds = model.predict(x_test)\n",
    "preds_single = CLASSES[np.argmax(preds, axis = -1)]\n",
    "actual_single = CLASSES[np.argmax(y_test, axis = -1)]"
   ]
  },
  {
   "cell_type": "code",
   "execution_count": 115,
   "metadata": {},
   "outputs": [
    {
     "data": {
      "image/png": "[encoded data removed]",
      "text/plain": [
       "<Figure size 1080x216 with 10 Axes>"
      ]
     },
     "metadata": {
      "needs_background": "light"
     },
     "output_type": "display_data"
    }
   ],
   "source": [
    "import matplotlib.pyplot as plt\n",
    "\n",
    "n_to_show = 10\n",
    "indices = np.random.choice(range(len(x_test)), n_to_show)\n",
    "\n",
    "fig = plt.figure(figsize=(15, 3))\n",
    "fig.subplots_adjust(hspace=0.4, wspace=0.4)\n",
    "\n",
    "for i, idx in enumerate(indices):\n",
    "    img = x_test[idx]\n",
    "    ax = fig.add_subplot(1, n_to_show, i+1)\n",
    "    ax.axis('off')\n",
    "    ax.text(0.5, -0.35, 'pred = ' + str(preds_single[idx]), fontsize=10, ha='center', transform=ax.transAxes) \n",
    "    ax.text(0.5, -0.7, 'act = ' + str(actual_single[idx]), fontsize=10, ha='center', transform=ax.transAxes)\n",
    "    ax.imshow(img)\n"
   ]
  },
  {
   "cell_type": "code",
   "execution_count": null,
   "metadata": {},
   "outputs": [],
   "source": []
  }
 ],
 "metadata": {
  "kernelspec": {
   "display_name": "gdl",
   "language": "python",
   "name": "gdl"
  },
  "language_info": {
   "codemirror_mode": {
    "name": "ipython",
    "version": 3
   },
   "file_extension": ".py",
   "mimetype": "text/x-python",
   "name": "python",
   "nbconvert_exporter": "python",
   "pygments_lexer": "ipython3",
   "version": "3.6.5"
  }
 },
 "nbformat": 4,
 "nbformat_minor": 2
}
