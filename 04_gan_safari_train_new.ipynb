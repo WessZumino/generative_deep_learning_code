{
 "cells": [
  {
   "cell_type": "markdown",
   "metadata": {},
   "source": [
    "# GAN Training"
   ]
  },
  {
   "cell_type": "markdown",
   "metadata": {},
   "source": [
    "## imports"
   ]
  },
  {
   "cell_type": "code",
   "execution_count": 1,
   "metadata": {},
   "outputs": [
    {
     "name": "stderr",
     "output_type": "stream",
     "text": [
      "Using TensorFlow backend.\n"
     ]
    }
   ],
   "source": [
    "%matplotlib inline\n",
    "\n",
    "import os\n",
    "import numpy as np\n",
    "import matplotlib.pyplot as plt\n",
    "\n",
    "from models.GAN import GAN\n",
    "from utils.loaders import load_safari"
   ]
  },
  {
   "cell_type": "code",
   "execution_count": 2,
   "metadata": {},
   "outputs": [],
   "source": [
    "RUN_ID = '0013'\n",
    "RUN_FOLDER = os.path.join(\"./run\", RUN_ID)"
   ]
  },
  {
   "cell_type": "markdown",
   "metadata": {},
   "source": [
    "## data"
   ]
  },
  {
   "cell_type": "code",
   "execution_count": 3,
   "metadata": {},
   "outputs": [],
   "source": [
    "(x_train, y_train) = load_safari('rabbit')"
   ]
  },
  {
   "cell_type": "markdown",
   "metadata": {},
   "source": [
    "## architecture"
   ]
  },
  {
   "cell_type": "code",
   "execution_count": 4,
   "metadata": {},
   "outputs": [
    {
     "data": {
      "text/plain": [
       "(80000, 28, 28, 1)"
      ]
     },
     "execution_count": 4,
     "metadata": {},
     "output_type": "execute_result"
    }
   ],
   "source": [
    "x_train.shape"
   ]
  },
  {
   "cell_type": "code",
   "execution_count": 5,
   "metadata": {},
   "outputs": [
    {
     "data": {
      "text/plain": [
       "<matplotlib.image.AxesImage at 0x148dc96a0>"
      ]
     },
     "execution_count": 5,
     "metadata": {},
     "output_type": "execute_result"
    },
    {
     "data": {
      "image/png": "[encoded data removed]",
      "text/plain": [
       "<Figure size 432x288 with 1 Axes>"
      ]
     },
     "metadata": {
      "needs_background": "light"
     },
     "output_type": "display_data"
    }
   ],
   "source": [
    "plt.imshow(x_train[0,:,:,0], cmap = 'gray_r')"
   ]
  },
  {
   "cell_type": "code",
   "execution_count": 6,
   "metadata": {},
   "outputs": [
    {
     "data": {
      "text/plain": [
       "-1.0"
      ]
     },
     "execution_count": 6,
     "metadata": {},
     "output_type": "execute_result"
    }
   ],
   "source": [
    "np.min(x_train[0])"
   ]
  },
  {
   "cell_type": "code",
   "execution_count": 7,
   "metadata": {},
   "outputs": [],
   "source": [
    "gan = GAN(input_dim = (28,28,1)\n",
    "        , discriminator_conv_filters = [64,64,128,128]\n",
    "        , discriminator_conv_kernel_size = [5,5,5,5]\n",
    "        , discriminator_conv_strides = [2,2,2,1]\n",
    "        , discriminator_conv_padding = 'same'\n",
    "        , discriminator_batch_norm_momentum = None\n",
    "        , discriminator_activation = 'relu'\n",
    "        , discriminator_dropout_rate = 0.4\n",
    "        , discriminator_learning_rate = 0.0008\n",
    "        , generator_initial_dense_layer_size = (7, 7, 64)\n",
    "        , generator_use_upsampling = [True,True, False,False]\n",
    "        , generator_conv_t_filters = [128,64, 64,1]\n",
    "        , generator_conv_t_kernel_size = [5,5,5,5]\n",
    "        , generator_conv_t_strides = [1,1,1,1]\n",
    "        , generator_conv_t_padding = 'same'\n",
    "        , generator_batch_norm_momentum = 0.9\n",
    "        , generator_activation = 'relu'\n",
    "        , generator_dropout_rate = None\n",
    "        , generator_learning_rate = 0.0004\n",
    "        , z_dim = 100\n",
    "        )\n",
    "\n",
    "gan.save(RUN_FOLDER)"
   ]
  },
  {
   "cell_type": "code",
   "execution_count": 8,
   "metadata": {},
   "outputs": [],
   "source": [
    "#gan.load_weights(os.path.join(RUN_FOLDER, 'weights/weights.h5'))"
   ]
  },
  {
   "cell_type": "code",
   "execution_count": 9,
   "metadata": {},
   "outputs": [
    {
     "name": "stdout",
     "output_type": "stream",
     "text": [
      "_________________________________________________________________\n",
      "Layer (type)                 Output Shape              Param #   \n",
      "=================================================================\n",
      "discriminator_input (InputLa (None, 28, 28, 1)         0         \n",
      "_________________________________________________________________\n",
      "discriminator_conv_0 (Conv2D (None, 14, 14, 64)        1664      \n",
      "_________________________________________________________________\n",
      "activation_1 (Activation)    (None, 14, 14, 64)        0         \n",
      "_________________________________________________________________\n",
      "dropout_1 (Dropout)          (None, 14, 14, 64)        0         \n",
      "_________________________________________________________________\n",
      "discriminator_conv_1 (Conv2D (None, 7, 7, 64)          102464    \n",
      "_________________________________________________________________\n",
      "activation_2 (Activation)    (None, 7, 7, 64)          0         \n",
      "_________________________________________________________________\n",
      "dropout_2 (Dropout)          (None, 7, 7, 64)          0         \n",
      "_________________________________________________________________\n",
      "discriminator_conv_2 (Conv2D (None, 4, 4, 128)         204928    \n",
      "_________________________________________________________________\n",
      "activation_3 (Activation)    (None, 4, 4, 128)         0         \n",
      "_________________________________________________________________\n",
      "dropout_3 (Dropout)          (None, 4, 4, 128)         0         \n",
      "_________________________________________________________________\n",
      "discriminator_conv_3 (Conv2D (None, 4, 4, 128)         409728    \n",
      "_________________________________________________________________\n",
      "activation_4 (Activation)    (None, 4, 4, 128)         0         \n",
      "_________________________________________________________________\n",
      "dropout_4 (Dropout)          (None, 4, 4, 128)         0         \n",
      "_________________________________________________________________\n",
      "flatten_1 (Flatten)          (None, 2048)              0         \n",
      "_________________________________________________________________\n",
      "dense_1 (Dense)              (None, 1)                 2049      \n",
      "=================================================================\n",
      "Total params: 1,441,666\n",
      "Trainable params: 720,833\n",
      "Non-trainable params: 720,833\n",
      "_________________________________________________________________\n"
     ]
    },
    {
     "name": "stderr",
     "output_type": "stream",
     "text": [
      "/Users/davidfoster/.virtualenvs/gdl/lib/python3.6/site-packages/keras/engine/training.py:490: UserWarning: Discrepancy between trainable weights and collected trainable weights, did you set `model.trainable` without calling `model.compile` after ?\n",
      "  'Discrepancy between trainable weights and collected trainable'\n"
     ]
    }
   ],
   "source": [
    "gan.discriminator.summary()"
   ]
  },
  {
   "cell_type": "code",
   "execution_count": 10,
   "metadata": {
    "scrolled": false
   },
   "outputs": [
    {
     "name": "stdout",
     "output_type": "stream",
     "text": [
      "_________________________________________________________________\n",
      "Layer (type)                 Output Shape              Param #   \n",
      "=================================================================\n",
      "generator_input (InputLayer) (None, 100)               0         \n",
      "_________________________________________________________________\n",
      "dense_2 (Dense)              (None, 3136)              316736    \n",
      "_________________________________________________________________\n",
      "batch_normalization_1 (Batch (None, 3136)              12544     \n",
      "_________________________________________________________________\n",
      "activation_5 (Activation)    (None, 3136)              0         \n",
      "_________________________________________________________________\n",
      "reshape_1 (Reshape)          (None, 7, 7, 64)          0         \n",
      "_________________________________________________________________\n",
      "up_sampling2d_1 (UpSampling2 (None, 14, 14, 64)        0         \n",
      "_________________________________________________________________\n",
      "generator_conv_t_0 (Conv2DTr (None, 14, 14, 128)       204928    \n",
      "_________________________________________________________________\n",
      "batch_normalization_2 (Batch (None, 14, 14, 128)       512       \n",
      "_________________________________________________________________\n",
      "activation_6 (Activation)    (None, 14, 14, 128)       0         \n",
      "_________________________________________________________________\n",
      "up_sampling2d_2 (UpSampling2 (None, 28, 28, 128)       0         \n",
      "_________________________________________________________________\n",
      "generator_conv_t_1 (Conv2DTr (None, 28, 28, 64)        204864    \n",
      "_________________________________________________________________\n",
      "batch_normalization_3 (Batch (None, 28, 28, 64)        256       \n",
      "_________________________________________________________________\n",
      "activation_7 (Activation)    (None, 28, 28, 64)        0         \n",
      "_________________________________________________________________\n",
      "generator_conv_t_2 (Conv2DTr (None, 28, 28, 64)        102464    \n",
      "_________________________________________________________________\n",
      "batch_normalization_4 (Batch (None, 28, 28, 64)        256       \n",
      "_________________________________________________________________\n",
      "activation_8 (Activation)    (None, 28, 28, 64)        0         \n",
      "_________________________________________________________________\n",
      "generator_conv_t_3 (Conv2DTr (None, 28, 28, 1)         1601      \n",
      "_________________________________________________________________\n",
      "activation_9 (Activation)    (None, 28, 28, 1)         0         \n",
      "=================================================================\n",
      "Total params: 844,161\n",
      "Trainable params: 837,377\n",
      "Non-trainable params: 6,784\n",
      "_________________________________________________________________\n"
     ]
    }
   ],
   "source": [
    "gan.generator.summary()"
   ]
  },
  {
   "cell_type": "markdown",
   "metadata": {},
   "source": [
    "## training"
   ]
  },
  {
   "cell_type": "code",
   "execution_count": null,
   "metadata": {
    "scrolled": false
   },
   "outputs": [
    {
     "name": "stdout",
     "output_type": "stream",
     "text": [
      "0 [D loss: 0.703027] [D acc: 0.539062] [G loss: 0.312771] [G acc: 1.000000]\n",
      "1 [D loss: 0.996578] [D acc: 0.500000] [G loss: 0.669276] [G acc: 1.000000]\n",
      "2 [D loss: 0.698045] [D acc: 0.500000] [G loss: 0.679210] [G acc: 0.992188]\n",
      "3 [D loss: 0.688305] [D acc: 0.500000] [G loss: 0.663412] [G acc: 1.000000]\n",
      "4 [D loss: 0.683230] [D acc: 0.500000] [G loss: 0.583841] [G acc: 1.000000]\n",
      "5 [D loss: 0.725206] [D acc: 0.500000] [G loss: 0.673921] [G acc: 0.992188]\n",
      "6 [D loss: 0.692780] [D acc: 0.500000] [G loss: 0.681550] [G acc: 0.968750]\n",
      "7 [D loss: 0.689068] [D acc: 0.503906] [G loss: 0.681142] [G acc: 0.914062]\n",
      "8 [D loss: 0.691337] [D acc: 0.500000] [G loss: 0.668662] [G acc: 1.000000]\n",
      "9 [D loss: 0.677432] [D acc: 0.550781] [G loss: 0.582822] [G acc: 1.000000]\n",
      "10 [D loss: 0.686605] [D acc: 0.500000] [G loss: 0.491532] [G acc: 1.000000]\n",
      "11 [D loss: 0.764985] [D acc: 0.500000] [G loss: 0.688377] [G acc: 0.765625]\n",
      "12 [D loss: 0.688834] [D acc: 0.582031] [G loss: 0.691976] [G acc: 0.578125]\n",
      "13 [D loss: 0.685129] [D acc: 0.726562] [G loss: 0.699391] [G acc: 0.234375]\n",
      "14 [D loss: 0.678123] [D acc: 0.894531] [G loss: 0.714230] [G acc: 0.062500]\n",
      "15 [D loss: 0.667074] [D acc: 0.878906] [G loss: 0.759414] [G acc: 0.007812]\n",
      "16 [D loss: 0.691989] [D acc: 0.484375] [G loss: 0.512347] [G acc: 1.000000]\n",
      "17 [D loss: 0.697266] [D acc: 0.500000] [G loss: 0.640625] [G acc: 0.984375]\n",
      "18 [D loss: 0.691025] [D acc: 0.503906] [G loss: 0.643854] [G acc: 0.937500]\n",
      "19 [D loss: 0.692669] [D acc: 0.515625] [G loss: 0.673805] [G acc: 0.703125]\n",
      "20 [D loss: 0.694785] [D acc: 0.488281] [G loss: 0.692379] [G acc: 0.507812]\n",
      "21 [D loss: 0.693142] [D acc: 0.496094] [G loss: 0.687032] [G acc: 0.593750]\n",
      "22 [D loss: 0.689345] [D acc: 0.542969] [G loss: 0.688439] [G acc: 0.578125]\n",
      "23 [D loss: 0.688567] [D acc: 0.542969] [G loss: 0.699613] [G acc: 0.398438]\n",
      "24 [D loss: 0.687096] [D acc: 0.535156] [G loss: 0.687809] [G acc: 0.570312]\n",
      "25 [D loss: 0.688595] [D acc: 0.527344] [G loss: 0.760572] [G acc: 0.070312]\n",
      "26 [D loss: 0.692620] [D acc: 0.535156] [G loss: 0.681570] [G acc: 0.585938]\n",
      "27 [D loss: 0.696517] [D acc: 0.437500] [G loss: 0.658163] [G acc: 0.820312]\n",
      "28 [D loss: 0.685727] [D acc: 0.527344] [G loss: 0.646870] [G acc: 0.890625]\n",
      "29 [D loss: 0.689371] [D acc: 0.519531] [G loss: 0.642581] [G acc: 0.859375]\n",
      "30 [D loss: 0.697842] [D acc: 0.492188] [G loss: 0.717462] [G acc: 0.210938]\n",
      "31 [D loss: 0.695624] [D acc: 0.488281] [G loss: 0.720359] [G acc: 0.171875]\n",
      "32 [D loss: 0.693618] [D acc: 0.523438] [G loss: 0.673331] [G acc: 0.742188]\n",
      "33 [D loss: 0.684615] [D acc: 0.542969] [G loss: 0.694238] [G acc: 0.476562]\n",
      "34 [D loss: 0.686561] [D acc: 0.578125] [G loss: 0.729421] [G acc: 0.203125]\n",
      "35 [D loss: 0.687902] [D acc: 0.562500] [G loss: 0.647094] [G acc: 0.851562]\n",
      "36 [D loss: 0.687621] [D acc: 0.539062] [G loss: 0.741398] [G acc: 0.156250]\n",
      "37 [D loss: 0.686937] [D acc: 0.523438] [G loss: 0.708750] [G acc: 0.390625]\n",
      "38 [D loss: 0.683183] [D acc: 0.550781] [G loss: 0.706057] [G acc: 0.453125]\n",
      "39 [D loss: 0.680850] [D acc: 0.562500] [G loss: 0.683807] [G acc: 0.570312]\n",
      "40 [D loss: 0.710714] [D acc: 0.433594] [G loss: 0.575270] [G acc: 0.992188]\n",
      "41 [D loss: 0.713665] [D acc: 0.500000] [G loss: 0.710328] [G acc: 0.210938]\n",
      "42 [D loss: 0.687981] [D acc: 0.562500] [G loss: 0.695840] [G acc: 0.445312]\n",
      "43 [D loss: 0.682076] [D acc: 0.675781] [G loss: 0.693517] [G acc: 0.523438]\n",
      "44 [D loss: 0.679092] [D acc: 0.652344] [G loss: 0.696647] [G acc: 0.437500]\n",
      "45 [D loss: 0.681080] [D acc: 0.621094] [G loss: 0.736477] [G acc: 0.203125]\n",
      "46 [D loss: 0.691045] [D acc: 0.523438] [G loss: 0.723478] [G acc: 0.296875]\n",
      "47 [D loss: 0.674819] [D acc: 0.609375] [G loss: 0.795229] [G acc: 0.070312]\n",
      "48 [D loss: 0.676123] [D acc: 0.589844] [G loss: 0.743134] [G acc: 0.296875]\n",
      "49 [D loss: 0.690993] [D acc: 0.511719] [G loss: 0.756946] [G acc: 0.195312]\n",
      "50 [D loss: 0.682513] [D acc: 0.562500] [G loss: 0.643483] [G acc: 0.796875]\n",
      "51 [D loss: 0.686716] [D acc: 0.496094] [G loss: 0.801285] [G acc: 0.046875]\n",
      "52 [D loss: 0.699455] [D acc: 0.507812] [G loss: 0.738581] [G acc: 0.273438]\n",
      "53 [D loss: 0.697552] [D acc: 0.468750] [G loss: 0.762213] [G acc: 0.125000]\n",
      "54 [D loss: 0.668850] [D acc: 0.652344] [G loss: 0.752484] [G acc: 0.218750]\n",
      "55 [D loss: 0.656699] [D acc: 0.710938] [G loss: 0.904478] [G acc: 0.023438]\n",
      "56 [D loss: 0.711938] [D acc: 0.445312] [G loss: 0.694412] [G acc: 0.468750]\n",
      "57 [D loss: 0.662970] [D acc: 0.605469] [G loss: 0.728540] [G acc: 0.382812]\n",
      "58 [D loss: 0.702596] [D acc: 0.468750] [G loss: 0.863364] [G acc: 0.007812]\n",
      "59 [D loss: 0.668622] [D acc: 0.605469] [G loss: 0.655304] [G acc: 0.648438]\n",
      "60 [D loss: 0.688030] [D acc: 0.480469] [G loss: 0.835012] [G acc: 0.015625]\n",
      "61 [D loss: 0.672869] [D acc: 0.585938] [G loss: 0.577837] [G acc: 0.898438]\n",
      "62 [D loss: 0.683095] [D acc: 0.507812] [G loss: 0.769671] [G acc: 0.203125]\n",
      "63 [D loss: 0.668068] [D acc: 0.660156] [G loss: 0.644250] [G acc: 0.671875]\n",
      "64 [D loss: 0.684341] [D acc: 0.503906] [G loss: 0.762678] [G acc: 0.242188]\n",
      "65 [D loss: 0.682806] [D acc: 0.515625] [G loss: 0.794365] [G acc: 0.125000]\n",
      "66 [D loss: 0.666283] [D acc: 0.609375] [G loss: 0.694300] [G acc: 0.500000]\n",
      "67 [D loss: 0.661610] [D acc: 0.578125] [G loss: 0.905177] [G acc: 0.054688]\n",
      "68 [D loss: 0.614105] [D acc: 0.687500] [G loss: 0.253921] [G acc: 1.000000]\n",
      "69 [D loss: 0.662585] [D acc: 0.531250] [G loss: 1.296005] [G acc: 0.000000]\n",
      "70 [D loss: 0.846821] [D acc: 0.500000] [G loss: 0.663592] [G acc: 0.734375]\n",
      "71 [D loss: 0.686918] [D acc: 0.550781] [G loss: 0.685481] [G acc: 0.531250]\n",
      "72 [D loss: 0.680983] [D acc: 0.597656] [G loss: 0.678655] [G acc: 0.601562]\n",
      "73 [D loss: 0.686866] [D acc: 0.542969] [G loss: 0.724657] [G acc: 0.304688]\n",
      "74 [D loss: 0.688752] [D acc: 0.535156] [G loss: 0.766147] [G acc: 0.078125]\n",
      "75 [D loss: 0.669960] [D acc: 0.640625] [G loss: 0.758534] [G acc: 0.148438]\n",
      "76 [D loss: 0.658440] [D acc: 0.675781] [G loss: 0.768763] [G acc: 0.242188]\n",
      "77 [D loss: 0.630058] [D acc: 0.718750] [G loss: 0.576043] [G acc: 0.781250]\n",
      "78 [D loss: 0.524684] [D acc: 0.863281] [G loss: 0.233506] [G acc: 1.000000]\n",
      "79 [D loss: 0.286913] [D acc: 0.921875] [G loss: 0.004481] [G acc: 1.000000]\n"
     ]
    }
   ],
   "source": [
    "d_losses, g_losses, d_acc, g_acc = gan.train(     \n",
    "    x_train\n",
    "    , batch_size = 128\n",
    "    , epochs = 5000\n",
    "    , run_folder = RUN_FOLDER\n",
    "    , print_every_n_batches = 10\n",
    "    , initial_epoch = 0\n",
    ")\n",
    "\n"
   ]
  },
  {
   "cell_type": "code",
   "execution_count": null,
   "metadata": {},
   "outputs": [],
   "source": [
    "\n",
    "plt.plot(d_acc, color='red', linewidth=2)\n",
    "plt.plot(g_acc, color='blue', linewidth=2)\n"
   ]
  },
  {
   "cell_type": "code",
   "execution_count": null,
   "metadata": {
    "scrolled": true
   },
   "outputs": [],
   "source": [
    "for i in range(10):\n",
    "    print(gan.discriminator.predict(np.array([x_train[i]]))[0])"
   ]
  },
  {
   "cell_type": "code",
   "execution_count": null,
   "metadata": {},
   "outputs": [],
   "source": [
    "noise = np.random.uniform(-1, 1, 100)\n",
    "img = gan.generator.predict(np.array([noise]))[0]\n",
    "\n",
    "print(img.shape)\n",
    "plt.imshow(img[:,:,0])\n",
    "\n",
    "gan.discriminator.predict(np.array([img]))[0]"
   ]
  },
  {
   "cell_type": "code",
   "execution_count": null,
   "metadata": {},
   "outputs": [],
   "source": [
    "len(gan.discriminator.get_weights())"
   ]
  },
  {
   "cell_type": "code",
   "execution_count": null,
   "metadata": {},
   "outputs": [],
   "source": [
    "gan.model.summary()"
   ]
  },
  {
   "cell_type": "code",
   "execution_count": null,
   "metadata": {},
   "outputs": [],
   "source": [
    "gan.discriminator.layers"
   ]
  },
  {
   "cell_type": "code",
   "execution_count": null,
   "metadata": {},
   "outputs": [],
   "source": [
    "pointer = 0\n",
    "for x, y in enumerate(gan.discriminator.layers):\n",
    "    \n",
    "    print(y)\n",
    "    print(y.trainable)\n",
    "    for i in gan.discriminator.layers[x].get_weights():\n",
    "        \n",
    "        print(pointer)\n",
    "        print(i.shape)\n",
    "        pointer+=1\n",
    "        \n",
    "        "
   ]
  },
  {
   "cell_type": "code",
   "execution_count": null,
   "metadata": {},
   "outputs": [],
   "source": [
    "len(gan.discriminator.get_weights())"
   ]
  },
  {
   "cell_type": "code",
   "execution_count": null,
   "metadata": {},
   "outputs": [],
   "source": [
    "gan.discriminator.get_weights()[2]"
   ]
  },
  {
   "cell_type": "code",
   "execution_count": null,
   "metadata": {},
   "outputs": [],
   "source": [
    "gan.discriminator.get_weights()[22]"
   ]
  },
  {
   "cell_type": "code",
   "execution_count": null,
   "metadata": {},
   "outputs": [],
   "source": [
    "x_train[0][16]"
   ]
  },
  {
   "cell_type": "code",
   "execution_count": null,
   "metadata": {},
   "outputs": [],
   "source": [
    "gan.model.save_weights(os.path.join(RUN_FOLDER, 'weights/weights.h5'))"
   ]
  },
  {
   "cell_type": "code",
   "execution_count": null,
   "metadata": {},
   "outputs": [],
   "source": []
  }
 ],
 "metadata": {
  "kernelspec": {
   "display_name": "gdl",
   "language": "python",
   "name": "gdl"
  },
  "language_info": {
   "codemirror_mode": {
    "name": "ipython",
    "version": 3
   },
   "file_extension": ".py",
   "mimetype": "text/x-python",
   "name": "python",
   "nbconvert_exporter": "python",
   "pygments_lexer": "ipython3",
   "version": "3.6.5"
  }
 },
 "nbformat": 4,
 "nbformat_minor": 2
}
