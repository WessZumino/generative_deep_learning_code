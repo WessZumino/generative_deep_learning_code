{
 "cells": [
  {
   "cell_type": "markdown",
   "metadata": {},
   "source": [
    "# WGAN Training"
   ]
  },
  {
   "cell_type": "markdown",
   "metadata": {},
   "source": [
    "## imports"
   ]
  },
  {
   "cell_type": "code",
   "execution_count": 1,
   "metadata": {},
   "outputs": [
    {
     "name": "stderr",
     "output_type": "stream",
     "text": [
      "Using TensorFlow backend.\n"
     ]
    }
   ],
   "source": [
    "%matplotlib inline\n",
    "\n",
    "import os\n",
    "import numpy as np\n",
    "import matplotlib.pyplot as plt\n",
    "\n",
    "from models.WGANGP import WGANGP\n",
    "from utils.loaders import load_safari, load_cifar10\n",
    "\n"
   ]
  },
  {
   "cell_type": "code",
   "execution_count": 2,
   "metadata": {},
   "outputs": [],
   "source": [
    "RUN_ID = '0026'\n",
    "RUN_FOLDER = os.path.join(\"./run\", RUN_ID)"
   ]
  },
  {
   "cell_type": "markdown",
   "metadata": {},
   "source": [
    "## data"
   ]
  },
  {
   "cell_type": "code",
   "execution_count": 3,
   "metadata": {},
   "outputs": [],
   "source": [
    "label = 1\n",
    "(x_train, y_train) = load_cifar10(label)\n",
    "# (x_train, y_train) = load_safari('elephant')\n",
    "\n",
    "\n"
   ]
  },
  {
   "cell_type": "markdown",
   "metadata": {},
   "source": [
    "## architecture"
   ]
  },
  {
   "cell_type": "code",
   "execution_count": 4,
   "metadata": {},
   "outputs": [
    {
     "name": "stderr",
     "output_type": "stream",
     "text": [
      "Clipping input data to the valid range for imshow with RGB data ([0..1] for floats or [0..255] for integers).\n"
     ]
    },
    {
     "data": {
      "text/plain": [
       "<matplotlib.image.AxesImage at 0x105148ac8>"
      ]
     },
     "execution_count": 4,
     "metadata": {},
     "output_type": "execute_result"
    },
    {
     "data": {
      "image/png": "[encoded data removed]",
      "text/plain": [
       "<Figure size 432x288 with 1 Axes>"
      ]
     },
     "metadata": {
      "needs_background": "light"
     },
     "output_type": "display_data"
    }
   ],
   "source": [
    "plt.imshow(x_train[0,:,:,:])"
   ]
  },
  {
   "cell_type": "code",
   "execution_count": 5,
   "metadata": {},
   "outputs": [
    {
     "name": "stdout",
     "output_type": "stream",
     "text": [
      "-1.0\n",
      "1.0\n"
     ]
    }
   ],
   "source": [
    "print(np.min(x_train))\n",
    "print(np.max(x_train))"
   ]
  },
  {
   "cell_type": "code",
   "execution_count": 6,
   "metadata": {},
   "outputs": [
    {
     "data": {
      "text/plain": [
       "(5000, 32, 32, 3)"
      ]
     },
     "execution_count": 6,
     "metadata": {},
     "output_type": "execute_result"
    }
   ],
   "source": [
    "x_train.shape"
   ]
  },
  {
   "cell_type": "code",
   "execution_count": 7,
   "metadata": {},
   "outputs": [],
   "source": [
    "#works\n",
    "\n",
    "gan = WGANGP(input_dim = (32,32,3)\n",
    "        , critic_conv_filters = [64,64,128,128]\n",
    "        , critic_conv_kernel_size = [5,5,5,5]\n",
    "        , critic_conv_strides = [2,2,2,1]\n",
    "        , critic_conv_padding = 'same'\n",
    "        , critic_batch_norm_momentum = None\n",
    "        , critic_activation = 'leaky_relu'\n",
    "        , critic_dropout_rate = None\n",
    "        , critic_learning_rate = 0.00005\n",
    "        , generator_initial_dense_layer_size = (8, 8, 64)\n",
    "        , generator_upsample = [True,True, False,False]\n",
    "        , generator_conv_filters = [128,64, 64,3]\n",
    "        , generator_conv_kernel_size = [5,5,5,5]\n",
    "        , generator_conv_padding = 'same'\n",
    "        , generator_batch_norm_momentum = 0.8\n",
    "        , generator_activation = 'leaky_relu'\n",
    "        , generator_dropout_rate = None\n",
    "        , generator_learning_rate = 0.00005\n",
    "        , optimiser = 'rmsprop'\n",
    "        , grad_weight = 10\n",
    "        , z_dim = 100\n",
    "        )\n",
    "\n",
    "\n",
    "gan.save(RUN_FOLDER)\n",
    "\n",
    "\n"
   ]
  },
  {
   "cell_type": "code",
   "execution_count": 8,
   "metadata": {},
   "outputs": [],
   "source": [
    "#gan.load_weights(os.path.join(RUN_FOLDER, 'weights/weights.h5'))"
   ]
  },
  {
   "cell_type": "code",
   "execution_count": 9,
   "metadata": {},
   "outputs": [
    {
     "name": "stdout",
     "output_type": "stream",
     "text": [
      "_________________________________________________________________\n",
      "Layer (type)                 Output Shape              Param #   \n",
      "=================================================================\n",
      "critic_input (InputLayer)    (None, 32, 32, 3)         0         \n",
      "_________________________________________________________________\n",
      "critic_conv_0 (Conv2D)       (None, 16, 16, 64)        4864      \n",
      "_________________________________________________________________\n",
      "leaky_re_lu_1 (LeakyReLU)    (None, 16, 16, 64)        0         \n",
      "_________________________________________________________________\n",
      "critic_conv_1 (Conv2D)       (None, 8, 8, 64)          102464    \n",
      "_________________________________________________________________\n",
      "leaky_re_lu_2 (LeakyReLU)    (None, 8, 8, 64)          0         \n",
      "_________________________________________________________________\n",
      "critic_conv_2 (Conv2D)       (None, 4, 4, 128)         204928    \n",
      "_________________________________________________________________\n",
      "leaky_re_lu_3 (LeakyReLU)    (None, 4, 4, 128)         0         \n",
      "_________________________________________________________________\n",
      "critic_conv_3 (Conv2D)       (None, 4, 4, 128)         409728    \n",
      "_________________________________________________________________\n",
      "leaky_re_lu_4 (LeakyReLU)    (None, 4, 4, 128)         0         \n",
      "_________________________________________________________________\n",
      "flatten_1 (Flatten)          (None, 2048)              0         \n",
      "_________________________________________________________________\n",
      "dense_1 (Dense)              (None, 512)               1049088   \n",
      "_________________________________________________________________\n",
      "leaky_re_lu_5 (LeakyReLU)    (None, 512)               0         \n",
      "_________________________________________________________________\n",
      "dense_2 (Dense)              (None, 1)                 513       \n",
      "=================================================================\n",
      "Total params: 1,771,585\n",
      "Trainable params: 1,771,585\n",
      "Non-trainable params: 0\n",
      "_________________________________________________________________\n"
     ]
    }
   ],
   "source": [
    "gan.critic.summary()"
   ]
  },
  {
   "cell_type": "code",
   "execution_count": 10,
   "metadata": {},
   "outputs": [
    {
     "name": "stdout",
     "output_type": "stream",
     "text": [
      "_________________________________________________________________\n",
      "Layer (type)                 Output Shape              Param #   \n",
      "=================================================================\n",
      "generator_input (InputLayer) (None, 100)               0         \n",
      "_________________________________________________________________\n",
      "dense_3 (Dense)              (None, 512)               51712     \n",
      "_________________________________________________________________\n",
      "leaky_re_lu_6 (LeakyReLU)    (None, 512)               0         \n",
      "_________________________________________________________________\n",
      "dense_4 (Dense)              (None, 4096)              2101248   \n",
      "_________________________________________________________________\n",
      "batch_normalization_1 (Batch (None, 4096)              16384     \n",
      "_________________________________________________________________\n",
      "leaky_re_lu_7 (LeakyReLU)    (None, 4096)              0         \n",
      "_________________________________________________________________\n",
      "reshape_1 (Reshape)          (None, 8, 8, 64)          0         \n",
      "_________________________________________________________________\n",
      "up_sampling2d_1 (UpSampling2 (None, 16, 16, 64)        0         \n",
      "_________________________________________________________________\n",
      "generator_conv_0 (Conv2D)    (None, 16, 16, 128)       204928    \n",
      "_________________________________________________________________\n",
      "batch_normalization_2 (Batch (None, 16, 16, 128)       512       \n",
      "_________________________________________________________________\n",
      "leaky_re_lu_8 (LeakyReLU)    (None, 16, 16, 128)       0         \n",
      "_________________________________________________________________\n",
      "up_sampling2d_2 (UpSampling2 (None, 32, 32, 128)       0         \n",
      "_________________________________________________________________\n",
      "generator_conv_1 (Conv2D)    (None, 32, 32, 64)        204864    \n",
      "_________________________________________________________________\n",
      "batch_normalization_3 (Batch (None, 32, 32, 64)        256       \n",
      "_________________________________________________________________\n",
      "leaky_re_lu_9 (LeakyReLU)    (None, 32, 32, 64)        0         \n",
      "_________________________________________________________________\n",
      "generator_conv_2 (Conv2D)    (None, 32, 32, 64)        102464    \n",
      "_________________________________________________________________\n",
      "batch_normalization_4 (Batch (None, 32, 32, 64)        256       \n",
      "_________________________________________________________________\n",
      "leaky_re_lu_10 (LeakyReLU)   (None, 32, 32, 64)        0         \n",
      "_________________________________________________________________\n",
      "generator_conv_3 (Conv2D)    (None, 32, 32, 3)         4803      \n",
      "_________________________________________________________________\n",
      "activation_1 (Activation)    (None, 32, 32, 3)         0         \n",
      "=================================================================\n",
      "Total params: 2,687,427\n",
      "Trainable params: 2,678,723\n",
      "Non-trainable params: 8,704\n",
      "_________________________________________________________________\n"
     ]
    }
   ],
   "source": [
    "gan.generator.summary()"
   ]
  },
  {
   "cell_type": "markdown",
   "metadata": {},
   "source": [
    "## training"
   ]
  },
  {
   "cell_type": "code",
   "execution_count": 15,
   "metadata": {
    "scrolled": false
   },
   "outputs": [
    {
     "name": "stdout",
     "output_type": "stream",
     "text": [
      "72 (5, 1) [D loss: (-4.8)(R 4.8, F -9.9, G 0.0)] [G loss: 9.9]\n",
      "73 (5, 1) [D loss: (-4.4)(R 2.0, F -6.8, G 0.0)] [G loss: 8.0]\n",
      "74 (5, 1) [D loss: (-3.8)(R -2.8, F -1.5, G 0.0)] [G loss: 5.9]\n",
      "75 (5, 1) [D loss: (-4.0)(R 0.5, F -4.9, G 0.0)] [G loss: 7.6]\n",
      "76 (5, 1) [D loss: (-3.7)(R 1.1, F -5.3, G 0.0)] [G loss: 4.7]\n",
      "77 (5, 1) [D loss: (-4.0)(R -0.6, F -3.8, G 0.0)] [G loss: 5.3]\n",
      "78 (5, 1) [D loss: (-3.9)(R 1.4, F -5.4, G 0.0)] [G loss: 8.3]\n",
      "79 (5, 1) [D loss: (-3.5)(R 1.5, F -5.3, G 0.0)] [G loss: 0.8]\n",
      "80 (5, 1) [D loss: (-3.7)(R 3.2, F -7.2, G 0.0)] [G loss: 9.5]\n",
      "81 (5, 1) [D loss: (-3.3)(R -1.9, F -1.7, G 0.0)] [G loss: 1.2]\n",
      "82 (5, 1) [D loss: (-3.2)(R -1.7, F -1.8, G 0.0)] [G loss: 3.5]\n",
      "83 (5, 1) [D loss: (-3.4)(R 2.5, F -6.2, G 0.0)] [G loss: 6.8]\n",
      "84 (5, 1) [D loss: (-3.1)(R 1.9, F -5.3, G 0.0)] [G loss: 6.8]\n",
      "85 (5, 1) [D loss: (-3.0)(R -7.3, F 3.9, G 0.0)] [G loss: 5.2]\n",
      "86 (5, 1) [D loss: (-3.2)(R -5.7, F 2.3, G 0.0)] [G loss: -5.6]\n",
      "87 (5, 1) [D loss: (-2.5)(R 2.6, F -5.3, G 0.0)] [G loss: 5.3]\n",
      "88 (5, 1) [D loss: (-2.7)(R 2.8, F -5.7, G 0.0)] [G loss: 3.1]\n",
      "89 (5, 1) [D loss: (-2.7)(R -2.6, F -0.2, G 0.0)] [G loss: 0.7]\n",
      "90 (5, 1) [D loss: (-2.8)(R 4.5, F -7.6, G 0.0)] [G loss: 8.1]\n",
      "91 (5, 1) [D loss: (-2.7)(R -7.6, F 4.7, G 0.0)] [G loss: -1.7]\n",
      "92 (5, 1) [D loss: (-2.8)(R -1.4, F -1.6, G 0.0)] [G loss: -1.6]\n",
      "93 (5, 1) [D loss: (-2.7)(R 0.2, F -3.1, G 0.0)] [G loss: 7.1]\n",
      "94 (5, 1) [D loss: (-2.7)(R -2.9, F 0.0, G 0.0)] [G loss: -2.5]\n",
      "95 (5, 1) [D loss: (-2.5)(R 1.9, F -4.7, G 0.0)] [G loss: 7.8]\n",
      "96 (5, 1) [D loss: (-2.6)(R -5.0, F 2.2, G 0.0)] [G loss: -1.2]\n",
      "97 (5, 1) [D loss: (-2.2)(R -1.7, F -0.7, G 0.0)] [G loss: 3.7]\n"
     ]
    },
    {
     "ename": "KeyboardInterrupt",
     "evalue": "",
     "output_type": "error",
     "traceback": [
      "\u001b[0;31m---------------------------------------------------------------------------\u001b[0m",
      "\u001b[0;31mKeyboardInterrupt\u001b[0m                         Traceback (most recent call last)",
      "\u001b[0;32m<ipython-input-15-db6550685d82>\u001b[0m in \u001b[0;36m<module>\u001b[0;34m\u001b[0m\n\u001b[1;32m      6\u001b[0m     \u001b[0;34m,\u001b[0m \u001b[0mprint_every_n_batches\u001b[0m \u001b[0;34m=\u001b[0m \u001b[0;36m10\u001b[0m\u001b[0;34m\u001b[0m\u001b[0m\n\u001b[1;32m      7\u001b[0m     \u001b[0;34m,\u001b[0m \u001b[0mn_critic\u001b[0m \u001b[0;34m=\u001b[0m \u001b[0;36m5\u001b[0m\u001b[0;34m\u001b[0m\u001b[0m\n\u001b[0;32m----> 8\u001b[0;31m     \u001b[0;34m,\u001b[0m \u001b[0musing_generator\u001b[0m \u001b[0;34m=\u001b[0m \u001b[0;32mFalse\u001b[0m\u001b[0;34m\u001b[0m\u001b[0m\n\u001b[0m\u001b[1;32m      9\u001b[0m \u001b[0;34m\u001b[0m\u001b[0m\n\u001b[1;32m     10\u001b[0m )\n",
      "\u001b[0;32m~/Git/Personal/GDL/generative_deep_learning_code/models/WGANGP.py\u001b[0m in \u001b[0;36mtrain\u001b[0;34m(self, x_train, batch_size, epochs, run_folder, print_every_n_batches, n_critic, using_generator)\u001b[0m\n\u001b[1;32m    343\u001b[0m                 \u001b[0mcritic_loops\u001b[0m \u001b[0;34m=\u001b[0m \u001b[0mn_critic\u001b[0m\u001b[0;34m\u001b[0m\u001b[0m\n\u001b[1;32m    344\u001b[0m \u001b[0;34m\u001b[0m\u001b[0m\n\u001b[0;32m--> 345\u001b[0;31m             \u001b[0;32mfor\u001b[0m \u001b[0m_\u001b[0m \u001b[0;32min\u001b[0m \u001b[0mrange\u001b[0m\u001b[0;34m(\u001b[0m\u001b[0mcritic_loops\u001b[0m\u001b[0;34m)\u001b[0m\u001b[0;34m:\u001b[0m\u001b[0;34m\u001b[0m\u001b[0m\n\u001b[0m\u001b[1;32m    346\u001b[0m                 \u001b[0md_loss\u001b[0m \u001b[0;34m=\u001b[0m \u001b[0mself\u001b[0m\u001b[0;34m.\u001b[0m\u001b[0mtrain_critic\u001b[0m\u001b[0;34m(\u001b[0m\u001b[0mx_train\u001b[0m\u001b[0;34m,\u001b[0m \u001b[0mbatch_size\u001b[0m\u001b[0;34m,\u001b[0m \u001b[0musing_generator\u001b[0m\u001b[0;34m)\u001b[0m\u001b[0;34m\u001b[0m\u001b[0m\n\u001b[1;32m    347\u001b[0m \u001b[0;34m\u001b[0m\u001b[0m\n",
      "\u001b[0;32m~/Git/Personal/GDL/generative_deep_learning_code/models/WGANGP.py\u001b[0m in \u001b[0;36mtrain_generator\u001b[0;34m(self, batch_size)\u001b[0m\n\u001b[1;32m    324\u001b[0m         \u001b[0;32mreturn\u001b[0m \u001b[0md_loss\u001b[0m\u001b[0;34m\u001b[0m\u001b[0m\n\u001b[1;32m    325\u001b[0m \u001b[0;34m\u001b[0m\u001b[0m\n\u001b[0;32m--> 326\u001b[0;31m     \u001b[0;32mdef\u001b[0m \u001b[0mtrain_generator\u001b[0m\u001b[0;34m(\u001b[0m\u001b[0mself\u001b[0m\u001b[0;34m,\u001b[0m \u001b[0mbatch_size\u001b[0m\u001b[0;34m)\u001b[0m\u001b[0;34m:\u001b[0m\u001b[0;34m\u001b[0m\u001b[0m\n\u001b[0m\u001b[1;32m    327\u001b[0m         \u001b[0mvalid\u001b[0m \u001b[0;34m=\u001b[0m \u001b[0mnp\u001b[0m\u001b[0;34m.\u001b[0m\u001b[0mones\u001b[0m\u001b[0;34m(\u001b[0m\u001b[0;34m(\u001b[0m\u001b[0mbatch_size\u001b[0m\u001b[0;34m,\u001b[0m\u001b[0;36m1\u001b[0m\u001b[0;34m)\u001b[0m\u001b[0;34m,\u001b[0m \u001b[0mdtype\u001b[0m\u001b[0;34m=\u001b[0m\u001b[0mnp\u001b[0m\u001b[0;34m.\u001b[0m\u001b[0mfloat32\u001b[0m\u001b[0;34m)\u001b[0m\u001b[0;34m\u001b[0m\u001b[0m\n\u001b[1;32m    328\u001b[0m         \u001b[0mnoise\u001b[0m \u001b[0;34m=\u001b[0m \u001b[0mnp\u001b[0m\u001b[0;34m.\u001b[0m\u001b[0mrandom\u001b[0m\u001b[0;34m.\u001b[0m\u001b[0mnormal\u001b[0m\u001b[0;34m(\u001b[0m\u001b[0;36m0\u001b[0m\u001b[0;34m,\u001b[0m \u001b[0;36m1\u001b[0m\u001b[0;34m,\u001b[0m \u001b[0;34m(\u001b[0m\u001b[0mbatch_size\u001b[0m\u001b[0;34m,\u001b[0m \u001b[0mself\u001b[0m\u001b[0;34m.\u001b[0m\u001b[0mz_dim\u001b[0m\u001b[0;34m)\u001b[0m\u001b[0;34m)\u001b[0m\u001b[0;34m\u001b[0m\u001b[0m\n",
      "\u001b[0;32m~/.virtualenvs/gdl/lib/python3.6/site-packages/keras/engine/training.py\u001b[0m in \u001b[0;36mtrain_on_batch\u001b[0;34m(self, x, y, sample_weight, class_weight)\u001b[0m\n\u001b[1;32m   1215\u001b[0m             \u001b[0mins\u001b[0m \u001b[0;34m=\u001b[0m \u001b[0mx\u001b[0m \u001b[0;34m+\u001b[0m \u001b[0my\u001b[0m \u001b[0;34m+\u001b[0m \u001b[0msample_weights\u001b[0m\u001b[0;34m\u001b[0m\u001b[0m\n\u001b[1;32m   1216\u001b[0m         \u001b[0mself\u001b[0m\u001b[0;34m.\u001b[0m\u001b[0m_make_train_function\u001b[0m\u001b[0;34m(\u001b[0m\u001b[0;34m)\u001b[0m\u001b[0;34m\u001b[0m\u001b[0m\n\u001b[0;32m-> 1217\u001b[0;31m         \u001b[0moutputs\u001b[0m \u001b[0;34m=\u001b[0m \u001b[0mself\u001b[0m\u001b[0;34m.\u001b[0m\u001b[0mtrain_function\u001b[0m\u001b[0;34m(\u001b[0m\u001b[0mins\u001b[0m\u001b[0;34m)\u001b[0m\u001b[0;34m\u001b[0m\u001b[0m\n\u001b[0m\u001b[1;32m   1218\u001b[0m         \u001b[0;32mreturn\u001b[0m \u001b[0munpack_singleton\u001b[0m\u001b[0;34m(\u001b[0m\u001b[0moutputs\u001b[0m\u001b[0;34m)\u001b[0m\u001b[0;34m\u001b[0m\u001b[0m\n\u001b[1;32m   1219\u001b[0m \u001b[0;34m\u001b[0m\u001b[0m\n",
      "\u001b[0;32m~/.virtualenvs/gdl/lib/python3.6/site-packages/keras/backend/tensorflow_backend.py\u001b[0m in \u001b[0;36m__call__\u001b[0;34m(self, inputs)\u001b[0m\n\u001b[1;32m   2713\u001b[0m                 \u001b[0;32mreturn\u001b[0m \u001b[0mself\u001b[0m\u001b[0;34m.\u001b[0m\u001b[0m_legacy_call\u001b[0m\u001b[0;34m(\u001b[0m\u001b[0minputs\u001b[0m\u001b[0;34m)\u001b[0m\u001b[0;34m\u001b[0m\u001b[0m\n\u001b[1;32m   2714\u001b[0m \u001b[0;34m\u001b[0m\u001b[0m\n\u001b[0;32m-> 2715\u001b[0;31m             \u001b[0;32mreturn\u001b[0m \u001b[0mself\u001b[0m\u001b[0;34m.\u001b[0m\u001b[0m_call\u001b[0m\u001b[0;34m(\u001b[0m\u001b[0minputs\u001b[0m\u001b[0;34m)\u001b[0m\u001b[0;34m\u001b[0m\u001b[0m\n\u001b[0m\u001b[1;32m   2716\u001b[0m         \u001b[0;32melse\u001b[0m\u001b[0;34m:\u001b[0m\u001b[0;34m\u001b[0m\u001b[0m\n\u001b[1;32m   2717\u001b[0m             \u001b[0;32mif\u001b[0m \u001b[0mpy_any\u001b[0m\u001b[0;34m(\u001b[0m\u001b[0mis_tensor\u001b[0m\u001b[0;34m(\u001b[0m\u001b[0mx\u001b[0m\u001b[0;34m)\u001b[0m \u001b[0;32mfor\u001b[0m \u001b[0mx\u001b[0m \u001b[0;32min\u001b[0m \u001b[0minputs\u001b[0m\u001b[0;34m)\u001b[0m\u001b[0;34m:\u001b[0m\u001b[0;34m\u001b[0m\u001b[0m\n",
      "\u001b[0;32m~/.virtualenvs/gdl/lib/python3.6/site-packages/keras/backend/tensorflow_backend.py\u001b[0m in \u001b[0;36m_call\u001b[0;34m(self, inputs)\u001b[0m\n\u001b[1;32m   2673\u001b[0m             \u001b[0mfetched\u001b[0m \u001b[0;34m=\u001b[0m \u001b[0mself\u001b[0m\u001b[0;34m.\u001b[0m\u001b[0m_callable_fn\u001b[0m\u001b[0;34m(\u001b[0m\u001b[0;34m*\u001b[0m\u001b[0marray_vals\u001b[0m\u001b[0;34m,\u001b[0m \u001b[0mrun_metadata\u001b[0m\u001b[0;34m=\u001b[0m\u001b[0mself\u001b[0m\u001b[0;34m.\u001b[0m\u001b[0mrun_metadata\u001b[0m\u001b[0;34m)\u001b[0m\u001b[0;34m\u001b[0m\u001b[0m\n\u001b[1;32m   2674\u001b[0m         \u001b[0;32melse\u001b[0m\u001b[0;34m:\u001b[0m\u001b[0;34m\u001b[0m\u001b[0m\n\u001b[0;32m-> 2675\u001b[0;31m             \u001b[0mfetched\u001b[0m \u001b[0;34m=\u001b[0m \u001b[0mself\u001b[0m\u001b[0;34m.\u001b[0m\u001b[0m_callable_fn\u001b[0m\u001b[0;34m(\u001b[0m\u001b[0;34m*\u001b[0m\u001b[0marray_vals\u001b[0m\u001b[0;34m)\u001b[0m\u001b[0;34m\u001b[0m\u001b[0m\n\u001b[0m\u001b[1;32m   2676\u001b[0m         \u001b[0;32mreturn\u001b[0m \u001b[0mfetched\u001b[0m\u001b[0;34m[\u001b[0m\u001b[0;34m:\u001b[0m\u001b[0mlen\u001b[0m\u001b[0;34m(\u001b[0m\u001b[0mself\u001b[0m\u001b[0;34m.\u001b[0m\u001b[0moutputs\u001b[0m\u001b[0;34m)\u001b[0m\u001b[0;34m]\u001b[0m\u001b[0;34m\u001b[0m\u001b[0m\n\u001b[1;32m   2677\u001b[0m \u001b[0;34m\u001b[0m\u001b[0m\n",
      "\u001b[0;32m~/.virtualenvs/gdl/lib/python3.6/site-packages/tensorflow/python/client/session.py\u001b[0m in \u001b[0;36m__call__\u001b[0;34m(self, *args, **kwargs)\u001b[0m\n\u001b[1;32m   1380\u001b[0m           ret = tf_session.TF_SessionRunCallable(\n\u001b[1;32m   1381\u001b[0m               \u001b[0mself\u001b[0m\u001b[0;34m.\u001b[0m\u001b[0m_session\u001b[0m\u001b[0;34m.\u001b[0m\u001b[0m_session\u001b[0m\u001b[0;34m,\u001b[0m \u001b[0mself\u001b[0m\u001b[0;34m.\u001b[0m\u001b[0m_handle\u001b[0m\u001b[0;34m,\u001b[0m \u001b[0margs\u001b[0m\u001b[0;34m,\u001b[0m \u001b[0mstatus\u001b[0m\u001b[0;34m,\u001b[0m\u001b[0;34m\u001b[0m\u001b[0m\n\u001b[0;32m-> 1382\u001b[0;31m               run_metadata_ptr)\n\u001b[0m\u001b[1;32m   1383\u001b[0m         \u001b[0;32mif\u001b[0m \u001b[0mrun_metadata\u001b[0m\u001b[0;34m:\u001b[0m\u001b[0;34m\u001b[0m\u001b[0m\n\u001b[1;32m   1384\u001b[0m           \u001b[0mproto_data\u001b[0m \u001b[0;34m=\u001b[0m \u001b[0mtf_session\u001b[0m\u001b[0;34m.\u001b[0m\u001b[0mTF_GetBuffer\u001b[0m\u001b[0;34m(\u001b[0m\u001b[0mrun_metadata_ptr\u001b[0m\u001b[0;34m)\u001b[0m\u001b[0;34m\u001b[0m\u001b[0m\n",
      "\u001b[0;31mKeyboardInterrupt\u001b[0m: "
     ]
    }
   ],
   "source": [
    "d_losses, g_losses, d_accs, g_accs = gan.train(     \n",
    "    x_train\n",
    "    , batch_size = 128\n",
    "    , epochs = 2000\n",
    "    , run_folder = RUN_FOLDER\n",
    "    , print_every_n_batches = 10\n",
    "    , n_critic = 5\n",
    "    , using_generator = False\n",
    "\n",
    ")"
   ]
  },
  {
   "cell_type": "code",
   "execution_count": null,
   "metadata": {},
   "outputs": [],
   "source": [
    "idx = np.random.randint(0, x_train.shape[0], 1)[0]\n",
    "gan.discriminator.predict(np.array([x_train[idx]]))"
   ]
  },
  {
   "cell_type": "code",
   "execution_count": null,
   "metadata": {},
   "outputs": [],
   "source": [
    "noise = np.random.normal(0, 1, (1, gan.z_dim))\n",
    "gen_imgs = gan.generator.predict(noise)\n",
    "gan.discriminator.predict(np.array([gen_imgs[0]]))"
   ]
  },
  {
   "cell_type": "code",
   "execution_count": null,
   "metadata": {},
   "outputs": [],
   "source": [
    "gan.train_discriminator(x_train, batch_size = 32, clip_threshold = 0.01)"
   ]
  },
  {
   "cell_type": "code",
   "execution_count": null,
   "metadata": {},
   "outputs": [],
   "source": []
  },
  {
   "cell_type": "code",
   "execution_count": null,
   "metadata": {},
   "outputs": [],
   "source": []
  },
  {
   "cell_type": "code",
   "execution_count": null,
   "metadata": {},
   "outputs": [],
   "source": [
    "fake = np.ones((128,1))\n",
    "noise = np.random.normal(0, 1, (128, 100))\n",
    "gen_imgs = gan.generator.predict(noise)\n",
    "# gan.discriminator.train_on_batch(gen_imgs, fake)"
   ]
  },
  {
   "cell_type": "code",
   "execution_count": null,
   "metadata": {},
   "outputs": [],
   "source": [
    "[(np.min(x), np.max(x)) for x in gan.discriminator.get_weights()]"
   ]
  },
  {
   "cell_type": "code",
   "execution_count": null,
   "metadata": {},
   "outputs": [],
   "source": [
    "gan.train_generator(batch_size = 128)"
   ]
  },
  {
   "cell_type": "code",
   "execution_count": null,
   "metadata": {},
   "outputs": [],
   "source": [
    "[np.round((np.min(x), np.max(x)), 4) for x in gan.generator.get_weights()]"
   ]
  },
  {
   "cell_type": "code",
   "execution_count": null,
   "metadata": {},
   "outputs": [],
   "source": []
  },
  {
   "cell_type": "code",
   "execution_count": null,
   "metadata": {},
   "outputs": [],
   "source": [
    "fake = np.ones((128,1))\n",
    "noise = np.random.normal(0, 1, (128, 100))\n",
    "gen_imgs = gan.generator.predict(noise)\n",
    "plt.imshow(np.clip((gen_imgs[100]+1)*0.5,0,1))"
   ]
  },
  {
   "cell_type": "code",
   "execution_count": null,
   "metadata": {},
   "outputs": [],
   "source": [
    "gan.discriminator.predict(x)"
   ]
  },
  {
   "cell_type": "code",
   "execution_count": null,
   "metadata": {},
   "outputs": [],
   "source": []
  },
  {
   "cell_type": "code",
   "execution_count": 14,
   "metadata": {},
   "outputs": [
    {
     "data": {
      "text/plain": [
       "[<matplotlib.lines.Line2D at 0x1278517b8>]"
      ]
     },
     "execution_count": 14,
     "metadata": {},
     "output_type": "execute_result"
    },
    {
     "data": {
      "image/png": "[encoded data removed]",
      "text/plain": [
       "<Figure size 432x288 with 1 Axes>"
      ]
     },
     "metadata": {
      "needs_background": "light"
     },
     "output_type": "display_data"
    }
   ],
   "source": [
    "plt.plot(gan.g_losses, color='orange', linewidth=1)\n",
    "plt.plot([x[0] for x in gan.d_losses], color='green', linewidth=1)\n",
    "plt.plot([x[1] for x in gan.d_losses], color='blue', linewidth=0.5)\n",
    "plt.plot([x[2] for x in gan.d_losses], color='blue', linewidth=0.5)\n"
   ]
  },
  {
   "cell_type": "code",
   "execution_count": 16,
   "metadata": {},
   "outputs": [
    {
     "data": {
      "text/plain": [
       "[[9.712793, -0.021589002, 0.00023756124, 0.9734145],\n",
       " [9.292482, -0.09521676, 0.023502707, 0.9364197],\n",
       " [8.484461, -0.2724628, 0.13239037, 0.8624534],\n",
       " [6.781767, -0.6570329, 0.40950206, 0.7029298],\n",
       " [3.7839234, -1.2681181, 0.9652281, 0.40868136],\n",
       " [0.6696502, -1.6310061, 1.0569742, 0.12436822],\n",
       " [0.57588875, -1.2045791, 0.38126293, 0.1399205],\n",
       " [0.69993293, -0.4834251, 0.55212635, 0.063123174],\n",
       " [1.3797443, 0.36920774, 0.6803542, 0.033018228],\n",
       " [0.6412577, 0.24487923, 0.24440722, 0.015197124],\n",
       " [1.5292203, 1.5586866, -0.18100432, 0.015153796],\n",
       " [0.7206833, 1.3072059, -0.7145843, 0.012806163],\n",
       " [-0.50818455, 1.338218, -1.8857976, 0.0039395085],\n",
       " [-1.9878968, 1.5900763, -3.6136255, 0.0035652255],\n",
       " [-3.3243172, 2.336929, -5.738769, 0.007752285],\n",
       " [-3.4756038, 4.073467, -7.70636, 0.015728937],\n",
       " [-4.4066877, 5.450396, -10.013626, 0.015654255],\n",
       " [-4.8044424, 7.767126, -12.723664, 0.015209599],\n",
       " [-5.2614074, 10.5736685, -16.002504, 0.016742866],\n",
       " [-6.472101, 12.375777, -19.140879, 0.02930004],\n",
       " [-7.596407, 12.990658, -21.168123, 0.05810583],\n",
       " [-6.854027, 13.319485, -20.969503, 0.07959919],\n",
       " [-7.094642, 12.141023, -20.257206, 0.102154106],\n",
       " [-7.1011343, 11.772109, -19.711483, 0.083823964],\n",
       " [-7.018758, 12.092147, -19.9278, 0.08168946],\n",
       " [-7.335338, 14.676285, -22.977701, 0.09660781],\n",
       " [-8.614478, 15.724397, -25.32664, 0.09877647],\n",
       " [-9.2735615, 17.957731, -28.477507, 0.12462142],\n",
       " [-9.886026, 18.116396, -29.339966, 0.13375439],\n",
       " [-10.576002, 17.691364, -29.798058, 0.15306917],\n",
       " [-10.292293, 18.043669, -29.8902, 0.15542385],\n",
       " [-9.851985, 16.69475, -27.92148, 0.13747454],\n",
       " [-8.707539, 17.032185, -27.136772, 0.13970491],\n",
       " [-9.009211, 16.076963, -26.489107, 0.14029333],\n",
       " [-9.144437, 14.855717, -25.238066, 0.12379119],\n",
       " [-9.421321, 14.31903, -25.011942, 0.12715915],\n",
       " [-9.567235, 15.483234, -26.685997, 0.16355278],\n",
       " [-9.639436, 14.995988, -26.25781, 0.16223869],\n",
       " [-8.850098, 13.472856, -23.48965, 0.1166698],\n",
       " [-9.426803, 16.064243, -27.21981, 0.17287643],\n",
       " [-8.771262, 13.681947, -23.755306, 0.1302097],\n",
       " [-8.6512985, 14.094028, -24.161264, 0.14159372],\n",
       " [-8.778368, 14.171942, -24.271097, 0.13207875],\n",
       " [-8.930129, 14.799953, -25.29779, 0.1567708],\n",
       " [-9.215539, 12.631008, -22.811367, 0.096482],\n",
       " [-8.599464, 13.4465885, -23.356873, 0.13108194],\n",
       " [-8.014192, 16.522184, -26.02665, 0.14902735],\n",
       " [-8.378408, 12.442106, -21.658031, 0.08375167],\n",
       " [-7.7685823, 12.457479, -21.658632, 0.14325713],\n",
       " [-8.635803, 13.020411, -22.602293, 0.09460795],\n",
       " [-7.852877, 13.4773445, -22.584105, 0.1253883],\n",
       " [-7.4918528, 13.400269, -22.19343, 0.13013087],\n",
       " [-7.5644073, 12.377025, -20.747955, 0.080652356],\n",
       " [-7.980221, 14.855789, -24.347168, 0.15111578],\n",
       " [-7.457173, 13.88242, -22.553432, 0.12138402],\n",
       " [-7.4385586, 11.446833, -19.507265, 0.062187377],\n",
       " [-7.1357174, 11.213751, -19.2361, 0.088663094],\n",
       " [-7.662736, 12.356922, -21.218998, 0.11993399],\n",
       " [-6.958779, 11.6822195, -19.437038, 0.079604015],\n",
       " [-6.482263, 11.332168, -18.85784, 0.10434088],\n",
       " [-7.1701384, 13.637635, -22.244846, 0.1437073],\n",
       " [-7.1470804, 11.370448, -19.473421, 0.09558924],\n",
       " [-6.9270196, 8.125541, -15.835033, 0.07824731],\n",
       " [-6.5044193, 8.45659, -15.700332, 0.073932275],\n",
       " [-6.228934, 6.4134245, -13.283016, 0.06406581],\n",
       " [-6.0196433, 8.869026, -15.699924, 0.08112551],\n",
       " [-6.0042753, 7.794289, -14.463302, 0.06647374],\n",
       " [-5.7787304, 7.762069, -14.273223, 0.07324232],\n",
       " [-5.191619, 2.628654, -8.237474, 0.04172017],\n",
       " [-5.0044365, 4.5550265, -10.174607, 0.061514433],\n",
       " [-5.111574, 5.486158, -11.121541, 0.052380875],\n",
       " [-4.922424, 4.7939844, -10.472331, 0.075592294],\n",
       " [-4.7926025, 4.815488, -9.888651, 0.028056053],\n",
       " [-4.4078918, 1.9601268, -6.805039, 0.04370201],\n",
       " [-3.8081784, -2.8104336, -1.4732325, 0.047548763],\n",
       " [-3.9684124, 0.50941217, -4.90226, 0.04244351],\n",
       " [-3.7041974, 1.1468976, -5.2558126, 0.0404718],\n",
       " [-3.9641433, -0.5869519, -3.7579691, 0.03807777],\n",
       " [-3.8813846, 1.4283808, -5.4255853, 0.011581958],\n",
       " [-3.4781876, 1.4792043, -5.3017893, 0.034439743],\n",
       " [-3.654199, 3.2403104, -7.2022023, 0.03076929],\n",
       " [-3.2998421, -1.8722895, -1.7206604, 0.029310765],\n",
       " [-3.1939394, -1.6804473, -1.8417554, 0.032826338],\n",
       " [-3.4318712, 2.5292242, -6.2461476, 0.028505234],\n",
       " [-3.0649948, 1.8940396, -5.2852736, 0.03262392],\n",
       " [-2.9697683, -7.34342, 3.8799257, 0.04937261],\n",
       " [-3.2322185, -5.716088, 2.3173776, 0.016649172],\n",
       " [-2.5193112, 2.610618, -5.3064036, 0.017647441],\n",
       " [-2.6632407, 2.751176, -5.664129, 0.024971198],\n",
       " [-2.7179127, -2.5891025, -0.19562462, 0.006681442],\n",
       " [-2.8184566, 4.521771, -7.6154923, 0.027526468],\n",
       " [-2.6963696, -7.6188197, 4.7363057, 0.018614423],\n",
       " [-2.794178, -1.4358412, -1.5974295, 0.023909278],\n",
       " [-2.7376604, 0.18414329, -3.0519452, 0.013014156],\n",
       " [-2.7283218, -2.9224281, 0.030934213, 0.016317219],\n",
       " [-2.517493, 1.916265, -4.6655498, 0.023179173],\n",
       " [-2.5927675, -4.959569, 2.194389, 0.017241243],\n",
       " [-2.164221, -1.6568872, -0.68552935, 0.017819542]]"
      ]
     },
     "execution_count": 16,
     "metadata": {},
     "output_type": "execute_result"
    }
   ],
   "source": [
    "gan.d_losses"
   ]
  },
  {
   "cell_type": "code",
   "execution_count": 17,
   "metadata": {},
   "outputs": [
    {
     "data": {
      "text/plain": [
       "[0.0015914603,\n",
       " -0.02937794,\n",
       " -0.15890738,\n",
       " -0.4630575,\n",
       " -0.96253306,\n",
       " -0.802805,\n",
       " -0.23744728,\n",
       " -0.3332591,\n",
       " -0.2918672,\n",
       " 0.042336203,\n",
       " 0.33708254,\n",
       " 0.9403269,\n",
       " 2.2233832,\n",
       " 4.1012692,\n",
       " 6.4142685,\n",
       " 8.334853,\n",
       " 10.920329,\n",
       " 13.642928,\n",
       " 17.166975,\n",
       " 20.08961,\n",
       " 21.860605,\n",
       " 20.756817,\n",
       " 20.04144,\n",
       " 19.762066,\n",
       " 20.590778,\n",
       " 23.578043,\n",
       " 26.914032,\n",
       " 29.158293,\n",
       " 30.21884,\n",
       " 30.637718,\n",
       " 30.072481,\n",
       " 29.282927,\n",
       " 26.89973,\n",
       " 25.248434,\n",
       " 26.179405,\n",
       " 27.70533,\n",
       " 25.232615,\n",
       " 25.886162,\n",
       " 26.412056,\n",
       " 25.111116,\n",
       " 24.821726,\n",
       " 22.14865,\n",
       " 23.973001,\n",
       " 23.050638,\n",
       " 27.756233,\n",
       " 23.612274,\n",
       " 23.013338,\n",
       " 25.80057,\n",
       " 21.373617,\n",
       " 26.773348,\n",
       " 22.88965,\n",
       " 19.355423,\n",
       " 23.400454,\n",
       " 21.033855,\n",
       " 20.834217,\n",
       " 22.312632,\n",
       " 18.366093,\n",
       " 19.865324,\n",
       " 21.529264,\n",
       " 16.089382,\n",
       " 15.070022,\n",
       " 21.80688,\n",
       " 15.022739,\n",
       " 13.617646,\n",
       " 16.54608,\n",
       " 13.387997,\n",
       " 15.645461,\n",
       " 12.122712,\n",
       " 13.094619,\n",
       " 9.87813,\n",
       " 11.245943,\n",
       " 2.6945534,\n",
       " 9.891329,\n",
       " 8.018006,\n",
       " 5.87541,\n",
       " 7.615998,\n",
       " 4.7429276,\n",
       " 5.326627,\n",
       " 8.298918,\n",
       " 0.8365704,\n",
       " 9.508805,\n",
       " 1.2454412,\n",
       " 3.5104525,\n",
       " 6.837763,\n",
       " 6.828783,\n",
       " 5.198678,\n",
       " -5.5690255,\n",
       " 5.3131437,\n",
       " 3.0945356,\n",
       " 0.6518811,\n",
       " 8.06057,\n",
       " -1.7010288,\n",
       " -1.5620646,\n",
       " 7.143081,\n",
       " -2.5433593,\n",
       " 7.756226,\n",
       " -1.1701853,\n",
       " 3.6554792]"
      ]
     },
     "execution_count": 17,
     "metadata": {},
     "output_type": "execute_result"
    }
   ],
   "source": [
    "gan.g_losses"
   ]
  },
  {
   "cell_type": "code",
   "execution_count": null,
   "metadata": {},
   "outputs": [],
   "source": []
  }
 ],
 "metadata": {
  "kernelspec": {
   "display_name": "gdl",
   "language": "python",
   "name": "gdl"
  },
  "language_info": {
   "codemirror_mode": {
    "name": "ipython",
    "version": 3
   },
   "file_extension": ".py",
   "mimetype": "text/x-python",
   "name": "python",
   "nbconvert_exporter": "python",
   "pygments_lexer": "ipython3",
   "version": "3.6.5"
  }
 },
 "nbformat": 4,
 "nbformat_minor": 2
}
