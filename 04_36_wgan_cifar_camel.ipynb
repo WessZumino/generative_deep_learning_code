{
 "cells": [
  {
   "cell_type": "markdown",
   "metadata": {},
   "source": [
    "# WGAN Training"
   ]
  },
  {
   "cell_type": "markdown",
   "metadata": {},
   "source": [
    "## imports"
   ]
  },
  {
   "cell_type": "code",
   "execution_count": 1,
   "metadata": {},
   "outputs": [
    {
     "name": "stderr",
     "output_type": "stream",
     "text": [
      "Using TensorFlow backend.\n"
     ]
    }
   ],
   "source": [
    "%matplotlib inline\n",
    "\n",
    "import os\n",
    "import numpy as np\n",
    "import matplotlib.pyplot as plt\n",
    "\n",
    "from models.WGAN import WGAN\n",
    "from utils.loaders import load_safari, load_cifar\n",
    "from keras.preprocessing.image import ImageDataGenerator\n"
   ]
  },
  {
   "cell_type": "code",
   "execution_count": 2,
   "metadata": {},
   "outputs": [],
   "source": [
    "RUN_ID = '0036'\n",
    "RUN_FOLDER = os.path.join(\"./run\", RUN_ID)\n",
    "\n",
    "BATCH_SIZE = 128\n",
    "IMAGE_SIZE = 32"
   ]
  },
  {
   "cell_type": "markdown",
   "metadata": {},
   "source": [
    "## data"
   ]
  },
  {
   "cell_type": "code",
   "execution_count": 3,
   "metadata": {},
   "outputs": [],
   "source": [
    "label = 15\n",
    "(x_train, y_train) = load_cifar(label,100)\n",
    "# (x_train, y_train) = load_safari('elephant')\n"
   ]
  },
  {
   "cell_type": "markdown",
   "metadata": {},
   "source": [
    "## architecture"
   ]
  },
  {
   "cell_type": "code",
   "execution_count": 4,
   "metadata": {},
   "outputs": [
    {
     "data": {
      "text/plain": [
       "<matplotlib.image.AxesImage at 0x117a297f0>"
      ]
     },
     "execution_count": 4,
     "metadata": {},
     "output_type": "execute_result"
    },
    {
     "data": {
      "image/png": "[encoded data removed]",
      "text/plain": [
       "<Figure size 432x288 with 1 Axes>"
      ]
     },
     "metadata": {
      "needs_background": "light"
     },
     "output_type": "display_data"
    }
   ],
   "source": [
    "plt.imshow((x_train[2,:,:,:]+1)*0.5)"
   ]
  },
  {
   "cell_type": "code",
   "execution_count": 5,
   "metadata": {},
   "outputs": [
    {
     "name": "stdout",
     "output_type": "stream",
     "text": [
      "-1.0\n",
      "1.0\n"
     ]
    }
   ],
   "source": [
    "print(np.min(x_train))\n",
    "print(np.max(x_train))"
   ]
  },
  {
   "cell_type": "code",
   "execution_count": 6,
   "metadata": {},
   "outputs": [
    {
     "name": "stdout",
     "output_type": "stream",
     "text": [
      "(600, 32, 32, 3)\n"
     ]
    }
   ],
   "source": [
    "print(x_train.shape)"
   ]
  },
  {
   "cell_type": "code",
   "execution_count": 7,
   "metadata": {},
   "outputs": [],
   "source": [
    "\n",
    "\n",
    "# gan = WGAN(input_dim = (IMAGE_SIZE,IMAGE_SIZE,3)\n",
    "#         , critic_conv_filters = [64,128,256,512]\n",
    "#         , critic_conv_kernel_size = [5,5,5,5]\n",
    "#         , critic_conv_strides = [2,2,2,2]\n",
    "#         , critic_conv_padding = 'same'\n",
    "#         , critic_batch_norm_momentum = None #0.9\n",
    "#         , critic_activation = 'leaky_relu'\n",
    "#         , critic_dropout_rate = None\n",
    "#         , critic_learning_rate = 0.00005\n",
    "#         , generator_initial_dense_layer_size = (4, 4, 512)\n",
    "#         , generator_upsample =[1,1,1,1]\n",
    "#         , generator_conv_filters = [256,128, 64,3]\n",
    "#         , generator_conv_kernel_size = [3,3,3,3]\n",
    "#         , generator_conv_strides = [2,2,2,2]\n",
    "#         , generator_conv_padding = 'same'\n",
    "#         , generator_batch_norm_momentum = 0.9\n",
    "#         , generator_activation = 'relu'\n",
    "#         , generator_dropout_rate = None\n",
    "#         , generator_learning_rate = 0.00005\n",
    "#         , optimiser = 'rmsprop'\n",
    "#         , z_dim = 100\n",
    "#         )\n",
    "\n",
    "gan = WGAN(input_dim = (IMAGE_SIZE,IMAGE_SIZE,3)\n",
    "        , critic_conv_filters = [64,64,128,128]\n",
    "        , critic_conv_kernel_size = [5,5,5,5]\n",
    "        , critic_conv_strides = [2,2,2,1]\n",
    "        , critic_conv_padding = 'same'\n",
    "        , critic_batch_norm_momentum = None\n",
    "        , critic_activation = 'leaky_relu'\n",
    "        , critic_dropout_rate = None\n",
    "        , critic_learning_rate = 0.00005\n",
    "        , generator_initial_dense_layer_size = (8, 8, 64)\n",
    "        , generator_upsample = [2,2, 1, 1]\n",
    "        , generator_conv_filters = [128,64, 64,3]\n",
    "        , generator_conv_kernel_size = [5,5,5,5]\n",
    "        , generator_conv_strides = [1,1, 1, 1]\n",
    "        , generator_conv_padding = 'same'\n",
    "        , generator_batch_norm_momentum = 0.8\n",
    "        , generator_activation = 'relu'\n",
    "        , generator_dropout_rate = None\n",
    "        , generator_learning_rate = 0.00005\n",
    "        , optimiser = 'rmsprop'\n",
    "        , z_dim = 100\n",
    "        )\n",
    "\n",
    "gan.save(RUN_FOLDER)\n",
    "\n",
    "\n"
   ]
  },
  {
   "cell_type": "code",
   "execution_count": 8,
   "metadata": {},
   "outputs": [],
   "source": [
    "#gan.load_weights(os.path.join(RUN_FOLDER, 'weights/weights.h5'))"
   ]
  },
  {
   "cell_type": "code",
   "execution_count": 9,
   "metadata": {},
   "outputs": [
    {
     "name": "stdout",
     "output_type": "stream",
     "text": [
      "_________________________________________________________________\n",
      "Layer (type)                 Output Shape              Param #   \n",
      "=================================================================\n",
      "critic_input (InputLayer)    (None, 32, 32, 3)         0         \n",
      "_________________________________________________________________\n",
      "critic_conv_0 (Conv2D)       (None, 16, 16, 64)        4864      \n",
      "_________________________________________________________________\n",
      "leaky_re_lu_1 (LeakyReLU)    (None, 16, 16, 64)        0         \n",
      "_________________________________________________________________\n",
      "critic_conv_1 (Conv2D)       (None, 8, 8, 64)          102464    \n",
      "_________________________________________________________________\n",
      "leaky_re_lu_2 (LeakyReLU)    (None, 8, 8, 64)          0         \n",
      "_________________________________________________________________\n",
      "critic_conv_2 (Conv2D)       (None, 4, 4, 128)         204928    \n",
      "_________________________________________________________________\n",
      "leaky_re_lu_3 (LeakyReLU)    (None, 4, 4, 128)         0         \n",
      "_________________________________________________________________\n",
      "critic_conv_3 (Conv2D)       (None, 4, 4, 128)         409728    \n",
      "_________________________________________________________________\n",
      "leaky_re_lu_4 (LeakyReLU)    (None, 4, 4, 128)         0         \n",
      "_________________________________________________________________\n",
      "flatten_1 (Flatten)          (None, 2048)              0         \n",
      "_________________________________________________________________\n",
      "dense_1 (Dense)              (None, 1)                 2049      \n",
      "=================================================================\n",
      "Total params: 724,033\n",
      "Trainable params: 724,033\n",
      "Non-trainable params: 0\n",
      "_________________________________________________________________\n"
     ]
    }
   ],
   "source": [
    "gan.critic.summary()"
   ]
  },
  {
   "cell_type": "code",
   "execution_count": 10,
   "metadata": {
    "scrolled": false
   },
   "outputs": [
    {
     "name": "stdout",
     "output_type": "stream",
     "text": [
      "_________________________________________________________________\n",
      "Layer (type)                 Output Shape              Param #   \n",
      "=================================================================\n",
      "generator_input (InputLayer) (None, 100)               0         \n",
      "_________________________________________________________________\n",
      "dense_2 (Dense)              (None, 4096)              413696    \n",
      "_________________________________________________________________\n",
      "batch_normalization_1 (Batch (None, 4096)              16384     \n",
      "_________________________________________________________________\n",
      "leaky_re_lu_5 (LeakyReLU)    (None, 4096)              0         \n",
      "_________________________________________________________________\n",
      "reshape_1 (Reshape)          (None, 8, 8, 64)          0         \n",
      "_________________________________________________________________\n",
      "up_sampling2d_1 (UpSampling2 (None, 16, 16, 64)        0         \n",
      "_________________________________________________________________\n",
      "generator_conv_0 (Conv2DTran (None, 16, 16, 128)       204928    \n",
      "_________________________________________________________________\n",
      "batch_normalization_2 (Batch (None, 16, 16, 128)       512       \n",
      "_________________________________________________________________\n",
      "leaky_re_lu_6 (LeakyReLU)    (None, 16, 16, 128)       0         \n",
      "_________________________________________________________________\n",
      "up_sampling2d_2 (UpSampling2 (None, 32, 32, 128)       0         \n",
      "_________________________________________________________________\n",
      "generator_conv_1 (Conv2DTran (None, 32, 32, 64)        204864    \n",
      "_________________________________________________________________\n",
      "batch_normalization_3 (Batch (None, 32, 32, 64)        256       \n",
      "_________________________________________________________________\n",
      "leaky_re_lu_7 (LeakyReLU)    (None, 32, 32, 64)        0         \n",
      "_________________________________________________________________\n",
      "generator_conv_2 (Conv2DTran (None, 32, 32, 64)        102464    \n",
      "_________________________________________________________________\n",
      "batch_normalization_4 (Batch (None, 32, 32, 64)        256       \n",
      "_________________________________________________________________\n",
      "leaky_re_lu_8 (LeakyReLU)    (None, 32, 32, 64)        0         \n",
      "_________________________________________________________________\n",
      "generator_conv_3 (Conv2DTran (None, 32, 32, 3)         4803      \n",
      "_________________________________________________________________\n",
      "activation_1 (Activation)    (None, 32, 32, 3)         0         \n",
      "=================================================================\n",
      "Total params: 948,163\n",
      "Trainable params: 939,459\n",
      "Non-trainable params: 8,704\n",
      "_________________________________________________________________\n"
     ]
    }
   ],
   "source": [
    "gan.generator.summary()"
   ]
  },
  {
   "cell_type": "markdown",
   "metadata": {},
   "source": [
    "## training"
   ]
  },
  {
   "cell_type": "code",
   "execution_count": null,
   "metadata": {
    "scrolled": false
   },
   "outputs": [
    {
     "name": "stderr",
     "output_type": "stream",
     "text": [
      "/Users/davidfoster/.virtualenvs/gdl/lib/python3.6/site-packages/keras/engine/training.py:490: UserWarning: Discrepancy between trainable weights and collected trainable weights, did you set `model.trainable` without calling `model.compile` after ?\n",
      "  'Discrepancy between trainable weights and collected trainable'\n"
     ]
    },
    {
     "name": "stdout",
     "output_type": "stream",
     "text": [
      "0 (5, 1) [D loss: (-0.000)(R -0.001, F 0.000)]  [G loss: -0.001] \n",
      "1 (5, 1) [D loss: (-0.000)(R -0.001, F 0.001)]  [G loss: -0.000] \n",
      "2 (5, 1) [D loss: (-0.001)(R -0.002, F 0.001)]  [G loss: -0.000] \n",
      "3 (5, 1) [D loss: (-0.000)(R -0.002, F 0.002)]  [G loss: -0.000] \n",
      "4 (5, 1) [D loss: (-0.003)(R -0.004, F 0.001)]  [G loss: -0.001] \n",
      "5 (5, 1) [D loss: (-0.001)(R -0.004, F 0.004)]  [G loss: -0.002] \n",
      "6 (5, 1) [D loss: (-0.001)(R -0.005, F 0.004)]  [G loss: -0.004] \n",
      "7 (5, 1) [D loss: (-0.000)(R -0.006, F 0.006)]  [G loss: -0.004] \n",
      "8 (5, 1) [D loss: (-0.001)(R -0.006, F 0.005)]  [G loss: -0.004] \n",
      "9 (5, 1) [D loss: (-0.002)(R -0.006, F 0.004)]  [G loss: -0.010] \n",
      "10 (5, 1) [D loss: (0.001)(R -0.005, F 0.006)]  [G loss: -0.004] \n",
      "11 (5, 1) [D loss: (-0.001)(R -0.004, F 0.003)]  [G loss: -0.002] \n",
      "12 (5, 1) [D loss: (-0.001)(R -0.003, F 0.002)]  [G loss: -0.003] \n",
      "13 (5, 1) [D loss: (-0.001)(R -0.002, F 0.001)]  [G loss: 0.000] \n",
      "14 (5, 1) [D loss: (-0.002)(R -0.001, F -0.000)]  [G loss: 0.003] \n",
      "15 (5, 1) [D loss: (-0.002)(R -0.001, F -0.001)]  [G loss: 0.004] \n",
      "16 (5, 1) [D loss: (-0.001)(R 0.001, F -0.002)]  [G loss: 0.007] \n",
      "17 (5, 1) [D loss: (-0.008)(R -0.000, F -0.008)]  [G loss: 0.013] \n",
      "18 (5, 1) [D loss: (-0.001)(R 0.001, F -0.002)]  [G loss: 0.011] \n",
      "19 (5, 1) [D loss: (-0.047)(R -0.006, F -0.041)]  [G loss: 0.019] \n",
      "20 (5, 1) [D loss: (0.007)(R -0.000, F 0.008)]  [G loss: 0.007] \n",
      "21 (5, 1) [D loss: (-0.002)(R -0.000, F -0.001)]  [G loss: 0.007] \n",
      "22 (5, 1) [D loss: (-0.008)(R 0.004, F -0.012)]  [G loss: 0.004] \n",
      "23 (5, 1) [D loss: (0.004)(R 0.001, F 0.003)]  [G loss: 0.003] \n",
      "24 (5, 1) [D loss: (-0.004)(R -0.004, F -0.001)]  [G loss: -0.001] \n",
      "25 (5, 1) [D loss: (-0.002)(R -0.002, F 0.000)]  [G loss: -0.005] \n",
      "26 (5, 1) [D loss: (-0.000)(R -0.005, F 0.005)]  [G loss: -0.006] \n",
      "27 (5, 1) [D loss: (0.001)(R -0.005, F 0.005)]  [G loss: -0.006] \n",
      "28 (5, 1) [D loss: (-0.000)(R -0.005, F 0.005)]  [G loss: -0.006] \n",
      "29 (5, 1) [D loss: (-0.001)(R -0.005, F 0.004)]  [G loss: -0.003] \n",
      "30 (5, 1) [D loss: (-0.003)(R -0.006, F 0.003)]  [G loss: -0.001] \n",
      "31 (5, 1) [D loss: (-0.004)(R -0.007, F 0.003)]  [G loss: -0.001] \n",
      "32 (5, 1) [D loss: (-0.007)(R -0.007, F 0.000)]  [G loss: 0.003] \n",
      "33 (5, 1) [D loss: (-0.007)(R -0.010, F 0.003)]  [G loss: 0.002] \n",
      "34 (5, 1) [D loss: (-0.007)(R -0.008, F 0.002)]  [G loss: 0.005] \n",
      "35 (5, 1) [D loss: (-0.003)(R -0.007, F 0.004)]  [G loss: 0.005] \n",
      "36 (5, 1) [D loss: (-0.001)(R -0.004, F 0.003)]  [G loss: 0.005] \n",
      "37 (5, 1) [D loss: (-0.010)(R -0.007, F -0.003)]  [G loss: 0.007] \n",
      "38 (5, 1) [D loss: (0.001)(R -0.003, F 0.004)]  [G loss: 0.007] \n",
      "39 (5, 1) [D loss: (-0.003)(R -0.002, F -0.001)]  [G loss: 0.007] \n",
      "40 (5, 1) [D loss: (-0.014)(R -0.005, F -0.009)]  [G loss: 0.006] \n",
      "41 (5, 1) [D loss: (0.001)(R -0.003, F 0.004)]  [G loss: 0.003] \n",
      "42 (5, 1) [D loss: (0.003)(R 0.000, F 0.003)]  [G loss: 0.005] \n",
      "43 (5, 1) [D loss: (-0.003)(R -0.000, F -0.003)]  [G loss: 0.003] \n",
      "44 (5, 1) [D loss: (-0.001)(R -0.000, F -0.001)]  [G loss: 0.002] \n",
      "45 (5, 1) [D loss: (-0.000)(R -0.000, F 0.000)]  [G loss: 0.001] \n",
      "46 (5, 1) [D loss: (-0.002)(R 0.000, F -0.002)]  [G loss: 0.001] \n",
      "47 (5, 1) [D loss: (-0.007)(R -0.004, F -0.002)]  [G loss: -0.002] \n",
      "48 (5, 1) [D loss: (-0.000)(R -0.002, F 0.001)]  [G loss: 0.002] \n",
      "49 (5, 1) [D loss: (-0.001)(R -0.002, F 0.001)]  [G loss: 0.002] \n",
      "50 (5, 1) [D loss: (-0.002)(R -0.001, F -0.001)]  [G loss: 0.002] \n",
      "51 (5, 1) [D loss: (-0.002)(R 0.001, F -0.003)]  [G loss: 0.002] \n",
      "52 (5, 1) [D loss: (-0.001)(R 0.000, F -0.001)]  [G loss: 0.004] \n",
      "53 (5, 1) [D loss: (-0.003)(R -0.001, F -0.002)]  [G loss: 0.006] \n",
      "54 (5, 1) [D loss: (-0.001)(R 0.001, F -0.003)]  [G loss: 0.008] \n",
      "55 (5, 1) [D loss: (-0.008)(R 0.000, F -0.008)]  [G loss: 0.012] \n",
      "56 (5, 1) [D loss: (-0.003)(R 0.002, F -0.005)]  [G loss: 0.011] \n",
      "57 (5, 1) [D loss: (-0.007)(R -0.000, F -0.007)]  [G loss: 0.012] \n",
      "58 (5, 1) [D loss: (-0.011)(R 0.002, F -0.013)]  [G loss: 0.016] \n",
      "59 (5, 1) [D loss: (-0.001)(R 0.003, F -0.004)]  [G loss: 0.014] \n",
      "60 (5, 1) [D loss: (-0.017)(R 0.001, F -0.018)]  [G loss: 0.014] \n",
      "61 (5, 1) [D loss: (0.001)(R 0.004, F -0.003)]  [G loss: 0.009] \n",
      "62 (5, 1) [D loss: (0.001)(R 0.003, F -0.001)]  [G loss: 0.009] \n",
      "63 (5, 1) [D loss: (-0.001)(R 0.003, F -0.003)]  [G loss: 0.006] \n",
      "64 (5, 1) [D loss: (-0.003)(R 0.000, F -0.003)]  [G loss: 0.004] \n",
      "65 (5, 1) [D loss: (-0.003)(R 0.002, F -0.004)]  [G loss: 0.003] \n",
      "66 (5, 1) [D loss: (0.001)(R -0.000, F 0.001)]  [G loss: 0.006] \n",
      "67 (5, 1) [D loss: (-0.004)(R -0.002, F -0.003)]  [G loss: 0.006] \n",
      "68 (5, 1) [D loss: (-0.006)(R 0.000, F -0.006)]  [G loss: 0.006] \n",
      "69 (5, 1) [D loss: (-0.004)(R 0.001, F -0.004)]  [G loss: 0.010] \n",
      "70 (5, 1) [D loss: (-0.004)(R 0.001, F -0.005)]  [G loss: 0.009] \n",
      "71 (5, 1) [D loss: (-0.005)(R 0.002, F -0.006)]  [G loss: 0.010] \n",
      "72 (5, 1) [D loss: (-0.005)(R 0.002, F -0.007)]  [G loss: 0.012] \n",
      "73 (5, 1) [D loss: (-0.007)(R 0.003, F -0.010)]  [G loss: 0.016] \n",
      "74 (5, 1) [D loss: (-0.007)(R 0.004, F -0.010)]  [G loss: 0.016] \n",
      "75 (5, 1) [D loss: (-0.008)(R 0.005, F -0.013)]  [G loss: 0.020] \n",
      "76 (5, 1) [D loss: (-0.005)(R 0.007, F -0.012)]  [G loss: 0.020] \n",
      "77 (5, 1) [D loss: (-0.008)(R 0.006, F -0.015)]  [G loss: 0.022] \n",
      "78 (5, 1) [D loss: (-0.012)(R 0.007, F -0.019)]  [G loss: 0.025] \n",
      "79 (5, 1) [D loss: (-0.008)(R 0.007, F -0.015)]  [G loss: 0.024] \n",
      "80 (5, 1) [D loss: (-0.022)(R 0.005, F -0.027)]  [G loss: 0.024] \n",
      "81 (5, 1) [D loss: (-0.009)(R 0.004, F -0.013)]  [G loss: 0.026] \n",
      "82 (5, 1) [D loss: (-0.013)(R 0.007, F -0.020)]  [G loss: 0.026] \n",
      "83 (5, 1) [D loss: (-0.017)(R 0.004, F -0.021)]  [G loss: 0.027] \n",
      "84 (5, 1) [D loss: (-0.015)(R 0.010, F -0.026)]  [G loss: 0.022] \n",
      "85 (5, 1) [D loss: (-0.014)(R 0.005, F -0.019)]  [G loss: 0.030] \n",
      "86 (5, 1) [D loss: (-0.024)(R 0.007, F -0.031)]  [G loss: 0.020] \n",
      "87 (5, 1) [D loss: (-0.012)(R 0.006, F -0.018)]  [G loss: 0.029] \n",
      "88 (5, 1) [D loss: (-0.007)(R 0.007, F -0.014)]  [G loss: 0.021] \n",
      "89 (5, 1) [D loss: (-0.016)(R -0.000, F -0.016)]  [G loss: 0.016] \n",
      "90 (5, 1) [D loss: (-0.013)(R 0.001, F -0.014)]  [G loss: 0.032] \n",
      "91 (5, 1) [D loss: (-0.019)(R 0.008, F -0.027)]  [G loss: 0.027] \n",
      "92 (5, 1) [D loss: (-0.009)(R 0.006, F -0.014)]  [G loss: 0.029] \n",
      "93 (5, 1) [D loss: (-0.020)(R 0.004, F -0.023)]  [G loss: 0.040] \n",
      "94 (5, 1) [D loss: (-0.017)(R 0.007, F -0.024)]  [G loss: 0.034] \n",
      "95 (5, 1) [D loss: (-0.028)(R 0.012, F -0.040)]  [G loss: 0.050] \n",
      "96 (5, 1) [D loss: (-0.009)(R 0.014, F -0.023)]  [G loss: 0.045] \n",
      "97 (5, 1) [D loss: (-0.019)(R 0.015, F -0.034)]  [G loss: 0.053] \n",
      "98 (5, 1) [D loss: (-0.022)(R 0.019, F -0.042)]  [G loss: 0.061] \n",
      "99 (5, 1) [D loss: (-0.019)(R 0.026, F -0.045)]  [G loss: 0.062] \n",
      "100 (5, 1) [D loss: (-0.030)(R 0.024, F -0.053)]  [G loss: 0.069] \n",
      "101 (5, 1) [D loss: (-0.031)(R 0.020, F -0.051)]  [G loss: 0.064] \n",
      "102 (5, 1) [D loss: (-0.025)(R 0.029, F -0.054)]  [G loss: 0.070] \n",
      "103 (5, 1) [D loss: (-0.023)(R 0.030, F -0.053)]  [G loss: 0.070] \n",
      "104 (5, 1) [D loss: (-0.025)(R 0.028, F -0.053)]  [G loss: 0.064] \n",
      "105 (5, 1) [D loss: (-0.033)(R 0.023, F -0.056)]  [G loss: 0.069] \n",
      "106 (5, 1) [D loss: (-0.013)(R 0.024, F -0.037)]  [G loss: 0.063] \n",
      "107 (5, 1) [D loss: (-0.014)(R 0.024, F -0.038)]  [G loss: 0.059] \n",
      "108 (5, 1) [D loss: (-0.017)(R 0.021, F -0.038)]  [G loss: 0.058] \n",
      "109 (5, 1) [D loss: (-0.008)(R 0.023, F -0.031)]  [G loss: 0.053] \n",
      "110 (5, 1) [D loss: (-0.019)(R 0.023, F -0.042)]  [G loss: 0.050] \n",
      "111 (5, 1) [D loss: (-0.022)(R 0.011, F -0.033)]  [G loss: 0.053] \n",
      "112 (5, 1) [D loss: (-0.029)(R 0.013, F -0.042)]  [G loss: 0.049] \n",
      "113 (5, 1) [D loss: (-0.010)(R 0.012, F -0.022)]  [G loss: 0.044] \n",
      "114 (5, 1) [D loss: (-0.016)(R 0.007, F -0.023)]  [G loss: 0.042] \n",
      "115 (5, 1) [D loss: (-0.013)(R 0.004, F -0.018)]  [G loss: 0.041] \n",
      "116 (5, 1) [D loss: (-0.015)(R 0.005, F -0.021)]  [G loss: 0.043] \n",
      "117 (5, 1) [D loss: (-0.013)(R 0.004, F -0.018)]  [G loss: 0.036] \n",
      "118 (5, 1) [D loss: (-0.009)(R 0.007, F -0.015)]  [G loss: 0.038] \n",
      "119 (5, 1) [D loss: (-0.024)(R 0.002, F -0.026)]  [G loss: 0.036] \n",
      "120 (5, 1) [D loss: (-0.027)(R 0.007, F -0.034)]  [G loss: 0.040] \n",
      "121 (5, 1) [D loss: (-0.022)(R 0.004, F -0.027)]  [G loss: 0.036] \n",
      "122 (5, 1) [D loss: (-0.005)(R -0.000, F -0.005)]  [G loss: 0.033] \n",
      "123 (5, 1) [D loss: (-0.011)(R 0.008, F -0.019)]  [G loss: 0.038] \n"
     ]
    }
   ],
   "source": [
    "gan.train(     \n",
    "    x_train\n",
    "    , batch_size = 128\n",
    "    , epochs = 20000\n",
    "    , run_folder = RUN_FOLDER\n",
    "    , print_every_n_batches = 5\n",
    "    , n_critic = 5\n",
    "    , large_it_critic = 10\n",
    "    , large_n_critic = 5\n",
    "    , clip_threshold = 0.01\n",
    "    , using_generator = False\n",
    ")"
   ]
  },
  {
   "cell_type": "code",
   "execution_count": null,
   "metadata": {},
   "outputs": [],
   "source": [
    "check = True\n",
    "while check :\n",
    "    \n",
    "    for _ in range(5):\n",
    "\n",
    "        valid = np.ones((BATCH_SIZE,1), dtype=np.float32)\n",
    "        fake = -np.ones((BATCH_SIZE,1), dtype=np.float32)\n",
    "\n",
    "        idx = np.random.randint(0, x_train.shape[0], BATCH_SIZE)\n",
    "        true_imgs = x_train[idx]\n",
    "\n",
    "        noise = np.random.normal(0, 1, (BATCH_SIZE, gan.z_dim))\n",
    "        gen_imgs = gan.generator.predict(noise)\n",
    "\n",
    "        d_loss_real =   gan.critic.train_on_batch(true_imgs, valid)\n",
    "        d_loss_fake =   gan.critic.train_on_batch(gen_imgs, fake)\n",
    "        d_loss = (d_loss_real + d_loss_fake)\n",
    "\n",
    "    for l in gan.critic.layers:\n",
    "        weights = l.get_weights()\n",
    "        weights = [np.clip(w, -0.01, 0.01) for w in weights]\n",
    "        l.set_weights(weights)\n",
    "\n",
    "    # Plot the progress\n",
    "    print (\"[D loss: (%.3f)(R %.3f, F %.3f)]\" % (d_loss, d_loss_real, d_loss_fake))\n",
    "    \n",
    "      \n",
    "    "
   ]
  },
  {
   "cell_type": "code",
   "execution_count": null,
   "metadata": {},
   "outputs": [],
   "source": [
    "check = True\n",
    "while check:\n",
    "    valid = np.ones((BATCH_SIZE,1), dtype=np.float32)\n",
    "    fake = -np.ones((BATCH_SIZE,1), dtype=np.float32)\n",
    "    noise = np.random.normal(0, 1, (BATCH_SIZE,100))\n",
    "\n",
    "    idx = np.random.randint(0, x_train.shape[0], BATCH_SIZE)\n",
    "    true_imgs = x_train[idx]\n",
    "    \n",
    "#     g_loss = gan.train_generator(batch_size = BATCH_SIZE)\n",
    "    g_loss = gan.model.train_on_batch(noise, valid)\n",
    "    # Plot the progress\n",
    "    print (\"[G loss: %.3f]\" % (g_loss))\n",
    "    \n",
    "    g_loss = gan.model.test_on_batch(noise, valid)\n",
    "    print (\"[G loss: %.3f]\" % (g_loss))\n",
    "    print('-------')\n",
    "    \n"
   ]
  },
  {
   "cell_type": "code",
   "execution_count": null,
   "metadata": {},
   "outputs": [],
   "source": [
    "noise = np.random.normal(0, 1, (BATCH_SIZE,100))\n",
    "img = gan.generator.predict(np.array([noise[0]]))[0]\n",
    "\n",
    "plt.imshow(np.clip((img+1)*0.5,0,1))\n",
    "\n",
    "gan.critic.predict(np.array([img]))[0]"
   ]
  },
  {
   "cell_type": "code",
   "execution_count": null,
   "metadata": {},
   "outputs": [],
   "source": [
    "idx = np.random.randint(0, x_train.shape[0], 1)[0]\n",
    "img = x_train[idx]\n",
    "print(gan.critic.predict(np.array([img]))[0])\n",
    "plt.imshow((img + 1) * 0.5)"
   ]
  },
  {
   "cell_type": "code",
   "execution_count": null,
   "metadata": {},
   "outputs": [],
   "source": [
    "plt.plot([x[0] for x in gan.d_losses], color='black', linewidth=1)\n",
    "\n",
    "plt.plot([x[1] for x in gan.d_losses], color='green', linewidth=0.5)\n",
    "plt.plot([x[2] for x in gan.d_losses], color='red', linewidth=0.5)\n",
    "\n",
    "plt.plot(gan.g_losses, color='orange', linewidth=1)\n",
    "\n"
   ]
  },
  {
   "cell_type": "code",
   "execution_count": null,
   "metadata": {},
   "outputs": [],
   "source": [
    "print(gan.model.to_json(indent=4))"
   ]
  },
  {
   "cell_type": "code",
   "execution_count": null,
   "metadata": {},
   "outputs": [],
   "source": [
    "[x[0] for x in gan.d_losses][:100]"
   ]
  },
  {
   "cell_type": "code",
   "execution_count": null,
   "metadata": {},
   "outputs": [],
   "source": [
    "gan.g_losses[:100]"
   ]
  },
  {
   "cell_type": "code",
   "execution_count": null,
   "metadata": {},
   "outputs": [],
   "source": [
    "gan.critic.get_weights()"
   ]
  }
 ],
 "metadata": {
  "kernelspec": {
   "display_name": "gdl",
   "language": "python",
   "name": "gdl"
  },
  "language_info": {
   "codemirror_mode": {
    "name": "ipython",
    "version": 3
   },
   "file_extension": ".py",
   "mimetype": "text/x-python",
   "name": "python",
   "nbconvert_exporter": "python",
   "pygments_lexer": "ipython3",
   "version": "3.6.5"
  }
 },
 "nbformat": 4,
 "nbformat_minor": 2
}
