{
 "cells": [
  {
   "cell_type": "markdown",
   "metadata": {},
   "source": [
    "# VAE Training"
   ]
  },
  {
   "cell_type": "markdown",
   "metadata": {},
   "source": [
    "## imports"
   ]
  },
  {
   "cell_type": "code",
   "execution_count": 1,
   "metadata": {},
   "outputs": [
    {
     "name": "stderr",
     "output_type": "stream",
     "text": [
      "Using TensorFlow backend.\n"
     ]
    }
   ],
   "source": [
    "import os\n",
    "from glob import glob\n",
    "import numpy as np\n",
    "\n",
    "from models.VAE import VariationalAutoencoder\n",
    "from keras.preprocessing.image import ImageDataGenerator\n"
   ]
  },
  {
   "cell_type": "code",
   "execution_count": 2,
   "metadata": {},
   "outputs": [],
   "source": [
    "RUN_ID = '0002'\n",
    "RUN_FOLDER = os.path.join(\"./run\", RUN_ID)\n",
    "DATA_FOLDER = './data/celeb/'"
   ]
  },
  {
   "cell_type": "markdown",
   "metadata": {},
   "source": [
    "## data"
   ]
  },
  {
   "cell_type": "code",
   "execution_count": 3,
   "metadata": {},
   "outputs": [],
   "source": [
    "INPUT_DIM = (64,64,3)\n",
    "BATCH_SIZE = 64\n",
    "\n",
    "filenames = np.array(glob(os.path.join(DATA_FOLDER, '*/*.jpg')))"
   ]
  },
  {
   "cell_type": "code",
   "execution_count": 4,
   "metadata": {},
   "outputs": [
    {
     "name": "stdout",
     "output_type": "stream",
     "text": [
      "Found 202599 images belonging to 1 classes.\n"
     ]
    }
   ],
   "source": [
    "data_gen = ImageDataGenerator(rescale=1./255)\n",
    "\n",
    "data_flow = data_gen.flow_from_directory(DATA_FOLDER\n",
    "                                         , target_size = INPUT_DIM[:2]\n",
    "                                         , batch_size = BATCH_SIZE\n",
    "                                         , shuffle = True\n",
    "                                         , class_mode = 'input'\n",
    "                                         , subset = \"training\"\n",
    "                                            )"
   ]
  },
  {
   "cell_type": "markdown",
   "metadata": {},
   "source": [
    "## architecture"
   ]
  },
  {
   "cell_type": "code",
   "execution_count": 5,
   "metadata": {},
   "outputs": [],
   "source": [
    "CONV_FILTERS = [32,64,128, 256]\n",
    "CONV_KERNEL_SIZES = [4,4,4,4]\n",
    "CONV_STRIDES = [2,2,2,2]\n",
    "CONV_PADDINGS = ['same', 'same', 'same', 'same']\n",
    "\n",
    "CONV_T_FILTERS = [128,64,32,3]\n",
    "CONV_T_KERNEL_SIZES = [3,3,3,3]\n",
    "CONV_T_STRIDES = [2,2,2,2]\n",
    "CONV_T_PADDINGS = ['same','same','same','same']\n",
    "\n",
    "Z_DIM = 100\n",
    "USE_BATCH_NORM = True"
   ]
  },
  {
   "cell_type": "code",
   "execution_count": 6,
   "metadata": {},
   "outputs": [],
   "source": [
    "VAE = VariationalAutoencoder(\n",
    "                INPUT_DIM\n",
    "                , CONV_FILTERS\n",
    "                , CONV_KERNEL_SIZES\n",
    "                , CONV_STRIDES\n",
    "                , CONV_PADDINGS\n",
    "                , CONV_T_FILTERS\n",
    "                , CONV_T_KERNEL_SIZES\n",
    "                , CONV_T_STRIDES\n",
    "                , CONV_T_PADDINGS\n",
    "                , Z_DIM\n",
    "                , USE_BATCH_NORM)\n",
    "\n",
    "VAE.save(RUN_FOLDER)"
   ]
  },
  {
   "cell_type": "code",
   "execution_count": 7,
   "metadata": {},
   "outputs": [],
   "source": [
    "# VAE.load_weights(os.path.join(RUN_FOLDER, 'weights/weights.h5'))"
   ]
  },
  {
   "cell_type": "code",
   "execution_count": 7,
   "metadata": {},
   "outputs": [
    {
     "name": "stdout",
     "output_type": "stream",
     "text": [
      "__________________________________________________________________________________________________\n",
      "Layer (type)                    Output Shape         Param #     Connected to                     \n",
      "==================================================================================================\n",
      "encoder_input (InputLayer)      (None, 64, 64, 3)    0                                            \n",
      "__________________________________________________________________________________________________\n",
      "encoder_conv_0 (Conv2D)         (None, 32, 32, 32)   1568        encoder_input[0][0]              \n",
      "__________________________________________________________________________________________________\n",
      "batch_normalization_1 (BatchNor (None, 32, 32, 32)   128         encoder_conv_0[0][0]             \n",
      "__________________________________________________________________________________________________\n",
      "leaky_re_lu_1 (LeakyReLU)       (None, 32, 32, 32)   0           batch_normalization_1[0][0]      \n",
      "__________________________________________________________________________________________________\n",
      "encoder_conv_1 (Conv2D)         (None, 16, 16, 64)   32832       leaky_re_lu_1[0][0]              \n",
      "__________________________________________________________________________________________________\n",
      "batch_normalization_2 (BatchNor (None, 16, 16, 64)   256         encoder_conv_1[0][0]             \n",
      "__________________________________________________________________________________________________\n",
      "leaky_re_lu_2 (LeakyReLU)       (None, 16, 16, 64)   0           batch_normalization_2[0][0]      \n",
      "__________________________________________________________________________________________________\n",
      "encoder_conv_2 (Conv2D)         (None, 8, 8, 128)    131200      leaky_re_lu_2[0][0]              \n",
      "__________________________________________________________________________________________________\n",
      "batch_normalization_3 (BatchNor (None, 8, 8, 128)    512         encoder_conv_2[0][0]             \n",
      "__________________________________________________________________________________________________\n",
      "leaky_re_lu_3 (LeakyReLU)       (None, 8, 8, 128)    0           batch_normalization_3[0][0]      \n",
      "__________________________________________________________________________________________________\n",
      "encoder_conv_3 (Conv2D)         (None, 4, 4, 256)    524544      leaky_re_lu_3[0][0]              \n",
      "__________________________________________________________________________________________________\n",
      "batch_normalization_4 (BatchNor (None, 4, 4, 256)    1024        encoder_conv_3[0][0]             \n",
      "__________________________________________________________________________________________________\n",
      "leaky_re_lu_4 (LeakyReLU)       (None, 4, 4, 256)    0           batch_normalization_4[0][0]      \n",
      "__________________________________________________________________________________________________\n",
      "flatten_1 (Flatten)             (None, 4096)         0           leaky_re_lu_4[0][0]              \n",
      "__________________________________________________________________________________________________\n",
      "mu (Dense)                      (None, 100)          409700      flatten_1[0][0]                  \n",
      "__________________________________________________________________________________________________\n",
      "log_var (Dense)                 (None, 100)          409700      flatten_1[0][0]                  \n",
      "__________________________________________________________________________________________________\n",
      "encoder_output (Lambda)         (None, 100)          0           mu[0][0]                         \n",
      "                                                                 log_var[0][0]                    \n",
      "__________________________________________________________________________________________________\n",
      "model_3 (Model)                 (None, 64, 64, 3)    802755      encoder_output[0][0]             \n",
      "==================================================================================================\n",
      "Total params: 2,314,219\n",
      "Trainable params: 2,312,811\n",
      "Non-trainable params: 1,408\n",
      "__________________________________________________________________________________________________\n"
     ]
    }
   ],
   "source": [
    "VAE.model.summary()"
   ]
  },
  {
   "cell_type": "markdown",
   "metadata": {},
   "source": [
    "## training"
   ]
  },
  {
   "cell_type": "code",
   "execution_count": 14,
   "metadata": {},
   "outputs": [],
   "source": [
    "LEARNING_RATE = 0.0005\n",
    "R_LOSS_FACTOR = 5000\n",
    "EPOCHS = 5\n",
    "PRINT_EVERY_N_BATCHES = 100\n",
    "INITIAL_EPOCH = 0\n",
    "LEARNING_RATE_DECAY = 0.5"
   ]
  },
  {
   "cell_type": "code",
   "execution_count": 15,
   "metadata": {},
   "outputs": [],
   "source": [
    "VAE.compile(LEARNING_RATE, R_LOSS_FACTOR)"
   ]
  },
  {
   "cell_type": "code",
   "execution_count": null,
   "metadata": {},
   "outputs": [
    {
     "name": "stdout",
     "output_type": "stream",
     "text": [
      "Epoch 1/5\n",
      "3166/3166 [==============================] - 1964s 620ms/step - loss: 136.3389 - vae_r_loss: 98.4099 - vae_kl_loss: 37.9290\n",
      "\n",
      "Epoch 00001: saving model to ./run/0002/weights/weights-001-136.34.h5\n",
      "\n",
      "Epoch 00001: saving model to ./run/0002/weights/weights.h5\n",
      "Epoch 2/5\n",
      "3166/3166 [==============================] - 1915s 605ms/step - loss: 128.0666 - vae_r_loss: 91.3674 - vae_kl_loss: 36.6992\n",
      "\n",
      "Epoch 00002: saving model to ./run/0002/weights/weights-002-128.07.h5\n",
      "\n",
      "Epoch 00002: saving model to ./run/0002/weights/weights.h5\n",
      "Epoch 3/5\n",
      "3166/3166 [==============================] - 1857s 587ms/step - loss: 125.6755 - vae_r_loss: 89.0440 - vae_kl_loss: 36.6315\n",
      "\n",
      "Epoch 00003: saving model to ./run/0002/weights/weights-003-125.68.h5\n",
      "\n",
      "Epoch 00003: saving model to ./run/0002/weights/weights.h5\n",
      "Epoch 4/5\n",
      "3166/3166 [==============================] - 2016s 637ms/step - loss: 124.4610 - vae_r_loss: 87.8344 - vae_kl_loss: 36.6266\n",
      "\n",
      "Epoch 00004: saving model to ./run/0002/weights/weights-004-124.46.h5\n",
      "\n",
      "Epoch 00004: saving model to ./run/0002/weights/weights.h5\n",
      "Epoch 5/5\n",
      "2080/3166 [==================>...........] - ETA: 10:26 - loss: 123.8962 - vae_r_loss: 87.2684 - vae_kl_loss: 36.6278"
     ]
    }
   ],
   "source": [
    "VAE.train_with_generator(     \n",
    "    data_flow\n",
    "    , epochs = EPOCHS\n",
    "    , run_folder = RUN_FOLDER\n",
    "    , print_every_n_batches = PRINT_EVERY_N_BATCHES\n",
    "    , initial_epoch = INITIAL_EPOCH\n",
    "    , lr_decay = LEARNING_RATE_DECAY\n",
    ")"
   ]
  },
  {
   "cell_type": "code",
   "execution_count": null,
   "metadata": {},
   "outputs": [],
   "source": []
  },
  {
   "cell_type": "code",
   "execution_count": null,
   "metadata": {},
   "outputs": [],
   "source": []
  },
  {
   "cell_type": "code",
   "execution_count": null,
   "metadata": {},
   "outputs": [],
   "source": []
  },
  {
   "cell_type": "code",
   "execution_count": null,
   "metadata": {},
   "outputs": [],
   "source": []
  }
 ],
 "metadata": {
  "kernelspec": {
   "display_name": "gdl",
   "language": "python",
   "name": "gdl"
  },
  "language_info": {
   "codemirror_mode": {
    "name": "ipython",
    "version": 3
   },
   "file_extension": ".py",
   "mimetype": "text/x-python",
   "name": "python",
   "nbconvert_exporter": "python",
   "pygments_lexer": "ipython3",
   "version": "3.6.5"
  }
 },
 "nbformat": 4,
 "nbformat_minor": 2
}
