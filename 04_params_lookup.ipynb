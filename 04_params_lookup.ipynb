{
 "cells": [
  {
   "cell_type": "code",
   "execution_count": 1,
   "metadata": {},
   "outputs": [],
   "source": [
    "import pickle as pkl"
   ]
  },
  {
   "cell_type": "code",
   "execution_count": 10,
   "metadata": {},
   "outputs": [
    {
     "data": {
      "text/plain": [
       "[(32, 32, 3),\n",
       " [64, 64, 128, 128],\n",
       " [5, 5, 5, 5],\n",
       " [2, 2, 2, 1],\n",
       " 'same',\n",
       " None,\n",
       " 'leaky_relu',\n",
       " None,\n",
       " 5e-05,\n",
       " (8, 8, 64),\n",
       " [True, True, False, False],\n",
       " [128, 64, 64, 3],\n",
       " [5, 5, 5, 5],\n",
       " [1, 1, 1, 1],\n",
       " 'same',\n",
       " 0.8,\n",
       " 'leaky_relu',\n",
       " None,\n",
       " 5e-05,\n",
       " 100]"
      ]
     },
     "execution_count": 10,
     "metadata": {},
     "output_type": "execute_result"
    }
   ],
   "source": [
    "pkl.load(open(  './run/0018/params.pkl', \"rb\" ))"
   ]
  },
  {
   "cell_type": "code",
   "execution_count": null,
   "metadata": {},
   "outputs": [],
   "source": []
  }
 ],
 "metadata": {
  "kernelspec": {
   "display_name": "gdl",
   "language": "python",
   "name": "gdl"
  },
  "language_info": {
   "codemirror_mode": {
    "name": "ipython",
    "version": 3
   },
   "file_extension": ".py",
   "mimetype": "text/x-python",
   "name": "python",
   "nbconvert_exporter": "python",
   "pygments_lexer": "ipython3",
   "version": "3.6.5"
  }
 },
 "nbformat": 4,
 "nbformat_minor": 2
}
