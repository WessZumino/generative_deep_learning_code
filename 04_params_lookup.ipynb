{
 "cells": [
  {
   "cell_type": "code",
   "execution_count": 4,
   "metadata": {},
   "outputs": [],
   "source": [
    "import pickle as pkl"
   ]
  },
  {
   "cell_type": "code",
   "execution_count": 5,
   "metadata": {},
   "outputs": [
    {
     "data": {
      "text/plain": [
       "[(64, 64, 3),\n",
       " [64, 128, 256, 512],\n",
       " [5, 5, 5, 5],\n",
       " [2, 2, 2, 2],\n",
       " 'same',\n",
       " None,\n",
       " 'leaky_relu',\n",
       " None,\n",
       " 0.0002,\n",
       " (4, 4, 512),\n",
       " [1, 1, 1, 1],\n",
       " [256, 128, 64, 3],\n",
       " [5, 5, 5, 5],\n",
       " [2, 2, 2, 2],\n",
       " 'same',\n",
       " 0.9,\n",
       " 'leaky_relu',\n",
       " None,\n",
       " 0.0002,\n",
       " 'adam',\n",
       " 10,\n",
       " 100,\n",
       " 64]"
      ]
     },
     "execution_count": 5,
     "metadata": {},
     "output_type": "execute_result"
    }
   ],
   "source": [
    "pkl.load(open(  './run/0027/params.pkl', \"rb\" ))"
   ]
  },
  {
   "cell_type": "code",
   "execution_count": 5,
   "metadata": {},
   "outputs": [
    {
     "data": {
      "text/plain": [
       "[(28, 28, 1),\n",
       " [64, 64, 128, 128],\n",
       " [5, 5, 5, 5],\n",
       " [2, 2, 2, 1],\n",
       " 'same',\n",
       " None,\n",
       " 'relu',\n",
       " None,\n",
       " 0.0008,\n",
       " (7, 7, 64),\n",
       " [2, 2, 1, 1],\n",
       " [128, 64, 64, 1],\n",
       " [5, 5, 5, 5],\n",
       " [1, 1, 1, 1],\n",
       " 'same',\n",
       " 0.9,\n",
       " 'relu',\n",
       " None,\n",
       " 0.0004,\n",
       " 'rmsprop',\n",
       " 100]"
      ]
     },
     "execution_count": 5,
     "metadata": {},
     "output_type": "execute_result"
    }
   ],
   "source": [
    "pkl.load(open(  './run/0035/params.pkl', \"rb\" ))"
   ]
  },
  {
   "cell_type": "code",
   "execution_count": null,
   "metadata": {},
   "outputs": [],
   "source": []
  }
 ],
 "metadata": {
  "kernelspec": {
   "display_name": "gdl",
   "language": "python",
   "name": "gdl"
  },
  "language_info": {
   "codemirror_mode": {
    "name": "ipython",
    "version": 3
   },
   "file_extension": ".py",
   "mimetype": "text/x-python",
   "name": "python",
   "nbconvert_exporter": "python",
   "pygments_lexer": "ipython3",
   "version": "3.6.5"
  }
 },
 "nbformat": 4,
 "nbformat_minor": 2
}
