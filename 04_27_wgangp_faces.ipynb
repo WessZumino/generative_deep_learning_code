{
 "cells": [
  {
   "cell_type": "markdown",
   "metadata": {},
   "source": [
    "# WGAN-GP Training"
   ]
  },
  {
   "cell_type": "markdown",
   "metadata": {},
   "source": [
    "## imports"
   ]
  },
  {
   "cell_type": "code",
   "execution_count": 1,
   "metadata": {},
   "outputs": [
    {
     "name": "stderr",
     "output_type": "stream",
     "text": [
      "Using TensorFlow backend.\n"
     ]
    }
   ],
   "source": [
    "%matplotlib inline\n",
    "\n",
    "import os\n",
    "import numpy as np\n",
    "import matplotlib.pyplot as plt\n",
    "\n",
    "from models.WGANGP import WGANGP\n",
    "from utils.loaders import load_safari, load_cifar\n",
    "from keras.preprocessing.image import ImageDataGenerator\n",
    "\n"
   ]
  },
  {
   "cell_type": "code",
   "execution_count": 2,
   "metadata": {},
   "outputs": [],
   "source": [
    "RUN_ID = '0027'\n",
    "RUN_FOLDER = os.path.join(\"./run\", RUN_ID)\n",
    "DATA_FOLDER = './data/celeb/'\n",
    "\n",
    "BATCH_SIZE = 64\n",
    "IMAGE_SIZE = 64"
   ]
  },
  {
   "cell_type": "markdown",
   "metadata": {},
   "source": [
    "## data"
   ]
  },
  {
   "cell_type": "code",
   "execution_count": 3,
   "metadata": {},
   "outputs": [
    {
     "name": "stdout",
     "output_type": "stream",
     "text": [
      "Found 202599 images belonging to 1 classes.\n"
     ]
    }
   ],
   "source": [
    "data_gen = ImageDataGenerator(preprocessing_function=lambda x: (x.astype('float32') - 127.5) / 127.5)\n",
    "\n",
    "x_train = data_gen.flow_from_directory(DATA_FOLDER\n",
    "                                         , target_size = (IMAGE_SIZE,IMAGE_SIZE)\n",
    "                                         , batch_size = BATCH_SIZE\n",
    "                                         , shuffle = True\n",
    "                                         , class_mode = 'input'\n",
    "                                         , subset = \"training\"\n",
    "                                            )"
   ]
  },
  {
   "cell_type": "markdown",
   "metadata": {},
   "source": [
    "## architecture"
   ]
  },
  {
   "cell_type": "code",
   "execution_count": null,
   "metadata": {},
   "outputs": [
    {
     "data": {
      "text/plain": [
       "<matplotlib.image.AxesImage at 0x107e39080>"
      ]
     },
     "execution_count": 4,
     "metadata": {},
     "output_type": "execute_result"
    },
    {
     "data": {
      "image/png": "[encoded data removed]",
      "text/plain": [
       "<Figure size 432x288 with 1 Axes>"
      ]
     },
     "metadata": {
      "needs_background": "light"
     },
     "output_type": "display_data"
    }
   ],
   "source": [
    "plt.imshow((x_train[0][0][0]+1)/2)"
   ]
  },
  {
   "cell_type": "code",
   "execution_count": null,
   "metadata": {},
   "outputs": [
    {
     "name": "stdout",
     "output_type": "stream",
     "text": [
      "-1.0\n",
      "1.0\n"
     ]
    }
   ],
   "source": [
    "print(np.min(x_train[0][0]))\n",
    "print(np.max(x_train[0][0]))"
   ]
  },
  {
   "cell_type": "code",
   "execution_count": null,
   "metadata": {},
   "outputs": [],
   "source": [
    "#works\n",
    "\n",
    "gan = WGANGP(input_dim = (IMAGE_SIZE,IMAGE_SIZE,3)\n",
    "        , critic_conv_filters = [64,128,256,512]\n",
    "        , critic_conv_kernel_size = [5,5,5,5]\n",
    "        , critic_conv_strides = [2,2,2,2]\n",
    "        , critic_conv_padding = 'same'\n",
    "        , critic_batch_norm_momentum = None\n",
    "        , critic_activation = 'leaky_relu'\n",
    "        , critic_dropout_rate = None\n",
    "        , critic_learning_rate = 0.0002\n",
    "        , generator_initial_dense_layer_size = (4, 4, 512)\n",
    "        , generator_upsample = [1,1,1,1]\n",
    "        , generator_conv_filters = [256,128,64,3]\n",
    "        , generator_conv_kernel_size = [5,5,5,5]\n",
    "        , generator_conv_strides = [2,2,2,2]\n",
    "        , generator_conv_padding = 'same'\n",
    "        , generator_batch_norm_momentum = 0.9\n",
    "        , generator_activation = 'leaky_relu'\n",
    "        , generator_dropout_rate = None\n",
    "        , generator_learning_rate = 0.0002\n",
    "        , optimiser = 'adam'\n",
    "        , grad_weight = 10\n",
    "        , z_dim = 100\n",
    "        , batch_size = BATCH_SIZE\n",
    "        )\n",
    "\n",
    "gan.save(RUN_FOLDER)"
   ]
  },
  {
   "cell_type": "code",
   "execution_count": null,
   "metadata": {},
   "outputs": [],
   "source": [
    "#gan.load_weights(os.path.join(RUN_FOLDER, 'archive/weights/weights.h5'))"
   ]
  },
  {
   "cell_type": "code",
   "execution_count": null,
   "metadata": {},
   "outputs": [
    {
     "name": "stdout",
     "output_type": "stream",
     "text": [
      "_________________________________________________________________\n",
      "Layer (type)                 Output Shape              Param #   \n",
      "=================================================================\n",
      "critic_input (InputLayer)    (None, 64, 64, 3)         0         \n",
      "_________________________________________________________________\n",
      "critic_conv_0 (Conv2D)       (None, 32, 32, 64)        4864      \n",
      "_________________________________________________________________\n",
      "leaky_re_lu_1 (LeakyReLU)    (None, 32, 32, 64)        0         \n",
      "_________________________________________________________________\n",
      "critic_conv_1 (Conv2D)       (None, 16, 16, 128)       204928    \n",
      "_________________________________________________________________\n",
      "leaky_re_lu_2 (LeakyReLU)    (None, 16, 16, 128)       0         \n",
      "_________________________________________________________________\n",
      "critic_conv_2 (Conv2D)       (None, 8, 8, 256)         819456    \n",
      "_________________________________________________________________\n",
      "leaky_re_lu_3 (LeakyReLU)    (None, 8, 8, 256)         0         \n",
      "_________________________________________________________________\n",
      "critic_conv_3 (Conv2D)       (None, 4, 4, 512)         3277312   \n",
      "_________________________________________________________________\n",
      "leaky_re_lu_4 (LeakyReLU)    (None, 4, 4, 512)         0         \n",
      "_________________________________________________________________\n",
      "flatten_1 (Flatten)          (None, 8192)              0         \n",
      "_________________________________________________________________\n",
      "dense_1 (Dense)              (None, 512)               4194816   \n",
      "_________________________________________________________________\n",
      "leaky_re_lu_5 (LeakyReLU)    (None, 512)               0         \n",
      "_________________________________________________________________\n",
      "dense_2 (Dense)              (None, 1)                 513       \n",
      "=================================================================\n",
      "Total params: 8,501,889\n",
      "Trainable params: 8,501,889\n",
      "Non-trainable params: 0\n",
      "_________________________________________________________________\n"
     ]
    }
   ],
   "source": [
    "gan.critic.summary()"
   ]
  },
  {
   "cell_type": "code",
   "execution_count": null,
   "metadata": {},
   "outputs": [
    {
     "name": "stdout",
     "output_type": "stream",
     "text": [
      "_________________________________________________________________\n",
      "Layer (type)                 Output Shape              Param #   \n",
      "=================================================================\n",
      "generator_input (InputLayer) (None, 100)               0         \n",
      "_________________________________________________________________\n",
      "dense_3 (Dense)              (None, 8192)              827392    \n",
      "_________________________________________________________________\n",
      "batch_normalization_1 (Batch (None, 8192)              32768     \n",
      "_________________________________________________________________\n",
      "leaky_re_lu_6 (LeakyReLU)    (None, 8192)              0         \n",
      "_________________________________________________________________\n",
      "reshape_1 (Reshape)          (None, 4, 4, 512)         0         \n",
      "_________________________________________________________________\n",
      "generator_conv_0 (Conv2DTran (None, 8, 8, 256)         3277056   \n",
      "_________________________________________________________________\n",
      "batch_normalization_2 (Batch (None, 8, 8, 256)         1024      \n",
      "_________________________________________________________________\n",
      "leaky_re_lu_7 (LeakyReLU)    (None, 8, 8, 256)         0         \n",
      "_________________________________________________________________\n",
      "generator_conv_1 (Conv2DTran (None, 16, 16, 128)       819328    \n",
      "_________________________________________________________________\n",
      "batch_normalization_3 (Batch (None, 16, 16, 128)       512       \n",
      "_________________________________________________________________\n",
      "leaky_re_lu_8 (LeakyReLU)    (None, 16, 16, 128)       0         \n",
      "_________________________________________________________________\n",
      "generator_conv_2 (Conv2DTran (None, 32, 32, 64)        204864    \n",
      "_________________________________________________________________\n",
      "batch_normalization_4 (Batch (None, 32, 32, 64)        256       \n",
      "_________________________________________________________________\n",
      "leaky_re_lu_9 (LeakyReLU)    (None, 32, 32, 64)        0         \n",
      "_________________________________________________________________\n",
      "generator_conv_3 (Conv2DTran (None, 64, 64, 3)         4803      \n",
      "_________________________________________________________________\n",
      "activation_1 (Activation)    (None, 64, 64, 3)         0         \n",
      "=================================================================\n",
      "Total params: 5,168,003\n",
      "Trainable params: 5,150,723\n",
      "Non-trainable params: 17,280\n",
      "_________________________________________________________________\n"
     ]
    }
   ],
   "source": [
    "gan.generator.summary()"
   ]
  },
  {
   "cell_type": "markdown",
   "metadata": {},
   "source": [
    "## training"
   ]
  },
  {
   "cell_type": "code",
   "execution_count": null,
   "metadata": {},
   "outputs": [
    {
     "name": "stderr",
     "output_type": "stream",
     "text": [
      "/Users/davidfoster/.virtualenvs/gdl/lib/python3.6/site-packages/keras/engine/training.py:490: UserWarning: Discrepancy between trainable weights and collected trainable weights, did you set `model.trainable` without calling `model.compile` after ?\n",
      "  'Discrepancy between trainable weights and collected trainable'\n"
     ]
    },
    {
     "name": "stdout",
     "output_type": "stream",
     "text": [
      "0 (5, 1) [D loss: (3.3)(R -3.7, F -0.3, G 0.7)] [G loss: 0.7]\n",
      "1 (5, 1) [D loss: (-72.8)(R -106.2, F -0.4, G 3.4)] [G loss: 2.0]\n",
      "2 (5, 1) [D loss: (-109.6)(R -268.2, F 30.7, G 12.8)] [G loss: 5.9]\n",
      "3 (5, 1) [D loss: (-121.2)(R -183.4, F 12.8, G 4.9)] [G loss: -19.2]\n",
      "4 (5, 1) [D loss: (-124.5)(R -194.6, F 15.2, G 5.5)] [G loss: -16.1]\n",
      "5 (5, 1) [D loss: (-142.6)(R -269.5, F 24.5, G 10.2)] [G loss: -13.7]\n",
      "6 (5, 1) [D loss: (-126.4)(R -251.9, F 25.1, G 10.0)] [G loss: -16.3]\n",
      "7 (5, 1) [D loss: (-127.3)(R -193.5, F 13.7, G 5.3)] [G loss: -29.1]\n",
      "8 (5, 1) [D loss: (-117.7)(R -171.8, F 8.7, G 4.5)] [G loss: -18.9]\n",
      "9 (5, 1) [D loss: (-121.4)(R -189.7, F 15.2, G 5.3)] [G loss: -21.7]\n",
      "10 (5, 1) [D loss: (-119.6)(R -265.3, F 41.3, G 10.4)] [G loss: 2.7]\n",
      "11 (5, 1) [D loss: (-111.6)(R -257.4, F 42.7, G 10.3)] [G loss: -7.6]\n",
      "12 (5, 1) [D loss: (-117.3)(R -197.2, F 26.0, G 5.4)] [G loss: -42.9]\n",
      "13 (5, 1) [D loss: (-129.7)(R -241.0, F 31.9, G 7.9)] [G loss: -25.2]\n",
      "14 (5, 1) [D loss: (-119.8)(R -199.2, F 14.2, G 6.5)] [G loss: -36.0]\n",
      "15 (5, 1) [D loss: (-135.0)(R -250.2, F 33.5, G 8.2)] [G loss: -25.6]\n",
      "16 (5, 1) [D loss: (-119.9)(R -250.7, F 31.6, G 9.9)] [G loss: 0.3]\n",
      "17 (5, 1) [D loss: (-110.3)(R -223.0, F 30.5, G 8.2)] [G loss: -25.2]\n",
      "18 (5, 1) [D loss: (-122.3)(R -209.0, F 32.8, G 5.4)] [G loss: -47.4]\n",
      "19 (5, 1) [D loss: (-117.1)(R -212.8, F 31.8, G 6.4)] [G loss: -14.8]\n",
      "20 (5, 1) [D loss: (-100.1)(R -196.0, F 38.4, G 5.8)] [G loss: -49.6]\n",
      "21 (5, 1) [D loss: (-109.3)(R -195.7, F 39.7, G 4.7)] [G loss: -46.3]\n",
      "22 (5, 1) [D loss: (-104.9)(R -234.0, F 66.1, G 6.3)] [G loss: -56.0]\n",
      "23 (5, 1) [D loss: (-78.6)(R -171.9, F 60.1, G 3.3)] [G loss: -59.9]\n",
      "24 (5, 1) [D loss: (-64.9)(R -150.7, F 58.9, G 2.7)] [G loss: -60.8]\n",
      "25 (5, 1) [D loss: (-48.4)(R -150.6, F 78.5, G 2.4)] [G loss: -67.9]\n",
      "26 (5, 1) [D loss: (-54.7)(R -156.7, F 76.7, G 2.5)] [G loss: -70.1]\n",
      "27 (5, 1) [D loss: (-44.2)(R -135.6, F 71.4, G 2.0)] [G loss: -58.0]\n",
      "28 (5, 1) [D loss: (-31.3)(R -100.3, F 55.3, G 1.4)] [G loss: -47.8]\n",
      "29 (5, 1) [D loss: (-40.7)(R -128.7, F 67.4, G 2.1)] [G loss: -57.8]\n",
      "30 (5, 1) [D loss: (-38.2)(R -107.4, F 55.2, G 1.4)] [G loss: -55.9]\n",
      "31 (5, 1) [D loss: (-39.6)(R -104.8, F 53.4, G 1.2)] [G loss: -88.8]\n",
      "32 (5, 1) [D loss: (-32.4)(R -97.9, F 55.8, G 1.0)] [G loss: -49.6]\n",
      "33 (5, 1) [D loss: (-32.7)(R -109.6, F 64.3, G 1.3)] [G loss: -66.1]\n",
      "34 (5, 1) [D loss: (-32.9)(R -102.7, F 57.5, G 1.2)] [G loss: -57.6]\n",
      "35 (5, 1) [D loss: (-33.1)(R -110.2, F 67.6, G 1.0)] [G loss: -73.9]\n",
      "36 (5, 1) [D loss: (-32.9)(R -123.0, F 78.1, G 1.2)] [G loss: -64.5]\n",
      "37 (5, 1) [D loss: (-30.0)(R -92.2, F 53.2, G 0.9)] [G loss: -48.7]\n",
      "38 (5, 1) [D loss: (-33.0)(R -92.1, F 48.6, G 1.1)] [G loss: -46.5]\n",
      "39 (5, 1) [D loss: (-38.5)(R -140.9, F 86.1, G 1.6)] [G loss: -105.5]\n",
      "40 (5, 1) [D loss: (-35.9)(R -150.5, F 99.9, G 1.5)] [G loss: -80.1]\n",
      "41 (5, 1) [D loss: (-34.3)(R -101.9, F 60.9, G 0.7)] [G loss: -89.8]\n",
      "42 (5, 1) [D loss: (-32.8)(R -124.3, F 76.4, G 1.5)] [G loss: -36.4]\n",
      "43 (5, 1) [D loss: (-32.3)(R -105.6, F 65.3, G 0.8)] [G loss: -70.5]\n",
      "44 (5, 1) [D loss: (-34.7)(R -110.7, F 65.5, G 1.1)] [G loss: -51.4]\n",
      "45 (5, 1) [D loss: (-36.5)(R -107.4, F 56.8, G 1.4)] [G loss: -68.7]\n",
      "46 (5, 1) [D loss: (-26.4)(R -109.3, F 77.0, G 0.6)] [G loss: -84.4]\n",
      "47 (5, 1) [D loss: (-39.3)(R -98.2, F 43.0, G 1.6)] [G loss: -39.6]\n",
      "48 (5, 1) [D loss: (-34.0)(R -107.3, F 62.1, G 1.1)] [G loss: -53.5]\n",
      "49 (5, 1) [D loss: (-24.2)(R -124.1, F 92.2, G 0.8)] [G loss: -73.8]\n",
      "50 (5, 1) [D loss: (-35.0)(R -111.4, F 68.0, G 0.8)] [G loss: -76.6]\n",
      "51 (5, 1) [D loss: (-46.1)(R -134.9, F 70.2, G 1.9)] [G loss: -87.6]\n",
      "52 (5, 1) [D loss: (-29.0)(R -97.2, F 62.7, G 0.5)] [G loss: -70.2]\n",
      "53 (5, 1) [D loss: (-29.8)(R -94.9, F 56.5, G 0.9)] [G loss: -58.8]\n",
      "54 (5, 1) [D loss: (-29.0)(R -130.4, F 91.4, G 1.0)] [G loss: -71.8]\n",
      "55 (5, 1) [D loss: (-32.4)(R -107.3, F 65.7, G 0.9)] [G loss: -51.6]\n",
      "56 (5, 1) [D loss: (-32.1)(R -102.9, F 59.4, G 1.1)] [G loss: -56.8]\n",
      "57 (5, 1) [D loss: (-28.7)(R -100.3, F 65.1, G 0.7)] [G loss: -47.4]\n",
      "58 (5, 1) [D loss: (-27.4)(R -94.0, F 58.8, G 0.8)] [G loss: -47.9]\n",
      "59 (5, 1) [D loss: (-29.9)(R -125.1, F 87.5, G 0.8)] [G loss: -85.0]\n",
      "60 (5, 1) [D loss: (-26.4)(R -145.1, F 105.2, G 1.4)] [G loss: -47.9]\n",
      "61 (5, 1) [D loss: (-30.6)(R -122.3, F 83.4, G 0.8)] [G loss: -98.9]\n",
      "62 (5, 1) [D loss: (-27.2)(R -114.1, F 79.7, G 0.7)] [G loss: -73.8]\n",
      "63 (5, 1) [D loss: (-24.9)(R -91.5, F 58.4, G 0.8)] [G loss: -62.4]\n",
      "64 (5, 1) [D loss: (-27.5)(R -109.5, F 75.9, G 0.6)] [G loss: -83.0]\n",
      "65 (5, 1) [D loss: (-27.3)(R -105.3, F 72.0, G 0.6)] [G loss: -68.9]\n",
      "66 (5, 1) [D loss: (-26.6)(R -120.1, F 85.7, G 0.8)] [G loss: -63.0]\n",
      "67 (5, 1) [D loss: (-27.5)(R -101.4, F 66.7, G 0.7)] [G loss: -61.8]\n"
     ]
    }
   ],
   "source": [
    "gan.train(     \n",
    "    x_train\n",
    "    , batch_size = BATCH_SIZE\n",
    "    , epochs = 20000\n",
    "    , run_folder = RUN_FOLDER\n",
    "    , print_every_n_batches = 5\n",
    "    , n_critic = 5\n",
    "    , using_generator = True\n",
    ")"
   ]
  },
  {
   "cell_type": "code",
   "execution_count": null,
   "metadata": {},
   "outputs": [],
   "source": [
    "gan.generator_learning_rate = 0.00005\n",
    "gan.critic_learning_rate = 0.00005\n",
    "gan.grad_weight = 10\n",
    "gan._build_adversarial()"
   ]
  },
  {
   "cell_type": "code",
   "execution_count": null,
   "metadata": {},
   "outputs": [],
   "source": [
    "gan.critic_model.metrics_names"
   ]
  },
  {
   "cell_type": "code",
   "execution_count": null,
   "metadata": {},
   "outputs": [],
   "source": [
    "# Check weights updating\n",
    "\n",
    "print([(np.min(x), np.max(x)) for x in gan.generator.get_weights()][:3])\n",
    "print([(np.min(x), np.max(x)) for x in gan.critic.get_weights()][:3])\n",
    "print('--- TRAIN CRITIC ---')\n",
    "noise = np.random.normal(0, 1, (BATCH_SIZE, 100))\n",
    "gen_imgs = gan.generator.predict(noise)\n",
    "gan.train_critic(x_train, batch_size = BATCH_SIZE, using_generator = True)\n",
    "\n",
    "print([(np.min(x), np.max(x)) for x in gan.generator.get_weights()][:3])\n",
    "print([(np.min(x), np.max(x)) for x in gan.critic.get_weights()][:3])\n",
    "print('--- TRAIN GENERATOR ---')\n",
    "gan.train_generator(batch_size = BATCH_SIZE)\n",
    "\n",
    "print([(np.min(x), np.max(x)) for x in gan.generator.get_weights()][:3])\n",
    "print([(np.min(x), np.max(x)) for x in gan.critic.get_weights()][:3])"
   ]
  },
  {
   "cell_type": "code",
   "execution_count": null,
   "metadata": {},
   "outputs": [],
   "source": [
    "check = True\n",
    "while check :\n",
    "\n",
    "    valid = np.ones((BATCH_SIZE,1), dtype=np.float32)\n",
    "    fake = -np.ones((BATCH_SIZE,1), dtype=np.float32)\n",
    "    dummy = np.zeros((BATCH_SIZE, 1), dtype=np.float32) # Dummy gt for gradient penalty\n",
    "    \n",
    "    true_imgs = next(x_train)[0]\n",
    "    if true_imgs.shape[0] != BATCH_SIZE:\n",
    "        true_imgs = next(x_train)[0]\n",
    "\n",
    "    noise = np.random.normal(0, 1, (BATCH_SIZE, 100))\n",
    "    \n",
    "    d_loss = gan.critic_model.train_on_batch([true_imgs, noise], [valid, fake, dummy])\n",
    "    # Plot the progress\n",
    "    print (\"[D loss: (%.1f)(R %.1f, F %.1f, G %.1f)]\" % (d_loss[0], d_loss[1],d_loss[2],d_loss[3]))\n",
    "    \n",
    "    d_loss = gan.critic_model.test_on_batch([true_imgs, noise], [valid, fake, dummy])\n",
    "    # Plot the progress\n",
    "    print (\"[D loss: (%.1f)(R %.1f, F %.1f, G %.1f)]\" % (d_loss[0], d_loss[1],d_loss[2],d_loss[3]))\n",
    "    \n",
    "\n",
    "    print(gan.model.test_on_batch(noise, valid))\n",
    "    \n",
    "    \n",
    "    \n",
    "#     check = d_loss[4]<0.5 or d_loss[5]<0.5"
   ]
  },
  {
   "cell_type": "code",
   "execution_count": null,
   "metadata": {},
   "outputs": [],
   "source": [
    "check = True\n",
    "while check:\n",
    "    valid = np.ones((BATCH_SIZE,1), dtype=np.float32)\n",
    "    fake = -np.ones((BATCH_SIZE,1), dtype=np.float32)\n",
    "    dummy = np.zeros((BATCH_SIZE, 1), dtype=np.float32) # Dummy gt for gradient penalty\n",
    "    noise = np.random.normal(0, 1, (BATCH_SIZE,100))\n",
    "\n",
    "    true_imgs = next(x_train)[0]\n",
    "    \n",
    "    \n",
    "#     g_loss = gan.train_generator(batch_size = BATCH_SIZE)\n",
    "    g_loss = gan.model.train_on_batch(noise, valid)\n",
    "    # Plot the progress\n",
    "    print (\"[G loss: %.1f]\" % (g_loss))\n",
    "    \n",
    "    g_loss = gan.model.test_on_batch(noise, valid)\n",
    "    print (\"[G loss: %.1f]\" % (g_loss))\n",
    "    \n",
    "    \n",
    "    print(gan.critic_model.test_on_batch([true_imgs, noise], [valid, fake, dummy]))\n",
    "\n"
   ]
  },
  {
   "cell_type": "code",
   "execution_count": null,
   "metadata": {},
   "outputs": [],
   "source": [
    "noise = np.random.normal(0, 1, (BATCH_SIZE,100))\n",
    "img = gan.generator.predict(np.array([noise[0]]))[0]\n",
    "\n",
    "plt.imshow(np.clip((img+1)*0.5,0,1))\n",
    "\n",
    "gan.critic.predict(np.array([img]))[0]"
   ]
  },
  {
   "cell_type": "code",
   "execution_count": null,
   "metadata": {},
   "outputs": [],
   "source": [
    "img = next(x_train)[0][0]\n",
    "print(gan.critic.predict(np.array([img]))[0])\n",
    "plt.imshow((img + 1) * 0.5)"
   ]
  },
  {
   "cell_type": "code",
   "execution_count": null,
   "metadata": {},
   "outputs": [],
   "source": [
    "valid = np.ones((BATCH_SIZE,1))\n",
    "noise = np.random.normal(0, 1, (BATCH_SIZE,100))"
   ]
  },
  {
   "cell_type": "code",
   "execution_count": null,
   "metadata": {},
   "outputs": [],
   "source": [
    "print(gan.model.test_on_batch(noise, valid))"
   ]
  },
  {
   "cell_type": "code",
   "execution_count": null,
   "metadata": {},
   "outputs": [],
   "source": [
    "print(gan.model.train_on_batch(noise, valid))"
   ]
  },
  {
   "cell_type": "code",
   "execution_count": null,
   "metadata": {},
   "outputs": [],
   "source": [
    "valid = np.ones((BATCH_SIZE,1), dtype=np.float32)\n",
    "fake = -np.ones((BATCH_SIZE,1), dtype=np.float32)\n",
    "dummy = np.zeros((BATCH_SIZE128, 1), dtype=np.float32) # Dummy gt for gradient penalty\n",
    "\n",
    "true_imgs = next(x_train)[0]\n"
   ]
  },
  {
   "cell_type": "code",
   "execution_count": null,
   "metadata": {},
   "outputs": [],
   "source": [
    "print(gan.critic_model.test_on_batch([true_imgs, noise], [valid, fake, dummy]))\n"
   ]
  },
  {
   "cell_type": "code",
   "execution_count": null,
   "metadata": {},
   "outputs": [],
   "source": [
    "print(gan.critic_model.train_on_batch([true_imgs, noise], [valid, fake, dummy]))\n"
   ]
  },
  {
   "cell_type": "code",
   "execution_count": null,
   "metadata": {},
   "outputs": [],
   "source": [
    "plt.plot([x[1] for x in gan.d_losses], color='green', linewidth=0.5)\n",
    "plt.plot([x[2] for x in gan.d_losses], color='red', linewidth=0.5)\n",
    "\n",
    "plt.plot(gan.g_losses, color='orange', linewidth=1)\n",
    "\n",
    "plt.plot([x[0] for x in gan.d_losses], color='black', linewidth=1)\n",
    "\n"
   ]
  },
  {
   "cell_type": "code",
   "execution_count": null,
   "metadata": {},
   "outputs": [],
   "source": []
  }
 ],
 "metadata": {
  "kernelspec": {
   "display_name": "gdl",
   "language": "python",
   "name": "gdl"
  },
  "language_info": {
   "codemirror_mode": {
    "name": "ipython",
    "version": 3
   },
   "file_extension": ".py",
   "mimetype": "text/x-python",
   "name": "python",
   "nbconvert_exporter": "python",
   "pygments_lexer": "ipython3",
   "version": "3.6.5"
  }
 },
 "nbformat": 4,
 "nbformat_minor": 2
}
