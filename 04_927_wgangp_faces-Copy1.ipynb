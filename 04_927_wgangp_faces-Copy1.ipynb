{
 "cells": [
  {
   "cell_type": "markdown",
   "metadata": {},
   "source": [
    "# WGAN-GP Training"
   ]
  },
  {
   "cell_type": "markdown",
   "metadata": {},
   "source": [
    "## imports"
   ]
  },
  {
   "cell_type": "code",
   "execution_count": 1,
   "metadata": {},
   "outputs": [
    {
     "name": "stderr",
     "output_type": "stream",
     "text": [
      "Using TensorFlow backend.\n"
     ]
    }
   ],
   "source": [
    "%matplotlib inline\n",
    "\n",
    "import os\n",
    "import numpy as np\n",
    "import matplotlib.pyplot as plt\n",
    "\n",
    "from models.WGANGP import WGANGP\n",
    "from utils.loaders import load_safari, load_cifar\n",
    "from keras.preprocessing.image import ImageDataGenerator\n",
    "\n"
   ]
  },
  {
   "cell_type": "code",
   "execution_count": 2,
   "metadata": {},
   "outputs": [],
   "source": [
    "RUN_ID = '0927'\n",
    "RUN_FOLDER = os.path.join(\"./run\", RUN_ID)\n",
    "DATA_FOLDER = './data/celeb/'\n",
    "\n",
    "BATCH_SIZE = 64\n",
    "IMAGE_SIZE = 64"
   ]
  },
  {
   "cell_type": "markdown",
   "metadata": {},
   "source": [
    "## data"
   ]
  },
  {
   "cell_type": "code",
   "execution_count": 3,
   "metadata": {},
   "outputs": [
    {
     "name": "stdout",
     "output_type": "stream",
     "text": [
      "Found 202599 images belonging to 1 classes.\n"
     ]
    }
   ],
   "source": [
    "data_gen = ImageDataGenerator(preprocessing_function=lambda x: (x.astype('float32') - 127.5) / 127.5)\n",
    "\n",
    "x_train = data_gen.flow_from_directory(DATA_FOLDER\n",
    "                                         , target_size = (IMAGE_SIZE,IMAGE_SIZE)\n",
    "                                         , batch_size = BATCH_SIZE\n",
    "                                         , shuffle = True\n",
    "                                         , class_mode = 'input'\n",
    "                                         , subset = \"training\"\n",
    "                                            )"
   ]
  },
  {
   "cell_type": "markdown",
   "metadata": {},
   "source": [
    "## architecture"
   ]
  },
  {
   "cell_type": "code",
   "execution_count": null,
   "metadata": {},
   "outputs": [
    {
     "data": {
      "text/plain": [
       "<matplotlib.image.AxesImage at 0x10f14c1d0>"
      ]
     },
     "execution_count": 4,
     "metadata": {},
     "output_type": "execute_result"
    },
    {
     "data": {
      "image/png": "[encoded data removed]",
      "text/plain": [
       "<Figure size 432x288 with 1 Axes>"
      ]
     },
     "metadata": {
      "needs_background": "light"
     },
     "output_type": "display_data"
    }
   ],
   "source": [
    "plt.imshow((x_train[0][0][0]+1)/2)"
   ]
  },
  {
   "cell_type": "code",
   "execution_count": null,
   "metadata": {},
   "outputs": [
    {
     "name": "stdout",
     "output_type": "stream",
     "text": [
      "-1.0\n",
      "1.0\n"
     ]
    }
   ],
   "source": [
    "print(np.min(x_train[0][0]))\n",
    "print(np.max(x_train[0][0]))"
   ]
  },
  {
   "cell_type": "code",
   "execution_count": null,
   "metadata": {},
   "outputs": [],
   "source": [
    "#works\n",
    "\n",
    "gan = WGANGP(input_dim = (IMAGE_SIZE,IMAGE_SIZE,3)\n",
    "        , critic_conv_filters = [64,128,256,512]\n",
    "        , critic_conv_kernel_size = [5,5,5,5]\n",
    "        , critic_conv_strides = [2,2,2,2]\n",
    "        , critic_conv_padding = 'same'\n",
    "        , critic_batch_norm_momentum = None\n",
    "        , critic_activation = 'leaky_relu'\n",
    "        , critic_dropout_rate = None\n",
    "        , critic_learning_rate = 0.0002\n",
    "        , generator_initial_dense_layer_size = (4, 4, 512)\n",
    "        , generator_upsample = [1,1,1,1]\n",
    "        , generator_conv_filters = [256,128,64,3]\n",
    "        , generator_conv_kernel_size = [5,5,5,5]\n",
    "        , generator_conv_strides = [2,2,2,2]\n",
    "        , generator_conv_padding = 'same'\n",
    "        , generator_batch_norm_momentum = 0.9\n",
    "        , generator_activation = 'leaky_relu'\n",
    "        , generator_dropout_rate = None\n",
    "        , generator_learning_rate = 0.0002\n",
    "        , optimiser = 'adam'\n",
    "        , grad_weight = 10\n",
    "        , z_dim = 100\n",
    "        , batch_size = BATCH_SIZE\n",
    "        )\n",
    "\n",
    "gan.save(RUN_FOLDER)"
   ]
  },
  {
   "cell_type": "code",
   "execution_count": null,
   "metadata": {},
   "outputs": [],
   "source": [
    "#gan.load_weights(os.path.join(RUN_FOLDER, 'archive/weights/weights.h5'))"
   ]
  },
  {
   "cell_type": "code",
   "execution_count": null,
   "metadata": {},
   "outputs": [
    {
     "name": "stdout",
     "output_type": "stream",
     "text": [
      "_________________________________________________________________\n",
      "Layer (type)                 Output Shape              Param #   \n",
      "=================================================================\n",
      "critic_input (InputLayer)    (None, 64, 64, 3)         0         \n",
      "_________________________________________________________________\n",
      "critic_conv_0 (Conv2D)       (None, 32, 32, 64)        4864      \n",
      "_________________________________________________________________\n",
      "leaky_re_lu_1 (LeakyReLU)    (None, 32, 32, 64)        0         \n",
      "_________________________________________________________________\n",
      "critic_conv_1 (Conv2D)       (None, 16, 16, 128)       204928    \n",
      "_________________________________________________________________\n",
      "leaky_re_lu_2 (LeakyReLU)    (None, 16, 16, 128)       0         \n",
      "_________________________________________________________________\n",
      "critic_conv_2 (Conv2D)       (None, 8, 8, 256)         819456    \n",
      "_________________________________________________________________\n",
      "leaky_re_lu_3 (LeakyReLU)    (None, 8, 8, 256)         0         \n",
      "_________________________________________________________________\n",
      "critic_conv_3 (Conv2D)       (None, 4, 4, 512)         3277312   \n",
      "_________________________________________________________________\n",
      "leaky_re_lu_4 (LeakyReLU)    (None, 4, 4, 512)         0         \n",
      "_________________________________________________________________\n",
      "flatten_1 (Flatten)          (None, 8192)              0         \n",
      "_________________________________________________________________\n",
      "dense_1 (Dense)              (None, 512)               4194816   \n",
      "_________________________________________________________________\n",
      "leaky_re_lu_5 (LeakyReLU)    (None, 512)               0         \n",
      "_________________________________________________________________\n",
      "dense_2 (Dense)              (None, 1)                 513       \n",
      "=================================================================\n",
      "Total params: 8,501,889\n",
      "Trainable params: 8,501,889\n",
      "Non-trainable params: 0\n",
      "_________________________________________________________________\n"
     ]
    }
   ],
   "source": [
    "gan.critic.summary()"
   ]
  },
  {
   "cell_type": "code",
   "execution_count": null,
   "metadata": {},
   "outputs": [
    {
     "name": "stdout",
     "output_type": "stream",
     "text": [
      "_________________________________________________________________\n",
      "Layer (type)                 Output Shape              Param #   \n",
      "=================================================================\n",
      "generator_input (InputLayer) (None, 100)               0         \n",
      "_________________________________________________________________\n",
      "dense_3 (Dense)              (None, 8192)              827392    \n",
      "_________________________________________________________________\n",
      "batch_normalization_1 (Batch (None, 8192)              32768     \n",
      "_________________________________________________________________\n",
      "leaky_re_lu_6 (LeakyReLU)    (None, 8192)              0         \n",
      "_________________________________________________________________\n",
      "reshape_1 (Reshape)          (None, 4, 4, 512)         0         \n",
      "_________________________________________________________________\n",
      "generator_conv_0 (Conv2DTran (None, 8, 8, 256)         3277056   \n",
      "_________________________________________________________________\n",
      "batch_normalization_2 (Batch (None, 8, 8, 256)         1024      \n",
      "_________________________________________________________________\n",
      "leaky_re_lu_7 (LeakyReLU)    (None, 8, 8, 256)         0         \n",
      "_________________________________________________________________\n",
      "generator_conv_1 (Conv2DTran (None, 16, 16, 128)       819328    \n",
      "_________________________________________________________________\n",
      "batch_normalization_3 (Batch (None, 16, 16, 128)       512       \n",
      "_________________________________________________________________\n",
      "leaky_re_lu_8 (LeakyReLU)    (None, 16, 16, 128)       0         \n",
      "_________________________________________________________________\n",
      "generator_conv_2 (Conv2DTran (None, 32, 32, 64)        204864    \n",
      "_________________________________________________________________\n",
      "batch_normalization_4 (Batch (None, 32, 32, 64)        256       \n",
      "_________________________________________________________________\n",
      "leaky_re_lu_9 (LeakyReLU)    (None, 32, 32, 64)        0         \n",
      "_________________________________________________________________\n",
      "generator_conv_3 (Conv2DTran (None, 64, 64, 3)         4803      \n",
      "_________________________________________________________________\n",
      "activation_1 (Activation)    (None, 64, 64, 3)         0         \n",
      "=================================================================\n",
      "Total params: 5,168,003\n",
      "Trainable params: 5,150,723\n",
      "Non-trainable params: 17,280\n",
      "_________________________________________________________________\n"
     ]
    }
   ],
   "source": [
    "gan.generator.summary()"
   ]
  },
  {
   "cell_type": "markdown",
   "metadata": {},
   "source": [
    "## training"
   ]
  },
  {
   "cell_type": "code",
   "execution_count": null,
   "metadata": {},
   "outputs": [
    {
     "name": "stderr",
     "output_type": "stream",
     "text": [
      "/Users/davidfoster/.virtualenvs/gdl/lib/python3.6/site-packages/keras/engine/training.py:490: UserWarning: Discrepancy between trainable weights and collected trainable weights, did you set `model.trainable` without calling `model.compile` after ?\n",
      "  'Discrepancy between trainable weights and collected trainable'\n"
     ]
    },
    {
     "name": "stdout",
     "output_type": "stream",
     "text": [
      "0 (5, 1) [D loss: (3.4)(R -3.1, F -0.2, G 0.7)] [G loss: 0.6]\n",
      "1 (5, 1) [D loss: (-53.8)(R -72.5, F 7.3, G 1.1)] [G loss: -9.9]\n",
      "2 (5, 1) [D loss: (-107.2)(R -199.0, F 30.0, G 6.2)] [G loss: -21.8]\n",
      "3 (5, 1) [D loss: (-121.6)(R -226.1, F 26.5, G 7.8)] [G loss: -26.2]\n",
      "4 (5, 1) [D loss: (-117.0)(R -156.4, F 9.1, G 3.0)] [G loss: -21.0]\n",
      "5 (5, 1) [D loss: (-106.0)(R -209.7, F 24.0, G 8.0)] [G loss: -11.0]\n",
      "6 (5, 1) [D loss: (-115.4)(R -181.7, F 23.3, G 4.3)] [G loss: -41.0]\n",
      "7 (5, 1) [D loss: (-114.5)(R -226.1, F 40.9, G 7.1)] [G loss: -33.4]\n",
      "8 (5, 1) [D loss: (-118.9)(R -224.8, F 35.8, G 7.0)] [G loss: -39.1]\n",
      "9 (5, 1) [D loss: (-110.6)(R -212.2, F 27.8, G 7.4)] [G loss: -13.6]\n",
      "10 (5, 1) [D loss: (-119.3)(R -177.7, F 21.7, G 3.7)] [G loss: -39.2]\n",
      "11 (5, 1) [D loss: (-134.2)(R -237.8, F 18.0, G 8.6)] [G loss: -15.5]\n",
      "12 (5, 1) [D loss: (-116.2)(R -220.0, F 25.8, G 7.8)] [G loss: -29.8]\n",
      "13 (5, 1) [D loss: (-105.0)(R -150.6, F 0.6, G 4.5)] [G loss: -0.1]\n",
      "14 (5, 1) [D loss: (-131.2)(R -230.2, F 34.5, G 6.4)] [G loss: -36.4]\n",
      "15 (5, 1) [D loss: (-110.4)(R -190.3, F 21.9, G 5.8)] [G loss: -12.8]\n",
      "16 (5, 1) [D loss: (-100.3)(R -190.3, F 35.4, G 5.5)] [G loss: -52.3]\n",
      "17 (5, 1) [D loss: (-107.1)(R -196.1, F 19.0, G 7.0)] [G loss: -18.4]\n",
      "18 (5, 1) [D loss: (-92.2)(R -169.8, F 36.6, G 4.1)] [G loss: -47.2]\n",
      "19 (5, 1) [D loss: (-103.0)(R -203.2, F 41.3, G 5.9)] [G loss: -42.0]\n",
      "20 (5, 1) [D loss: (-88.5)(R -179.7, F 52.9, G 3.8)] [G loss: -67.8]\n",
      "21 (5, 1) [D loss: (-90.0)(R -193.6, F 52.2, G 5.2)] [G loss: -41.2]\n",
      "22 (5, 1) [D loss: (-82.4)(R -170.1, F 50.8, G 3.7)] [G loss: -50.9]\n",
      "23 (5, 1) [D loss: (-78.4)(R -151.6, F 41.2, G 3.2)] [G loss: -52.4]\n",
      "24 (5, 1) [D loss: (-60.8)(R -147.6, F 59.5, G 2.7)] [G loss: -69.1]\n",
      "25 (5, 1) [D loss: (-69.2)(R -150.5, F 51.5, G 3.0)] [G loss: -39.2]\n",
      "26 (5, 1) [D loss: (-76.7)(R -149.7, F 40.7, G 3.2)] [G loss: -34.2]\n",
      "27 (5, 1) [D loss: (-61.5)(R -166.0, F 78.3, G 2.6)] [G loss: -68.0]\n",
      "28 (5, 1) [D loss: (-49.4)(R -94.3, F 24.5, G 2.0)] [G loss: -53.3]\n",
      "29 (5, 1) [D loss: (-32.4)(R -52.0, F -16.3, G 3.6)] [G loss: -157.0]\n",
      "30 (5, 1) [D loss: (-44.7)(R -54.9, F 1.9, G 0.8)] [G loss: -10.6]\n",
      "31 (5, 1) [D loss: (-49.8)(R -110.2, F 40.8, G 2.0)] [G loss: -49.1]\n",
      "32 (5, 1) [D loss: (-53.3)(R -93.9, F 24.4, G 1.6)] [G loss: -69.7]\n",
      "33 (5, 1) [D loss: (-41.2)(R -146.4, F 84.6, G 2.1)] [G loss: -89.5]\n",
      "34 (5, 1) [D loss: (-40.3)(R -153.4, F 96.0, G 1.7)] [G loss: -77.0]\n",
      "35 (5, 1) [D loss: (-37.3)(R -122.7, F 70.7, G 1.5)] [G loss: -77.7]\n",
      "36 (5, 1) [D loss: (-37.1)(R -97.7, F 44.7, G 1.6)] [G loss: -77.4]\n",
      "37 (5, 1) [D loss: (-34.2)(R -87.7, F 36.8, G 1.7)] [G loss: -48.1]\n",
      "38 (5, 1) [D loss: (-41.4)(R -108.0, F 56.0, G 1.1)] [G loss: -38.1]\n",
      "39 (5, 1) [D loss: (-37.7)(R -108.7, F 59.4, G 1.2)] [G loss: -53.4]\n",
      "40 (5, 1) [D loss: (-35.9)(R -77.1, F 27.8, G 1.3)] [G loss: -52.4]\n",
      "41 (5, 1) [D loss: (-29.3)(R -95.2, F 55.1, G 1.1)] [G loss: -58.8]\n",
      "42 (5, 1) [D loss: (-27.9)(R -71.3, F 29.4, G 1.4)] [G loss: -49.8]\n",
      "43 (5, 1) [D loss: (-29.1)(R -88.5, F 51.7, G 0.8)] [G loss: -48.8]\n",
      "44 (5, 1) [D loss: (-34.2)(R -78.3, F 35.1, G 0.9)] [G loss: -28.7]\n",
      "45 (5, 1) [D loss: (-35.0)(R -86.4, F 39.8, G 1.2)] [G loss: -14.3]\n",
      "46 (5, 1) [D loss: (-31.1)(R -104.4, F 65.5, G 0.8)] [G loss: -59.5]\n",
      "47 (5, 1) [D loss: (-29.8)(R -79.1, F 38.4, G 1.1)] [G loss: -45.1]\n",
      "48 (5, 1) [D loss: (-33.6)(R -71.4, F 27.2, G 1.1)] [G loss: -18.9]\n",
      "49 (5, 1) [D loss: (-32.0)(R -99.1, F 59.1, G 0.8)] [G loss: -47.5]\n",
      "50 (5, 1) [D loss: (-32.7)(R -72.1, F 33.0, G 0.6)] [G loss: -42.1]\n",
      "51 (5, 1) [D loss: (-33.6)(R -75.5, F 31.7, G 1.0)] [G loss: -47.3]\n",
      "52 (5, 1) [D loss: (-27.7)(R -81.2, F 46.8, G 0.7)] [G loss: -53.5]\n",
      "53 (5, 1) [D loss: (-30.4)(R -79.3, F 40.4, G 0.9)] [G loss: -20.6]\n",
      "54 (5, 1) [D loss: (-27.4)(R -100.4, F 63.2, G 1.0)] [G loss: -26.7]\n",
      "55 (5, 1) [D loss: (-33.5)(R -72.4, F 28.7, G 1.0)] [G loss: -31.0]\n",
      "56 (5, 1) [D loss: (-27.4)(R -109.9, F 72.9, G 0.9)] [G loss: -48.6]\n",
      "57 (5, 1) [D loss: (-33.7)(R -89.8, F 47.6, G 0.8)] [G loss: -40.0]\n",
      "58 (5, 1) [D loss: (-35.2)(R -108.6, F 59.1, G 1.4)] [G loss: -24.2]\n",
      "59 (5, 1) [D loss: (-20.0)(R -59.1, F 33.0, G 0.6)] [G loss: -51.0]\n",
      "60 (5, 1) [D loss: (-32.2)(R -63.1, F 21.5, G 0.9)] [G loss: -26.3]\n",
      "61 (5, 1) [D loss: (-31.2)(R -68.9, F 25.8, G 1.2)] [G loss: -27.9]\n",
      "62 (5, 1) [D loss: (-28.7)(R -68.5, F 34.0, G 0.6)] [G loss: -58.1]\n",
      "63 (5, 1) [D loss: (-28.3)(R -53.5, F 16.5, G 0.9)] [G loss: -38.8]\n",
      "64 (5, 1) [D loss: (-33.8)(R -56.4, F 11.5, G 1.1)] [G loss: -30.5]\n",
      "65 (5, 1) [D loss: (-28.2)(R -73.6, F 37.4, G 0.8)] [G loss: -43.4]\n",
      "66 (5, 1) [D loss: (-26.3)(R -66.7, F 34.8, G 0.6)] [G loss: -40.2]\n",
      "67 (5, 1) [D loss: (-32.0)(R -64.7, F 22.4, G 1.0)] [G loss: -30.9]\n",
      "68 (5, 1) [D loss: (-29.9)(R -71.3, F 35.3, G 0.6)] [G loss: -56.3]\n",
      "69 (5, 1) [D loss: (-28.8)(R -92.0, F 55.8, G 0.7)] [G loss: -66.1]\n"
     ]
    }
   ],
   "source": [
    "gan.train(     \n",
    "    x_train\n",
    "    , batch_size = BATCH_SIZE\n",
    "    , epochs = 20000\n",
    "    , run_folder = RUN_FOLDER\n",
    "    , print_every_n_batches = 5\n",
    "    , n_critic = 5\n",
    "    , using_generator = True\n",
    ")"
   ]
  },
  {
   "cell_type": "code",
   "execution_count": null,
   "metadata": {},
   "outputs": [],
   "source": [
    "gan.generator_learning_rate = 0.00005\n",
    "gan.critic_learning_rate = 0.00005\n",
    "gan.grad_weight = 10\n",
    "gan._build_adversarial()"
   ]
  },
  {
   "cell_type": "code",
   "execution_count": null,
   "metadata": {},
   "outputs": [],
   "source": [
    "gan.critic_model.metrics_names"
   ]
  },
  {
   "cell_type": "code",
   "execution_count": null,
   "metadata": {},
   "outputs": [],
   "source": [
    "# Check weights updating\n",
    "\n",
    "print([(np.min(x), np.max(x)) for x in gan.generator.get_weights()][:3])\n",
    "print([(np.min(x), np.max(x)) for x in gan.critic.get_weights()][:3])\n",
    "print('--- TRAIN CRITIC ---')\n",
    "noise = np.random.normal(0, 1, (BATCH_SIZE, 100))\n",
    "gen_imgs = gan.generator.predict(noise)\n",
    "gan.train_critic(x_train, batch_size = BATCH_SIZE, using_generator = True)\n",
    "\n",
    "print([(np.min(x), np.max(x)) for x in gan.generator.get_weights()][:3])\n",
    "print([(np.min(x), np.max(x)) for x in gan.critic.get_weights()][:3])\n",
    "print('--- TRAIN GENERATOR ---')\n",
    "gan.train_generator(batch_size = BATCH_SIZE)\n",
    "\n",
    "print([(np.min(x), np.max(x)) for x in gan.generator.get_weights()][:3])\n",
    "print([(np.min(x), np.max(x)) for x in gan.critic.get_weights()][:3])"
   ]
  },
  {
   "cell_type": "code",
   "execution_count": null,
   "metadata": {},
   "outputs": [],
   "source": [
    "check = True\n",
    "while check :\n",
    "\n",
    "    valid = np.ones((BATCH_SIZE,1), dtype=np.float32)\n",
    "    fake = -np.ones((BATCH_SIZE,1), dtype=np.float32)\n",
    "    dummy = np.zeros((BATCH_SIZE, 1), dtype=np.float32) # Dummy gt for gradient penalty\n",
    "    \n",
    "    true_imgs = next(x_train)[0]\n",
    "    if true_imgs.shape[0] != BATCH_SIZE:\n",
    "        true_imgs = next(x_train)[0]\n",
    "\n",
    "    noise = np.random.normal(0, 1, (BATCH_SIZE, 100))\n",
    "    \n",
    "    d_loss = gan.critic_model.train_on_batch([true_imgs, noise], [valid, fake, dummy])\n",
    "    # Plot the progress\n",
    "    print (\"[D loss: (%.1f)(R %.1f, F %.1f, G %.1f)]\" % (d_loss[0], d_loss[1],d_loss[2],d_loss[3]))\n",
    "    \n",
    "    d_loss = gan.critic_model.test_on_batch([true_imgs, noise], [valid, fake, dummy])\n",
    "    # Plot the progress\n",
    "    print (\"[D loss: (%.1f)(R %.1f, F %.1f, G %.1f)]\" % (d_loss[0], d_loss[1],d_loss[2],d_loss[3]))\n",
    "    \n",
    "\n",
    "    print(gan.model.test_on_batch(noise, valid))\n",
    "    \n",
    "    \n",
    "    \n",
    "#     check = d_loss[4]<0.5 or d_loss[5]<0.5"
   ]
  },
  {
   "cell_type": "code",
   "execution_count": null,
   "metadata": {},
   "outputs": [],
   "source": [
    "check = True\n",
    "while check:\n",
    "    valid = np.ones((BATCH_SIZE,1), dtype=np.float32)\n",
    "    fake = -np.ones((BATCH_SIZE,1), dtype=np.float32)\n",
    "    dummy = np.zeros((BATCH_SIZE, 1), dtype=np.float32) # Dummy gt for gradient penalty\n",
    "    noise = np.random.normal(0, 1, (BATCH_SIZE,100))\n",
    "\n",
    "    true_imgs = next(x_train)[0]\n",
    "    \n",
    "    \n",
    "#     g_loss = gan.train_generator(batch_size = BATCH_SIZE)\n",
    "    g_loss = gan.model.train_on_batch(noise, valid)\n",
    "    # Plot the progress\n",
    "    print (\"[G loss: %.1f]\" % (g_loss))\n",
    "    \n",
    "    g_loss = gan.model.test_on_batch(noise, valid)\n",
    "    print (\"[G loss: %.1f]\" % (g_loss))\n",
    "    \n",
    "    \n",
    "    print(gan.critic_model.test_on_batch([true_imgs, noise], [valid, fake, dummy]))\n",
    "\n"
   ]
  },
  {
   "cell_type": "code",
   "execution_count": null,
   "metadata": {},
   "outputs": [],
   "source": [
    "noise = np.random.normal(0, 1, (BATCH_SIZE,100))\n",
    "img = gan.generator.predict(np.array([noise[0]]))[0]\n",
    "\n",
    "plt.imshow(np.clip((img+1)*0.5,0,1))\n",
    "\n",
    "gan.critic.predict(np.array([img]))[0]"
   ]
  },
  {
   "cell_type": "code",
   "execution_count": null,
   "metadata": {},
   "outputs": [],
   "source": [
    "img = next(x_train)[0][0]\n",
    "print(gan.critic.predict(np.array([img]))[0])\n",
    "plt.imshow((img + 1) * 0.5)"
   ]
  },
  {
   "cell_type": "code",
   "execution_count": null,
   "metadata": {},
   "outputs": [],
   "source": [
    "valid = np.ones((BATCH_SIZE,1))\n",
    "noise = np.random.normal(0, 1, (BATCH_SIZE,100))"
   ]
  },
  {
   "cell_type": "code",
   "execution_count": null,
   "metadata": {},
   "outputs": [],
   "source": [
    "print(gan.model.test_on_batch(noise, valid))"
   ]
  },
  {
   "cell_type": "code",
   "execution_count": null,
   "metadata": {},
   "outputs": [],
   "source": [
    "print(gan.model.train_on_batch(noise, valid))"
   ]
  },
  {
   "cell_type": "code",
   "execution_count": null,
   "metadata": {},
   "outputs": [],
   "source": [
    "valid = np.ones((BATCH_SIZE,1), dtype=np.float32)\n",
    "fake = -np.ones((BATCH_SIZE,1), dtype=np.float32)\n",
    "dummy = np.zeros((BATCH_SIZE128, 1), dtype=np.float32) # Dummy gt for gradient penalty\n",
    "\n",
    "true_imgs = next(x_train)[0]\n"
   ]
  },
  {
   "cell_type": "code",
   "execution_count": null,
   "metadata": {},
   "outputs": [],
   "source": [
    "print(gan.critic_model.test_on_batch([true_imgs, noise], [valid, fake, dummy]))\n"
   ]
  },
  {
   "cell_type": "code",
   "execution_count": null,
   "metadata": {},
   "outputs": [],
   "source": [
    "print(gan.critic_model.train_on_batch([true_imgs, noise], [valid, fake, dummy]))\n"
   ]
  },
  {
   "cell_type": "code",
   "execution_count": null,
   "metadata": {},
   "outputs": [],
   "source": [
    "fig = plt.figure()\n",
    "plt.plot([x[0] for x in gan.d_losses], color='black', linewidth=0.25)\n",
    "\n",
    "plt.plot([x[1] for x in gan.d_losses], color='green', linewidth=0.25)\n",
    "plt.plot([x[2] for x in gan.d_losses], color='red', linewidth=0.25)\n",
    "plt.plot(gan.g_losses, color='orange', linewidth=0.25)\n",
    "\n",
    "plt.xlabel('batch', fontsize=18)\n",
    "plt.ylabel('loss', fontsize=16)\n",
    "\n",
    "plt.xlim(0, 2000)\n",
    "# plt.ylim(0, 2)\n",
    "\n",
    "plt.show()\n"
   ]
  },
  {
   "cell_type": "code",
   "execution_count": null,
   "metadata": {},
   "outputs": [],
   "source": []
  }
 ],
 "metadata": {
  "kernelspec": {
   "display_name": "gdl",
   "language": "python",
   "name": "gdl"
  },
  "language_info": {
   "codemirror_mode": {
    "name": "ipython",
    "version": 3
   },
   "file_extension": ".py",
   "mimetype": "text/x-python",
   "name": "python",
   "nbconvert_exporter": "python",
   "pygments_lexer": "ipython3",
   "version": "3.6.5"
  }
 },
 "nbformat": 4,
 "nbformat_minor": 2
}
