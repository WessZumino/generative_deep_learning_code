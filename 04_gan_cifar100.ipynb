{
 "cells": [
  {
   "cell_type": "markdown",
   "metadata": {},
   "source": [
    "# GAN Training"
   ]
  },
  {
   "cell_type": "markdown",
   "metadata": {},
   "source": [
    "## imports"
   ]
  },
  {
   "cell_type": "code",
   "execution_count": 1,
   "metadata": {},
   "outputs": [
    {
     "name": "stderr",
     "output_type": "stream",
     "text": [
      "Using TensorFlow backend.\n"
     ]
    }
   ],
   "source": [
    "%matplotlib inline\n",
    "\n",
    "import os\n",
    "import numpy as np\n",
    "import matplotlib.pyplot as plt\n",
    "\n",
    "from models.GAN import GAN\n",
    "from utils.loaders import load_safari\n",
    "from keras.datasets import cifar100,cifar10\n"
   ]
  },
  {
   "cell_type": "code",
   "execution_count": 2,
   "metadata": {},
   "outputs": [],
   "source": [
    "RUN_ID = '0016'\n",
    "RUN_FOLDER = os.path.join(\"./run\", RUN_ID)"
   ]
  },
  {
   "cell_type": "markdown",
   "metadata": {},
   "source": [
    "## data"
   ]
  },
  {
   "cell_type": "code",
   "execution_count": 3,
   "metadata": {},
   "outputs": [],
   "source": [
    "label = 7\n",
    "(x_train, y_train), (x_test, y_test) = cifar10.load_data()\n",
    "# (x_train, y_train), (x_test, y_test) = cifar10.load_data(label_mode='fine')\n",
    "\n",
    "mask = [y[0]==label for y in y_train]\n",
    "\n",
    "x_train = x_train[mask]\n",
    "y_train = y_train[mask]"
   ]
  },
  {
   "cell_type": "markdown",
   "metadata": {},
   "source": [
    "## architecture"
   ]
  },
  {
   "cell_type": "code",
   "execution_count": 4,
   "metadata": {},
   "outputs": [
    {
     "data": {
      "text/plain": [
       "<matplotlib.image.AxesImage at 0x109c21a58>"
      ]
     },
     "execution_count": 4,
     "metadata": {},
     "output_type": "execute_result"
    },
    {
     "data": {
      "image/png": "[encoded data removed]",
      "text/plain": [
       "<Figure size 432x288 with 1 Axes>"
      ]
     },
     "metadata": {
      "needs_background": "light"
     },
     "output_type": "display_data"
    }
   ],
   "source": [
    "plt.imshow(x_train[200,:,:,:])"
   ]
  },
  {
   "cell_type": "code",
   "execution_count": 5,
   "metadata": {},
   "outputs": [],
   "source": [
    "x_train = (x_train.astype('float32') - 127.5) / 127.5\n",
    "x_test = (x_test.astype('float32') - 127.5) / 127.5\n"
   ]
  },
  {
   "cell_type": "code",
   "execution_count": 6,
   "metadata": {},
   "outputs": [
    {
     "name": "stdout",
     "output_type": "stream",
     "text": [
      "-0.92941177\n",
      "0.94509804\n"
     ]
    }
   ],
   "source": [
    "print(np.min(x_train[0]))\n",
    "print(np.max(x_train[0]))"
   ]
  },
  {
   "cell_type": "code",
   "execution_count": 7,
   "metadata": {},
   "outputs": [
    {
     "data": {
      "text/plain": [
       "(5000, 32, 32, 3)"
      ]
     },
     "execution_count": 7,
     "metadata": {},
     "output_type": "execute_result"
    }
   ],
   "source": [
    "x_train.shape"
   ]
  },
  {
   "cell_type": "code",
   "execution_count": 8,
   "metadata": {},
   "outputs": [],
   "source": [
    "gan = GAN(input_dim = (32,32,3)\n",
    "        , discriminator_conv_filters = [32,64,128,256]\n",
    "        , discriminator_conv_kernel_size = [5,5,5,5]\n",
    "        , discriminator_conv_strides = [2,2,2,2]\n",
    "        , discriminator_conv_padding = 'same'\n",
    "        , discriminator_batch_norm_momentum = 0.9\n",
    "        , discriminator_activation = 'leaky_relu'\n",
    "        , discriminator_dropout_rate = None\n",
    "        , discriminator_learning_rate = 0.0005 #0.0002 #\n",
    "        , generator_initial_dense_layer_size = (2,2,256)\n",
    "        , generator_use_upsampling = [False,False, False,False]\n",
    "        , generator_conv_t_filters = [128,64, 32,3]\n",
    "        , generator_conv_t_kernel_size = [5,5,5,5]\n",
    "        , generator_conv_t_strides = [2,2,2,2]\n",
    "        , generator_conv_t_padding = 'same'\n",
    "        , generator_batch_norm_momentum = 0.9\n",
    "        , generator_activation = 'leaky_relu'\n",
    "        , generator_dropout_rate = None\n",
    "        , generator_learning_rate = 0.0005 #0.0002 #\n",
    "        , optimiser = 'adam'\n",
    "        , z_dim = 100\n",
    "        )\n",
    "\n",
    "gan.save(RUN_FOLDER)"
   ]
  },
  {
   "cell_type": "code",
   "execution_count": 9,
   "metadata": {},
   "outputs": [],
   "source": [
    "#gan.load_weights(os.path.join(RUN_FOLDER, 'weights/weights.h5'))"
   ]
  },
  {
   "cell_type": "code",
   "execution_count": 10,
   "metadata": {},
   "outputs": [
    {
     "name": "stdout",
     "output_type": "stream",
     "text": [
      "_________________________________________________________________\n",
      "Layer (type)                 Output Shape              Param #   \n",
      "=================================================================\n",
      "discriminator_input (InputLa (None, 32, 32, 3)         0         \n",
      "_________________________________________________________________\n",
      "discriminator_conv_0 (Conv2D (None, 16, 16, 32)        2432      \n",
      "_________________________________________________________________\n",
      "batch_normalization_1 (Batch (None, 16, 16, 32)        128       \n",
      "_________________________________________________________________\n",
      "leaky_re_lu_1 (LeakyReLU)    (None, 16, 16, 32)        0         \n",
      "_________________________________________________________________\n",
      "discriminator_conv_1 (Conv2D (None, 8, 8, 64)          51264     \n",
      "_________________________________________________________________\n",
      "batch_normalization_2 (Batch (None, 8, 8, 64)          256       \n",
      "_________________________________________________________________\n",
      "leaky_re_lu_2 (LeakyReLU)    (None, 8, 8, 64)          0         \n",
      "_________________________________________________________________\n",
      "discriminator_conv_2 (Conv2D (None, 4, 4, 128)         204928    \n",
      "_________________________________________________________________\n",
      "batch_normalization_3 (Batch (None, 4, 4, 128)         512       \n",
      "_________________________________________________________________\n",
      "leaky_re_lu_3 (LeakyReLU)    (None, 4, 4, 128)         0         \n",
      "_________________________________________________________________\n",
      "discriminator_conv_3 (Conv2D (None, 2, 2, 256)         819456    \n",
      "_________________________________________________________________\n",
      "batch_normalization_4 (Batch (None, 2, 2, 256)         1024      \n",
      "_________________________________________________________________\n",
      "leaky_re_lu_4 (LeakyReLU)    (None, 2, 2, 256)         0         \n",
      "_________________________________________________________________\n",
      "flatten_1 (Flatten)          (None, 1024)              0         \n",
      "_________________________________________________________________\n",
      "dense_1 (Dense)              (None, 1)                 1025      \n",
      "=================================================================\n",
      "Total params: 1,081,025\n",
      "Trainable params: 0\n",
      "Non-trainable params: 1,081,025\n",
      "_________________________________________________________________\n"
     ]
    }
   ],
   "source": [
    "gan.discriminator.summary()"
   ]
  },
  {
   "cell_type": "code",
   "execution_count": 11,
   "metadata": {
    "scrolled": false
   },
   "outputs": [
    {
     "name": "stdout",
     "output_type": "stream",
     "text": [
      "_________________________________________________________________\n",
      "Layer (type)                 Output Shape              Param #   \n",
      "=================================================================\n",
      "generator_input (InputLayer) (None, 100)               0         \n",
      "_________________________________________________________________\n",
      "dense_2 (Dense)              (None, 1024)              103424    \n",
      "_________________________________________________________________\n",
      "batch_normalization_5 (Batch (None, 1024)              4096      \n",
      "_________________________________________________________________\n",
      "leaky_re_lu_5 (LeakyReLU)    (None, 1024)              0         \n",
      "_________________________________________________________________\n",
      "reshape_1 (Reshape)          (None, 2, 2, 256)         0         \n",
      "_________________________________________________________________\n",
      "generator_conv_t_0 (Conv2DTr (None, 4, 4, 128)         819328    \n",
      "_________________________________________________________________\n",
      "batch_normalization_6 (Batch (None, 4, 4, 128)         512       \n",
      "_________________________________________________________________\n",
      "leaky_re_lu_6 (LeakyReLU)    (None, 4, 4, 128)         0         \n",
      "_________________________________________________________________\n",
      "generator_conv_t_1 (Conv2DTr (None, 8, 8, 64)          204864    \n",
      "_________________________________________________________________\n",
      "batch_normalization_7 (Batch (None, 8, 8, 64)          256       \n",
      "_________________________________________________________________\n",
      "leaky_re_lu_7 (LeakyReLU)    (None, 8, 8, 64)          0         \n",
      "_________________________________________________________________\n",
      "generator_conv_t_2 (Conv2DTr (None, 16, 16, 32)        51232     \n",
      "_________________________________________________________________\n",
      "batch_normalization_8 (Batch (None, 16, 16, 32)        128       \n",
      "_________________________________________________________________\n",
      "leaky_re_lu_8 (LeakyReLU)    (None, 16, 16, 32)        0         \n",
      "_________________________________________________________________\n",
      "generator_conv_t_3 (Conv2DTr (None, 32, 32, 3)         2403      \n",
      "_________________________________________________________________\n",
      "activation_1 (Activation)    (None, 32, 32, 3)         0         \n",
      "=================================================================\n",
      "Total params: 1,186,243\n",
      "Trainable params: 1,183,747\n",
      "Non-trainable params: 2,496\n",
      "_________________________________________________________________\n"
     ]
    }
   ],
   "source": [
    "gan.generator.summary()"
   ]
  },
  {
   "cell_type": "markdown",
   "metadata": {},
   "source": [
    "## training"
   ]
  },
  {
   "cell_type": "code",
   "execution_count": 12,
   "metadata": {
    "scrolled": false
   },
   "outputs": [
    {
     "name": "stdout",
     "output_type": "stream",
     "text": [
      "0 [D loss: 0.979434] [D acc: 0.203125] [G loss: 0.666885] [G acc: 0.632812]\n",
      "1 [D loss: 4.463055] [D acc: 0.246094] [G loss: 0.000619] [G acc: 1.000000]\n",
      "2 [D loss: 4.457185] [D acc: 0.226562] [G loss: 0.000519] [G acc: 1.000000]\n",
      "3 [D loss: 4.464030] [D acc: 0.250000] [G loss: 0.000443] [G acc: 1.000000]\n",
      "4 [D loss: 4.517453] [D acc: 0.203125] [G loss: 0.000404] [G acc: 1.000000]\n",
      "5 [D loss: 4.564306] [D acc: 0.203125] [G loss: 0.000343] [G acc: 1.000000]\n",
      "6 [D loss: 4.697560] [D acc: 0.226562] [G loss: 0.000281] [G acc: 1.000000]\n",
      "7 [D loss: 4.668487] [D acc: 0.203125] [G loss: 0.000274] [G acc: 1.000000]\n",
      "8 [D loss: 4.724884] [D acc: 0.210938] [G loss: 0.000238] [G acc: 1.000000]\n",
      "9 [D loss: 4.705108] [D acc: 0.230469] [G loss: 0.000234] [G acc: 1.000000]\n",
      "10 [D loss: 4.764194] [D acc: 0.234375] [G loss: 0.000190] [G acc: 1.000000]\n",
      "11 [D loss: 4.788761] [D acc: 0.210938] [G loss: 0.000183] [G acc: 1.000000]\n",
      "12 [D loss: 4.821237] [D acc: 0.230469] [G loss: 0.000172] [G acc: 1.000000]\n",
      "13 [D loss: 4.867229] [D acc: 0.214844] [G loss: 0.000168] [G acc: 1.000000]\n",
      "14 [D loss: 4.872157] [D acc: 0.242188] [G loss: 0.000165] [G acc: 1.000000]\n",
      "15 [D loss: 4.925068] [D acc: 0.195312] [G loss: 0.000135] [G acc: 1.000000]\n",
      "16 [D loss: 4.852870] [D acc: 0.257812] [G loss: 0.000140] [G acc: 1.000000]\n",
      "17 [D loss: 4.967023] [D acc: 0.226562] [G loss: 0.000132] [G acc: 1.000000]\n",
      "18 [D loss: 5.037874] [D acc: 0.222656] [G loss: 0.000119] [G acc: 1.000000]\n",
      "19 [D loss: 5.053021] [D acc: 0.199219] [G loss: 0.000113] [G acc: 1.000000]\n",
      "20 [D loss: 5.056042] [D acc: 0.207031] [G loss: 0.000108] [G acc: 1.000000]\n",
      "21 [D loss: 5.083261] [D acc: 0.207031] [G loss: 0.000104] [G acc: 1.000000]\n",
      "22 [D loss: 5.108236] [D acc: 0.234375] [G loss: 0.000095] [G acc: 1.000000]\n",
      "23 [D loss: 5.135027] [D acc: 0.210938] [G loss: 0.000089] [G acc: 1.000000]\n",
      "24 [D loss: 5.098776] [D acc: 0.242188] [G loss: 0.000082] [G acc: 1.000000]\n",
      "25 [D loss: 5.243845] [D acc: 0.179688] [G loss: 0.000075] [G acc: 1.000000]\n",
      "26 [D loss: 5.184937] [D acc: 0.199219] [G loss: 0.000075] [G acc: 1.000000]\n",
      "27 [D loss: 5.298935] [D acc: 0.195312] [G loss: 0.000070] [G acc: 1.000000]\n",
      "28 [D loss: 5.206573] [D acc: 0.242188] [G loss: 0.000071] [G acc: 1.000000]\n",
      "29 [D loss: 5.233896] [D acc: 0.203125] [G loss: 0.000068] [G acc: 1.000000]\n",
      "30 [D loss: 5.191831] [D acc: 0.218750] [G loss: 0.000060] [G acc: 1.000000]\n",
      "31 [D loss: 5.274674] [D acc: 0.222656] [G loss: 0.000062] [G acc: 1.000000]\n",
      "32 [D loss: 5.307571] [D acc: 0.234375] [G loss: 0.000061] [G acc: 1.000000]\n",
      "33 [D loss: 5.327353] [D acc: 0.218750] [G loss: 0.000056] [G acc: 1.000000]\n",
      "34 [D loss: 5.385451] [D acc: 0.222656] [G loss: 0.000056] [G acc: 1.000000]\n",
      "35 [D loss: 5.314438] [D acc: 0.226562] [G loss: 0.000052] [G acc: 1.000000]\n",
      "36 [D loss: 5.434138] [D acc: 0.210938] [G loss: 0.000051] [G acc: 1.000000]\n",
      "37 [D loss: 5.410578] [D acc: 0.218750] [G loss: 0.000047] [G acc: 1.000000]\n",
      "38 [D loss: 5.482219] [D acc: 0.218750] [G loss: 0.000042] [G acc: 1.000000]\n",
      "39 [D loss: 5.478279] [D acc: 0.257812] [G loss: 0.000044] [G acc: 1.000000]\n",
      "40 [D loss: 5.480350] [D acc: 0.261719] [G loss: 0.000038] [G acc: 1.000000]\n",
      "41 [D loss: 5.520877] [D acc: 0.210938] [G loss: 0.000037] [G acc: 1.000000]\n",
      "42 [D loss: 5.547833] [D acc: 0.281250] [G loss: 0.000039] [G acc: 1.000000]\n",
      "43 [D loss: 5.468064] [D acc: 0.226562] [G loss: 0.000037] [G acc: 1.000000]\n",
      "44 [D loss: 5.558181] [D acc: 0.222656] [G loss: 0.000031] [G acc: 1.000000]\n",
      "45 [D loss: 5.609248] [D acc: 0.242188] [G loss: 0.000039] [G acc: 1.000000]\n",
      "46 [D loss: 5.586908] [D acc: 0.234375] [G loss: 0.000034] [G acc: 1.000000]\n",
      "47 [D loss: 5.612185] [D acc: 0.214844] [G loss: 0.000031] [G acc: 1.000000]\n",
      "48 [D loss: 5.645864] [D acc: 0.234375] [G loss: 0.000027] [G acc: 1.000000]\n",
      "49 [D loss: 5.695391] [D acc: 0.246094] [G loss: 0.000026] [G acc: 1.000000]\n",
      "50 [D loss: 5.679928] [D acc: 0.246094] [G loss: 0.000027] [G acc: 1.000000]\n",
      "51 [D loss: 5.687578] [D acc: 0.226562] [G loss: 0.000025] [G acc: 1.000000]\n",
      "52 [D loss: 5.700503] [D acc: 0.238281] [G loss: 0.000024] [G acc: 1.000000]\n",
      "53 [D loss: 5.723722] [D acc: 0.261719] [G loss: 0.000023] [G acc: 1.000000]\n",
      "54 [D loss: 5.782308] [D acc: 0.207031] [G loss: 0.000023] [G acc: 1.000000]\n",
      "55 [D loss: 5.763897] [D acc: 0.207031] [G loss: 0.000023] [G acc: 1.000000]\n",
      "56 [D loss: 5.747834] [D acc: 0.246094] [G loss: 0.000020] [G acc: 1.000000]\n",
      "57 [D loss: 5.785913] [D acc: 0.261719] [G loss: 0.000020] [G acc: 1.000000]\n",
      "58 [D loss: 5.843313] [D acc: 0.214844] [G loss: 0.000020] [G acc: 1.000000]\n",
      "59 [D loss: 5.848334] [D acc: 0.187500] [G loss: 0.000019] [G acc: 1.000000]\n",
      "60 [D loss: 5.944234] [D acc: 0.269531] [G loss: 0.000017] [G acc: 1.000000]\n",
      "61 [D loss: 5.893620] [D acc: 0.195312] [G loss: 0.000017] [G acc: 1.000000]\n",
      "62 [D loss: 5.949564] [D acc: 0.230469] [G loss: 0.000018] [G acc: 1.000000]\n",
      "63 [D loss: 5.940338] [D acc: 0.238281] [G loss: 0.000015] [G acc: 1.000000]\n",
      "64 [D loss: 5.992930] [D acc: 0.207031] [G loss: 0.000016] [G acc: 1.000000]\n",
      "65 [D loss: 5.929935] [D acc: 0.238281] [G loss: 0.000014] [G acc: 1.000000]\n",
      "66 [D loss: 5.951814] [D acc: 0.230469] [G loss: 0.000015] [G acc: 1.000000]\n",
      "67 [D loss: 5.966521] [D acc: 0.265625] [G loss: 0.000013] [G acc: 1.000000]\n",
      "68 [D loss: 6.066137] [D acc: 0.195312] [G loss: 0.000013] [G acc: 1.000000]\n",
      "69 [D loss: 5.990037] [D acc: 0.183594] [G loss: 0.000013] [G acc: 1.000000]\n",
      "70 [D loss: 6.084524] [D acc: 0.234375] [G loss: 0.000012] [G acc: 1.000000]\n",
      "71 [D loss: 6.018260] [D acc: 0.250000] [G loss: 0.000011] [G acc: 1.000000]\n",
      "72 [D loss: 6.097524] [D acc: 0.265625] [G loss: 0.000011] [G acc: 1.000000]\n",
      "73 [D loss: 6.101552] [D acc: 0.230469] [G loss: 0.000012] [G acc: 1.000000]\n",
      "74 [D loss: 6.058872] [D acc: 0.265625] [G loss: 0.000010] [G acc: 1.000000]\n",
      "75 [D loss: 6.179091] [D acc: 0.246094] [G loss: 0.000009] [G acc: 1.000000]\n",
      "76 [D loss: 6.134388] [D acc: 0.234375] [G loss: 0.000010] [G acc: 1.000000]\n",
      "77 [D loss: 6.131034] [D acc: 0.269531] [G loss: 0.000009] [G acc: 1.000000]\n",
      "78 [D loss: 6.160747] [D acc: 0.238281] [G loss: 0.000009] [G acc: 1.000000]\n",
      "79 [D loss: 6.109101] [D acc: 0.238281] [G loss: 0.000008] [G acc: 1.000000]\n",
      "80 [D loss: 6.099275] [D acc: 0.285156] [G loss: 0.000008] [G acc: 1.000000]\n",
      "81 [D loss: 6.260378] [D acc: 0.253906] [G loss: 0.000008] [G acc: 1.000000]\n",
      "82 [D loss: 6.278319] [D acc: 0.214844] [G loss: 0.000007] [G acc: 1.000000]\n",
      "83 [D loss: 6.282483] [D acc: 0.253906] [G loss: 0.000008] [G acc: 1.000000]\n",
      "84 [D loss: 6.251277] [D acc: 0.210938] [G loss: 0.000007] [G acc: 1.000000]\n",
      "85 [D loss: 6.270920] [D acc: 0.222656] [G loss: 0.000006] [G acc: 1.000000]\n",
      "86 [D loss: 6.317367] [D acc: 0.265625] [G loss: 0.000006] [G acc: 1.000000]\n",
      "87 [D loss: 6.273964] [D acc: 0.261719] [G loss: 0.000006] [G acc: 1.000000]\n",
      "88 [D loss: 6.333093] [D acc: 0.285156] [G loss: 0.000006] [G acc: 1.000000]\n",
      "89 [D loss: 6.342329] [D acc: 0.269531] [G loss: 0.000006] [G acc: 1.000000]\n",
      "90 [D loss: 6.343353] [D acc: 0.246094] [G loss: 0.000005] [G acc: 1.000000]\n"
     ]
    },
    {
     "ename": "KeyboardInterrupt",
     "evalue": "",
     "output_type": "error",
     "traceback": [
      "\u001b[0;31m---------------------------------------------------------------------------\u001b[0m",
      "\u001b[0;31mKeyboardInterrupt\u001b[0m                         Traceback (most recent call last)",
      "\u001b[0;32m<ipython-input-12-fa14df52bc6b>\u001b[0m in \u001b[0;36m<module>\u001b[0;34m\u001b[0m\n\u001b[1;32m      5\u001b[0m     \u001b[0;34m,\u001b[0m \u001b[0mrun_folder\u001b[0m \u001b[0;34m=\u001b[0m \u001b[0mRUN_FOLDER\u001b[0m\u001b[0;34m\u001b[0m\u001b[0m\n\u001b[1;32m      6\u001b[0m     \u001b[0;34m,\u001b[0m \u001b[0mprint_every_n_batches\u001b[0m \u001b[0;34m=\u001b[0m \u001b[0;36m10\u001b[0m\u001b[0;34m\u001b[0m\u001b[0m\n\u001b[0;32m----> 7\u001b[0;31m     \u001b[0;34m,\u001b[0m \u001b[0minitial_epoch\u001b[0m \u001b[0;34m=\u001b[0m \u001b[0;36m0\u001b[0m\u001b[0;34m\u001b[0m\u001b[0m\n\u001b[0m\u001b[1;32m      8\u001b[0m )\n\u001b[1;32m      9\u001b[0m \u001b[0;34m\u001b[0m\u001b[0m\n",
      "\u001b[0;32m~/Git/Personal/GDL/generative_deep_learning_code/models/GAN.py\u001b[0m in \u001b[0;36mtrain\u001b[0;34m(self, x_train, batch_size, epochs, run_folder, print_every_n_batches, initial_epoch)\u001b[0m\n\u001b[1;32m    292\u001b[0m             \u001b[0mnoise\u001b[0m \u001b[0;34m=\u001b[0m \u001b[0mnp\u001b[0m\u001b[0;34m.\u001b[0m\u001b[0mrandom\u001b[0m\u001b[0;34m.\u001b[0m\u001b[0mnormal\u001b[0m\u001b[0;34m(\u001b[0m\u001b[0;36m0\u001b[0m\u001b[0;34m,\u001b[0m \u001b[0;36m1\u001b[0m\u001b[0;34m,\u001b[0m \u001b[0;34m(\u001b[0m\u001b[0mbatch_size\u001b[0m\u001b[0;34m,\u001b[0m \u001b[0mself\u001b[0m\u001b[0;34m.\u001b[0m\u001b[0mz_dim\u001b[0m\u001b[0;34m)\u001b[0m\u001b[0;34m)\u001b[0m\u001b[0;34m\u001b[0m\u001b[0m\n\u001b[1;32m    293\u001b[0m             \u001b[0my\u001b[0m \u001b[0;34m=\u001b[0m \u001b[0mnp\u001b[0m\u001b[0;34m.\u001b[0m\u001b[0mones\u001b[0m\u001b[0;34m(\u001b[0m\u001b[0;34m[\u001b[0m\u001b[0mbatch_size\u001b[0m\u001b[0;34m,\u001b[0m\u001b[0;36m1\u001b[0m\u001b[0;34m]\u001b[0m\u001b[0;34m)\u001b[0m\u001b[0;34m\u001b[0m\u001b[0m\n\u001b[0;32m--> 294\u001b[0;31m             \u001b[0mg_loss\u001b[0m\u001b[0;34m,\u001b[0m \u001b[0mg_acc\u001b[0m \u001b[0;34m=\u001b[0m \u001b[0mself\u001b[0m\u001b[0;34m.\u001b[0m\u001b[0mmodel\u001b[0m\u001b[0;34m.\u001b[0m\u001b[0mtrain_on_batch\u001b[0m\u001b[0;34m(\u001b[0m\u001b[0mnoise\u001b[0m\u001b[0;34m,\u001b[0m \u001b[0my\u001b[0m\u001b[0;34m)\u001b[0m\u001b[0;34m\u001b[0m\u001b[0m\n\u001b[0m\u001b[1;32m    295\u001b[0m \u001b[0;34m\u001b[0m\u001b[0m\n\u001b[1;32m    296\u001b[0m             \u001b[0;31m# Plot the progress\u001b[0m\u001b[0;34m\u001b[0m\u001b[0;34m\u001b[0m\u001b[0m\n",
      "\u001b[0;32m~/.virtualenvs/gdl/lib/python3.6/site-packages/keras/engine/training.py\u001b[0m in \u001b[0;36mtrain_on_batch\u001b[0;34m(self, x, y, sample_weight, class_weight)\u001b[0m\n\u001b[1;32m   1215\u001b[0m             \u001b[0mins\u001b[0m \u001b[0;34m=\u001b[0m \u001b[0mx\u001b[0m \u001b[0;34m+\u001b[0m \u001b[0my\u001b[0m \u001b[0;34m+\u001b[0m \u001b[0msample_weights\u001b[0m\u001b[0;34m\u001b[0m\u001b[0m\n\u001b[1;32m   1216\u001b[0m         \u001b[0mself\u001b[0m\u001b[0;34m.\u001b[0m\u001b[0m_make_train_function\u001b[0m\u001b[0;34m(\u001b[0m\u001b[0;34m)\u001b[0m\u001b[0;34m\u001b[0m\u001b[0m\n\u001b[0;32m-> 1217\u001b[0;31m         \u001b[0moutputs\u001b[0m \u001b[0;34m=\u001b[0m \u001b[0mself\u001b[0m\u001b[0;34m.\u001b[0m\u001b[0mtrain_function\u001b[0m\u001b[0;34m(\u001b[0m\u001b[0mins\u001b[0m\u001b[0;34m)\u001b[0m\u001b[0;34m\u001b[0m\u001b[0m\n\u001b[0m\u001b[1;32m   1218\u001b[0m         \u001b[0;32mreturn\u001b[0m \u001b[0munpack_singleton\u001b[0m\u001b[0;34m(\u001b[0m\u001b[0moutputs\u001b[0m\u001b[0;34m)\u001b[0m\u001b[0;34m\u001b[0m\u001b[0m\n\u001b[1;32m   1219\u001b[0m \u001b[0;34m\u001b[0m\u001b[0m\n",
      "\u001b[0;32m~/.virtualenvs/gdl/lib/python3.6/site-packages/keras/backend/tensorflow_backend.py\u001b[0m in \u001b[0;36m__call__\u001b[0;34m(self, inputs)\u001b[0m\n\u001b[1;32m   2713\u001b[0m                 \u001b[0;32mreturn\u001b[0m \u001b[0mself\u001b[0m\u001b[0;34m.\u001b[0m\u001b[0m_legacy_call\u001b[0m\u001b[0;34m(\u001b[0m\u001b[0minputs\u001b[0m\u001b[0;34m)\u001b[0m\u001b[0;34m\u001b[0m\u001b[0m\n\u001b[1;32m   2714\u001b[0m \u001b[0;34m\u001b[0m\u001b[0m\n\u001b[0;32m-> 2715\u001b[0;31m             \u001b[0;32mreturn\u001b[0m \u001b[0mself\u001b[0m\u001b[0;34m.\u001b[0m\u001b[0m_call\u001b[0m\u001b[0;34m(\u001b[0m\u001b[0minputs\u001b[0m\u001b[0;34m)\u001b[0m\u001b[0;34m\u001b[0m\u001b[0m\n\u001b[0m\u001b[1;32m   2716\u001b[0m         \u001b[0;32melse\u001b[0m\u001b[0;34m:\u001b[0m\u001b[0;34m\u001b[0m\u001b[0m\n\u001b[1;32m   2717\u001b[0m             \u001b[0;32mif\u001b[0m \u001b[0mpy_any\u001b[0m\u001b[0;34m(\u001b[0m\u001b[0mis_tensor\u001b[0m\u001b[0;34m(\u001b[0m\u001b[0mx\u001b[0m\u001b[0;34m)\u001b[0m \u001b[0;32mfor\u001b[0m \u001b[0mx\u001b[0m \u001b[0;32min\u001b[0m \u001b[0minputs\u001b[0m\u001b[0;34m)\u001b[0m\u001b[0;34m:\u001b[0m\u001b[0;34m\u001b[0m\u001b[0m\n",
      "\u001b[0;32m~/.virtualenvs/gdl/lib/python3.6/site-packages/keras/backend/tensorflow_backend.py\u001b[0m in \u001b[0;36m_call\u001b[0;34m(self, inputs)\u001b[0m\n\u001b[1;32m   2673\u001b[0m             \u001b[0mfetched\u001b[0m \u001b[0;34m=\u001b[0m \u001b[0mself\u001b[0m\u001b[0;34m.\u001b[0m\u001b[0m_callable_fn\u001b[0m\u001b[0;34m(\u001b[0m\u001b[0;34m*\u001b[0m\u001b[0marray_vals\u001b[0m\u001b[0;34m,\u001b[0m \u001b[0mrun_metadata\u001b[0m\u001b[0;34m=\u001b[0m\u001b[0mself\u001b[0m\u001b[0;34m.\u001b[0m\u001b[0mrun_metadata\u001b[0m\u001b[0;34m)\u001b[0m\u001b[0;34m\u001b[0m\u001b[0m\n\u001b[1;32m   2674\u001b[0m         \u001b[0;32melse\u001b[0m\u001b[0;34m:\u001b[0m\u001b[0;34m\u001b[0m\u001b[0m\n\u001b[0;32m-> 2675\u001b[0;31m             \u001b[0mfetched\u001b[0m \u001b[0;34m=\u001b[0m \u001b[0mself\u001b[0m\u001b[0;34m.\u001b[0m\u001b[0m_callable_fn\u001b[0m\u001b[0;34m(\u001b[0m\u001b[0;34m*\u001b[0m\u001b[0marray_vals\u001b[0m\u001b[0;34m)\u001b[0m\u001b[0;34m\u001b[0m\u001b[0m\n\u001b[0m\u001b[1;32m   2676\u001b[0m         \u001b[0;32mreturn\u001b[0m \u001b[0mfetched\u001b[0m\u001b[0;34m[\u001b[0m\u001b[0;34m:\u001b[0m\u001b[0mlen\u001b[0m\u001b[0;34m(\u001b[0m\u001b[0mself\u001b[0m\u001b[0;34m.\u001b[0m\u001b[0moutputs\u001b[0m\u001b[0;34m)\u001b[0m\u001b[0;34m]\u001b[0m\u001b[0;34m\u001b[0m\u001b[0m\n\u001b[1;32m   2677\u001b[0m \u001b[0;34m\u001b[0m\u001b[0m\n",
      "\u001b[0;32m~/.virtualenvs/gdl/lib/python3.6/site-packages/tensorflow/python/client/session.py\u001b[0m in \u001b[0;36m__call__\u001b[0;34m(self, *args, **kwargs)\u001b[0m\n\u001b[1;32m   1380\u001b[0m           ret = tf_session.TF_SessionRunCallable(\n\u001b[1;32m   1381\u001b[0m               \u001b[0mself\u001b[0m\u001b[0;34m.\u001b[0m\u001b[0m_session\u001b[0m\u001b[0;34m.\u001b[0m\u001b[0m_session\u001b[0m\u001b[0;34m,\u001b[0m \u001b[0mself\u001b[0m\u001b[0;34m.\u001b[0m\u001b[0m_handle\u001b[0m\u001b[0;34m,\u001b[0m \u001b[0margs\u001b[0m\u001b[0;34m,\u001b[0m \u001b[0mstatus\u001b[0m\u001b[0;34m,\u001b[0m\u001b[0;34m\u001b[0m\u001b[0m\n\u001b[0;32m-> 1382\u001b[0;31m               run_metadata_ptr)\n\u001b[0m\u001b[1;32m   1383\u001b[0m         \u001b[0;32mif\u001b[0m \u001b[0mrun_metadata\u001b[0m\u001b[0;34m:\u001b[0m\u001b[0;34m\u001b[0m\u001b[0m\n\u001b[1;32m   1384\u001b[0m           \u001b[0mproto_data\u001b[0m \u001b[0;34m=\u001b[0m \u001b[0mtf_session\u001b[0m\u001b[0;34m.\u001b[0m\u001b[0mTF_GetBuffer\u001b[0m\u001b[0;34m(\u001b[0m\u001b[0mrun_metadata_ptr\u001b[0m\u001b[0;34m)\u001b[0m\u001b[0;34m\u001b[0m\u001b[0m\n",
      "\u001b[0;31mKeyboardInterrupt\u001b[0m: "
     ]
    }
   ],
   "source": [
    "d_losses, g_losses, d_accs, g_accs = gan.train(     \n",
    "    x_train\n",
    "    , batch_size = 128\n",
    "    , epochs = 2000\n",
    "    , run_folder = RUN_FOLDER\n",
    "    , print_every_n_batches = 10\n",
    "    , initial_epoch = 0\n",
    ")\n",
    "\n"
   ]
  },
  {
   "cell_type": "code",
   "execution_count": null,
   "metadata": {},
   "outputs": [],
   "source": [
    "plt.plot(g_accs, color='orange', linewidth=1)\n",
    "plt.plot(d_accs, color='green', linewidth=1)\n",
    "\n"
   ]
  },
  {
   "cell_type": "code",
   "execution_count": null,
   "metadata": {
    "scrolled": true
   },
   "outputs": [],
   "source": [
    "for i in range(10):\n",
    "    print(gan.discriminator.predict(np.array([x_train[i]]))[0])"
   ]
  },
  {
   "cell_type": "code",
   "execution_count": null,
   "metadata": {},
   "outputs": [],
   "source": [
    "noise = np.random.uniform(-1, 1, 100)\n",
    "img = gan.generator.predict(np.array([noise]))[0]\n",
    "\n",
    "print(img.shape)\n",
    "plt.imshow(img[:,:,0])\n",
    "\n",
    "gan.discriminator.predict(np.array([img]))[0]"
   ]
  },
  {
   "cell_type": "code",
   "execution_count": null,
   "metadata": {},
   "outputs": [],
   "source": [
    "len(gan.discriminator.get_weights())"
   ]
  },
  {
   "cell_type": "code",
   "execution_count": null,
   "metadata": {},
   "outputs": [],
   "source": [
    "gan.model.summary()"
   ]
  },
  {
   "cell_type": "code",
   "execution_count": null,
   "metadata": {},
   "outputs": [],
   "source": [
    "gan.discriminator.layers"
   ]
  },
  {
   "cell_type": "code",
   "execution_count": null,
   "metadata": {},
   "outputs": [],
   "source": [
    "pointer = 0\n",
    "for x, y in enumerate(gan.discriminator.layers):\n",
    "    \n",
    "    print(y)\n",
    "    print(y.trainable)\n",
    "    for i in gan.discriminator.layers[x].get_weights():\n",
    "        \n",
    "        print(pointer)\n",
    "        print(i.shape)\n",
    "        pointer+=1\n",
    "        \n",
    "        "
   ]
  },
  {
   "cell_type": "code",
   "execution_count": null,
   "metadata": {},
   "outputs": [],
   "source": [
    "len(gan.discriminator.get_weights())"
   ]
  },
  {
   "cell_type": "code",
   "execution_count": null,
   "metadata": {},
   "outputs": [],
   "source": [
    "gan.discriminator.get_weights()[2]"
   ]
  },
  {
   "cell_type": "code",
   "execution_count": null,
   "metadata": {},
   "outputs": [],
   "source": [
    "gan.discriminator.get_weights()[22]"
   ]
  },
  {
   "cell_type": "code",
   "execution_count": null,
   "metadata": {},
   "outputs": [],
   "source": [
    "x_train[0][16]"
   ]
  },
  {
   "cell_type": "code",
   "execution_count": null,
   "metadata": {},
   "outputs": [],
   "source": [
    "gan.model.save_weights(os.path.join(RUN_FOLDER, 'weights/weights.h5'))"
   ]
  },
  {
   "cell_type": "code",
   "execution_count": null,
   "metadata": {},
   "outputs": [],
   "source": []
  },
  {
   "cell_type": "code",
   "execution_count": null,
   "metadata": {},
   "outputs": [],
   "source": []
  }
 ],
 "metadata": {
  "kernelspec": {
   "display_name": "gdl",
   "language": "python",
   "name": "gdl"
  },
  "language_info": {
   "codemirror_mode": {
    "name": "ipython",
    "version": 3
   },
   "file_extension": ".py",
   "mimetype": "text/x-python",
   "name": "python",
   "nbconvert_exporter": "python",
   "pygments_lexer": "ipython3",
   "version": "3.6.5"
  }
 },
 "nbformat": 4,
 "nbformat_minor": 2
}
