{
 "cells": [
  {
   "cell_type": "markdown",
   "metadata": {},
   "source": [
    "# GAN Training"
   ]
  },
  {
   "cell_type": "markdown",
   "metadata": {},
   "source": [
    "## imports"
   ]
  },
  {
   "cell_type": "code",
   "execution_count": 1,
   "metadata": {},
   "outputs": [
    {
     "name": "stderr",
     "output_type": "stream",
     "text": [
      "Using TensorFlow backend.\n"
     ]
    }
   ],
   "source": [
    "%matplotlib inline\n",
    "\n",
    "import os\n",
    "import numpy as np\n",
    "import matplotlib.pyplot as plt\n",
    "\n",
    "from models.GAN import GAN\n",
    "from utils.loaders import load_safari\n",
    "from keras.datasets import cifar100,cifar10\n"
   ]
  },
  {
   "cell_type": "code",
   "execution_count": 2,
   "metadata": {},
   "outputs": [],
   "source": [
    "RUN_ID = '0016'\n",
    "RUN_FOLDER = os.path.join(\"./run\", RUN_ID)"
   ]
  },
  {
   "cell_type": "markdown",
   "metadata": {},
   "source": [
    "## data"
   ]
  },
  {
   "cell_type": "code",
   "execution_count": 3,
   "metadata": {},
   "outputs": [],
   "source": [
    "label = 7\n",
    "(x_train, y_train), (x_test, y_test) = cifar10.load_data()\n",
    "# (x_train, y_train), (x_test, y_test) = cifar10.load_data(label_mode='fine')\n",
    "\n",
    "mask = [y[0]==label for y in y_train]\n",
    "\n",
    "x_train = x_train[mask]\n",
    "y_train = y_train[mask]"
   ]
  },
  {
   "cell_type": "markdown",
   "metadata": {},
   "source": [
    "## architecture"
   ]
  },
  {
   "cell_type": "code",
   "execution_count": 4,
   "metadata": {},
   "outputs": [
    {
     "data": {
      "text/plain": [
       "<matplotlib.image.AxesImage at 0x10abb33c8>"
      ]
     },
     "execution_count": 4,
     "metadata": {},
     "output_type": "execute_result"
    },
    {
     "data": {
      "image/png": "[encoded data removed]",
      "text/plain": [
       "<Figure size 432x288 with 1 Axes>"
      ]
     },
     "metadata": {
      "needs_background": "light"
     },
     "output_type": "display_data"
    }
   ],
   "source": [
    "plt.imshow(x_train[200,:,:,:])"
   ]
  },
  {
   "cell_type": "code",
   "execution_count": 5,
   "metadata": {},
   "outputs": [],
   "source": [
    "x_train = (x_train.astype('float32') - 127.5) / 127.5\n",
    "x_test = (x_test.astype('float32') - 127.5) / 127.5\n"
   ]
  },
  {
   "cell_type": "code",
   "execution_count": 6,
   "metadata": {},
   "outputs": [
    {
     "name": "stdout",
     "output_type": "stream",
     "text": [
      "-0.92941177\n",
      "0.94509804\n"
     ]
    }
   ],
   "source": [
    "print(np.min(x_train[0]))\n",
    "print(np.max(x_train[0]))"
   ]
  },
  {
   "cell_type": "code",
   "execution_count": 7,
   "metadata": {},
   "outputs": [
    {
     "data": {
      "text/plain": [
       "(5000, 32, 32, 3)"
      ]
     },
     "execution_count": 7,
     "metadata": {},
     "output_type": "execute_result"
    }
   ],
   "source": [
    "x_train.shape"
   ]
  },
  {
   "cell_type": "code",
   "execution_count": 8,
   "metadata": {},
   "outputs": [],
   "source": [
    "gan = GAN(input_dim = (32,32,3)\n",
    "        , discriminator_conv_filters = [64,64,128,128]\n",
    "        , discriminator_conv_kernel_size = [5,5,5,5]\n",
    "        , discriminator_conv_strides = [2,2,2,1]\n",
    "        , discriminator_conv_padding = 'same'\n",
    "        , discriminator_batch_norm_momentum = None\n",
    "        , discriminator_activation = 'relu'\n",
    "        , discriminator_dropout_rate = 0.4\n",
    "        , discriminator_learning_rate = 0.0008 \n",
    "        , generator_initial_dense_layer_size = (8, 8, 64)\n",
    "        , generator_use_upsampling = [True,True, False,False]\n",
    "        , generator_conv_t_filters = [128,64, 64,3]\n",
    "        , generator_conv_t_kernel_size = [5,5,5,5]\n",
    "        , generator_conv_t_strides = [1,1,1,1]\n",
    "        , generator_conv_t_padding = 'same'\n",
    "        , generator_batch_norm_momentum = 0.9\n",
    "        , generator_activation = 'relu'\n",
    "        , generator_dropout_rate = None\n",
    "        , generator_learning_rate = 0.0004 \n",
    "        , optimiser = 'rmsprop'\n",
    "        , z_dim = 100\n",
    "        )\n",
    "\n",
    "\n",
    "gan.save(RUN_FOLDER)\n",
    "\n",
    "\n"
   ]
  },
  {
   "cell_type": "code",
   "execution_count": 9,
   "metadata": {},
   "outputs": [],
   "source": [
    "#gan.load_weights(os.path.join(RUN_FOLDER, 'weights/weights.h5'))"
   ]
  },
  {
   "cell_type": "code",
   "execution_count": 10,
   "metadata": {},
   "outputs": [
    {
     "name": "stdout",
     "output_type": "stream",
     "text": [
      "_________________________________________________________________\n",
      "Layer (type)                 Output Shape              Param #   \n",
      "=================================================================\n",
      "discriminator_input (InputLa (None, 32, 32, 3)         0         \n",
      "_________________________________________________________________\n",
      "discriminator_conv_0 (Conv2D (None, 16, 16, 64)        4864      \n",
      "_________________________________________________________________\n",
      "activation_1 (Activation)    (None, 16, 16, 64)        0         \n",
      "_________________________________________________________________\n",
      "dropout_1 (Dropout)          (None, 16, 16, 64)        0         \n",
      "_________________________________________________________________\n",
      "discriminator_conv_1 (Conv2D (None, 8, 8, 64)          102464    \n",
      "_________________________________________________________________\n",
      "activation_2 (Activation)    (None, 8, 8, 64)          0         \n",
      "_________________________________________________________________\n",
      "dropout_2 (Dropout)          (None, 8, 8, 64)          0         \n",
      "_________________________________________________________________\n",
      "discriminator_conv_2 (Conv2D (None, 4, 4, 128)         204928    \n",
      "_________________________________________________________________\n",
      "activation_3 (Activation)    (None, 4, 4, 128)         0         \n",
      "_________________________________________________________________\n",
      "dropout_3 (Dropout)          (None, 4, 4, 128)         0         \n",
      "_________________________________________________________________\n",
      "discriminator_conv_3 (Conv2D (None, 4, 4, 128)         409728    \n",
      "_________________________________________________________________\n",
      "activation_4 (Activation)    (None, 4, 4, 128)         0         \n",
      "_________________________________________________________________\n",
      "dropout_4 (Dropout)          (None, 4, 4, 128)         0         \n",
      "_________________________________________________________________\n",
      "flatten_1 (Flatten)          (None, 2048)              0         \n",
      "_________________________________________________________________\n",
      "dense_1 (Dense)              (None, 1)                 2049      \n",
      "=================================================================\n",
      "Total params: 1,448,066\n",
      "Trainable params: 724,033\n",
      "Non-trainable params: 724,033\n",
      "_________________________________________________________________\n"
     ]
    },
    {
     "name": "stderr",
     "output_type": "stream",
     "text": [
      "/Users/davidfoster/.virtualenvs/gdl/lib/python3.6/site-packages/keras/engine/training.py:490: UserWarning: Discrepancy between trainable weights and collected trainable weights, did you set `model.trainable` without calling `model.compile` after ?\n",
      "  'Discrepancy between trainable weights and collected trainable'\n"
     ]
    }
   ],
   "source": [
    "gan.discriminator.summary()"
   ]
  },
  {
   "cell_type": "code",
   "execution_count": 11,
   "metadata": {
    "scrolled": false
   },
   "outputs": [
    {
     "name": "stdout",
     "output_type": "stream",
     "text": [
      "_________________________________________________________________\n",
      "Layer (type)                 Output Shape              Param #   \n",
      "=================================================================\n",
      "generator_input (InputLayer) (None, 100)               0         \n",
      "_________________________________________________________________\n",
      "dense_2 (Dense)              (None, 4096)              413696    \n",
      "_________________________________________________________________\n",
      "batch_normalization_1 (Batch (None, 4096)              16384     \n",
      "_________________________________________________________________\n",
      "activation_5 (Activation)    (None, 4096)              0         \n",
      "_________________________________________________________________\n",
      "reshape_1 (Reshape)          (None, 8, 8, 64)          0         \n",
      "_________________________________________________________________\n",
      "up_sampling2d_1 (UpSampling2 (None, 16, 16, 64)        0         \n",
      "_________________________________________________________________\n",
      "generator_conv_t_0 (Conv2DTr (None, 16, 16, 128)       204928    \n",
      "_________________________________________________________________\n",
      "batch_normalization_2 (Batch (None, 16, 16, 128)       512       \n",
      "_________________________________________________________________\n",
      "activation_6 (Activation)    (None, 16, 16, 128)       0         \n",
      "_________________________________________________________________\n",
      "up_sampling2d_2 (UpSampling2 (None, 32, 32, 128)       0         \n",
      "_________________________________________________________________\n",
      "generator_conv_t_1 (Conv2DTr (None, 32, 32, 64)        204864    \n",
      "_________________________________________________________________\n",
      "batch_normalization_3 (Batch (None, 32, 32, 64)        256       \n",
      "_________________________________________________________________\n",
      "activation_7 (Activation)    (None, 32, 32, 64)        0         \n",
      "_________________________________________________________________\n",
      "generator_conv_t_2 (Conv2DTr (None, 32, 32, 64)        102464    \n",
      "_________________________________________________________________\n",
      "batch_normalization_4 (Batch (None, 32, 32, 64)        256       \n",
      "_________________________________________________________________\n",
      "activation_8 (Activation)    (None, 32, 32, 64)        0         \n",
      "_________________________________________________________________\n",
      "generator_conv_t_3 (Conv2DTr (None, 32, 32, 3)         4803      \n",
      "_________________________________________________________________\n",
      "activation_9 (Activation)    (None, 32, 32, 3)         0         \n",
      "=================================================================\n",
      "Total params: 948,163\n",
      "Trainable params: 939,459\n",
      "Non-trainable params: 8,704\n",
      "_________________________________________________________________\n"
     ]
    }
   ],
   "source": [
    "gan.generator.summary()"
   ]
  },
  {
   "cell_type": "markdown",
   "metadata": {},
   "source": [
    "## training"
   ]
  },
  {
   "cell_type": "code",
   "execution_count": null,
   "metadata": {
    "scrolled": false
   },
   "outputs": [
    {
     "name": "stdout",
     "output_type": "stream",
     "text": [
      "0 [D loss: 0.691943] [D acc: 0.535156] [G loss: 0.019292] [G acc: 1.000000]\n",
      "1 [D loss: 5.228279] [D acc: 0.500000] [G loss: 0.649169] [G acc: 1.000000]\n",
      "2 [D loss: 0.682088] [D acc: 0.500000] [G loss: 0.558472] [G acc: 1.000000]\n",
      "3 [D loss: 0.631979] [D acc: 0.500000] [G loss: 0.161699] [G acc: 1.000000]\n",
      "4 [D loss: 0.546626] [D acc: 0.500000] [G loss: 0.002849] [G acc: 1.000000]\n",
      "5 [D loss: 0.592953] [D acc: 0.500000] [G loss: 0.090863] [G acc: 1.000000]\n",
      "6 [D loss: 0.765048] [D acc: 0.492188] [G loss: 0.998967] [G acc: 0.210938]\n",
      "7 [D loss: 0.695627] [D acc: 0.523438] [G loss: 0.556170] [G acc: 0.750000]\n",
      "8 [D loss: 1.137044] [D acc: 0.234375] [G loss: 2.256217] [G acc: 0.000000]\n",
      "9 [D loss: 0.550635] [D acc: 0.500000] [G loss: 0.991984] [G acc: 0.000000]\n",
      "10 [D loss: 0.516382] [D acc: 0.503906] [G loss: 1.000885] [G acc: 0.000000]\n",
      "11 [D loss: 0.559484] [D acc: 0.500000] [G loss: 0.807265] [G acc: 0.000000]\n",
      "12 [D loss: 0.619340] [D acc: 0.503906] [G loss: 0.743548] [G acc: 0.000000]\n",
      "13 [D loss: 0.682504] [D acc: 0.500000] [G loss: 0.721370] [G acc: 0.007812]\n",
      "14 [D loss: 0.692312] [D acc: 0.507812] [G loss: 0.712539] [G acc: 0.007812]\n",
      "15 [D loss: 0.675379] [D acc: 0.542969] [G loss: 0.707248] [G acc: 0.093750]\n",
      "16 [D loss: 0.656282] [D acc: 0.687500] [G loss: 0.703954] [G acc: 0.148438]\n",
      "17 [D loss: 0.630139] [D acc: 0.839844] [G loss: 0.696786] [G acc: 0.445312]\n",
      "18 [D loss: 0.615709] [D acc: 0.726562] [G loss: 0.728707] [G acc: 0.093750]\n",
      "19 [D loss: 0.588297] [D acc: 0.746094] [G loss: 0.788449] [G acc: 0.039062]\n",
      "20 [D loss: 0.642808] [D acc: 0.621094] [G loss: 0.850517] [G acc: 0.000000]\n",
      "21 [D loss: 0.667051] [D acc: 0.613281] [G loss: 0.767344] [G acc: 0.125000]\n",
      "22 [D loss: 1.319779] [D acc: 0.433594] [G loss: 0.863198] [G acc: 0.000000]\n",
      "23 [D loss: 0.677402] [D acc: 0.519531] [G loss: 0.850084] [G acc: 0.000000]\n",
      "24 [D loss: 0.677254] [D acc: 0.578125] [G loss: 0.913740] [G acc: 0.000000]\n",
      "25 [D loss: 0.635916] [D acc: 0.621094] [G loss: 0.837113] [G acc: 0.062500]\n",
      "26 [D loss: 0.669181] [D acc: 0.578125] [G loss: 0.797735] [G acc: 0.093750]\n",
      "27 [D loss: 0.678915] [D acc: 0.570312] [G loss: 0.807323] [G acc: 0.125000]\n",
      "28 [D loss: 0.645509] [D acc: 0.667969] [G loss: 0.677702] [G acc: 0.593750]\n",
      "29 [D loss: 0.673526] [D acc: 0.542969] [G loss: 0.658403] [G acc: 0.625000]\n",
      "30 [D loss: 0.656971] [D acc: 0.515625] [G loss: 0.492921] [G acc: 0.937500]\n",
      "31 [D loss: 0.652694] [D acc: 0.601562] [G loss: 0.186589] [G acc: 1.000000]\n",
      "32 [D loss: 0.651378] [D acc: 0.500000] [G loss: 0.096282] [G acc: 1.000000]\n",
      "33 [D loss: 0.631504] [D acc: 0.503906] [G loss: 0.078394] [G acc: 1.000000]\n",
      "34 [D loss: 0.631103] [D acc: 0.519531] [G loss: 0.079537] [G acc: 1.000000]\n",
      "35 [D loss: 0.614561] [D acc: 0.507812] [G loss: 0.079502] [G acc: 1.000000]\n",
      "36 [D loss: 0.585440] [D acc: 0.632812] [G loss: 0.035203] [G acc: 1.000000]\n",
      "37 [D loss: 0.553468] [D acc: 0.722656] [G loss: 0.057786] [G acc: 1.000000]\n",
      "38 [D loss: 0.513359] [D acc: 0.843750] [G loss: 0.836408] [G acc: 0.554688]\n",
      "39 [D loss: 0.549204] [D acc: 0.863281] [G loss: 0.000001] [G acc: 1.000000]\n",
      "40 [D loss: 0.975729] [D acc: 0.500000] [G loss: 0.068456] [G acc: 1.000000]\n",
      "41 [D loss: 0.471426] [D acc: 0.878906] [G loss: 0.023546] [G acc: 1.000000]\n",
      "42 [D loss: 0.422904] [D acc: 0.796875] [G loss: 0.028059] [G acc: 1.000000]\n",
      "43 [D loss: 0.391577] [D acc: 0.878906] [G loss: 0.243181] [G acc: 0.960938]\n",
      "44 [D loss: 0.442245] [D acc: 0.843750] [G loss: 0.525354] [G acc: 0.781250]\n",
      "45 [D loss: 0.513627] [D acc: 0.816406] [G loss: 0.055640] [G acc: 1.000000]\n",
      "46 [D loss: 0.353969] [D acc: 0.921875] [G loss: 0.145173] [G acc: 0.968750]\n",
      "47 [D loss: 0.227853] [D acc: 0.960938] [G loss: 0.000008] [G acc: 1.000000]\n",
      "48 [D loss: 0.486659] [D acc: 0.769531] [G loss: 6.514447] [G acc: 0.000000]\n",
      "49 [D loss: 1.661512] [D acc: 0.605469] [G loss: 0.000373] [G acc: 1.000000]\n",
      "50 [D loss: 1.347936] [D acc: 0.503906] [G loss: 1.019857] [G acc: 0.117188]\n",
      "51 [D loss: 0.356515] [D acc: 0.933594] [G loss: 0.976254] [G acc: 0.203125]\n",
      "52 [D loss: 0.354807] [D acc: 0.898438] [G loss: 1.131825] [G acc: 0.117188]\n",
      "53 [D loss: 0.312172] [D acc: 0.890625] [G loss: 1.406383] [G acc: 0.109375]\n",
      "54 [D loss: 0.473378] [D acc: 0.792969] [G loss: 0.971491] [G acc: 0.281250]\n",
      "55 [D loss: 0.586416] [D acc: 0.738281] [G loss: 0.576161] [G acc: 0.765625]\n",
      "56 [D loss: 0.440969] [D acc: 0.839844] [G loss: 0.987830] [G acc: 0.125000]\n",
      "57 [D loss: 0.400815] [D acc: 0.832031] [G loss: 0.512198] [G acc: 0.812500]\n",
      "58 [D loss: 0.362835] [D acc: 0.898438] [G loss: 2.002374] [G acc: 0.000000]\n",
      "59 [D loss: 0.512668] [D acc: 0.718750] [G loss: 0.186159] [G acc: 0.992188]\n",
      "60 [D loss: 0.405581] [D acc: 0.812500] [G loss: 4.043767] [G acc: 0.000000]\n",
      "61 [D loss: 0.661031] [D acc: 0.691406] [G loss: 0.290422] [G acc: 0.992188]\n",
      "62 [D loss: 0.440423] [D acc: 0.761719] [G loss: 1.487877] [G acc: 0.000000]\n",
      "63 [D loss: 0.269831] [D acc: 0.898438] [G loss: 1.182166] [G acc: 0.015625]\n",
      "64 [D loss: 0.244869] [D acc: 0.929688] [G loss: 1.277413] [G acc: 0.023438]\n",
      "65 [D loss: 0.304236] [D acc: 0.929688] [G loss: 2.657965] [G acc: 0.000000]\n",
      "66 [D loss: 0.221064] [D acc: 0.910156] [G loss: 1.393697] [G acc: 0.140625]\n",
      "67 [D loss: 0.056484] [D acc: 0.988281] [G loss: 0.000228] [G acc: 1.000000]\n",
      "68 [D loss: 0.022425] [D acc: 0.992188] [G loss: 0.000068] [G acc: 1.000000]\n",
      "69 [D loss: 0.013054] [D acc: 1.000000] [G loss: 0.000109] [G acc: 1.000000]\n",
      "70 [D loss: 0.033007] [D acc: 0.984375] [G loss: 0.000003] [G acc: 1.000000]\n",
      "71 [D loss: 0.214881] [D acc: 0.917969] [G loss: 4.534058] [G acc: 0.156250]\n",
      "72 [D loss: 0.672636] [D acc: 0.832031] [G loss: 0.000001] [G acc: 1.000000]\n",
      "73 [D loss: 0.678381] [D acc: 0.683594] [G loss: 0.647926] [G acc: 0.742188]\n",
      "74 [D loss: 0.540931] [D acc: 0.812500] [G loss: 0.014316] [G acc: 1.000000]\n",
      "75 [D loss: 0.535648] [D acc: 0.746094] [G loss: 2.205806] [G acc: 0.289062]\n",
      "76 [D loss: 0.401834] [D acc: 0.808594] [G loss: 0.090292] [G acc: 0.953125]\n",
      "77 [D loss: 0.346469] [D acc: 0.843750] [G loss: 0.101479] [G acc: 0.953125]\n",
      "78 [D loss: 0.496079] [D acc: 0.843750] [G loss: 0.405416] [G acc: 0.781250]\n",
      "79 [D loss: 0.436646] [D acc: 0.785156] [G loss: 0.720472] [G acc: 0.570312]\n",
      "80 [D loss: 0.429724] [D acc: 0.765625] [G loss: 0.651491] [G acc: 0.687500]\n",
      "81 [D loss: 0.451678] [D acc: 0.765625] [G loss: 0.870677] [G acc: 0.546875]\n",
      "82 [D loss: 0.430677] [D acc: 0.792969] [G loss: 0.064898] [G acc: 0.984375]\n",
      "83 [D loss: 0.563592] [D acc: 0.691406] [G loss: 1.165061] [G acc: 0.273438]\n",
      "84 [D loss: 0.673787] [D acc: 0.601562] [G loss: 0.072477] [G acc: 1.000000]\n",
      "85 [D loss: 0.824091] [D acc: 0.531250] [G loss: 0.797892] [G acc: 0.359375]\n",
      "86 [D loss: 0.601608] [D acc: 0.589844] [G loss: 0.728567] [G acc: 0.453125]\n",
      "87 [D loss: 0.606511] [D acc: 0.664062] [G loss: 0.737016] [G acc: 0.531250]\n",
      "88 [D loss: 0.639546] [D acc: 0.605469] [G loss: 1.317262] [G acc: 0.000000]\n",
      "89 [D loss: 0.493399] [D acc: 0.703125] [G loss: 1.062290] [G acc: 0.046875]\n",
      "90 [D loss: 0.398675] [D acc: 0.832031] [G loss: 0.677700] [G acc: 0.585938]\n",
      "91 [D loss: 0.277993] [D acc: 0.867188] [G loss: 0.003429] [G acc: 1.000000]\n",
      "92 [D loss: 0.994320] [D acc: 0.519531] [G loss: 0.554859] [G acc: 0.703125]\n",
      "93 [D loss: 0.524161] [D acc: 0.746094] [G loss: 0.013435] [G acc: 1.000000]\n",
      "94 [D loss: 0.414052] [D acc: 0.824219] [G loss: 0.008406] [G acc: 1.000000]\n",
      "95 [D loss: 0.343228] [D acc: 0.812500] [G loss: 0.001729] [G acc: 1.000000]\n",
      "96 [D loss: 0.314226] [D acc: 0.875000] [G loss: 0.002172] [G acc: 1.000000]\n",
      "97 [D loss: 0.255517] [D acc: 0.929688] [G loss: 0.004840] [G acc: 1.000000]\n",
      "98 [D loss: 0.179161] [D acc: 0.964844] [G loss: 0.012097] [G acc: 1.000000]\n",
      "99 [D loss: 0.142768] [D acc: 0.949219] [G loss: 0.000289] [G acc: 1.000000]\n",
      "100 [D loss: 0.116380] [D acc: 0.968750] [G loss: 0.062670] [G acc: 0.976562]\n",
      "101 [D loss: 0.175671] [D acc: 0.937500] [G loss: 1.075461] [G acc: 0.531250]\n",
      "102 [D loss: 2.632191] [D acc: 0.445312] [G loss: 5.572882] [G acc: 0.000000]\n",
      "103 [D loss: 0.454207] [D acc: 0.777344] [G loss: 0.123450] [G acc: 0.992188]\n",
      "104 [D loss: 0.259849] [D acc: 0.925781] [G loss: 0.431348] [G acc: 0.812500]\n",
      "105 [D loss: 0.275030] [D acc: 0.906250] [G loss: 0.762291] [G acc: 0.539062]\n",
      "106 [D loss: 0.324246] [D acc: 0.863281] [G loss: 0.132758] [G acc: 0.992188]\n"
     ]
    },
    {
     "name": "stdout",
     "output_type": "stream",
     "text": [
      "107 [D loss: 0.329692] [D acc: 0.871094] [G loss: 1.416992] [G acc: 0.265625]\n",
      "108 [D loss: 0.399941] [D acc: 0.839844] [G loss: 0.397034] [G acc: 0.812500]\n",
      "109 [D loss: 0.277997] [D acc: 0.886719] [G loss: 6.503766] [G acc: 0.000000]\n",
      "110 [D loss: 0.334048] [D acc: 0.843750] [G loss: 0.040579] [G acc: 0.992188]\n",
      "111 [D loss: 0.714888] [D acc: 0.667969] [G loss: 6.734589] [G acc: 0.000000]\n",
      "112 [D loss: 0.586320] [D acc: 0.781250] [G loss: 0.798839] [G acc: 0.445312]\n",
      "113 [D loss: 0.884376] [D acc: 0.460938] [G loss: 1.364566] [G acc: 0.210938]\n",
      "114 [D loss: 0.504184] [D acc: 0.730469] [G loss: 0.266108] [G acc: 0.859375]\n",
      "115 [D loss: 0.513429] [D acc: 0.757812] [G loss: 0.335078] [G acc: 0.882812]\n",
      "116 [D loss: 0.508816] [D acc: 0.761719] [G loss: 0.831120] [G acc: 0.539062]\n",
      "117 [D loss: 0.472071] [D acc: 0.718750] [G loss: 0.725208] [G acc: 0.578125]\n",
      "118 [D loss: 0.446693] [D acc: 0.753906] [G loss: 1.052777] [G acc: 0.406250]\n",
      "119 [D loss: 0.409398] [D acc: 0.796875] [G loss: 1.361887] [G acc: 0.218750]\n",
      "120 [D loss: 0.492226] [D acc: 0.714844] [G loss: 1.730006] [G acc: 0.148438]\n",
      "121 [D loss: 0.611912] [D acc: 0.664062] [G loss: 1.156691] [G acc: 0.257812]\n"
     ]
    }
   ],
   "source": [
    "d_losses, g_losses, d_accs, g_accs = gan.train(     \n",
    "    x_train\n",
    "    , batch_size = 128\n",
    "    , epochs = 2000\n",
    "    , run_folder = RUN_FOLDER\n",
    "    , print_every_n_batches = 10\n",
    "    , initial_epoch = 0\n",
    ")\n",
    "\n"
   ]
  },
  {
   "cell_type": "code",
   "execution_count": 13,
   "metadata": {},
   "outputs": [],
   "source": [
    "idx = np.random.randint(0, x_train.shape[0], 128)\n",
    "true_imgs = x_train[idx]\n",
    "\n",
    "noise = np.random.normal(0, 1, (128, gan.z_dim))\n",
    "gen_imgs = gan.generator.predict(noise)\n",
    "\n",
    "x = np.concatenate([true_imgs, gen_imgs])\n",
    "y = np.concatenate([np.ones((128,1)), np.zeros((128,1))])"
   ]
  },
  {
   "cell_type": "code",
   "execution_count": null,
   "metadata": {},
   "outputs": [],
   "source": [
    "d_loss, d_acc = gan.discriminator.train_on_batch(x, y)"
   ]
  },
  {
   "cell_type": "code",
   "execution_count": null,
   "metadata": {},
   "outputs": [],
   "source": [
    "d_loss"
   ]
  },
  {
   "cell_type": "code",
   "execution_count": null,
   "metadata": {},
   "outputs": [],
   "source": [
    "plt.imshow((x[200]+1)*0.5)"
   ]
  },
  {
   "cell_type": "code",
   "execution_count": null,
   "metadata": {},
   "outputs": [],
   "source": [
    "y[200]"
   ]
  },
  {
   "cell_type": "code",
   "execution_count": 15,
   "metadata": {},
   "outputs": [
    {
     "data": {
      "text/plain": [
       "[0.009636844, 0.99609375]"
      ]
     },
     "execution_count": 15,
     "metadata": {},
     "output_type": "execute_result"
    }
   ],
   "source": [
    "gan.discriminator.test_on_batch(x, y)"
   ]
  },
  {
   "cell_type": "code",
   "execution_count": null,
   "metadata": {},
   "outputs": [],
   "source": [
    "plt.plot(g_accs, color='orange', linewidth=1)\n",
    "plt.plot(d_accs, color='green', linewidth=1)\n",
    "\n"
   ]
  },
  {
   "cell_type": "code",
   "execution_count": 16,
   "metadata": {
    "scrolled": true
   },
   "outputs": [
    {
     "name": "stdout",
     "output_type": "stream",
     "text": [
      "[0.99999976]\n",
      "[1.]\n",
      "[1.]\n",
      "[1.]\n",
      "[1.]\n",
      "[1.]\n",
      "[1.]\n",
      "[1.]\n",
      "[1.]\n",
      "[1.]\n"
     ]
    }
   ],
   "source": [
    "for i in range(10):\n",
    "    print(gan.discriminator.predict(np.array([x_train[i]]))[0])"
   ]
  },
  {
   "cell_type": "code",
   "execution_count": 17,
   "metadata": {},
   "outputs": [
    {
     "name": "stdout",
     "output_type": "stream",
     "text": [
      "(32, 32, 3)\n"
     ]
    },
    {
     "data": {
      "text/plain": [
       "array([4.5723013e-06], dtype=float32)"
      ]
     },
     "execution_count": 17,
     "metadata": {},
     "output_type": "execute_result"
    },
    {
     "data": {
      "image/png": "[encoded data removed]",
      "text/plain": [
       "<Figure size 432x288 with 1 Axes>"
      ]
     },
     "metadata": {
      "needs_background": "light"
     },
     "output_type": "display_data"
    }
   ],
   "source": [
    "noise = np.random.normal(0, 1, 100)\n",
    "img = gan.generator.predict(np.array([noise]))[0]\n",
    "\n",
    "print(img.shape)\n",
    "plt.imshow(img[:,:,0])\n",
    "\n",
    "gan.discriminator.predict(np.array([img]))[0]"
   ]
  },
  {
   "cell_type": "code",
   "execution_count": null,
   "metadata": {},
   "outputs": [],
   "source": [
    "len(gan.discriminator.get_weights())"
   ]
  },
  {
   "cell_type": "code",
   "execution_count": null,
   "metadata": {},
   "outputs": [],
   "source": [
    "gan.model.summary()"
   ]
  },
  {
   "cell_type": "code",
   "execution_count": null,
   "metadata": {},
   "outputs": [],
   "source": [
    "gan.discriminator.layers"
   ]
  },
  {
   "cell_type": "code",
   "execution_count": null,
   "metadata": {},
   "outputs": [],
   "source": [
    "pointer = 0\n",
    "for x, y in enumerate(gan.discriminator.layers):\n",
    "    \n",
    "    print(y)\n",
    "    print(y.trainable)\n",
    "    for i in gan.discriminator.layers[x].get_weights():\n",
    "        \n",
    "        print(pointer)\n",
    "        print(i.shape)\n",
    "        pointer+=1\n",
    "        \n",
    "        "
   ]
  },
  {
   "cell_type": "code",
   "execution_count": null,
   "metadata": {},
   "outputs": [],
   "source": [
    "len(gan.discriminator.get_weights())"
   ]
  },
  {
   "cell_type": "code",
   "execution_count": null,
   "metadata": {},
   "outputs": [],
   "source": [
    "gan.discriminator.get_weights()[2]"
   ]
  },
  {
   "cell_type": "code",
   "execution_count": null,
   "metadata": {},
   "outputs": [],
   "source": [
    "gan.discriminator.get_weights()[22]"
   ]
  },
  {
   "cell_type": "code",
   "execution_count": null,
   "metadata": {},
   "outputs": [],
   "source": [
    "x_train[0][16]"
   ]
  },
  {
   "cell_type": "code",
   "execution_count": null,
   "metadata": {},
   "outputs": [],
   "source": [
    "gan.model.save_weights(os.path.join(RUN_FOLDER, 'weights/weights.h5'))"
   ]
  },
  {
   "cell_type": "code",
   "execution_count": null,
   "metadata": {},
   "outputs": [],
   "source": []
  },
  {
   "cell_type": "code",
   "execution_count": null,
   "metadata": {},
   "outputs": [],
   "source": []
  }
 ],
 "metadata": {
  "kernelspec": {
   "display_name": "gdl",
   "language": "python",
   "name": "gdl"
  },
  "language_info": {
   "codemirror_mode": {
    "name": "ipython",
    "version": 3
   },
   "file_extension": ".py",
   "mimetype": "text/x-python",
   "name": "python",
   "nbconvert_exporter": "python",
   "pygments_lexer": "ipython3",
   "version": "3.6.5"
  }
 },
 "nbformat": 4,
 "nbformat_minor": 2
}
