{
 "cells": [
  {
   "cell_type": "markdown",
   "metadata": {},
   "source": [
    "# WGAN Training"
   ]
  },
  {
   "cell_type": "markdown",
   "metadata": {},
   "source": [
    "## imports"
   ]
  },
  {
   "cell_type": "code",
   "execution_count": 1,
   "metadata": {},
   "outputs": [
    {
     "name": "stderr",
     "output_type": "stream",
     "text": [
      "Using TensorFlow backend.\n"
     ]
    }
   ],
   "source": [
    "%matplotlib inline\n",
    "\n",
    "import os\n",
    "import numpy as np\n",
    "import matplotlib.pyplot as plt\n",
    "\n",
    "from models.WGAN import WGAN\n",
    "from utils.loaders import load_safari, load_cifar\n",
    "\n"
   ]
  },
  {
   "cell_type": "code",
   "execution_count": 2,
   "metadata": {},
   "outputs": [],
   "source": [
    "RUN_ID = '0019'\n",
    "RUN_FOLDER = os.path.join(\"./run\", RUN_ID)\n",
    "\n",
    "IMAGE_SIZE = 32"
   ]
  },
  {
   "cell_type": "markdown",
   "metadata": {},
   "source": [
    "## data"
   ]
  },
  {
   "cell_type": "code",
   "execution_count": 3,
   "metadata": {},
   "outputs": [],
   "source": [
    "label = 1\n",
    "(x_train, y_train) = load_cifar(label, 10)\n",
    "# (x_train, y_train) = load_safari('elephant')\n",
    "\n",
    "\n"
   ]
  },
  {
   "cell_type": "markdown",
   "metadata": {},
   "source": [
    "## architecture"
   ]
  },
  {
   "cell_type": "code",
   "execution_count": 4,
   "metadata": {},
   "outputs": [
    {
     "data": {
      "text/plain": [
       "<matplotlib.image.AxesImage at 0x1315519b0>"
      ]
     },
     "execution_count": 4,
     "metadata": {},
     "output_type": "execute_result"
    },
    {
     "data": {
      "image/png": "[encoded data removed]",
      "text/plain": [
       "<Figure size 432x288 with 1 Axes>"
      ]
     },
     "metadata": {
      "needs_background": "light"
     },
     "output_type": "display_data"
    }
   ],
   "source": [
    "plt.imshow((x_train[0,:,:,:]+1)/2)"
   ]
  },
  {
   "cell_type": "code",
   "execution_count": 5,
   "metadata": {},
   "outputs": [
    {
     "name": "stdout",
     "output_type": "stream",
     "text": [
      "-1.0\n",
      "1.0\n"
     ]
    }
   ],
   "source": [
    "print(np.min(x_train))\n",
    "print(np.max(x_train))"
   ]
  },
  {
   "cell_type": "code",
   "execution_count": 6,
   "metadata": {},
   "outputs": [
    {
     "data": {
      "text/plain": [
       "(6000, 32, 32, 3)"
      ]
     },
     "execution_count": 6,
     "metadata": {},
     "output_type": "execute_result"
    }
   ],
   "source": [
    "x_train.shape"
   ]
  },
  {
   "cell_type": "code",
   "execution_count": 7,
   "metadata": {},
   "outputs": [],
   "source": [
    "#works\n",
    "\n",
    "gan = WGAN(input_dim = (IMAGE_SIZE,IMAGE_SIZE,3)\n",
    "        , critic_conv_filters = [32,64,128,256]\n",
    "        , critic_conv_kernel_size = [5,5,5,5]\n",
    "        , critic_conv_strides = [2,2,2,1]\n",
    "        , critic_conv_padding = 'same'\n",
    "        , critic_batch_norm_momentum = 0.8\n",
    "        , critic_activation = 'leaky_relu'\n",
    "        , critic_dropout_rate = None\n",
    "        , critic_learning_rate = 0.00005\n",
    "        , generator_initial_dense_layer_size = (4,4,256)\n",
    "        , generator_upsample = [1,1,1,1]\n",
    "        , generator_conv_filters = [128,64,32,3]\n",
    "        , generator_conv_kernel_size = [5,5,5,5]\n",
    "        , generator_conv_strides = [2,2,2,1]\n",
    "        , generator_conv_padding = 'same'\n",
    "        , generator_batch_norm_momentum = 0.8\n",
    "        , generator_activation = 'leaky_relu'\n",
    "        , generator_dropout_rate = None\n",
    "        , generator_learning_rate = 0.00005\n",
    "        , optimiser = 'rmsprop'\n",
    "        , z_dim = 100\n",
    "        )\n",
    "\n",
    "\n",
    "\n",
    "\n",
    "\n",
    "# gan = WGAN(input_dim = (IMAGE_SIZE,IMAGE_SIZE,3)\n",
    "#         , critic_conv_filters = [32,64,128,128]\n",
    "#         , critic_conv_kernel_size = [5,5,5,5]\n",
    "#         , critic_conv_strides = [2,2,2,1]\n",
    "#         , critic_conv_padding = 'same'\n",
    "#         , critic_batch_norm_momentum = None\n",
    "#         , critic_activation = 'leaky_relu'\n",
    "#         , critic_dropout_rate = None\n",
    "#         , critic_learning_rate = 0.00005\n",
    "#         , generator_initial_dense_layer_size = (4, 4, 128)\n",
    "#         , generator_upsample = [2,2, 2,1]\n",
    "#         , generator_conv_filters = [128,64,32,3]\n",
    "#         , generator_conv_kernel_size = [5,5,5,5]\n",
    "#         , generator_conv_strides = [1,1, 1,1]\n",
    "#         , generator_conv_padding = 'same'\n",
    "#         , generator_batch_norm_momentum = 0.8\n",
    "#         , generator_activation = 'leaky_relu'\n",
    "#         , generator_dropout_rate = None\n",
    "#         , generator_learning_rate = 0.00005\n",
    "#         , optimiser = 'rmsprop'\n",
    "#         , z_dim = 100\n",
    "#         )\n",
    "\n",
    "gan.save(RUN_FOLDER)\n"
   ]
  },
  {
   "cell_type": "code",
   "execution_count": 8,
   "metadata": {},
   "outputs": [],
   "source": [
    "#gan.load_weights(os.path.join(RUN_FOLDER, 'weights/weights.h5'))"
   ]
  },
  {
   "cell_type": "code",
   "execution_count": 9,
   "metadata": {},
   "outputs": [
    {
     "name": "stdout",
     "output_type": "stream",
     "text": [
      "_________________________________________________________________\n",
      "Layer (type)                 Output Shape              Param #   \n",
      "=================================================================\n",
      "critic_input (InputLayer)    (None, 32, 32, 3)         0         \n",
      "_________________________________________________________________\n",
      "critic_conv_0 (Conv2D)       (None, 16, 16, 32)        2432      \n",
      "_________________________________________________________________\n",
      "leaky_re_lu_1 (LeakyReLU)    (None, 16, 16, 32)        0         \n",
      "_________________________________________________________________\n",
      "critic_conv_1 (Conv2D)       (None, 8, 8, 64)          51264     \n",
      "_________________________________________________________________\n",
      "batch_normalization_1 (Batch (None, 8, 8, 64)          256       \n",
      "_________________________________________________________________\n",
      "leaky_re_lu_2 (LeakyReLU)    (None, 8, 8, 64)          0         \n",
      "_________________________________________________________________\n",
      "critic_conv_2 (Conv2D)       (None, 4, 4, 128)         204928    \n",
      "_________________________________________________________________\n",
      "batch_normalization_2 (Batch (None, 4, 4, 128)         512       \n",
      "_________________________________________________________________\n",
      "leaky_re_lu_3 (LeakyReLU)    (None, 4, 4, 128)         0         \n",
      "_________________________________________________________________\n",
      "critic_conv_3 (Conv2D)       (None, 4, 4, 256)         819456    \n",
      "_________________________________________________________________\n",
      "batch_normalization_3 (Batch (None, 4, 4, 256)         1024      \n",
      "_________________________________________________________________\n",
      "leaky_re_lu_4 (LeakyReLU)    (None, 4, 4, 256)         0         \n",
      "_________________________________________________________________\n",
      "flatten_1 (Flatten)          (None, 4096)              0         \n",
      "_________________________________________________________________\n",
      "dense_1 (Dense)              (None, 1)                 4097      \n",
      "=================================================================\n",
      "Total params: 1,083,969\n",
      "Trainable params: 1,083,073\n",
      "Non-trainable params: 896\n",
      "_________________________________________________________________\n"
     ]
    }
   ],
   "source": [
    "gan.critic.summary()"
   ]
  },
  {
   "cell_type": "code",
   "execution_count": 10,
   "metadata": {},
   "outputs": [
    {
     "name": "stdout",
     "output_type": "stream",
     "text": [
      "_________________________________________________________________\n",
      "Layer (type)                 Output Shape              Param #   \n",
      "=================================================================\n",
      "generator_input (InputLayer) (None, 100)               0         \n",
      "_________________________________________________________________\n",
      "dense_2 (Dense)              (None, 4096)              413696    \n",
      "_________________________________________________________________\n",
      "batch_normalization_4 (Batch (None, 4096)              16384     \n",
      "_________________________________________________________________\n",
      "leaky_re_lu_5 (LeakyReLU)    (None, 4096)              0         \n",
      "_________________________________________________________________\n",
      "reshape_1 (Reshape)          (None, 4, 4, 256)         0         \n",
      "_________________________________________________________________\n",
      "generator_conv_0 (Conv2DTran (None, 8, 8, 128)         819328    \n",
      "_________________________________________________________________\n",
      "batch_normalization_5 (Batch (None, 8, 8, 128)         512       \n",
      "_________________________________________________________________\n",
      "leaky_re_lu_6 (LeakyReLU)    (None, 8, 8, 128)         0         \n",
      "_________________________________________________________________\n",
      "generator_conv_1 (Conv2DTran (None, 16, 16, 64)        204864    \n",
      "_________________________________________________________________\n",
      "batch_normalization_6 (Batch (None, 16, 16, 64)        256       \n",
      "_________________________________________________________________\n",
      "leaky_re_lu_7 (LeakyReLU)    (None, 16, 16, 64)        0         \n",
      "_________________________________________________________________\n",
      "generator_conv_2 (Conv2DTran (None, 32, 32, 32)        51232     \n",
      "_________________________________________________________________\n",
      "batch_normalization_7 (Batch (None, 32, 32, 32)        128       \n",
      "_________________________________________________________________\n",
      "leaky_re_lu_8 (LeakyReLU)    (None, 32, 32, 32)        0         \n",
      "_________________________________________________________________\n",
      "generator_conv_3 (Conv2DTran (None, 32, 32, 3)         2403      \n",
      "_________________________________________________________________\n",
      "activation_1 (Activation)    (None, 32, 32, 3)         0         \n",
      "=================================================================\n",
      "Total params: 1,508,803\n",
      "Trainable params: 1,500,163\n",
      "Non-trainable params: 8,640\n",
      "_________________________________________________________________\n"
     ]
    }
   ],
   "source": [
    "gan.generator.summary()"
   ]
  },
  {
   "cell_type": "markdown",
   "metadata": {},
   "source": [
    "## training"
   ]
  },
  {
   "cell_type": "code",
   "execution_count": null,
   "metadata": {
    "scrolled": false
   },
   "outputs": [
    {
     "name": "stdout",
     "output_type": "stream",
     "text": [
      "1953 (10, 1) [D loss: (0.001)(R -0.151, F 0.154)]  [G loss: -0.145] \n",
      "1954 (10, 1) [D loss: (0.001)(R -0.143, F 0.144)]  [G loss: -0.139] \n",
      "1955 (10, 1) [D loss: (0.001)(R -0.140, F 0.142)]  [G loss: -0.135] \n",
      "1956 (10, 1) [D loss: (-0.001)(R -0.136, F 0.134)]  [G loss: -0.137] \n",
      "1957 (10, 1) [D loss: (-0.005)(R -0.138, F 0.127)]  [G loss: -0.125] \n",
      "1958 (10, 1) [D loss: (-0.003)(R -0.133, F 0.127)]  [G loss: -0.127] \n",
      "1959 (10, 1) [D loss: (0.001)(R -0.136, F 0.137)]  [G loss: -0.130] \n",
      "1960 (10, 1) [D loss: (0.004)(R -0.136, F 0.145)]  [G loss: -0.137] \n",
      "1961 (10, 1) [D loss: (0.000)(R -0.143, F 0.143)]  [G loss: -0.138] \n",
      "1962 (10, 1) [D loss: (0.001)(R -0.144, F 0.145)]  [G loss: -0.135] \n",
      "1963 (10, 1) [D loss: (0.001)(R -0.144, F 0.147)]  [G loss: -0.143] \n",
      "1964 (10, 1) [D loss: (-0.004)(R -0.148, F 0.139)]  [G loss: -0.145] \n",
      "1965 (10, 1) [D loss: (0.000)(R -0.148, F 0.148)]  [G loss: -0.144] \n",
      "1966 (10, 1) [D loss: (0.005)(R -0.142, F 0.152)]  [G loss: -0.146] \n",
      "1967 (10, 1) [D loss: (0.002)(R -0.147, F 0.151)]  [G loss: -0.142] \n",
      "1968 (10, 1) [D loss: (-0.001)(R -0.143, F 0.141)]  [G loss: -0.141] \n",
      "1969 (10, 1) [D loss: (-0.005)(R -0.138, F 0.129)]  [G loss: -0.130] \n",
      "1970 (10, 1) [D loss: (0.003)(R -0.133, F 0.139)]  [G loss: -0.127] \n",
      "1971 (10, 1) [D loss: (0.004)(R -0.137, F 0.146)]  [G loss: -0.134] \n",
      "1972 (10, 1) [D loss: (0.005)(R -0.133, F 0.142)]  [G loss: -0.131] \n",
      "1973 (10, 1) [D loss: (0.002)(R -0.133, F 0.137)]  [G loss: -0.130] \n",
      "1974 (10, 1) [D loss: (0.001)(R -0.128, F 0.130)]  [G loss: -0.121] \n",
      "1975 (10, 1) [D loss: (-0.000)(R -0.129, F 0.128)]  [G loss: -0.118] \n",
      "1976 (10, 1) [D loss: (0.002)(R -0.124, F 0.128)]  [G loss: -0.120] \n",
      "1977 (10, 1) [D loss: (-0.002)(R -0.123, F 0.119)]  [G loss: -0.114] \n",
      "1978 (10, 1) [D loss: (0.006)(R -0.117, F 0.129)]  [G loss: -0.120] \n",
      "1979 (10, 1) [D loss: (0.007)(R -0.120, F 0.134)]  [G loss: -0.124] \n",
      "1980 (10, 1) [D loss: (0.006)(R -0.127, F 0.139)]  [G loss: -0.132] \n",
      "1981 (10, 1) [D loss: (0.000)(R -0.137, F 0.137)]  [G loss: -0.134] \n",
      "1982 (10, 1) [D loss: (0.000)(R -0.136, F 0.137)]  [G loss: -0.132] \n",
      "1983 (10, 1) [D loss: (0.002)(R -0.136, F 0.140)]  [G loss: -0.133] \n",
      "1984 (10, 1) [D loss: (0.005)(R -0.133, F 0.142)]  [G loss: -0.134] \n",
      "1985 (10, 1) [D loss: (0.004)(R -0.133, F 0.141)]  [G loss: -0.133] \n",
      "1986 (10, 1) [D loss: (0.002)(R -0.131, F 0.135)]  [G loss: -0.128] \n",
      "1987 (10, 1) [D loss: (-0.003)(R -0.134, F 0.129)]  [G loss: -0.128] \n",
      "1988 (10, 1) [D loss: (0.004)(R -0.127, F 0.134)]  [G loss: -0.126] \n",
      "1989 (10, 1) [D loss: (0.002)(R -0.126, F 0.131)]  [G loss: -0.127] \n",
      "1990 (10, 1) [D loss: (0.002)(R -0.125, F 0.128)]  [G loss: -0.127] \n",
      "1991 (10, 1) [D loss: (-0.000)(R -0.130, F 0.129)]  [G loss: -0.127] \n",
      "1992 (10, 1) [D loss: (0.001)(R -0.126, F 0.127)]  [G loss: -0.123] \n",
      "1993 (10, 1) [D loss: (0.005)(R -0.121, F 0.131)]  [G loss: -0.122] \n",
      "1994 (10, 1) [D loss: (0.002)(R -0.123, F 0.127)]  [G loss: -0.121] \n",
      "1995 (10, 1) [D loss: (-0.001)(R -0.126, F 0.125)]  [G loss: -0.119] \n",
      "1996 (10, 1) [D loss: (0.000)(R -0.124, F 0.124)]  [G loss: -0.116] \n",
      "1997 (10, 1) [D loss: (-0.001)(R -0.125, F 0.123)]  [G loss: -0.113] \n",
      "1998 (10, 1) [D loss: (0.001)(R -0.120, F 0.122)]  [G loss: -0.116] \n",
      "1999 (10, 1) [D loss: (0.001)(R -0.121, F 0.123)]  [G loss: -0.113] \n",
      "2000 (10, 1) [D loss: (0.000)(R -0.118, F 0.119)]  [G loss: -0.117] \n",
      "2001 (10, 1) [D loss: (0.002)(R -0.120, F 0.125)]  [G loss: -0.116] \n",
      "2002 (10, 1) [D loss: (-0.001)(R -0.120, F 0.118)]  [G loss: -0.112] \n",
      "2003 (10, 1) [D loss: (0.001)(R -0.118, F 0.120)]  [G loss: -0.114] \n",
      "2004 (10, 1) [D loss: (0.002)(R -0.115, F 0.118)]  [G loss: -0.114] \n",
      "2005 (10, 1) [D loss: (0.003)(R -0.111, F 0.117)]  [G loss: -0.112] \n",
      "2006 (10, 1) [D loss: (0.003)(R -0.115, F 0.121)]  [G loss: -0.114] \n",
      "2007 (10, 1) [D loss: (0.002)(R -0.118, F 0.121)]  [G loss: -0.115] \n",
      "2008 (10, 1) [D loss: (-0.003)(R -0.116, F 0.110)]  [G loss: -0.108] \n",
      "2009 (10, 1) [D loss: (0.001)(R -0.113, F 0.114)]  [G loss: -0.108] \n",
      "2010 (10, 1) [D loss: (-0.002)(R -0.118, F 0.114)]  [G loss: -0.110] \n",
      "2011 (10, 1) [D loss: (-0.000)(R -0.117, F 0.116)]  [G loss: -0.109] \n",
      "2012 (10, 1) [D loss: (-0.001)(R -0.110, F 0.108)]  [G loss: -0.102] \n",
      "2013 (10, 1) [D loss: (0.001)(R -0.106, F 0.108)]  [G loss: -0.105] \n",
      "2014 (10, 1) [D loss: (-0.002)(R -0.111, F 0.107)]  [G loss: -0.106] \n",
      "2015 (10, 1) [D loss: (-0.002)(R -0.110, F 0.107)]  [G loss: -0.103] \n",
      "2016 (10, 1) [D loss: (-0.002)(R -0.111, F 0.108)]  [G loss: -0.105] \n",
      "2017 (10, 1) [D loss: (-0.002)(R -0.105, F 0.100)]  [G loss: -0.102] \n",
      "2018 (10, 1) [D loss: (-0.001)(R -0.112, F 0.111)]  [G loss: -0.102] \n",
      "2019 (10, 1) [D loss: (0.004)(R -0.107, F 0.115)]  [G loss: -0.107] \n",
      "2020 (10, 1) [D loss: (-0.000)(R -0.111, F 0.111)]  [G loss: -0.106] \n",
      "2021 (10, 1) [D loss: (0.001)(R -0.108, F 0.110)]  [G loss: -0.106] \n",
      "2022 (10, 1) [D loss: (-0.003)(R -0.110, F 0.104)]  [G loss: -0.102] \n",
      "2023 (10, 1) [D loss: (-0.002)(R -0.110, F 0.106)]  [G loss: -0.098] \n",
      "2024 (10, 1) [D loss: (-0.000)(R -0.105, F 0.104)]  [G loss: -0.099] \n",
      "2025 (10, 1) [D loss: (0.000)(R -0.106, F 0.106)]  [G loss: -0.101] \n",
      "2026 (10, 1) [D loss: (0.003)(R -0.098, F 0.103)]  [G loss: -0.101] \n",
      "2027 (10, 1) [D loss: (0.002)(R -0.104, F 0.108)]  [G loss: -0.102] \n",
      "2028 (10, 1) [D loss: (0.002)(R -0.103, F 0.108)]  [G loss: -0.096] \n",
      "2029 (10, 1) [D loss: (0.000)(R -0.104, F 0.104)]  [G loss: -0.098] \n",
      "2030 (10, 1) [D loss: (-0.001)(R -0.099, F 0.096)]  [G loss: -0.094] \n",
      "2031 (10, 1) [D loss: (-0.001)(R -0.101, F 0.099)]  [G loss: -0.095] \n",
      "2032 (10, 1) [D loss: (-0.000)(R -0.097, F 0.096)]  [G loss: -0.091] \n",
      "2033 (10, 1) [D loss: (0.001)(R -0.098, F 0.099)]  [G loss: -0.089] \n",
      "2034 (10, 1) [D loss: (-0.001)(R -0.100, F 0.098)]  [G loss: -0.092] \n",
      "2035 (10, 1) [D loss: (-0.002)(R -0.098, F 0.094)]  [G loss: -0.091] \n",
      "2036 (10, 1) [D loss: (-0.000)(R -0.093, F 0.093)]  [G loss: -0.090] \n",
      "2037 (10, 1) [D loss: (0.001)(R -0.091, F 0.094)]  [G loss: -0.087] \n",
      "2038 (10, 1) [D loss: (-0.000)(R -0.097, F 0.097)]  [G loss: -0.090] \n",
      "2039 (10, 1) [D loss: (-0.002)(R -0.096, F 0.092)]  [G loss: -0.090] \n",
      "2040 (10, 1) [D loss: (-0.004)(R -0.099, F 0.092)]  [G loss: -0.089] \n",
      "2041 (10, 1) [D loss: (-0.001)(R -0.092, F 0.090)]  [G loss: -0.087] \n",
      "2042 (10, 1) [D loss: (0.001)(R -0.095, F 0.098)]  [G loss: -0.085] \n",
      "2043 (10, 1) [D loss: (-0.004)(R -0.095, F 0.087)]  [G loss: -0.085] \n",
      "2044 (10, 1) [D loss: (-0.001)(R -0.092, F 0.090)]  [G loss: -0.087] \n",
      "2045 (10, 1) [D loss: (0.001)(R -0.091, F 0.093)]  [G loss: -0.086] \n",
      "2046 (10, 1) [D loss: (-0.001)(R -0.091, F 0.089)]  [G loss: -0.081] \n",
      "2047 (10, 1) [D loss: (-0.003)(R -0.094, F 0.088)]  [G loss: -0.082] \n",
      "2048 (10, 1) [D loss: (0.000)(R -0.088, F 0.088)]  [G loss: -0.080] \n",
      "2049 (10, 1) [D loss: (-0.002)(R -0.090, F 0.086)]  [G loss: -0.082] \n",
      "2050 (10, 1) [D loss: (-0.001)(R -0.090, F 0.088)]  [G loss: -0.082] \n",
      "2051 (10, 1) [D loss: (-0.001)(R -0.086, F 0.085)]  [G loss: -0.078] \n",
      "2052 (10, 1) [D loss: (-0.001)(R -0.090, F 0.089)]  [G loss: -0.082] \n",
      "2053 (10, 1) [D loss: (-0.003)(R -0.090, F 0.083)]  [G loss: -0.080] \n",
      "2054 (10, 1) [D loss: (0.000)(R -0.089, F 0.089)]  [G loss: -0.078] \n",
      "2055 (10, 1) [D loss: (-0.003)(R -0.085, F 0.078)]  [G loss: -0.077] \n",
      "2056 (10, 1) [D loss: (-0.006)(R -0.081, F 0.069)]  [G loss: -0.067] \n",
      "2057 (10, 1) [D loss: (0.006)(R -0.071, F 0.084)]  [G loss: -0.075] \n",
      "2058 (10, 1) [D loss: (-0.002)(R -0.083, F 0.079)]  [G loss: -0.078] \n",
      "2059 (10, 1) [D loss: (-0.003)(R -0.088, F 0.083)]  [G loss: -0.076] \n",
      "2060 (10, 1) [D loss: (-0.003)(R -0.081, F 0.075)]  [G loss: -0.068] \n",
      "2061 (10, 1) [D loss: (0.001)(R -0.073, F 0.074)]  [G loss: -0.065] \n",
      "2062 (10, 1) [D loss: (-0.002)(R -0.078, F 0.075)]  [G loss: -0.070] \n",
      "2063 (10, 1) [D loss: (-0.004)(R -0.076, F 0.069)]  [G loss: -0.066] \n",
      "2064 (10, 1) [D loss: (-0.001)(R -0.068, F 0.066)]  [G loss: -0.068] \n",
      "2065 (10, 1) [D loss: (0.000)(R -0.076, F 0.076)]  [G loss: -0.068] \n",
      "2066 (10, 1) [D loss: (-0.001)(R -0.073, F 0.070)]  [G loss: -0.063] \n",
      "2067 (10, 1) [D loss: (-0.001)(R -0.066, F 0.064)]  [G loss: -0.061] \n",
      "2068 (10, 1) [D loss: (-0.002)(R -0.074, F 0.070)]  [G loss: -0.066] \n",
      "2069 (10, 1) [D loss: (-0.003)(R -0.078, F 0.072)]  [G loss: -0.068] \n",
      "2070 (10, 1) [D loss: (0.001)(R -0.075, F 0.077)]  [G loss: -0.068] \n"
     ]
    },
    {
     "name": "stdout",
     "output_type": "stream",
     "text": [
      "2071 (10, 1) [D loss: (-0.002)(R -0.073, F 0.069)]  [G loss: -0.063] \n",
      "2072 (10, 1) [D loss: (-0.005)(R -0.083, F 0.072)]  [G loss: -0.066] \n",
      "2073 (10, 1) [D loss: (-0.008)(R -0.073, F 0.058)]  [G loss: -0.065] \n",
      "2074 (10, 1) [D loss: (-0.002)(R -0.072, F 0.068)]  [G loss: -0.065] \n",
      "2075 (10, 1) [D loss: (-0.002)(R -0.074, F 0.069)]  [G loss: -0.068] \n",
      "2076 (10, 1) [D loss: (-0.004)(R -0.076, F 0.068)]  [G loss: -0.066] \n",
      "2077 (10, 1) [D loss: (-0.006)(R -0.071, F 0.060)]  [G loss: -0.061] \n",
      "2078 (10, 1) [D loss: (-0.004)(R -0.075, F 0.066)]  [G loss: -0.061] \n",
      "2079 (10, 1) [D loss: (-0.005)(R -0.073, F 0.062)]  [G loss: -0.056] \n",
      "2080 (10, 1) [D loss: (-0.008)(R -0.075, F 0.059)]  [G loss: -0.058] \n",
      "2081 (10, 1) [D loss: (-0.004)(R -0.073, F 0.065)]  [G loss: -0.057] \n",
      "2082 (10, 1) [D loss: (-0.001)(R -0.062, F 0.059)]  [G loss: -0.054] \n",
      "2083 (10, 1) [D loss: (0.001)(R -0.058, F 0.060)]  [G loss: -0.058] \n",
      "2084 (10, 1) [D loss: (-0.003)(R -0.070, F 0.063)]  [G loss: -0.057] \n",
      "2085 (10, 1) [D loss: (-0.003)(R -0.068, F 0.061)]  [G loss: -0.059] \n",
      "2086 (10, 1) [D loss: (-0.004)(R -0.068, F 0.060)]  [G loss: -0.053] \n",
      "2087 (10, 1) [D loss: (-0.007)(R -0.070, F 0.055)]  [G loss: -0.051] \n",
      "2088 (10, 1) [D loss: (-0.001)(R -0.059, F 0.058)]  [G loss: -0.051] \n",
      "2089 (10, 1) [D loss: (-0.002)(R -0.063, F 0.059)]  [G loss: -0.043] \n",
      "2090 (10, 1) [D loss: (-0.004)(R -0.065, F 0.057)]  [G loss: -0.048] \n",
      "2091 (10, 1) [D loss: (-0.002)(R -0.059, F 0.055)]  [G loss: -0.047] \n",
      "2092 (10, 1) [D loss: (-0.002)(R -0.057, F 0.052)]  [G loss: -0.047] \n",
      "2093 (10, 1) [D loss: (-0.010)(R -0.063, F 0.044)]  [G loss: -0.042] \n",
      "2094 (10, 1) [D loss: (-0.006)(R -0.066, F 0.054)]  [G loss: -0.045] \n",
      "2095 (10, 1) [D loss: (-0.005)(R -0.053, F 0.042)]  [G loss: -0.038] \n",
      "2096 (10, 1) [D loss: (-0.003)(R -0.063, F 0.057)]  [G loss: -0.048] \n",
      "2097 (10, 1) [D loss: (-0.005)(R -0.065, F 0.055)]  [G loss: -0.050] \n",
      "2098 (10, 1) [D loss: (-0.006)(R -0.064, F 0.053)]  [G loss: -0.047] \n",
      "2099 (10, 1) [D loss: (-0.003)(R -0.062, F 0.056)]  [G loss: -0.045] \n",
      "2100 (10, 1) [D loss: (-0.011)(R -0.065, F 0.043)]  [G loss: -0.042] \n",
      "2101 (10, 1) [D loss: (-0.004)(R -0.062, F 0.054)]  [G loss: -0.042] \n",
      "2102 (10, 1) [D loss: (-0.005)(R -0.056, F 0.046)]  [G loss: -0.038] \n",
      "2103 (10, 1) [D loss: (-0.004)(R -0.056, F 0.048)]  [G loss: -0.044] \n",
      "2104 (10, 1) [D loss: (-0.003)(R -0.056, F 0.049)]  [G loss: -0.038] \n",
      "2105 (10, 1) [D loss: (-0.001)(R -0.061, F 0.060)]  [G loss: -0.046] \n",
      "2106 (10, 1) [D loss: (-0.008)(R -0.067, F 0.051)]  [G loss: -0.050] \n",
      "2107 (10, 1) [D loss: (-0.003)(R -0.067, F 0.061)]  [G loss: -0.046] \n",
      "2108 (10, 1) [D loss: (-0.007)(R -0.065, F 0.051)]  [G loss: -0.050] \n",
      "2109 (10, 1) [D loss: (-0.008)(R -0.072, F 0.055)]  [G loss: -0.054] \n",
      "2110 (10, 1) [D loss: (-0.005)(R -0.071, F 0.062)]  [G loss: -0.056] \n",
      "2111 (10, 1) [D loss: (-0.005)(R -0.061, F 0.050)]  [G loss: -0.044] \n",
      "2112 (10, 1) [D loss: (0.001)(R -0.047, F 0.049)]  [G loss: -0.041] \n",
      "2113 (10, 1) [D loss: (-0.003)(R -0.055, F 0.048)]  [G loss: -0.037] \n",
      "2114 (10, 1) [D loss: (-0.005)(R -0.058, F 0.048)]  [G loss: -0.039] \n",
      "2115 (10, 1) [D loss: (-0.003)(R -0.057, F 0.050)]  [G loss: -0.042] \n",
      "2116 (10, 1) [D loss: (-0.006)(R -0.062, F 0.050)]  [G loss: -0.045] \n",
      "2117 (10, 1) [D loss: (-0.007)(R -0.060, F 0.047)]  [G loss: -0.043] \n",
      "2118 (10, 1) [D loss: (-0.002)(R -0.058, F 0.053)]  [G loss: -0.040] \n",
      "2119 (10, 1) [D loss: (-0.009)(R -0.067, F 0.048)]  [G loss: -0.047] \n",
      "2120 (10, 1) [D loss: (-0.002)(R -0.062, F 0.058)]  [G loss: -0.047] \n",
      "2121 (10, 1) [D loss: (-0.005)(R -0.064, F 0.054)]  [G loss: -0.052] \n",
      "2122 (10, 1) [D loss: (-0.007)(R -0.057, F 0.043)]  [G loss: -0.039] \n",
      "2123 (10, 1) [D loss: (-0.006)(R -0.056, F 0.044)]  [G loss: -0.031] \n",
      "2124 (10, 1) [D loss: (-0.006)(R -0.047, F 0.036)]  [G loss: -0.029] \n",
      "2125 (10, 1) [D loss: (-0.000)(R -0.047, F 0.046)]  [G loss: -0.033] \n",
      "2126 (10, 1) [D loss: (-0.008)(R -0.062, F 0.046)]  [G loss: -0.037] \n",
      "2127 (10, 1) [D loss: (-0.003)(R -0.053, F 0.048)]  [G loss: -0.039] \n",
      "2128 (10, 1) [D loss: (-0.007)(R -0.058, F 0.045)]  [G loss: -0.038] \n",
      "2129 (10, 1) [D loss: (-0.003)(R -0.058, F 0.051)]  [G loss: -0.041] \n",
      "2130 (10, 1) [D loss: (-0.011)(R -0.069, F 0.047)]  [G loss: -0.044] \n",
      "2131 (10, 1) [D loss: (-0.003)(R -0.055, F 0.049)]  [G loss: -0.036] \n",
      "2132 (10, 1) [D loss: (-0.007)(R -0.061, F 0.047)]  [G loss: -0.042] \n",
      "2133 (10, 1) [D loss: (-0.006)(R -0.059, F 0.048)]  [G loss: -0.040] \n",
      "2134 (10, 1) [D loss: (-0.009)(R -0.058, F 0.039)]  [G loss: -0.036] \n",
      "2135 (10, 1) [D loss: (-0.004)(R -0.046, F 0.039)]  [G loss: -0.033] \n",
      "2136 (10, 1) [D loss: (-0.005)(R -0.044, F 0.035)]  [G loss: -0.027] \n",
      "2137 (10, 1) [D loss: (-0.010)(R -0.042, F 0.022)]  [G loss: -0.023] \n",
      "2138 (10, 1) [D loss: (-0.008)(R -0.044, F 0.028)]  [G loss: -0.018] \n",
      "2139 (10, 1) [D loss: (-0.011)(R -0.043, F 0.021)]  [G loss: -0.012] \n",
      "2140 (10, 1) [D loss: (-0.002)(R -0.032, F 0.029)]  [G loss: -0.015] \n",
      "2141 (10, 1) [D loss: (-0.006)(R -0.036, F 0.023)]  [G loss: -0.012] \n",
      "2142 (10, 1) [D loss: (-0.008)(R -0.036, F 0.020)]  [G loss: -0.019] \n",
      "2143 (10, 1) [D loss: (-0.011)(R -0.044, F 0.021)]  [G loss: -0.017] \n",
      "2144 (10, 1) [D loss: (-0.002)(R -0.033, F 0.030)]  [G loss: -0.025] \n",
      "2145 (10, 1) [D loss: (-0.004)(R -0.041, F 0.034)]  [G loss: -0.024] \n",
      "2146 (10, 1) [D loss: (-0.007)(R -0.042, F 0.027)]  [G loss: -0.027] \n",
      "2147 (10, 1) [D loss: (-0.008)(R -0.046, F 0.029)]  [G loss: -0.026] \n",
      "2148 (10, 1) [D loss: (-0.007)(R -0.043, F 0.028)]  [G loss: -0.023] \n",
      "2149 (10, 1) [D loss: (-0.004)(R -0.042, F 0.034)]  [G loss: -0.025] \n"
     ]
    }
   ],
   "source": [
    "gan.train(     \n",
    "    x_train\n",
    "    , batch_size = 32\n",
    "    , epochs = 100000\n",
    "    , run_folder = RUN_FOLDER\n",
    "    , print_every_n_batches = 5\n",
    "    , n_critic = 10\n",
    "    , large_it_critic = 10\n",
    "    , large_n_critic = 5\n",
    "    , clip_threshold = 0.01\n",
    "    , using_generator = False\n",
    ")"
   ]
  },
  {
   "cell_type": "code",
   "execution_count": 30,
   "metadata": {},
   "outputs": [
    {
     "name": "stdout",
     "output_type": "stream",
     "text": [
      "[D loss: (-0.018)(R -0.008, F -0.028)]\n",
      "[D loss: (-0.026)(R -0.022, F -0.031)]\n",
      "[D loss: (-0.022)(R -0.014, F -0.031)]\n",
      "[D loss: (-0.024)(R -0.010, F -0.038)]\n",
      "[D loss: (-0.011)(R 0.006, F -0.027)]\n",
      "[D loss: (-0.032)(R -0.016, F -0.048)]\n",
      "[D loss: (-0.021)(R 0.001, F -0.043)]\n",
      "[D loss: (-0.034)(R -0.011, F -0.057)]\n",
      "[D loss: (-0.012)(R 0.004, F -0.028)]\n",
      "[D loss: (-0.032)(R -0.011, F -0.053)]\n",
      "[D loss: (-0.030)(R -0.004, F -0.057)]\n",
      "[D loss: (-0.022)(R 0.001, F -0.046)]\n",
      "[D loss: (-0.027)(R -0.012, F -0.043)]\n",
      "[D loss: (-0.027)(R 0.001, F -0.055)]\n",
      "[D loss: (-0.026)(R 0.006, F -0.057)]\n",
      "[D loss: (-0.038)(R -0.021, F -0.054)]\n",
      "[D loss: (-0.045)(R -0.032, F -0.059)]\n",
      "[D loss: (-0.033)(R -0.015, F -0.051)]\n",
      "[D loss: (-0.038)(R -0.019, F -0.056)]\n",
      "[D loss: (-0.043)(R -0.020, F -0.066)]\n",
      "[D loss: (-0.031)(R -0.008, F -0.055)]\n",
      "[D loss: (-0.032)(R -0.009, F -0.055)]\n",
      "[D loss: (-0.039)(R -0.016, F -0.063)]\n",
      "[D loss: (-0.030)(R -0.020, F -0.039)]\n",
      "[D loss: (-0.040)(R -0.016, F -0.065)]\n",
      "[D loss: (-0.025)(R -0.006, F -0.044)]\n",
      "[D loss: (-0.037)(R -0.021, F -0.053)]\n",
      "[D loss: (-0.042)(R -0.010, F -0.074)]\n",
      "[D loss: (-0.048)(R -0.032, F -0.065)]\n",
      "[D loss: (-0.038)(R -0.018, F -0.058)]\n",
      "[D loss: (-0.034)(R -0.014, F -0.053)]\n",
      "[D loss: (-0.048)(R -0.013, F -0.083)]\n",
      "[D loss: (-0.031)(R -0.011, F -0.051)]\n",
      "[D loss: (-0.038)(R -0.023, F -0.054)]\n",
      "[D loss: (-0.037)(R -0.023, F -0.050)]\n",
      "[D loss: (-0.046)(R -0.044, F -0.048)]\n",
      "[D loss: (-0.053)(R -0.035, F -0.071)]\n",
      "[D loss: (-0.040)(R -0.024, F -0.056)]\n",
      "[D loss: (-0.064)(R -0.024, F -0.103)]\n",
      "[D loss: (-0.046)(R -0.039, F -0.054)]\n",
      "[D loss: (-0.027)(R -0.006, F -0.048)]\n",
      "[D loss: (-0.048)(R -0.035, F -0.062)]\n",
      "[D loss: (-0.052)(R -0.027, F -0.077)]\n"
     ]
    },
    {
     "ename": "KeyboardInterrupt",
     "evalue": "",
     "output_type": "error",
     "traceback": [
      "\u001b[0;31m---------------------------------------------------------------------------\u001b[0m",
      "\u001b[0;31mKeyboardInterrupt\u001b[0m                         Traceback (most recent call last)",
      "\u001b[0;32m<ipython-input-30-e5f41af0443f>\u001b[0m in \u001b[0;36m<module>\u001b[0;34m\u001b[0m\n\u001b[1;32m     15\u001b[0m         \u001b[0mgen_imgs\u001b[0m \u001b[0;34m=\u001b[0m \u001b[0mgan\u001b[0m\u001b[0;34m.\u001b[0m\u001b[0mgenerator\u001b[0m\u001b[0;34m.\u001b[0m\u001b[0mpredict\u001b[0m\u001b[0;34m(\u001b[0m\u001b[0mnoise\u001b[0m\u001b[0;34m)\u001b[0m\u001b[0;34m\u001b[0m\u001b[0m\n\u001b[1;32m     16\u001b[0m \u001b[0;34m\u001b[0m\u001b[0m\n\u001b[0;32m---> 17\u001b[0;31m         \u001b[0md_loss_real\u001b[0m \u001b[0;34m=\u001b[0m   \u001b[0mgan\u001b[0m\u001b[0;34m.\u001b[0m\u001b[0mcritic\u001b[0m\u001b[0;34m.\u001b[0m\u001b[0mtrain_on_batch\u001b[0m\u001b[0;34m(\u001b[0m\u001b[0mtrue_imgs\u001b[0m\u001b[0;34m,\u001b[0m \u001b[0mvalid\u001b[0m\u001b[0;34m)\u001b[0m\u001b[0;34m\u001b[0m\u001b[0m\n\u001b[0m\u001b[1;32m     18\u001b[0m         \u001b[0md_loss_fake\u001b[0m \u001b[0;34m=\u001b[0m   \u001b[0mgan\u001b[0m\u001b[0;34m.\u001b[0m\u001b[0mcritic\u001b[0m\u001b[0;34m.\u001b[0m\u001b[0mtrain_on_batch\u001b[0m\u001b[0;34m(\u001b[0m\u001b[0mgen_imgs\u001b[0m\u001b[0;34m,\u001b[0m \u001b[0mfake\u001b[0m\u001b[0;34m)\u001b[0m\u001b[0;34m\u001b[0m\u001b[0m\n\u001b[1;32m     19\u001b[0m         \u001b[0md_loss\u001b[0m \u001b[0;34m=\u001b[0m \u001b[0;36m0.5\u001b[0m \u001b[0;34m*\u001b[0m \u001b[0;34m(\u001b[0m\u001b[0md_loss_real\u001b[0m \u001b[0;34m+\u001b[0m \u001b[0md_loss_fake\u001b[0m\u001b[0;34m)\u001b[0m\u001b[0;34m\u001b[0m\u001b[0m\n",
      "\u001b[0;32m~/.virtualenvs/gdl/lib/python3.6/site-packages/keras/engine/training.py\u001b[0m in \u001b[0;36mtrain_on_batch\u001b[0;34m(self, x, y, sample_weight, class_weight)\u001b[0m\n\u001b[1;32m   1215\u001b[0m             \u001b[0mins\u001b[0m \u001b[0;34m=\u001b[0m \u001b[0mx\u001b[0m \u001b[0;34m+\u001b[0m \u001b[0my\u001b[0m \u001b[0;34m+\u001b[0m \u001b[0msample_weights\u001b[0m\u001b[0;34m\u001b[0m\u001b[0m\n\u001b[1;32m   1216\u001b[0m         \u001b[0mself\u001b[0m\u001b[0;34m.\u001b[0m\u001b[0m_make_train_function\u001b[0m\u001b[0;34m(\u001b[0m\u001b[0;34m)\u001b[0m\u001b[0;34m\u001b[0m\u001b[0m\n\u001b[0;32m-> 1217\u001b[0;31m         \u001b[0moutputs\u001b[0m \u001b[0;34m=\u001b[0m \u001b[0mself\u001b[0m\u001b[0;34m.\u001b[0m\u001b[0mtrain_function\u001b[0m\u001b[0;34m(\u001b[0m\u001b[0mins\u001b[0m\u001b[0;34m)\u001b[0m\u001b[0;34m\u001b[0m\u001b[0m\n\u001b[0m\u001b[1;32m   1218\u001b[0m         \u001b[0;32mreturn\u001b[0m \u001b[0munpack_singleton\u001b[0m\u001b[0;34m(\u001b[0m\u001b[0moutputs\u001b[0m\u001b[0;34m)\u001b[0m\u001b[0;34m\u001b[0m\u001b[0m\n\u001b[1;32m   1219\u001b[0m \u001b[0;34m\u001b[0m\u001b[0m\n",
      "\u001b[0;32m~/.virtualenvs/gdl/lib/python3.6/site-packages/keras/backend/tensorflow_backend.py\u001b[0m in \u001b[0;36m__call__\u001b[0;34m(self, inputs)\u001b[0m\n\u001b[1;32m   2713\u001b[0m                 \u001b[0;32mreturn\u001b[0m \u001b[0mself\u001b[0m\u001b[0;34m.\u001b[0m\u001b[0m_legacy_call\u001b[0m\u001b[0;34m(\u001b[0m\u001b[0minputs\u001b[0m\u001b[0;34m)\u001b[0m\u001b[0;34m\u001b[0m\u001b[0m\n\u001b[1;32m   2714\u001b[0m \u001b[0;34m\u001b[0m\u001b[0m\n\u001b[0;32m-> 2715\u001b[0;31m             \u001b[0;32mreturn\u001b[0m \u001b[0mself\u001b[0m\u001b[0;34m.\u001b[0m\u001b[0m_call\u001b[0m\u001b[0;34m(\u001b[0m\u001b[0minputs\u001b[0m\u001b[0;34m)\u001b[0m\u001b[0;34m\u001b[0m\u001b[0m\n\u001b[0m\u001b[1;32m   2716\u001b[0m         \u001b[0;32melse\u001b[0m\u001b[0;34m:\u001b[0m\u001b[0;34m\u001b[0m\u001b[0m\n\u001b[1;32m   2717\u001b[0m             \u001b[0;32mif\u001b[0m \u001b[0mpy_any\u001b[0m\u001b[0;34m(\u001b[0m\u001b[0mis_tensor\u001b[0m\u001b[0;34m(\u001b[0m\u001b[0mx\u001b[0m\u001b[0;34m)\u001b[0m \u001b[0;32mfor\u001b[0m \u001b[0mx\u001b[0m \u001b[0;32min\u001b[0m \u001b[0minputs\u001b[0m\u001b[0;34m)\u001b[0m\u001b[0;34m:\u001b[0m\u001b[0;34m\u001b[0m\u001b[0m\n",
      "\u001b[0;32m~/.virtualenvs/gdl/lib/python3.6/site-packages/keras/backend/tensorflow_backend.py\u001b[0m in \u001b[0;36m_call\u001b[0;34m(self, inputs)\u001b[0m\n\u001b[1;32m   2673\u001b[0m             \u001b[0mfetched\u001b[0m \u001b[0;34m=\u001b[0m \u001b[0mself\u001b[0m\u001b[0;34m.\u001b[0m\u001b[0m_callable_fn\u001b[0m\u001b[0;34m(\u001b[0m\u001b[0;34m*\u001b[0m\u001b[0marray_vals\u001b[0m\u001b[0;34m,\u001b[0m \u001b[0mrun_metadata\u001b[0m\u001b[0;34m=\u001b[0m\u001b[0mself\u001b[0m\u001b[0;34m.\u001b[0m\u001b[0mrun_metadata\u001b[0m\u001b[0;34m)\u001b[0m\u001b[0;34m\u001b[0m\u001b[0m\n\u001b[1;32m   2674\u001b[0m         \u001b[0;32melse\u001b[0m\u001b[0;34m:\u001b[0m\u001b[0;34m\u001b[0m\u001b[0m\n\u001b[0;32m-> 2675\u001b[0;31m             \u001b[0mfetched\u001b[0m \u001b[0;34m=\u001b[0m \u001b[0mself\u001b[0m\u001b[0;34m.\u001b[0m\u001b[0m_callable_fn\u001b[0m\u001b[0;34m(\u001b[0m\u001b[0;34m*\u001b[0m\u001b[0marray_vals\u001b[0m\u001b[0;34m)\u001b[0m\u001b[0;34m\u001b[0m\u001b[0m\n\u001b[0m\u001b[1;32m   2676\u001b[0m         \u001b[0;32mreturn\u001b[0m \u001b[0mfetched\u001b[0m\u001b[0;34m[\u001b[0m\u001b[0;34m:\u001b[0m\u001b[0mlen\u001b[0m\u001b[0;34m(\u001b[0m\u001b[0mself\u001b[0m\u001b[0;34m.\u001b[0m\u001b[0moutputs\u001b[0m\u001b[0;34m)\u001b[0m\u001b[0;34m]\u001b[0m\u001b[0;34m\u001b[0m\u001b[0m\n\u001b[1;32m   2677\u001b[0m \u001b[0;34m\u001b[0m\u001b[0m\n",
      "\u001b[0;32m~/.virtualenvs/gdl/lib/python3.6/site-packages/tensorflow/python/client/session.py\u001b[0m in \u001b[0;36m__call__\u001b[0;34m(self, *args, **kwargs)\u001b[0m\n\u001b[1;32m   1380\u001b[0m           ret = tf_session.TF_SessionRunCallable(\n\u001b[1;32m   1381\u001b[0m               \u001b[0mself\u001b[0m\u001b[0;34m.\u001b[0m\u001b[0m_session\u001b[0m\u001b[0;34m.\u001b[0m\u001b[0m_session\u001b[0m\u001b[0;34m,\u001b[0m \u001b[0mself\u001b[0m\u001b[0;34m.\u001b[0m\u001b[0m_handle\u001b[0m\u001b[0;34m,\u001b[0m \u001b[0margs\u001b[0m\u001b[0;34m,\u001b[0m \u001b[0mstatus\u001b[0m\u001b[0;34m,\u001b[0m\u001b[0;34m\u001b[0m\u001b[0m\n\u001b[0;32m-> 1382\u001b[0;31m               run_metadata_ptr)\n\u001b[0m\u001b[1;32m   1383\u001b[0m         \u001b[0;32mif\u001b[0m \u001b[0mrun_metadata\u001b[0m\u001b[0;34m:\u001b[0m\u001b[0;34m\u001b[0m\u001b[0m\n\u001b[1;32m   1384\u001b[0m           \u001b[0mproto_data\u001b[0m \u001b[0;34m=\u001b[0m \u001b[0mtf_session\u001b[0m\u001b[0;34m.\u001b[0m\u001b[0mTF_GetBuffer\u001b[0m\u001b[0;34m(\u001b[0m\u001b[0mrun_metadata_ptr\u001b[0m\u001b[0;34m)\u001b[0m\u001b[0;34m\u001b[0m\u001b[0m\n",
      "\u001b[0;31mKeyboardInterrupt\u001b[0m: "
     ]
    }
   ],
   "source": [
    "BATCH_SIZE = 32\n",
    "\n",
    "check = True\n",
    "while check :\n",
    "    \n",
    "    for _ in range(5):\n",
    "\n",
    "        valid = np.ones((BATCH_SIZE,1))\n",
    "        fake = -np.ones((BATCH_SIZE,1))\n",
    "\n",
    "        idx = np.random.randint(0, x_train.shape[0], BATCH_SIZE)\n",
    "        true_imgs = x_train[idx]\n",
    "\n",
    "        noise = np.random.normal(0, 1, (BATCH_SIZE, gan.z_dim))\n",
    "        gen_imgs = gan.generator.predict(noise)\n",
    "\n",
    "        d_loss_real =   gan.critic.train_on_batch(true_imgs, valid)\n",
    "        d_loss_fake =   gan.critic.train_on_batch(gen_imgs, fake)\n",
    "        d_loss = 0.5 * (d_loss_real + d_loss_fake)\n",
    "        \n",
    "        for l in gan.critic.layers:\n",
    "            weights = l.get_weights()\n",
    "            weights = [np.clip(w, -0.01, 0.01) for w in weights]\n",
    "            l.set_weights(weights)\n",
    "            \n",
    "\n",
    "    # Plot the progress\n",
    "    print (\"[D loss: (%.3f)(R %.3f, F %.3f)]\" % (d_loss, d_loss_real, d_loss_fake))  \n",
    "    "
   ]
  },
  {
   "cell_type": "code",
   "execution_count": 34,
   "metadata": {},
   "outputs": [
    {
     "data": {
      "image/png": "[encoded data removed]",
      "text/plain": [
       "<Figure size 432x288 with 1 Axes>"
      ]
     },
     "metadata": {
      "needs_background": "light"
     },
     "output_type": "display_data"
    }
   ],
   "source": [
    "fig = plt.figure()\n",
    "plt.plot([x[0] for x in gan.d_losses], color='black', linewidth=0.25)\n",
    "\n",
    "plt.plot([x[1] for x in gan.d_losses], color='green', linewidth=0.25)\n",
    "plt.plot([x[2] for x in gan.d_losses], color='red', linewidth=0.25)\n",
    "plt.plot(gan.g_losses, color='orange', linewidth=0.25)\n",
    "\n",
    "plt.xlabel('batch', fontsize=18)\n",
    "plt.ylabel('loss', fontsize=16)\n",
    "\n",
    "# plt.xlim(0, 2000)\n",
    "# plt.ylim(0, 2)\n",
    "\n",
    "plt.show()"
   ]
  },
  {
   "cell_type": "code",
   "execution_count": null,
   "metadata": {},
   "outputs": [],
   "source": [
    "gan.critic.get_weights()"
   ]
  },
  {
   "cell_type": "code",
   "execution_count": null,
   "metadata": {},
   "outputs": [],
   "source": [
    "for l in self.critic.layers:\n",
    "        \n",
    "    weights = l.get_weights()\n",
    "    if 'batch_normalization' in l.get_config()['name']:\n",
    "        weights = [np.clip(w, -0.01, 0.01) for w in weights[:2]] + weights[2:]\n",
    "    else:\n",
    "        weights = [np.clip(w, -0.01, 0.01) for w in weights]\n",
    "\n",
    "    l.set_weights(weights)"
   ]
  },
  {
   "cell_type": "code",
   "execution_count": null,
   "metadata": {},
   "outputs": [],
   "source": [
    "for l in gan.critic.layers:\n",
    "    print(l.get_config()['name'])\n",
    "    if 'batch_normalization' in l.get_config()['name']:\n",
    "        weights = l.get_weights()\n",
    "        print(l.get_weights()[0])\n",
    "        print(l.get_weights()[1])\n",
    "        print(l.get_weights()[2])\n",
    "        print(l.get_weights()[3])\n",
    "#         weights = [np.clip(w, -0.01, 0.01) for w in weights[:2]] + weights[2:]\n",
    "#         l.set_weights(weights)\n",
    "#         print('-----')\n",
    "#         print(l.get_weights()[0])\n",
    "#         print(l.get_weights()[1])\n",
    "#         print(l.get_weights()[2])\n",
    "#         print(l.get_weights()[3])"
   ]
  },
  {
   "cell_type": "code",
   "execution_count": null,
   "metadata": {},
   "outputs": [],
   "source": []
  }
 ],
 "metadata": {
  "kernelspec": {
   "display_name": "gdl",
   "language": "python",
   "name": "gdl"
  },
  "language_info": {
   "codemirror_mode": {
    "name": "ipython",
    "version": 3
   },
   "file_extension": ".py",
   "mimetype": "text/x-python",
   "name": "python",
   "nbconvert_exporter": "python",
   "pygments_lexer": "ipython3",
   "version": "3.6.5"
  }
 },
 "nbformat": 4,
 "nbformat_minor": 2
}
